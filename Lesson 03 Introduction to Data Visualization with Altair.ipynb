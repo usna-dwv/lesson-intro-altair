{
 "cells": [
  {
   "cell_type": "markdown",
   "metadata": {
    "editable": true,
    "slideshow": {
     "slide_type": ""
    },
    "tags": []
   },
   "source": [
    "**SA433 &#x25aa; Data Wrangling and Visualization &#x25aa; Fall 2024**"
   ]
  },
  {
   "cell_type": "markdown",
   "metadata": {
    "editable": true,
    "slideshow": {
     "slide_type": ""
    },
    "tags": []
   },
   "source": [
    "# Lesson 3. Introduction to Data Visualization with Altair"
   ]
  },
  {
   "cell_type": "markdown",
   "metadata": {
    "editable": true,
    "slideshow": {
     "slide_type": ""
    },
    "tags": []
   },
   "source": [
    "## In this lesson..."
   ]
  },
  {
   "cell_type": "markdown",
   "metadata": {
    "editable": true,
    "slideshow": {
     "slide_type": ""
    },
    "tags": []
   },
   "source": [
    "- What is Altair?\n",
    "\n",
    "\n",
    "- A small example: data types, graphical marks, encoding channels"
   ]
  },
  {
   "cell_type": "markdown",
   "metadata": {
    "editable": true,
    "slideshow": {
     "slide_type": ""
    },
    "tags": []
   },
   "source": [
    "- In-depth:\n",
    "    - Data types\n",
    "    - Encoding channels\n",
    "    - Graphical marks"
   ]
  },
  {
   "cell_type": "markdown",
   "metadata": {
    "editable": true,
    "slideshow": {
     "slide_type": ""
    },
    "tags": []
   },
   "source": [
    "<hr style=\"border-top: 2px solid gray; margin-top: 1px; margin-bottom: 1px\"></hr>"
   ]
  },
  {
   "cell_type": "markdown",
   "metadata": {
    "editable": true,
    "slideshow": {
     "slide_type": ""
    },
    "tags": []
   },
   "source": [
    "## What is Altair?"
   ]
  },
  {
   "cell_type": "markdown",
   "metadata": {
    "editable": true,
    "slideshow": {
     "slide_type": ""
    },
    "tags": []
   },
   "source": [
    "- [__Altair__](https://altair-viz.github.io/) is a statistical visualization library for Python \n",
    "\n",
    "\n",
    "- Altair offers a powerful declarative *grammar* for quickly building a wide range of statistical graphics\n",
    "\n",
    "\n",
    "- You specify *what* you want the visualization to include, instead of *how* to implement the visualization in terms of for-loops, low-level drawing commands, etc."
   ]
  },
  {
   "cell_type": "markdown",
   "metadata": {
    "editable": true,
    "slideshow": {
     "slide_type": ""
    },
    "tags": []
   },
   "source": [
    "<hr style=\"border-top: 2px solid gray; margin-top: 1px; margin-bottom: 1px\"></hr>"
   ]
  },
  {
   "cell_type": "markdown",
   "metadata": {
    "editable": true,
    "slideshow": {
     "slide_type": ""
    },
    "tags": []
   },
   "source": [
    "## A small example"
   ]
  },
  {
   "cell_type": "markdown",
   "metadata": {
    "editable": true,
    "slideshow": {
     "slide_type": ""
    },
    "tags": []
   },
   "source": [
    "- Let's start by importing Pandas as `pd` and Altair as `alt`:"
   ]
  },
  {
   "cell_type": "code",
   "execution_count": null,
   "metadata": {
    "colab": {},
    "colab_type": "code",
    "editable": true,
    "id": "Y5K12kFBKE6v",
    "slideshow": {
     "slide_type": ""
    },
    "tags": []
   },
   "outputs": [],
   "source": [
    "import pandas as pd\n",
    "import altair as alt"
   ]
  },
  {
   "cell_type": "markdown",
   "metadata": {
    "colab_type": "text",
    "editable": true,
    "id": "lTWpkCvO8sjI",
    "slideshow": {
     "slide_type": ""
    },
    "tags": []
   },
   "source": [
    "- For this example, we'll use a small weather dataset:"
   ]
  },
  {
   "cell_type": "code",
   "execution_count": null,
   "metadata": {
    "editable": true,
    "slideshow": {
     "slide_type": ""
    },
    "tags": []
   },
   "outputs": [],
   "source": [
    "weather_df = pd.read_csv('data/weather.csv')"
   ]
  },
  {
   "cell_type": "code",
   "execution_count": null,
   "metadata": {
    "editable": true,
    "slideshow": {
     "slide_type": ""
    },
    "tags": []
   },
   "outputs": [],
   "source": [
    "# This dataset is so small, we don't need to use .head()\n",
    "weather_df"
   ]
  },
  {
   "cell_type": "markdown",
   "metadata": {
    "colab_type": "text",
    "editable": true,
    "id": "lTWpkCvO8sjI",
    "slideshow": {
     "slide_type": ""
    },
    "tags": []
   },
   "source": [
    "- Each row in this DataFrame represents 1 observation:\n",
    "    - `precip` contains the average precipitation for a given `city` and `month`"
   ]
  },
  {
   "cell_type": "markdown",
   "metadata": {
    "editable": true,
    "slideshow": {
     "slide_type": ""
    },
    "tags": []
   },
   "source": [
    "### The Chart object"
   ]
  },
  {
   "cell_type": "markdown",
   "metadata": {
    "colab_type": "text",
    "editable": true,
    "id": "ac427IWdb7xx",
    "slideshow": {
     "slide_type": ""
    },
    "tags": []
   },
   "source": [
    "- The fundamental object in Altair is the `Chart`, which takes a DataFrame as a single argument:"
   ]
  },
  {
   "cell_type": "code",
   "execution_count": null,
   "metadata": {
    "editable": true,
    "slideshow": {
     "slide_type": ""
    },
    "tags": []
   },
   "outputs": [],
   "source": []
  },
  {
   "cell_type": "markdown",
   "metadata": {
    "colab_type": "text",
    "editable": true,
    "id": "9i5gX1tWcKAu",
    "slideshow": {
     "slide_type": ""
    },
    "tags": []
   },
   "source": [
    "- So far, we have defined the `Chart` object and passed it the `weather_df` DataFrame we created above\n",
    "\n",
    "\n",
    "- We have not yet told the `Chart` to do anything with the data"
   ]
  },
  {
   "cell_type": "markdown",
   "metadata": {
    "colab_type": "text",
    "editable": true,
    "id": "_z0gVCb8cNgx",
    "slideshow": {
     "slide_type": ""
    },
    "tags": []
   },
   "source": [
    "### Graphical marks"
   ]
  },
  {
   "cell_type": "markdown",
   "metadata": {
    "colab_type": "text",
    "editable": true,
    "id": "_z0gVCb8cNgx",
    "slideshow": {
     "slide_type": ""
    },
    "tags": []
   },
   "source": [
    "- With a `Chart` object in hand, we can now specify how we would like the data to be visualized\n",
    "\n",
    "\n",
    "- First, we indicate what kind of **graphical mark** (e.g., points, lines, bars) we want to use to represent the data\n",
    "\n",
    "\n",
    "- For example, we can show the data as points using the `.mark_point()` method of the `Chart` object:"
   ]
  },
  {
   "cell_type": "code",
   "execution_count": null,
   "metadata": {
    "editable": true,
    "slideshow": {
     "slide_type": ""
    },
    "tags": []
   },
   "outputs": [],
   "source": []
  },
  {
   "cell_type": "markdown",
   "metadata": {
    "colab_type": "text",
    "editable": true,
    "id": "Gudr0jvVcgAi",
    "slideshow": {
     "slide_type": ""
    },
    "tags": []
   },
   "source": [
    "- Hm... this isn't very interesting. What's going on? 🤔\n",
    "\n",
    "\n",
    "- In this chart, we have one point for each row in `weather_df`\n",
    "\n",
    "\n",
    "- Each of these points are plotted in the same place, on top of each other, since we didn't specify anything about how these points should be positioned"
   ]
  },
  {
   "cell_type": "markdown",
   "metadata": {
    "editable": true,
    "slideshow": {
     "slide_type": ""
    },
    "tags": []
   },
   "source": [
    "### Encoding channels and data types"
   ]
  },
  {
   "cell_type": "markdown",
   "metadata": {
    "editable": true,
    "slideshow": {
     "slide_type": ""
    },
    "tags": []
   },
   "source": [
    "- A mark has various attributes: e.g. position, shape, size, color\n",
    "\n",
    "\n",
    "- We connect the data we want to visualize to these attributes using **encoding channels**\n",
    "\n",
    "\n",
    "- To visually separate the points in our example, we can **encode** the variable `city` using the `Y` channel, which represents the y-axis position of the points\n",
    "\n",
    "\n",
    "- To do this, we use the `.encode()` method:"
   ]
  },
  {
   "cell_type": "code",
   "execution_count": null,
   "metadata": {
    "editable": true,
    "slideshow": {
     "slide_type": ""
    },
    "tags": []
   },
   "outputs": [],
   "source": []
  },
  {
   "cell_type": "markdown",
   "metadata": {
    "editable": true,
    "slideshow": {
     "slide_type": ""
    },
    "tags": []
   },
   "source": [
    "- `:N` tells Altair that the variable `city` contains **nominal** (categorical) data\n",
    "\n",
    "\n",
    "- We still have multiple points overlapping within each category\n",
    "\n",
    "\n",
    "- Let's further separate these points by adding an `X` encoding channel, mapped to `precip`:"
   ]
  },
  {
   "cell_type": "code",
   "execution_count": null,
   "metadata": {
    "editable": true,
    "slideshow": {
     "slide_type": ""
    },
    "tags": []
   },
   "outputs": [],
   "source": []
  },
  {
   "cell_type": "markdown",
   "metadata": {
    "editable": true,
    "slideshow": {
     "slide_type": ""
    },
    "tags": []
   },
   "source": [
    "- `:Q` tells Altair that `precip` contains **quantitative** (continuous real-valued) data"
   ]
  },
  {
   "cell_type": "markdown",
   "metadata": {
    "editable": true,
    "slideshow": {
     "slide_type": ""
    },
    "tags": []
   },
   "source": [
    "- ❗️ You may find examples in the wild that use keyword arguments in the `encode` method, like this:\n",
    "\n",
    "    ```python\n",
    "    alt.Chart(weather_df).mark_point().encode(\n",
    "        x='precip:Q',  # This is a keyword argument: key=value\n",
    "        y='city:N'\n",
    "    )\n",
    "    ```\n",
    "    <br>\n",
    "\n",
    "    - This code is equivalent, but less flexible, once you add parameters to an encoding\n",
    "    - For this course, we'll stick with specifying encodings with their methods (e.g. `alt.X`, `alt.Y`)"
   ]
  },
  {
   "cell_type": "markdown",
   "metadata": {
    "editable": true,
    "slideshow": {
     "slide_type": ""
    },
    "tags": []
   },
   "source": [
    "❓ **Exercise 1.** \n",
    "Create a scatter plot that shows the relationship between the month and average monthly precipitation."
   ]
  },
  {
   "cell_type": "code",
   "execution_count": null,
   "metadata": {
    "editable": true,
    "slideshow": {
     "slide_type": ""
    },
    "tags": []
   },
   "outputs": [],
   "source": []
  },
  {
   "cell_type": "markdown",
   "metadata": {
    "editable": true,
    "slideshow": {
     "slide_type": ""
    },
    "tags": []
   },
   "source": [
    "<hr style=\"border-top: 2px solid gray; margin-top: 1px; margin-bottom: 1px\"></hr>"
   ]
  },
  {
   "cell_type": "markdown",
   "metadata": {
    "editable": true,
    "slideshow": {
     "slide_type": ""
    },
    "tags": []
   },
   "source": [
    "## Going more in depth &mdash; another data set"
   ]
  },
  {
   "cell_type": "markdown",
   "metadata": {
    "editable": true,
    "slideshow": {
     "slide_type": ""
    },
    "tags": []
   },
   "source": [
    "- For the remainder of this lesson, we'll use the global and health population data we looked at in Lesson 2, filtered to contain data only for the year 2000:"
   ]
  },
  {
   "cell_type": "code",
   "execution_count": null,
   "metadata": {
    "colab": {
     "base_uri": "https://localhost:8080/",
     "height": 204
    },
    "colab_type": "code",
    "editable": true,
    "id": "SpB2dH0JKVJe",
    "outputId": "ec103505-4d8f-4310-a6e1-7eea3d789c28",
    "slideshow": {
     "slide_type": ""
    },
    "tags": []
   },
   "outputs": [],
   "source": [
    "df = pd.read_csv('data/gapminder_2000.csv')\n",
    "\n",
    "df.head()"
   ]
  },
  {
   "cell_type": "markdown",
   "metadata": {
    "colab_type": "text",
    "editable": true,
    "id": "ZpJ2OTZbY3Kf",
    "slideshow": {
     "slide_type": ""
    },
    "tags": []
   },
   "source": [
    "- Recall: For each `country` and `year`, this data contains:\n",
    "    - region of the world (`cluster`)\n",
    "    - total population (`pop`)\n",
    "    - average life expectancy in years (`life_expect`)\n",
    "    - number of children per woman (`fertility`)"
   ]
  },
  {
   "cell_type": "markdown",
   "metadata": {
    "editable": true,
    "slideshow": {
     "slide_type": ""
    },
    "tags": []
   },
   "source": [
    "<hr style=\"border-top: 2px solid gray; margin-top: 1px; margin-bottom: 1px\"></hr>"
   ]
  },
  {
   "cell_type": "markdown",
   "metadata": {
    "colab_type": "text",
    "editable": true,
    "id": "xyIb1bzLJgG-",
    "slideshow": {
     "slide_type": ""
    },
    "tags": []
   },
   "source": [
    "## Data types"
   ]
  },
  {
   "cell_type": "markdown",
   "metadata": {
    "colab_type": "text",
    "editable": true,
    "id": "vyj1xBF2NTY6",
    "slideshow": {
     "slide_type": ""
    },
    "tags": []
   },
   "source": [
    "- Data usually contains values of different types\n",
    "\n",
    "\n",
    "- These data types determine the kinds of comparisons we can make, and therefore dictate how they can be effectively visualized\n",
    "\n",
    "\n",
    "- Altair recognizes 5 main data types:\n",
    "    1. Nominal (N)\n",
    "    2. Ordinal (O)\n",
    "    3. Temporal (T)\n",
    "    4. Quantitative (Q)\n",
    "    5. GeoJSON (G)"
   ]
  },
  {
   "cell_type": "markdown",
   "metadata": {
    "colab_type": "text",
    "editable": true,
    "id": "vyj1xBF2NTY6",
    "slideshow": {
     "slide_type": ""
    },
    "tags": []
   },
   "source": [
    "- We'll talk about the first 4 data types now, and save the 5th for a later lesson..."
   ]
  },
  {
   "cell_type": "markdown",
   "metadata": {
    "colab_type": "text",
    "editable": true,
    "id": "vyj1xBF2NTY6",
    "slideshow": {
     "slide_type": ""
    },
    "tags": []
   },
   "source": [
    "### Nominal (N)"
   ]
  },
  {
   "cell_type": "markdown",
   "metadata": {
    "colab_type": "text",
    "editable": true,
    "id": "vyj1xBF2NTY6",
    "slideshow": {
     "slide_type": ""
    },
    "tags": []
   },
   "source": [
    "- **Nominal** data (also called **categorical** data) consist of category names \n",
    "\n",
    "\n",
    "- With nominal data, we can compare the equality of values: does $A = B$?\n",
    "\n",
    "\n",
    "- For example, in the dataset above, we can treat `country` as nominal"
   ]
  },
  {
   "cell_type": "markdown",
   "metadata": {
    "colab_type": "text",
    "editable": true,
    "id": "vyj1xBF2NTY6",
    "slideshow": {
     "slide_type": ""
    },
    "tags": []
   },
   "source": [
    "- When visualizing nominal data, we should be able to see if values are the same or different\n",
    "    - This can be achieved using different positions, color hues (e.g. red vs. green vs. blue), or shapes\n",
    "    - Using different sizes to encode nominal data might be misleading, suggesting an ordering or magnitude differences among values that do not exist!"
   ]
  },
  {
   "cell_type": "markdown",
   "metadata": {
    "colab_type": "text",
    "editable": true,
    "id": "vyj1xBF2NTY6",
    "slideshow": {
     "slide_type": ""
    },
    "tags": []
   },
   "source": [
    "### Ordinal (O)"
   ]
  },
  {
   "cell_type": "markdown",
   "metadata": {
    "colab_type": "text",
    "id": "vyj1xBF2NTY6"
   },
   "source": [
    "- **Ordinal** data consist of values that have a specific ordering\n",
    "\n",
    "\n",
    "- With ordinal data, we can compare the rank-ordering of values: is $A < B$?\n",
    "\n",
    "\n",
    "- For example, in the dataset above, we can treat `year` as ordinal"
   ]
  },
  {
   "cell_type": "markdown",
   "metadata": {
    "colab_type": "text",
    "id": "vyj1xBF2NTY6"
   },
   "source": [
    "- When visualizing ordinal data, we should be able to see a sense of rank-order\n",
    "    - Position, size, or color brightness might be appropriate\n",
    "    - Color hue (which is not perceptually ordered) would be less appropriate"
   ]
  },
  {
   "cell_type": "markdown",
   "metadata": {
    "colab_type": "text",
    "id": "vyj1xBF2NTY6"
   },
   "source": [
    "### Quantitative (Q)"
   ]
  },
  {
   "cell_type": "markdown",
   "metadata": {
    "colab_type": "text",
    "id": "vyj1xBF2NTY6"
   },
   "source": [
    "- **Quantitative data** consists of continuous, real-valued quantities\n",
    "\n",
    "\n",
    "- With quantitative data we can measure numerical differences among values, either absolute ($A - B$) or relative ($A / B$)\n",
    "\n",
    "\n",
    "- For example, in the dataset above, we can treat `fertility` as quantitative\n",
    "\n",
    "\n",
    "- Quantitative values can be visualized using position, size, or color, for example"
   ]
  },
  {
   "cell_type": "markdown",
   "metadata": {
    "colab_type": "text",
    "id": "vyj1xBF2NTY6"
   },
   "source": [
    "### Temporal (T)"
   ]
  },
  {
   "cell_type": "markdown",
   "metadata": {
    "colab_type": "text",
    "id": "vyj1xBF2NTY6"
   },
   "source": [
    "- **Temporal** data measure time points or intervals\n",
    "\n",
    "\n",
    "- This datatype is a special case of quantitative data with rich semantics and conventions (i.e., the [Gregorian calendar](https://en.wikipedia.org/wiki/Gregorian_calendar))\n",
    "\n",
    "\n",
    "- For example, temporal values include date strings such as `'2019-01-04'` and `'Jan 04 2019'`"
   ]
  },
  {
   "cell_type": "markdown",
   "metadata": {
    "colab_type": "text",
    "id": "vyj1xBF2NTY6"
   },
   "source": [
    "- In the dataset above, we can treat `year` as temporal\n",
    "    - However, but it may be easier to treat `year` as ordinal, since it is simply encoded as an integer"
   ]
  },
  {
   "cell_type": "markdown",
   "metadata": {
    "colab_type": "text",
    "id": "vyj1xBF2NTY6"
   },
   "source": [
    "- We'll learn more about using temporal values in Altair later"
   ]
  },
  {
   "cell_type": "markdown",
   "metadata": {},
   "source": [
    "### Values can have multiple data types"
   ]
  },
  {
   "cell_type": "markdown",
   "metadata": {
    "colab_type": "text",
    "id": "vyj1xBF2NTY6"
   },
   "source": [
    "- Note: these data types do _not_ provide a fixed categorization\n",
    "\n",
    "\n",
    "- For example: just because a data field is represented using a number doesn't mean we have to treat it as a quantitative type! \n",
    "\n",
    "\n",
    "- We might interpret a set of ages (10 years old, 20 years old, etc) as nominal (underage or overage), ordinal (grouped by year), or quantitative (calculate average age)."
   ]
  },
  {
   "cell_type": "markdown",
   "metadata": {
    "tags": []
   },
   "source": [
    "❓ **Exercise 2.** \n",
    "What are appropriate data types for `life_expect` in the dataset above?"
   ]
  },
  {
   "cell_type": "markdown",
   "metadata": {},
   "source": [
    "*Write your answer here. Double-click to edit.*"
   ]
  },
  {
   "cell_type": "markdown",
   "metadata": {},
   "source": [
    "<hr style=\"border-top: 2px solid gray; margin-top: 1px; margin-bottom: 1px\"></hr>"
   ]
  },
  {
   "cell_type": "markdown",
   "metadata": {
    "colab_type": "text",
    "id": "yaz3tS2RKf03"
   },
   "source": [
    "## Encoding channels"
   ]
  },
  {
   "cell_type": "markdown",
   "metadata": {
    "colab_type": "text",
    "editable": true,
    "id": "yaz3tS2RKf03",
    "slideshow": {
     "slide_type": ""
    },
    "tags": []
   },
   "source": [
    "- Now let's examine how to visually encode these data types!\n",
    "\n",
    "\n",
    "- Altair supports a wide variety of visual encoding channels: [here's the documentation](https://altair-viz.github.io/user_guide/encodings/index.html)"
   ]
  },
  {
   "cell_type": "markdown",
   "metadata": {
    "colab_type": "text",
    "editable": true,
    "id": "yaz3tS2RKf03",
    "slideshow": {
     "slide_type": ""
    },
    "tags": []
   },
   "source": [
    "- In this lesson, we'll learn about some of the more commonly used encoding channels:\n",
    "    - `X`: Horizontal (x-axis) position of the mark\n",
    "    - `Y`: Vertical (y-axis) position of the mark\n",
    "    - `Size`: Size of the mark. May correspond to area or length, depending on the mark type\n",
    "    - `Color`: Mark color, specified as a [legal CSS color](https://developer.mozilla.org/en-US/docs/Web/CSS/color_value)\n",
    "    - `Shape`: Symbol shape for `point` marks"
   ]
  },
  {
   "cell_type": "markdown",
   "metadata": {
    "colab_type": "text",
    "editable": true,
    "id": "vujZA4b6OCRC",
    "slideshow": {
     "slide_type": ""
    },
    "tags": []
   },
   "source": [
    "### X"
   ]
  },
  {
   "cell_type": "markdown",
   "metadata": {
    "colab_type": "text",
    "editable": true,
    "id": "vujZA4b6OCRC",
    "slideshow": {
     "slide_type": ""
    },
    "tags": []
   },
   "source": [
    "- The `X` encoding channel sets a mark's horizontal position (x-coordinate)\n",
    "\n",
    "\n",
    "- Choices of axis and title are made automatically, depending on the data type \n",
    "\n",
    "\n",
    "- In the chart below, the choice of a quantitative data type results in a continuous linear axis scale:"
   ]
  },
  {
   "cell_type": "code",
   "execution_count": null,
   "metadata": {
    "editable": true,
    "slideshow": {
     "slide_type": ""
    },
    "tags": []
   },
   "outputs": [],
   "source": []
  },
  {
   "cell_type": "markdown",
   "metadata": {
    "colab_type": "text",
    "editable": true,
    "id": "WwQuuyKUOElr",
    "slideshow": {
     "slide_type": ""
    },
    "tags": []
   },
   "source": [
    "### Y\n",
    "\n",
    "- The `Y` encoding channel sets a mark's vertical position (y-coordinate)\n",
    "\n",
    "\n",
    "- If we add `cluster` on the y-axis as an ordinal (`O`) variable, the result is a horizontal band of points for each unique value:"
   ]
  },
  {
   "cell_type": "code",
   "execution_count": null,
   "metadata": {
    "editable": true,
    "slideshow": {
     "slide_type": ""
    },
    "tags": []
   },
   "outputs": [],
   "source": []
  },
  {
   "cell_type": "markdown",
   "metadata": {
    "colab_type": "text",
    "editable": true,
    "id": "2BQetZgvc0f_",
    "slideshow": {
     "slide_type": ""
    },
    "tags": []
   },
   "source": [
    "❓ **Exercise 3.**\n",
    "What happens to the chart above if you treat `fertility` as an ordinal (`O`) variable?"
   ]
  },
  {
   "cell_type": "markdown",
   "metadata": {
    "editable": true,
    "slideshow": {
     "slide_type": ""
    },
    "tags": []
   },
   "source": [
    "*Write your answer here. Double-click to edit.*"
   ]
  },
  {
   "cell_type": "markdown",
   "metadata": {
    "colab_type": "text",
    "editable": true,
    "id": "2BQetZgvc0f_",
    "slideshow": {
     "slide_type": ""
    },
    "tags": []
   },
   "source": [
    "- If we instead add `life_expect` on the y-axis as a quantitative (`Q`) variable, the result is a scatter plot with linear scales for both axes:"
   ]
  },
  {
   "cell_type": "code",
   "execution_count": null,
   "metadata": {
    "editable": true,
    "slideshow": {
     "slide_type": ""
    },
    "tags": []
   },
   "outputs": [],
   "source": []
  },
  {
   "cell_type": "markdown",
   "metadata": {
    "colab_type": "text",
    "editable": true,
    "id": "hKCsQ0iIPMTV",
    "slideshow": {
     "slide_type": ""
    },
    "tags": []
   },
   "source": [
    "### Size"
   ]
  },
  {
   "cell_type": "markdown",
   "metadata": {
    "colab_type": "text",
    "editable": true,
    "id": "G7YtT-HNdYT9",
    "slideshow": {
     "slide_type": ""
    },
    "tags": []
   },
   "source": [
    "- The `Size` encoding channel sets a mark's size\n",
    "\n",
    "\n",
    "- The meaning of \"size\" can vary based on the mark type\n",
    "\n",
    "\n",
    "- For point marks, the `Size` channel roughly maps to the area of the point\n",
    "\n",
    "\n",
    "- Let's augment our scatter plot by encoding population (`pop`) on the `Size` channel:"
   ]
  },
  {
   "cell_type": "code",
   "execution_count": null,
   "metadata": {
    "editable": true,
    "slideshow": {
     "slide_type": ""
    },
    "tags": []
   },
   "outputs": [],
   "source": []
  },
  {
   "cell_type": "markdown",
   "metadata": {
    "editable": true,
    "slideshow": {
     "slide_type": ""
    },
    "tags": []
   },
   "source": [
    "- Note that using the `Size` channel results in a legend for interpreting the size values\n",
    "\n",
    "\n",
    "- Encodings can be customized through the use of method chaining or keyword arguments\n",
    "\n",
    "\n",
    "- For example, we can adjust the size encoding so that the area of the points range between 0 pixels and 1000 pixels:"
   ]
  },
  {
   "cell_type": "code",
   "execution_count": null,
   "metadata": {
    "editable": true,
    "slideshow": {
     "slide_type": ""
    },
    "tags": []
   },
   "outputs": [],
   "source": [
    "alt.Chart(df).mark_point().encode(\n",
    "    alt.X('fertility:Q'),\n",
    "    alt.Y('life_expect:Q'),\n",
    "    alt.Size('pop:Q').scale(range=[0, 1000])\n",
    ")"
   ]
  },
  {
   "cell_type": "markdown",
   "metadata": {
    "editable": true,
    "slideshow": {
     "slide_type": ""
    },
    "tags": []
   },
   "source": [
    "- ❗️ You may find examples in the wild that use keyword arguments to specify encoding channel options, like this:\n",
    "\n",
    "    ```python\n",
    "    alt.Chart(df).mark_point().encode(\n",
    "        alt.X('fertility:Q'),\n",
    "        alt.Y('life_expect:Q'),\n",
    "        alt.Size('pop:Q', scale=alt.Size(range=[0, 1000]))  # attribute-based syntax\n",
    "    )    \n",
    "    ```\n",
    "    <br>\n",
    "\n",
    "    - This is called the __attribute-based syntax__, which is equivalent, but more verbose \n",
    "    - For this course, we'll stick with the __method-based syntax__, using chained methods to specifying encoding channel options (e.g., `.scale(...)`)"
   ]
  },
  {
   "cell_type": "markdown",
   "metadata": {
    "colab_type": "text",
    "editable": true,
    "id": "yF__0zZ0PJyT",
    "slideshow": {
     "slide_type": ""
    },
    "tags": []
   },
   "source": [
    "### Color"
   ]
  },
  {
   "cell_type": "markdown",
   "metadata": {
    "colab_type": "text",
    "editable": true,
    "id": "u5QXPLxJeohH",
    "slideshow": {
     "slide_type": ""
    },
    "tags": []
   },
   "source": [
    "- The `Color` encoding channel sets a mark's color"
   ]
  },
  {
   "cell_type": "markdown",
   "metadata": {
    "colab_type": "text",
    "editable": true,
    "id": "u5QXPLxJeohH",
    "slideshow": {
     "slide_type": ""
    },
    "tags": []
   },
   "source": [
    "- The default style of color encoding depends on the data type: \n",
    "    - Nominal data will map to a multi-hued qualitative color scheme\n",
    "    - Ordinal and quantitative data will map to perceptually ordered color gradients"
   ]
  },
  {
   "cell_type": "markdown",
   "metadata": {
    "colab_type": "text",
    "editable": true,
    "id": "u5QXPLxJeohH",
    "slideshow": {
     "slide_type": ""
    },
    "tags": []
   },
   "source": [
    "- If we add `cluster` to our scatter plot as a nominal (`N`) data type by encoding it with the `Color` channel, we get a distinct hue for each cluster value:"
   ]
  },
  {
   "cell_type": "code",
   "execution_count": null,
   "metadata": {
    "editable": true,
    "slideshow": {
     "slide_type": ""
    },
    "tags": []
   },
   "outputs": [],
   "source": []
  },
  {
   "cell_type": "markdown",
   "metadata": {
    "colab_type": "text",
    "editable": true,
    "id": "dNOkUJfNfFac",
    "slideshow": {
     "slide_type": ""
    },
    "tags": []
   },
   "source": [
    "- To get filled points, we can can pass the keyword argument `filled=True` to the `.mark_point()` method:"
   ]
  },
  {
   "cell_type": "code",
   "execution_count": null,
   "metadata": {
    "editable": true,
    "slideshow": {
     "slide_type": ""
    },
    "tags": []
   },
   "outputs": [],
   "source": []
  },
  {
   "cell_type": "markdown",
   "metadata": {
    "colab_type": "text",
    "editable": true,
    "id": "zW2Siu5sPaiE",
    "slideshow": {
     "slide_type": ""
    },
    "tags": []
   },
   "source": [
    "### Shape"
   ]
  },
  {
   "cell_type": "markdown",
   "metadata": {
    "colab_type": "text",
    "editable": true,
    "id": "MGM2hdOqf3Tu",
    "slideshow": {
     "slide_type": ""
    },
    "tags": []
   },
   "source": [
    "- The `Shape` encoding channel sets the geometric shape used for point marks\n",
    "\n",
    "\n",
    "- Unlike the other channels we have seen so far, the `Shape` channel cannot be used by other mark types"
   ]
  },
  {
   "cell_type": "markdown",
   "metadata": {
    "colab_type": "text",
    "editable": true,
    "id": "MGM2hdOqf3Tu",
    "slideshow": {
     "slide_type": ""
    },
    "tags": []
   },
   "source": [
    "- Let's encode `cluster` using `Shape` as well as `Color`\n",
    "    - Using multiple channels for the same underlying data field is known as **redundant encoding**"
   ]
  },
  {
   "cell_type": "markdown",
   "metadata": {
    "colab_type": "text",
    "editable": true,
    "id": "MGM2hdOqf3Tu",
    "slideshow": {
     "slide_type": ""
    },
    "tags": []
   },
   "source": [
    "- The resulting chart combines both color and shape information into a single symbol legend:"
   ]
  },
  {
   "cell_type": "code",
   "execution_count": null,
   "metadata": {},
   "outputs": [],
   "source": []
  },
  {
   "cell_type": "markdown",
   "metadata": {},
   "source": [
    "<hr style=\"border-top: 2px solid gray; margin-top: 1px; margin-bottom: 1px\"></hr>"
   ]
  },
  {
   "cell_type": "markdown",
   "metadata": {
    "colab_type": "text",
    "id": "UPdDrmm9YK5E"
   },
   "source": [
    "## Graphical marks"
   ]
  },
  {
   "cell_type": "markdown",
   "metadata": {
    "colab_type": "text",
    "editable": true,
    "id": "UPdDrmm9YK5E",
    "slideshow": {
     "slide_type": ""
    },
    "tags": []
   },
   "source": [
    "- So far, we've only used point marks to visualize data\n",
    "\n",
    "\n",
    "- Altair has many built-in mark types: [here's the documentation](https://altair-viz.github.io/user_guide/marks/index.html)"
   ]
  },
  {
   "cell_type": "markdown",
   "metadata": {
    "colab_type": "text",
    "editable": true,
    "id": "UPdDrmm9YK5E",
    "slideshow": {
     "slide_type": ""
    },
    "tags": []
   },
   "source": [
    "- In this lesson, we'll learn about some of the more commonly used mark methods:\n",
    "    - __point__: scatter plot points with configurable shapes\n",
    "    - __bar__: rectangular bars\n",
    "    - __line__: connected line segments"
   ]
  },
  {
   "cell_type": "markdown",
   "metadata": {
    "colab_type": "text",
    "id": "jVp7cC-BbYF5"
   },
   "source": [
    "### Point marks"
   ]
  },
  {
   "cell_type": "markdown",
   "metadata": {
    "colab_type": "text",
    "id": "jVp7cC-BbYF5"
   },
   "source": [
    "- As we've seen above, the __point__ mark type conveys specific points, as in *scatter plots* and *dot plots*\n",
    "\n",
    "\n",
    "- We use the `.mark_point()` method to create a chart with point marks\n",
    "\n",
    "\n",
    "- In addition to `X` and `Y` encoding channels (to specify 2D point positions), point marks can use `Color`, `Size`, and `Shape` encodings to convey additional variables\n",
    "\n",
    "\n",
    "- Here is a dot plot of `fertility`, with `cluster` redundantly encoded using both the `Y` and `Shape` channels:"
   ]
  },
  {
   "cell_type": "code",
   "execution_count": null,
   "metadata": {},
   "outputs": [],
   "source": []
  },
  {
   "cell_type": "markdown",
   "metadata": {
    "tags": []
   },
   "source": [
    "❓ **Exercise 4.**\n",
    "Look at the Altair documentation on marks (see link above). What do the `.mark_circle()` and `.mark_square()` methods do? Try changing the plot above to use these different marks and see what happens. Do the results make sense? Why?"
   ]
  },
  {
   "cell_type": "markdown",
   "metadata": {},
   "source": [
    "*Write your answer here. Double-click to edit.*"
   ]
  },
  {
   "cell_type": "markdown",
   "metadata": {
    "colab_type": "text",
    "id": "bONM4Ccrt4Sw"
   },
   "source": [
    "- Marks can be styled by passing parameters to the `.mark_...()` methods\n",
    "\n",
    "\n",
    "- For example, we can change the size of a default point and whether a point is filled like this:"
   ]
  },
  {
   "cell_type": "code",
   "execution_count": null,
   "metadata": {},
   "outputs": [],
   "source": []
  },
  {
   "cell_type": "markdown",
   "metadata": {
    "colab_type": "text",
    "editable": true,
    "id": "x8j5XVZJcB7l",
    "slideshow": {
     "slide_type": ""
    },
    "tags": []
   },
   "source": [
    "### Bar marks"
   ]
  },
  {
   "cell_type": "markdown",
   "metadata": {
    "colab_type": "text",
    "id": "x8j5XVZJcB7l"
   },
   "source": [
    "- The __bar__ mark type draws a rectangle with a position, width, and height\n",
    "\n",
    "\n",
    "- We use the `.mark_bar()` method to create a chart with bar marks\n",
    "\n",
    "\n",
    "- Here is a simple bar chart of the population (`pop`) of each country:"
   ]
  },
  {
   "cell_type": "code",
   "execution_count": null,
   "metadata": {},
   "outputs": [],
   "source": []
  },
  {
   "cell_type": "markdown",
   "metadata": {
    "editable": true,
    "slideshow": {
     "slide_type": ""
    },
    "tags": []
   },
   "source": [
    "❓ **Exercise 5.**\n",
    "Create the same chart as above, except with horizontal bars and the countries listed from top to bottom."
   ]
  },
  {
   "cell_type": "code",
   "execution_count": null,
   "metadata": {},
   "outputs": [],
   "source": []
  },
  {
   "cell_type": "markdown",
   "metadata": {
    "colab_type": "text",
    "editable": true,
    "id": "rHX8bKgbzW3I",
    "slideshow": {
     "slide_type": ""
    },
    "tags": []
   },
   "source": [
    "- The bar width is set to a default size\n",
    "\n",
    "\n",
    "- Bars can also be stacked\n",
    "\n",
    "\n",
    "- Let's change the `X` encoding to use the `cluster` field, and encode `country` using the `Color` channel:"
   ]
  },
  {
   "cell_type": "code",
   "execution_count": null,
   "metadata": {
    "colab": {
     "base_uri": "https://localhost:8080/",
     "height": 368
    },
    "colab_type": "code",
    "editable": true,
    "id": "x9maAWhOxsrq",
    "outputId": "7960be03-eefd-4c3f-a114-8405395c772c",
    "slideshow": {
     "slide_type": ""
    },
    "tags": []
   },
   "outputs": [],
   "source": [
    "alt.Chart(df).mark_bar().encode(\n",
    "    alt.X('cluster:N'),\n",
    "    alt.Y('pop:Q'),\n",
    "    alt.Color('country:N')\n",
    ")"
   ]
  },
  {
   "cell_type": "markdown",
   "metadata": {
    "colab_type": "text",
    "editable": true,
    "id": "de4181jhzgUx",
    "slideshow": {
     "slide_type": ""
    },
    "tags": []
   },
   "source": [
    "- In the chart above, the use of the `Color` encoding channel causes Altair to automatically stack the bar marks\n",
    "\n",
    "\n",
    "- Otherwise, bars would be drawn on top of each other! \n",
    "\n",
    "\n",
    "- See what happens if we don't apply stacking: try adding `.stack(None)` to the `Y` encoding channel, like this:\n",
    "\n",
    "    ```python\n",
    "    alt.Y('pop:Q').stack(None)\n",
    "    ```"
   ]
  },
  {
   "cell_type": "markdown",
   "metadata": {
    "colab_type": "text",
    "editable": true,
    "id": "de4181jhzgUx",
    "slideshow": {
     "slide_type": ""
    },
    "tags": []
   },
   "source": [
    "- Note: we can disable the legend (which can't even fit all the countries by default!) by adding `.legend(None)` to the `Color` encoding. Try it out!"
   ]
  },
  {
   "cell_type": "markdown",
   "metadata": {
    "colab_type": "text",
    "editable": true,
    "id": "bTnEQk1NcD7y",
    "slideshow": {
     "slide_type": ""
    },
    "tags": []
   },
   "source": [
    "### Line Marks"
   ]
  },
  {
   "cell_type": "markdown",
   "metadata": {
    "colab_type": "text",
    "editable": true,
    "id": "bTnEQk1NcD7y",
    "slideshow": {
     "slide_type": ""
    },
    "tags": []
   },
   "source": [
    "- The __line__ mark type connects plotted points with line segments\n",
    "\n",
    "\n",
    "- We use the `.mark_line()` method to create a chart with line marks\n",
    "\n",
    "\n",
    "- This is helpful, for example, when you want to convey information about the rate of change\n",
    "\n",
    "\n",
    "- Let's plot a line chart of fertility per country over the years, using only data for the South Asia cluster:"
   ]
  },
  {
   "cell_type": "code",
   "execution_count": null,
   "metadata": {
    "editable": true,
    "slideshow": {
     "slide_type": ""
    },
    "tags": []
   },
   "outputs": [],
   "source": [
    "southasia_df = pd.read_csv('data/gapminder_southasia.csv')"
   ]
  },
  {
   "cell_type": "code",
   "execution_count": null,
   "metadata": {
    "colab": {
     "base_uri": "https://localhost:8080/",
     "height": 385
    },
    "colab_type": "code",
    "editable": true,
    "id": "lTWmDwv1Jhzt",
    "outputId": "7bbd15a9-4b8f-4f66-fe7e-6a55f2c38449",
    "slideshow": {
     "slide_type": ""
    },
    "tags": []
   },
   "outputs": [],
   "source": [
    "alt.Chart(southasia_df).mark_line().encode(\n",
    "    alt.X('year:O'),\n",
    "    alt.Y('fertility:Q'),\n",
    "    alt.Color('country:N')\n",
    ").properties(\n",
    "    width=400\n",
    ")"
   ]
  },
  {
   "cell_type": "markdown",
   "metadata": {
    "colab_type": "text",
    "id": "qmV54UhSMPxU"
   },
   "source": [
    "- Note that we set a custom width of 400 pixels. Try changing the width and see what happens!"
   ]
  },
  {
   "cell_type": "markdown",
   "metadata": {
    "colab_type": "text",
    "id": "qmV54UhSMPxU"
   },
   "source": [
    "❓ **Exercise 6.**\n",
    "Let's change some of the default mark parameters to customize the plot above. Pass the following keyword arguments to `.mark_line()`:\n",
    "\n",
    "- `strokeWidth=3` to change the thickness of the line to 3 pixels\n",
    "- `opacity=0.5` to add some transparency"
   ]
  },
  {
   "cell_type": "code",
   "execution_count": null,
   "metadata": {},
   "outputs": [],
   "source": []
  },
  {
   "cell_type": "markdown",
   "metadata": {},
   "source": [
    "<hr style=\"border-top: 2px solid gray; margin-top: 1px; margin-bottom: 1px\"></hr>"
   ]
  },
  {
   "cell_type": "markdown",
   "metadata": {
    "colab_type": "text",
    "id": "OAmIxLRarios"
   },
   "source": [
    "## What's next?"
   ]
  },
  {
   "cell_type": "markdown",
   "metadata": {
    "colab_type": "text",
    "id": "OAmIxLRarios"
   },
   "source": [
    "- You now know the basics of creating data visualizations using Altair!"
   ]
  },
  {
   "cell_type": "markdown",
   "metadata": {
    "colab_type": "text",
    "id": "OAmIxLRarios"
   },
   "source": [
    "- Over the next several lessons, we will gradually add more to your Altair toolbelt:\n",
    "    - Transforming the data to create visualizations that summarize data or visualize newly derived variables\n",
    "    - Configuring titles, axes, scales, colors\n",
    "    - Adding user interactivity to visualizations\n",
    "    - Visualizing cartographic data (i.e., geographic maps)"
   ]
  },
  {
   "cell_type": "markdown",
   "metadata": {},
   "source": [
    "<hr style=\"border-top: 2px solid gray; margin-top: 1px; margin-bottom: 1px\"></hr>"
   ]
  },
  {
   "cell_type": "markdown",
   "metadata": {},
   "source": [
    "## Problems"
   ]
  },
  {
   "cell_type": "markdown",
   "metadata": {},
   "source": [
    "### Problem 1"
   ]
  },
  {
   "cell_type": "markdown",
   "metadata": {},
   "source": [
    "The file `data/gapminder_2000.csv` contains the Gapminder data filtered for the year 2000 that we used above.\n",
    "\n",
    "Create a scatter plot of life expectancy vs. population. Use shape to differentiate points representing different clusters. Your chart should look like this:\n",
    "\n",
    "![](img/scatter.svg)\n",
    "\n",
    "Do you think this is an effective visualization? Why or why not?"
   ]
  },
  {
   "cell_type": "code",
   "execution_count": null,
   "metadata": {},
   "outputs": [],
   "source": []
  },
  {
   "cell_type": "markdown",
   "metadata": {
    "editable": true,
    "slideshow": {
     "slide_type": ""
    },
    "tags": []
   },
   "source": [
    "*Write your answer here. Double-click to edit.*"
   ]
  },
  {
   "cell_type": "markdown",
   "metadata": {},
   "source": [
    "### Problem 2"
   ]
  },
  {
   "cell_type": "markdown",
   "metadata": {},
   "source": [
    "The file `data/gapminder_americas_2000.csv` contains the Gapminder data filtered for countries in the Americas cluster and the year 2000.\n",
    "\n",
    "Create a bar chart comparing the fertility of each country. Each country should be represented by a bar of a different color. Do not include a legend for the colors. Your chart should look like this:\n",
    "\n",
    "![](img/bar.svg)"
   ]
  },
  {
   "cell_type": "code",
   "execution_count": null,
   "metadata": {},
   "outputs": [],
   "source": []
  },
  {
   "cell_type": "markdown",
   "metadata": {
    "editable": true,
    "slideshow": {
     "slide_type": ""
    },
    "tags": []
   },
   "source": [
    "### Problem 3"
   ]
  },
  {
   "cell_type": "markdown",
   "metadata": {
    "colab_type": "text",
    "editable": true,
    "id": "_PZcXCF6OZm2",
    "slideshow": {
     "slide_type": ""
    },
    "tags": []
   },
   "source": [
    "The line mark can be used to create *slope graphs*, charts that highlight the change in value between two comparison points using lines.\n",
    "\n",
    "The file `data/gapminder_eap_1955_2005.csv` contains the Gapminder data, filtered for countries in the East Asia & Pacific cluster and the years 1955 and 2005.\n",
    "\n",
    "Create a slope graph comparing the populations of each country in 1955 and 2005, like this:\n",
    "\n",
    "![](img/slope.svg)\n",
    "\n",
    "Set the opacity of the `line` mark to 0.5, and the width of the chart to 200."
   ]
  },
  {
   "cell_type": "code",
   "execution_count": null,
   "metadata": {},
   "outputs": [],
   "source": []
  },
  {
   "cell_type": "markdown",
   "metadata": {
    "editable": true,
    "slideshow": {
     "slide_type": ""
    },
    "tags": []
   },
   "source": [
    "### Problem 4"
   ]
  },
  {
   "cell_type": "markdown",
   "metadata": {
    "editable": true,
    "slideshow": {
     "slide_type": ""
    },
    "tags": []
   },
   "source": [
    "The code cell below contains code for the line chart we created above, that plots the fertility of the countries in South Asia over time.\n",
    "\n",
    "Take a look at the [Altair documentation on encoding channels](https://altair-viz.github.io/user_guide/encodings/channels.html). What does the `StrokeDash` encoding channel do? Modify the chart below so that each country is represented with a line of a different color and dash style."
   ]
  },
  {
   "cell_type": "code",
   "execution_count": null,
   "metadata": {
    "editable": true,
    "slideshow": {
     "slide_type": ""
    },
    "tags": []
   },
   "outputs": [],
   "source": [
    "southasia_df = pd.read_csv('data/gapminder_southasia.csv')\n",
    "\n",
    "alt.Chart(southasia_df).mark_line().encode(\n",
    "    alt.X('year:O'),\n",
    "    alt.Y('fertility:Q'),\n",
    "    alt.Color('country:N'),\n",
    ").properties(\n",
    "    width=400\n",
    ")"
   ]
  },
  {
   "cell_type": "markdown",
   "metadata": {},
   "source": [
    "_Write your answer here. Double-click to edit._"
   ]
  },
  {
   "cell_type": "markdown",
   "metadata": {},
   "source": [
    "### Problem 5"
   ]
  },
  {
   "cell_type": "markdown",
   "metadata": {
    "editable": true,
    "slideshow": {
     "slide_type": ""
    },
    "tags": []
   },
   "source": [
    "Like Problem 4, the code cell below contains code for the line chart we created above, that plots the fertility of the countries in South Asia over time.\n",
    "\n",
    "Again, take a look at the [Altair documentation on encoding channels](https://altair-viz.github.io/user_guide/encodings/channels.html). What does the `StrokeOpacity` *encoding channel* do? Modify the chart below so that each country is represented with a line of a different color and opacity. How is this different from setting the stroke opacity in Exercise 6?"
   ]
  },
  {
   "cell_type": "code",
   "execution_count": null,
   "metadata": {
    "editable": true,
    "slideshow": {
     "slide_type": ""
    },
    "tags": []
   },
   "outputs": [],
   "source": [
    "southasia_df = pd.read_csv('data/gapminder_southasia.csv')\n",
    "\n",
    "alt.Chart(southasia_df).mark_line().encode(\n",
    "    alt.X('year:O'),\n",
    "    alt.Y('fertility:Q'),\n",
    "    alt.Color('country:N'),\n",
    ").properties(\n",
    "    width=400\n",
    ")"
   ]
  },
  {
   "cell_type": "markdown",
   "metadata": {
    "editable": true,
    "slideshow": {
     "slide_type": ""
    },
    "tags": []
   },
   "source": [
    "*Write your answer here. Double-click to edit.*"
   ]
  },
  {
   "cell_type": "markdown",
   "metadata": {},
   "source": [
    "<hr style=\"border-top: 2px solid gray; margin-top: 1px; margin-bottom: 1px\"></hr>"
   ]
  },
  {
   "cell_type": "markdown",
   "metadata": {},
   "source": [
    "## Notes and sources"
   ]
  },
  {
   "cell_type": "markdown",
   "metadata": {
    "editable": true,
    "slideshow": {
     "slide_type": ""
    },
    "tags": []
   },
   "source": [
    "- These lesson notes are based on the [Visualization Curriculum](https://uwdata.github.io/visualization-curriculum/) by the University of Washington\n",
    "\n",
    "\n",
    "- The systematic study of marks, visual encodings, and backing data types was initiated by [Jacques Bertin](https://en.wikipedia.org/wiki/Jacques_Bertin) in his pioneering 1967 work [_Sémiologie Graphique (The Semiology of Graphics)_](https://books.google.com/books/about/Semiology_of_Graphics.html?id=X5caQwAACAAJ)\n",
    "\n",
    "\n",
    "- The identification of nominal, ordinal, interval, and ratio types dates at least as far back as S. S. Steven's 1947 article [_On the theory of scales of measurement_](https://scholar.google.com/scholar?cluster=14356809180080326415)"
   ]
  }
 ],
 "metadata": {
  "kernelspec": {
   "display_name": "Python 3 (ipykernel)",
   "language": "python",
   "name": "python3"
  },
  "language_info": {
   "codemirror_mode": {
    "name": "ipython",
    "version": 3
   },
   "file_extension": ".py",
   "mimetype": "text/x-python",
   "name": "python",
   "nbconvert_exporter": "python",
   "pygments_lexer": "ipython3",
   "version": "3.11.6"
  },
  "toc-autonumbering": false,
  "toc-showcode": false,
  "toc-showmarkdowntxt": false,
  "toc-showtags": false
 },
 "nbformat": 4,
 "nbformat_minor": 4
}
