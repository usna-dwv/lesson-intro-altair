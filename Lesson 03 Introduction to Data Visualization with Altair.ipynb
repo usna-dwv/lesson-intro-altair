{
 "cells": [
  {
   "cell_type": "markdown",
   "metadata": {},
   "source": [
    "**SA463A &#x25aa; Data Wrangling and Visualization &#x25aa; Fall 2024**"
   ]
  },
  {
   "cell_type": "markdown",
   "metadata": {},
   "source": [
    "# Lesson 3. Introduction to Data Visualization with Altair"
   ]
  },
  {
   "cell_type": "markdown",
   "metadata": {},
   "source": [
    "## In this lesson..."
   ]
  },
  {
   "cell_type": "markdown",
   "metadata": {},
   "source": [
    "- What is Altair?\n",
    "\n",
    "\n",
    "- A small example: data types, graphical marks, encoding channels\n",
    "\n",
    "\n",
    "- In-depth:\n",
    "    - Data types\n",
    "    - Encoding channels\n",
    "    - Graphical marks"
   ]
  },
  {
   "cell_type": "markdown",
   "metadata": {},
   "source": [
    "<hr style=\"border-top: 2px solid gray; margin-top: 1px; margin-bottom: 1px\"></hr>"
   ]
  },
  {
   "cell_type": "markdown",
   "metadata": {},
   "source": [
    "## What is Altair?"
   ]
  },
  {
   "cell_type": "markdown",
   "metadata": {},
   "source": [
    "- [__Altair__](https://altair-viz.github.io/) is a statistical visualization library for Python \n",
    "\n",
    "\n",
    "- Altair offers a powerful declarative *grammar* for quickly building a wide range of statistical graphics\n",
    "\n",
    "\n",
    "- You specify *what* you want the visualization to include, instead of *how* to implement the visualization in terms of for-loops, low-level drawing commands, etc."
   ]
  },
  {
   "cell_type": "markdown",
   "metadata": {},
   "source": [
    "<hr style=\"border-top: 2px solid gray; margin-top: 1px; margin-bottom: 1px\"></hr>"
   ]
  },
  {
   "cell_type": "markdown",
   "metadata": {},
   "source": [
    "## A small example"
   ]
  },
  {
   "cell_type": "markdown",
   "metadata": {},
   "source": [
    "- Let's start by importing Pandas as `pd` and Altair as `alt`:"
   ]
  },
  {
   "cell_type": "code",
   "execution_count": 1,
   "metadata": {
    "colab": {},
    "colab_type": "code",
    "id": "Y5K12kFBKE6v"
   },
   "outputs": [],
   "source": [
    "import pandas as pd\n",
    "import altair as alt"
   ]
  },
  {
   "cell_type": "markdown",
   "metadata": {
    "colab_type": "text",
    "id": "lTWpkCvO8sjI"
   },
   "source": [
    "- For this example, we'll use a small weather dataset:"
   ]
  },
  {
   "cell_type": "code",
   "execution_count": 2,
   "metadata": {},
   "outputs": [],
   "source": [
    "weather_df = pd.read_csv('data/weather.csv')"
   ]
  },
  {
   "cell_type": "code",
   "execution_count": 3,
   "metadata": {},
   "outputs": [
    {
     "data": {
      "text/html": [
       "<div>\n",
       "<style scoped>\n",
       "    .dataframe tbody tr th:only-of-type {\n",
       "        vertical-align: middle;\n",
       "    }\n",
       "\n",
       "    .dataframe tbody tr th {\n",
       "        vertical-align: top;\n",
       "    }\n",
       "\n",
       "    .dataframe thead th {\n",
       "        text-align: right;\n",
       "    }\n",
       "</style>\n",
       "<table border=\"1\" class=\"dataframe\">\n",
       "  <thead>\n",
       "    <tr style=\"text-align: right;\">\n",
       "      <th></th>\n",
       "      <th>city</th>\n",
       "      <th>month</th>\n",
       "      <th>precip</th>\n",
       "    </tr>\n",
       "  </thead>\n",
       "  <tbody>\n",
       "    <tr>\n",
       "      <th>0</th>\n",
       "      <td>Seattle</td>\n",
       "      <td>Apr</td>\n",
       "      <td>2.68</td>\n",
       "    </tr>\n",
       "    <tr>\n",
       "      <th>1</th>\n",
       "      <td>Seattle</td>\n",
       "      <td>Aug</td>\n",
       "      <td>0.87</td>\n",
       "    </tr>\n",
       "    <tr>\n",
       "      <th>2</th>\n",
       "      <td>Seattle</td>\n",
       "      <td>Dec</td>\n",
       "      <td>5.31</td>\n",
       "    </tr>\n",
       "    <tr>\n",
       "      <th>3</th>\n",
       "      <td>New York</td>\n",
       "      <td>Apr</td>\n",
       "      <td>3.94</td>\n",
       "    </tr>\n",
       "    <tr>\n",
       "      <th>4</th>\n",
       "      <td>New York</td>\n",
       "      <td>Aug</td>\n",
       "      <td>4.13</td>\n",
       "    </tr>\n",
       "    <tr>\n",
       "      <th>5</th>\n",
       "      <td>New York</td>\n",
       "      <td>Dec</td>\n",
       "      <td>3.58</td>\n",
       "    </tr>\n",
       "    <tr>\n",
       "      <th>6</th>\n",
       "      <td>Chicago</td>\n",
       "      <td>Apr</td>\n",
       "      <td>3.62</td>\n",
       "    </tr>\n",
       "    <tr>\n",
       "      <th>7</th>\n",
       "      <td>Chicago</td>\n",
       "      <td>Aug</td>\n",
       "      <td>3.98</td>\n",
       "    </tr>\n",
       "    <tr>\n",
       "      <th>8</th>\n",
       "      <td>Chicago</td>\n",
       "      <td>Dec</td>\n",
       "      <td>2.56</td>\n",
       "    </tr>\n",
       "  </tbody>\n",
       "</table>\n",
       "</div>"
      ],
      "text/plain": [
       "       city month  precip\n",
       "0   Seattle   Apr    2.68\n",
       "1   Seattle   Aug    0.87\n",
       "2   Seattle   Dec    5.31\n",
       "3  New York   Apr    3.94\n",
       "4  New York   Aug    4.13\n",
       "5  New York   Dec    3.58\n",
       "6   Chicago   Apr    3.62\n",
       "7   Chicago   Aug    3.98\n",
       "8   Chicago   Dec    2.56"
      ]
     },
     "execution_count": 3,
     "metadata": {},
     "output_type": "execute_result"
    }
   ],
   "source": [
    "# This dataset is so small, we don't need to use .head()\n",
    "weather_df"
   ]
  },
  {
   "cell_type": "markdown",
   "metadata": {
    "colab_type": "text",
    "id": "lTWpkCvO8sjI"
   },
   "source": [
    "- Each row in this DataFrame represents 1 observation:\n",
    "    - `precip` contains the average precipitation for a given `city` and `month`"
   ]
  },
  {
   "cell_type": "markdown",
   "metadata": {},
   "source": [
    "### The Chart object"
   ]
  },
  {
   "cell_type": "markdown",
   "metadata": {
    "colab_type": "text",
    "id": "ac427IWdb7xx"
   },
   "source": [
    "- The fundamental object in Altair is the `Chart`, which takes a DataFrame as a single argument:"
   ]
  },
  {
   "cell_type": "code",
   "execution_count": null,
   "metadata": {},
   "outputs": [],
   "source": []
  },
  {
   "cell_type": "code",
   "execution_count": 4,
   "metadata": {
    "colab": {},
    "colab_type": "code",
    "id": "QqF4GKjDcG4y",
    "tags": [
     "solution"
    ]
   },
   "outputs": [],
   "source": [
    "# Solution\n",
    "chart = alt.Chart(weather_df)"
   ]
  },
  {
   "cell_type": "markdown",
   "metadata": {
    "colab_type": "text",
    "id": "9i5gX1tWcKAu"
   },
   "source": [
    "- So far, we have defined the `Chart` object and passed it the `weather_df` DataFrame we created above\n",
    "\n",
    "\n",
    "- We have not yet told the `Chart` to do anything with the data"
   ]
  },
  {
   "cell_type": "markdown",
   "metadata": {
    "colab_type": "text",
    "id": "_z0gVCb8cNgx"
   },
   "source": [
    "### Graphical marks"
   ]
  },
  {
   "cell_type": "markdown",
   "metadata": {
    "colab_type": "text",
    "id": "_z0gVCb8cNgx"
   },
   "source": [
    "- With a `Chart` object in hand, we can now specify how we would like the data to be visualized\n",
    "\n",
    "\n",
    "- First, we indicate what kind of **graphical mark** (e.g., points, lines, bars) we want to use to represent the data\n",
    "\n",
    "\n",
    "- For example, we can show the data as points using the `.mark_point()` method of the `Chart` object:"
   ]
  },
  {
   "cell_type": "code",
   "execution_count": null,
   "metadata": {},
   "outputs": [],
   "source": []
  },
  {
   "cell_type": "code",
   "execution_count": 5,
   "metadata": {
    "colab": {
     "base_uri": "https://localhost:8080/",
     "height": 52
    },
    "colab_type": "code",
    "id": "NmlAmwX4cXzE",
    "outputId": "960ad0d0-ed22-4ebb-eff6-c652068d5b1e",
    "tags": [
     "solution"
    ]
   },
   "outputs": [
    {
     "data": {
      "text/html": [
       "\n",
       "<div id=\"altair-viz-cae31913e1154f5893ea445ea3b840e2\"></div>\n",
       "<script type=\"text/javascript\">\n",
       "  (function(spec, embedOpt){\n",
       "    let outputDiv = document.currentScript.previousElementSibling;\n",
       "    if (outputDiv.id !== \"altair-viz-cae31913e1154f5893ea445ea3b840e2\") {\n",
       "      outputDiv = document.getElementById(\"altair-viz-cae31913e1154f5893ea445ea3b840e2\");\n",
       "    }\n",
       "    const paths = {\n",
       "      \"vega\": \"https://cdn.jsdelivr.net/npm//vega@5?noext\",\n",
       "      \"vega-lib\": \"https://cdn.jsdelivr.net/npm//vega-lib?noext\",\n",
       "      \"vega-lite\": \"https://cdn.jsdelivr.net/npm//vega-lite@4.8.1?noext\",\n",
       "      \"vega-embed\": \"https://cdn.jsdelivr.net/npm//vega-embed@6?noext\",\n",
       "    };\n",
       "\n",
       "    function loadScript(lib) {\n",
       "      return new Promise(function(resolve, reject) {\n",
       "        var s = document.createElement('script');\n",
       "        s.src = paths[lib];\n",
       "        s.async = true;\n",
       "        s.onload = () => resolve(paths[lib]);\n",
       "        s.onerror = () => reject(`Error loading script: ${paths[lib]}`);\n",
       "        document.getElementsByTagName(\"head\")[0].appendChild(s);\n",
       "      });\n",
       "    }\n",
       "\n",
       "    function showError(err) {\n",
       "      outputDiv.innerHTML = `<div class=\"error\" style=\"color:red;\">${err}</div>`;\n",
       "      throw err;\n",
       "    }\n",
       "\n",
       "    function displayChart(vegaEmbed) {\n",
       "      vegaEmbed(outputDiv, spec, embedOpt)\n",
       "        .catch(err => showError(`Javascript Error: ${err.message}<br>This usually means there's a typo in your chart specification. See the javascript console for the full traceback.`));\n",
       "    }\n",
       "\n",
       "    if(typeof define === \"function\" && define.amd) {\n",
       "      requirejs.config({paths});\n",
       "      require([\"vega-embed\"], displayChart, err => showError(`Error loading script: ${err.message}`));\n",
       "    } else if (typeof vegaEmbed === \"function\") {\n",
       "      displayChart(vegaEmbed);\n",
       "    } else {\n",
       "      loadScript(\"vega\")\n",
       "        .then(() => loadScript(\"vega-lite\"))\n",
       "        .then(() => loadScript(\"vega-embed\"))\n",
       "        .catch(showError)\n",
       "        .then(() => displayChart(vegaEmbed));\n",
       "    }\n",
       "  })({\"config\": {\"view\": {\"continuousWidth\": 400, \"continuousHeight\": 300}}, \"data\": {\"name\": \"data-fdfbb22e8e0e89f6556d8a3b434b0c97\"}, \"mark\": \"point\", \"$schema\": \"https://vega.github.io/schema/vega-lite/v4.8.1.json\", \"datasets\": {\"data-fdfbb22e8e0e89f6556d8a3b434b0c97\": [{\"city\": \"Seattle\", \"month\": \"Apr\", \"precip\": 2.68}, {\"city\": \"Seattle\", \"month\": \"Aug\", \"precip\": 0.87}, {\"city\": \"Seattle\", \"month\": \"Dec\", \"precip\": 5.31}, {\"city\": \"New York\", \"month\": \"Apr\", \"precip\": 3.94}, {\"city\": \"New York\", \"month\": \"Aug\", \"precip\": 4.13}, {\"city\": \"New York\", \"month\": \"Dec\", \"precip\": 3.58}, {\"city\": \"Chicago\", \"month\": \"Apr\", \"precip\": 3.62}, {\"city\": \"Chicago\", \"month\": \"Aug\", \"precip\": 3.98}, {\"city\": \"Chicago\", \"month\": \"Dec\", \"precip\": 2.56}]}}, {\"mode\": \"vega-lite\"});\n",
       "</script>"
      ],
      "text/plain": [
       "alt.Chart(...)"
      ]
     },
     "execution_count": 5,
     "metadata": {},
     "output_type": "execute_result"
    }
   ],
   "source": [
    "# Solution\n",
    "alt.Chart(weather_df).mark_point()"
   ]
  },
  {
   "cell_type": "markdown",
   "metadata": {
    "colab_type": "text",
    "id": "Gudr0jvVcgAi"
   },
   "source": [
    "- Hm... this isn't very interesting. What's going on? 🤔\n",
    "\n",
    "\n",
    "- In this chart, we have one point for each row in `weather_df`\n",
    "\n",
    "\n",
    "- Each of these points are plotted in the same place, on top of each other, since we didn't specify anything about how these points should be positioned"
   ]
  },
  {
   "cell_type": "markdown",
   "metadata": {},
   "source": [
    "### Encoding channels and data types"
   ]
  },
  {
   "cell_type": "markdown",
   "metadata": {},
   "source": [
    "- A mark has various attributes: e.g. position, shape, size, color\n",
    "\n",
    "\n",
    "- We connect the data we want to visualize to these attributes using **encoding channels**\n",
    "\n",
    "\n",
    "- To visually separate the points in our example, we can **encode** the variable `city` using the `Y` channel, which represents the y-axis position of the points\n",
    "\n",
    "\n",
    "- To do this, we use the `.encode()` method:"
   ]
  },
  {
   "cell_type": "code",
   "execution_count": null,
   "metadata": {},
   "outputs": [],
   "source": []
  },
  {
   "cell_type": "code",
   "execution_count": 6,
   "metadata": {
    "colab": {
     "base_uri": "https://localhost:8080/",
     "height": 94
    },
    "colab_type": "code",
    "id": "lEWZ7mWTcrik",
    "outputId": "88da80a6-f46f-4fc6-c27e-f139e372f6ff",
    "tags": [
     "solution"
    ]
   },
   "outputs": [
    {
     "data": {
      "text/html": [
       "\n",
       "<div id=\"altair-viz-afbcbd9109f44d2bac84b4065f94e9fe\"></div>\n",
       "<script type=\"text/javascript\">\n",
       "  (function(spec, embedOpt){\n",
       "    let outputDiv = document.currentScript.previousElementSibling;\n",
       "    if (outputDiv.id !== \"altair-viz-afbcbd9109f44d2bac84b4065f94e9fe\") {\n",
       "      outputDiv = document.getElementById(\"altair-viz-afbcbd9109f44d2bac84b4065f94e9fe\");\n",
       "    }\n",
       "    const paths = {\n",
       "      \"vega\": \"https://cdn.jsdelivr.net/npm//vega@5?noext\",\n",
       "      \"vega-lib\": \"https://cdn.jsdelivr.net/npm//vega-lib?noext\",\n",
       "      \"vega-lite\": \"https://cdn.jsdelivr.net/npm//vega-lite@4.8.1?noext\",\n",
       "      \"vega-embed\": \"https://cdn.jsdelivr.net/npm//vega-embed@6?noext\",\n",
       "    };\n",
       "\n",
       "    function loadScript(lib) {\n",
       "      return new Promise(function(resolve, reject) {\n",
       "        var s = document.createElement('script');\n",
       "        s.src = paths[lib];\n",
       "        s.async = true;\n",
       "        s.onload = () => resolve(paths[lib]);\n",
       "        s.onerror = () => reject(`Error loading script: ${paths[lib]}`);\n",
       "        document.getElementsByTagName(\"head\")[0].appendChild(s);\n",
       "      });\n",
       "    }\n",
       "\n",
       "    function showError(err) {\n",
       "      outputDiv.innerHTML = `<div class=\"error\" style=\"color:red;\">${err}</div>`;\n",
       "      throw err;\n",
       "    }\n",
       "\n",
       "    function displayChart(vegaEmbed) {\n",
       "      vegaEmbed(outputDiv, spec, embedOpt)\n",
       "        .catch(err => showError(`Javascript Error: ${err.message}<br>This usually means there's a typo in your chart specification. See the javascript console for the full traceback.`));\n",
       "    }\n",
       "\n",
       "    if(typeof define === \"function\" && define.amd) {\n",
       "      requirejs.config({paths});\n",
       "      require([\"vega-embed\"], displayChart, err => showError(`Error loading script: ${err.message}`));\n",
       "    } else if (typeof vegaEmbed === \"function\") {\n",
       "      displayChart(vegaEmbed);\n",
       "    } else {\n",
       "      loadScript(\"vega\")\n",
       "        .then(() => loadScript(\"vega-lite\"))\n",
       "        .then(() => loadScript(\"vega-embed\"))\n",
       "        .catch(showError)\n",
       "        .then(() => displayChart(vegaEmbed));\n",
       "    }\n",
       "  })({\"config\": {\"view\": {\"continuousWidth\": 400, \"continuousHeight\": 300}}, \"data\": {\"name\": \"data-fdfbb22e8e0e89f6556d8a3b434b0c97\"}, \"mark\": \"point\", \"encoding\": {\"y\": {\"type\": \"nominal\", \"field\": \"city\"}}, \"$schema\": \"https://vega.github.io/schema/vega-lite/v4.8.1.json\", \"datasets\": {\"data-fdfbb22e8e0e89f6556d8a3b434b0c97\": [{\"city\": \"Seattle\", \"month\": \"Apr\", \"precip\": 2.68}, {\"city\": \"Seattle\", \"month\": \"Aug\", \"precip\": 0.87}, {\"city\": \"Seattle\", \"month\": \"Dec\", \"precip\": 5.31}, {\"city\": \"New York\", \"month\": \"Apr\", \"precip\": 3.94}, {\"city\": \"New York\", \"month\": \"Aug\", \"precip\": 4.13}, {\"city\": \"New York\", \"month\": \"Dec\", \"precip\": 3.58}, {\"city\": \"Chicago\", \"month\": \"Apr\", \"precip\": 3.62}, {\"city\": \"Chicago\", \"month\": \"Aug\", \"precip\": 3.98}, {\"city\": \"Chicago\", \"month\": \"Dec\", \"precip\": 2.56}]}}, {\"mode\": \"vega-lite\"});\n",
       "</script>"
      ],
      "text/plain": [
       "alt.Chart(...)"
      ]
     },
     "execution_count": 6,
     "metadata": {},
     "output_type": "execute_result"
    }
   ],
   "source": [
    "# Solution\n",
    "alt.Chart(weather_df).mark_point().encode(\n",
    "    alt.Y('city:N')\n",
    ")"
   ]
  },
  {
   "cell_type": "markdown",
   "metadata": {},
   "source": [
    "- `:N` tells Altair that the variable `city` contains **nominal** (categorical) data\n",
    "\n",
    "\n",
    "- We still have multiple points overlapping within each category\n",
    "\n",
    "\n",
    "- Let's further separate these points by adding an `X` encoding channel, mapped to `precip`:"
   ]
  },
  {
   "cell_type": "code",
   "execution_count": null,
   "metadata": {},
   "outputs": [],
   "source": []
  },
  {
   "cell_type": "code",
   "execution_count": 7,
   "metadata": {
    "colab": {
     "base_uri": "https://localhost:8080/",
     "height": 129
    },
    "colab_type": "code",
    "id": "gVbE3h7zdDsL",
    "outputId": "ec3f1aa3-b6e0-41c1-ee00-06f3a587613a",
    "tags": [
     "solution"
    ]
   },
   "outputs": [
    {
     "data": {
      "text/html": [
       "\n",
       "<div id=\"altair-viz-b0260ddd7fde4626b6d3ec9ea620d120\"></div>\n",
       "<script type=\"text/javascript\">\n",
       "  (function(spec, embedOpt){\n",
       "    let outputDiv = document.currentScript.previousElementSibling;\n",
       "    if (outputDiv.id !== \"altair-viz-b0260ddd7fde4626b6d3ec9ea620d120\") {\n",
       "      outputDiv = document.getElementById(\"altair-viz-b0260ddd7fde4626b6d3ec9ea620d120\");\n",
       "    }\n",
       "    const paths = {\n",
       "      \"vega\": \"https://cdn.jsdelivr.net/npm//vega@5?noext\",\n",
       "      \"vega-lib\": \"https://cdn.jsdelivr.net/npm//vega-lib?noext\",\n",
       "      \"vega-lite\": \"https://cdn.jsdelivr.net/npm//vega-lite@4.8.1?noext\",\n",
       "      \"vega-embed\": \"https://cdn.jsdelivr.net/npm//vega-embed@6?noext\",\n",
       "    };\n",
       "\n",
       "    function loadScript(lib) {\n",
       "      return new Promise(function(resolve, reject) {\n",
       "        var s = document.createElement('script');\n",
       "        s.src = paths[lib];\n",
       "        s.async = true;\n",
       "        s.onload = () => resolve(paths[lib]);\n",
       "        s.onerror = () => reject(`Error loading script: ${paths[lib]}`);\n",
       "        document.getElementsByTagName(\"head\")[0].appendChild(s);\n",
       "      });\n",
       "    }\n",
       "\n",
       "    function showError(err) {\n",
       "      outputDiv.innerHTML = `<div class=\"error\" style=\"color:red;\">${err}</div>`;\n",
       "      throw err;\n",
       "    }\n",
       "\n",
       "    function displayChart(vegaEmbed) {\n",
       "      vegaEmbed(outputDiv, spec, embedOpt)\n",
       "        .catch(err => showError(`Javascript Error: ${err.message}<br>This usually means there's a typo in your chart specification. See the javascript console for the full traceback.`));\n",
       "    }\n",
       "\n",
       "    if(typeof define === \"function\" && define.amd) {\n",
       "      requirejs.config({paths});\n",
       "      require([\"vega-embed\"], displayChart, err => showError(`Error loading script: ${err.message}`));\n",
       "    } else if (typeof vegaEmbed === \"function\") {\n",
       "      displayChart(vegaEmbed);\n",
       "    } else {\n",
       "      loadScript(\"vega\")\n",
       "        .then(() => loadScript(\"vega-lite\"))\n",
       "        .then(() => loadScript(\"vega-embed\"))\n",
       "        .catch(showError)\n",
       "        .then(() => displayChart(vegaEmbed));\n",
       "    }\n",
       "  })({\"config\": {\"view\": {\"continuousWidth\": 400, \"continuousHeight\": 300}}, \"data\": {\"name\": \"data-fdfbb22e8e0e89f6556d8a3b434b0c97\"}, \"mark\": \"point\", \"encoding\": {\"x\": {\"type\": \"quantitative\", \"field\": \"precip\"}, \"y\": {\"type\": \"nominal\", \"field\": \"city\"}}, \"$schema\": \"https://vega.github.io/schema/vega-lite/v4.8.1.json\", \"datasets\": {\"data-fdfbb22e8e0e89f6556d8a3b434b0c97\": [{\"city\": \"Seattle\", \"month\": \"Apr\", \"precip\": 2.68}, {\"city\": \"Seattle\", \"month\": \"Aug\", \"precip\": 0.87}, {\"city\": \"Seattle\", \"month\": \"Dec\", \"precip\": 5.31}, {\"city\": \"New York\", \"month\": \"Apr\", \"precip\": 3.94}, {\"city\": \"New York\", \"month\": \"Aug\", \"precip\": 4.13}, {\"city\": \"New York\", \"month\": \"Dec\", \"precip\": 3.58}, {\"city\": \"Chicago\", \"month\": \"Apr\", \"precip\": 3.62}, {\"city\": \"Chicago\", \"month\": \"Aug\", \"precip\": 3.98}, {\"city\": \"Chicago\", \"month\": \"Dec\", \"precip\": 2.56}]}}, {\"mode\": \"vega-lite\"});\n",
       "</script>"
      ],
      "text/plain": [
       "alt.Chart(...)"
      ]
     },
     "execution_count": 7,
     "metadata": {},
     "output_type": "execute_result"
    }
   ],
   "source": [
    "# Solution\n",
    "alt.Chart(weather_df).mark_point().encode(\n",
    "    alt.X('precip:Q'),\n",
    "    alt.Y('city:N')\n",
    ")"
   ]
  },
  {
   "cell_type": "markdown",
   "metadata": {},
   "source": [
    "- `:Q` tells Altair that `precip` contains **quantitative** (continuous real-valued) data"
   ]
  },
  {
   "cell_type": "markdown",
   "metadata": {},
   "source": [
    "- ❗️ You may find examples in the wild that use keyword arguments in the `encode` method, like this:\n",
    "\n",
    "    ```python\n",
    "    alt.Chart(weather_df).mark_point().encode(\n",
    "        x='precip:Q',  # This is a keyword argument: key=value\n",
    "        y='city:N'\n",
    "    )\n",
    "    ```\n",
    "    <br>\n",
    "\n",
    "    - This code is equivalent, but less flexible, once you add parameters to an encoding\n",
    "    - For this course, we'll stick with specifying encodings with their methods (e.g. `alt.X`, `alt.Y`)"
   ]
  },
  {
   "cell_type": "markdown",
   "metadata": {
    "tags": []
   },
   "source": [
    "❓ **Exercise 1.** \n",
    "Create a scatter plot that shows the relationship between the month and average monthly precipitation."
   ]
  },
  {
   "cell_type": "code",
   "execution_count": null,
   "metadata": {},
   "outputs": [],
   "source": []
  },
  {
   "cell_type": "code",
   "execution_count": 8,
   "metadata": {
    "tags": [
     "solution"
    ]
   },
   "outputs": [
    {
     "data": {
      "text/html": [
       "\n",
       "<div id=\"altair-viz-75448188020741e2be31e722cb598e7f\"></div>\n",
       "<script type=\"text/javascript\">\n",
       "  (function(spec, embedOpt){\n",
       "    let outputDiv = document.currentScript.previousElementSibling;\n",
       "    if (outputDiv.id !== \"altair-viz-75448188020741e2be31e722cb598e7f\") {\n",
       "      outputDiv = document.getElementById(\"altair-viz-75448188020741e2be31e722cb598e7f\");\n",
       "    }\n",
       "    const paths = {\n",
       "      \"vega\": \"https://cdn.jsdelivr.net/npm//vega@5?noext\",\n",
       "      \"vega-lib\": \"https://cdn.jsdelivr.net/npm//vega-lib?noext\",\n",
       "      \"vega-lite\": \"https://cdn.jsdelivr.net/npm//vega-lite@4.8.1?noext\",\n",
       "      \"vega-embed\": \"https://cdn.jsdelivr.net/npm//vega-embed@6?noext\",\n",
       "    };\n",
       "\n",
       "    function loadScript(lib) {\n",
       "      return new Promise(function(resolve, reject) {\n",
       "        var s = document.createElement('script');\n",
       "        s.src = paths[lib];\n",
       "        s.async = true;\n",
       "        s.onload = () => resolve(paths[lib]);\n",
       "        s.onerror = () => reject(`Error loading script: ${paths[lib]}`);\n",
       "        document.getElementsByTagName(\"head\")[0].appendChild(s);\n",
       "      });\n",
       "    }\n",
       "\n",
       "    function showError(err) {\n",
       "      outputDiv.innerHTML = `<div class=\"error\" style=\"color:red;\">${err}</div>`;\n",
       "      throw err;\n",
       "    }\n",
       "\n",
       "    function displayChart(vegaEmbed) {\n",
       "      vegaEmbed(outputDiv, spec, embedOpt)\n",
       "        .catch(err => showError(`Javascript Error: ${err.message}<br>This usually means there's a typo in your chart specification. See the javascript console for the full traceback.`));\n",
       "    }\n",
       "\n",
       "    if(typeof define === \"function\" && define.amd) {\n",
       "      requirejs.config({paths});\n",
       "      require([\"vega-embed\"], displayChart, err => showError(`Error loading script: ${err.message}`));\n",
       "    } else if (typeof vegaEmbed === \"function\") {\n",
       "      displayChart(vegaEmbed);\n",
       "    } else {\n",
       "      loadScript(\"vega\")\n",
       "        .then(() => loadScript(\"vega-lite\"))\n",
       "        .then(() => loadScript(\"vega-embed\"))\n",
       "        .catch(showError)\n",
       "        .then(() => displayChart(vegaEmbed));\n",
       "    }\n",
       "  })({\"config\": {\"view\": {\"continuousWidth\": 400, \"continuousHeight\": 300}}, \"data\": {\"name\": \"data-fdfbb22e8e0e89f6556d8a3b434b0c97\"}, \"mark\": \"point\", \"encoding\": {\"x\": {\"type\": \"quantitative\", \"field\": \"precip\"}, \"y\": {\"type\": \"nominal\", \"field\": \"month\"}}, \"$schema\": \"https://vega.github.io/schema/vega-lite/v4.8.1.json\", \"datasets\": {\"data-fdfbb22e8e0e89f6556d8a3b434b0c97\": [{\"city\": \"Seattle\", \"month\": \"Apr\", \"precip\": 2.68}, {\"city\": \"Seattle\", \"month\": \"Aug\", \"precip\": 0.87}, {\"city\": \"Seattle\", \"month\": \"Dec\", \"precip\": 5.31}, {\"city\": \"New York\", \"month\": \"Apr\", \"precip\": 3.94}, {\"city\": \"New York\", \"month\": \"Aug\", \"precip\": 4.13}, {\"city\": \"New York\", \"month\": \"Dec\", \"precip\": 3.58}, {\"city\": \"Chicago\", \"month\": \"Apr\", \"precip\": 3.62}, {\"city\": \"Chicago\", \"month\": \"Aug\", \"precip\": 3.98}, {\"city\": \"Chicago\", \"month\": \"Dec\", \"precip\": 2.56}]}}, {\"mode\": \"vega-lite\"});\n",
       "</script>"
      ],
      "text/plain": [
       "alt.Chart(...)"
      ]
     },
     "execution_count": 8,
     "metadata": {},
     "output_type": "execute_result"
    }
   ],
   "source": [
    "# Solution\n",
    "alt.Chart(weather_df).mark_point().encode(\n",
    "    alt.X('precip:Q'),\n",
    "    alt.Y('month:N')\n",
    ")"
   ]
  },
  {
   "cell_type": "markdown",
   "metadata": {},
   "source": [
    "<hr style=\"border-top: 2px solid gray; margin-top: 1px; margin-bottom: 1px\"></hr>"
   ]
  },
  {
   "cell_type": "markdown",
   "metadata": {},
   "source": [
    "## Going more in depth &mdash; another data set"
   ]
  },
  {
   "cell_type": "markdown",
   "metadata": {},
   "source": [
    "- For the remainder of this lesson, we'll use the global and health population data we looked at in Lesson 2, filtered to contain data only for the year 2000:"
   ]
  },
  {
   "cell_type": "code",
   "execution_count": 9,
   "metadata": {
    "colab": {
     "base_uri": "https://localhost:8080/",
     "height": 204
    },
    "colab_type": "code",
    "id": "SpB2dH0JKVJe",
    "outputId": "ec103505-4d8f-4310-a6e1-7eea3d789c28"
   },
   "outputs": [
    {
     "data": {
      "text/html": [
       "<div>\n",
       "<style scoped>\n",
       "    .dataframe tbody tr th:only-of-type {\n",
       "        vertical-align: middle;\n",
       "    }\n",
       "\n",
       "    .dataframe tbody tr th {\n",
       "        vertical-align: top;\n",
       "    }\n",
       "\n",
       "    .dataframe thead th {\n",
       "        text-align: right;\n",
       "    }\n",
       "</style>\n",
       "<table border=\"1\" class=\"dataframe\">\n",
       "  <thead>\n",
       "    <tr style=\"text-align: right;\">\n",
       "      <th></th>\n",
       "      <th>year</th>\n",
       "      <th>country</th>\n",
       "      <th>cluster</th>\n",
       "      <th>pop</th>\n",
       "      <th>life_expect</th>\n",
       "      <th>fertility</th>\n",
       "    </tr>\n",
       "  </thead>\n",
       "  <tbody>\n",
       "    <tr>\n",
       "      <th>0</th>\n",
       "      <td>2000</td>\n",
       "      <td>Afghanistan</td>\n",
       "      <td>South Asia</td>\n",
       "      <td>23898198</td>\n",
       "      <td>42.129</td>\n",
       "      <td>7.4792</td>\n",
       "    </tr>\n",
       "    <tr>\n",
       "      <th>1</th>\n",
       "      <td>2000</td>\n",
       "      <td>Argentina</td>\n",
       "      <td>Americas</td>\n",
       "      <td>37497728</td>\n",
       "      <td>74.340</td>\n",
       "      <td>2.3500</td>\n",
       "    </tr>\n",
       "    <tr>\n",
       "      <th>2</th>\n",
       "      <td>2000</td>\n",
       "      <td>Aruba</td>\n",
       "      <td>Americas</td>\n",
       "      <td>69539</td>\n",
       "      <td>73.451</td>\n",
       "      <td>2.1240</td>\n",
       "    </tr>\n",
       "    <tr>\n",
       "      <th>3</th>\n",
       "      <td>2000</td>\n",
       "      <td>Australia</td>\n",
       "      <td>East Asia &amp; Pacific</td>\n",
       "      <td>19164620</td>\n",
       "      <td>80.370</td>\n",
       "      <td>1.7560</td>\n",
       "    </tr>\n",
       "    <tr>\n",
       "      <th>4</th>\n",
       "      <td>2000</td>\n",
       "      <td>Austria</td>\n",
       "      <td>Europe &amp; Central Asia</td>\n",
       "      <td>8113413</td>\n",
       "      <td>78.980</td>\n",
       "      <td>1.3820</td>\n",
       "    </tr>\n",
       "  </tbody>\n",
       "</table>\n",
       "</div>"
      ],
      "text/plain": [
       "   year      country                cluster       pop  life_expect  fertility\n",
       "0  2000  Afghanistan             South Asia  23898198       42.129     7.4792\n",
       "1  2000    Argentina               Americas  37497728       74.340     2.3500\n",
       "2  2000        Aruba               Americas     69539       73.451     2.1240\n",
       "3  2000    Australia    East Asia & Pacific  19164620       80.370     1.7560\n",
       "4  2000      Austria  Europe & Central Asia   8113413       78.980     1.3820"
      ]
     },
     "execution_count": 9,
     "metadata": {},
     "output_type": "execute_result"
    }
   ],
   "source": [
    "df = pd.read_csv('data/gapminder_2000.csv')\n",
    "\n",
    "df.head()"
   ]
  },
  {
   "cell_type": "markdown",
   "metadata": {
    "colab_type": "text",
    "id": "ZpJ2OTZbY3Kf"
   },
   "source": [
    "- Recall: For each `country` and `year`, this data contains:\n",
    "    - region of the world (`cluster`)\n",
    "    - total population (`pop`)\n",
    "    - average life expectancy in years (`life_expect`)\n",
    "    - number of children per woman (`fertility`)"
   ]
  },
  {
   "cell_type": "markdown",
   "metadata": {},
   "source": [
    "<hr style=\"border-top: 2px solid gray; margin-top: 1px; margin-bottom: 1px\"></hr>"
   ]
  },
  {
   "cell_type": "markdown",
   "metadata": {
    "colab_type": "text",
    "id": "xyIb1bzLJgG-"
   },
   "source": [
    "## Data types"
   ]
  },
  {
   "cell_type": "markdown",
   "metadata": {
    "colab_type": "text",
    "id": "vyj1xBF2NTY6"
   },
   "source": [
    "- Data usually contains values of different types\n",
    "\n",
    "\n",
    "- These data types determine the kinds of comparisons we can make, and therefore dictate how they can be effectively visualized\n",
    "\n",
    "\n",
    "- Altair uses 4 basic data types:\n",
    "    1. Nominal (N)\n",
    "    2. Ordinal (O)\n",
    "    3. Temporal (T)\n",
    "    4. Quantitative (Q)\n",
    "  "
   ]
  },
  {
   "cell_type": "markdown",
   "metadata": {
    "colab_type": "text",
    "id": "vyj1xBF2NTY6"
   },
   "source": [
    "### Nominal (N)"
   ]
  },
  {
   "cell_type": "markdown",
   "metadata": {
    "colab_type": "text",
    "id": "vyj1xBF2NTY6"
   },
   "source": [
    "- **Nominal** data (also called **categorical** data) consist of category names \n",
    "\n",
    "\n",
    "- With nominal data, we can compare the equality of values: does $A = B$?\n",
    "\n",
    "\n",
    "- For example, in the dataset above, we can treat `country` as nominal\n",
    "\n",
    "\n",
    "- When visualizing nominal data, we should be able to see if values are the same or different\n",
    "    - This can be achieved using different positions, color hues (e.g. red vs. green vs. blue), or shapes\n",
    "    - Using different sizes to encode nominal data might be misleading, suggesting an ordering or magnitude differences among values that do not exist!"
   ]
  },
  {
   "cell_type": "markdown",
   "metadata": {
    "colab_type": "text",
    "id": "vyj1xBF2NTY6"
   },
   "source": [
    "### Ordinal (O)"
   ]
  },
  {
   "cell_type": "markdown",
   "metadata": {
    "colab_type": "text",
    "id": "vyj1xBF2NTY6"
   },
   "source": [
    "- **Ordinal** data consist of values that have a specific ordering\n",
    "\n",
    "\n",
    "- With ordinal data, we can compare the rank-ordering of values: is $A < B$?\n",
    "\n",
    "\n",
    "- For example, in the dataset above, we can treat `year` as ordinal\n",
    "\n",
    "\n",
    "- When visualizing ordinal data, we should be able to see a sense of rank-order\n",
    "    - Position, size, or color brightness might be appropriate\n",
    "    - Color hue (which is not perceptually ordered) would be less appropriate"
   ]
  },
  {
   "cell_type": "markdown",
   "metadata": {
    "colab_type": "text",
    "id": "vyj1xBF2NTY6"
   },
   "source": [
    "### Quantitative (Q)"
   ]
  },
  {
   "cell_type": "markdown",
   "metadata": {
    "colab_type": "text",
    "id": "vyj1xBF2NTY6"
   },
   "source": [
    "- **Quantitative data** consists of continuous, real-valued quantities\n",
    "\n",
    "\n",
    "- With quantitative data we can measure numerical differences among values, either absolute ($A - B$) or relative ($A / B$)\n",
    "\n",
    "\n",
    "- For example, in the dataset above, we can treat `fertility` as quantitative\n",
    "\n",
    "\n",
    "- Quantitative values can be visualized using position, size, or color, for example"
   ]
  },
  {
   "cell_type": "markdown",
   "metadata": {
    "colab_type": "text",
    "id": "vyj1xBF2NTY6"
   },
   "source": [
    "### Temporal (T)"
   ]
  },
  {
   "cell_type": "markdown",
   "metadata": {
    "colab_type": "text",
    "id": "vyj1xBF2NTY6"
   },
   "source": [
    "- **Temporal** data measure time points or intervals\n",
    "\n",
    "\n",
    "- This datatype is a special case of quantitative data with rich semantics and conventions (i.e., the [Gregorian calendar](https://en.wikipedia.org/wiki/Gregorian_calendar))\n",
    "\n",
    "\n",
    "- For example, temporal values include date strings such as `'2019-01-04'` and `'Jan 04 2019'`\n",
    "\n",
    "\n",
    "- In the dataset above, we can treat `year` as temporal\n",
    "    - However, but it may be easier to treat `year` as ordinal, since it is simply encoded as an integer\n",
    "\n",
    "\n",
    "- We'll learn more about using temporal values in Altair later"
   ]
  },
  {
   "cell_type": "markdown",
   "metadata": {},
   "source": [
    "### Values can have multiple data types"
   ]
  },
  {
   "cell_type": "markdown",
   "metadata": {
    "colab_type": "text",
    "id": "vyj1xBF2NTY6"
   },
   "source": [
    "- Note: these data types do _not_ provide a fixed categorization\n",
    "\n",
    "\n",
    "- For example: just because a data field is represented using a number doesn't mean we have to treat it as a quantitative type! \n",
    "\n",
    "\n",
    "- We might interpret a set of ages (10 years old, 20 years old, etc) as nominal (underage or overage), ordinal (grouped by year), or quantitative (calculate average age)."
   ]
  },
  {
   "cell_type": "markdown",
   "metadata": {
    "tags": []
   },
   "source": [
    "❓ **Exercise 2.** \n",
    "What are appropriate data types for `life_expect` in the dataset above?"
   ]
  },
  {
   "cell_type": "markdown",
   "metadata": {},
   "source": [
    "*Write your answer here. Double-click to edit.*"
   ]
  },
  {
   "cell_type": "markdown",
   "metadata": {
    "tags": [
     "solution"
    ]
   },
   "source": [
    "*Solution.* `life_expect` is best treated as a quantitative variable, since average life expectancy is continuous and real-valued."
   ]
  },
  {
   "cell_type": "markdown",
   "metadata": {},
   "source": [
    "<hr style=\"border-top: 2px solid gray; margin-top: 1px; margin-bottom: 1px\"></hr>"
   ]
  },
  {
   "cell_type": "markdown",
   "metadata": {
    "colab_type": "text",
    "id": "yaz3tS2RKf03"
   },
   "source": [
    "## Encoding channels"
   ]
  },
  {
   "cell_type": "markdown",
   "metadata": {
    "colab_type": "text",
    "id": "yaz3tS2RKf03"
   },
   "source": [
    "- Now let's examine how to visually encode these data types!\n",
    "\n",
    "\n",
    "- Altair supports a wide variety of visual encoding channels: [here's the documentation](https://altair-viz.github.io/user_guide/encoding.html)\n",
    "\n",
    "\n",
    "- In this lesson, we'll learn about some of the more commonly used encoding channels:\n",
    "    - `X`: Horizontal (x-axis) position of the mark\n",
    "    - `Y`: Vertical (y-axis) position of the mark\n",
    "    - `Size`: Size of the mark. May correspond to area or length, depending on the mark type\n",
    "    - `Color`: Mark color, specified as a [legal CSS color](https://developer.mozilla.org/en-US/docs/Web/CSS/color_value)\n",
    "    - `Shape`: Symbol shape for `point` marks"
   ]
  },
  {
   "cell_type": "markdown",
   "metadata": {
    "colab_type": "text",
    "id": "vujZA4b6OCRC"
   },
   "source": [
    "### X"
   ]
  },
  {
   "cell_type": "markdown",
   "metadata": {
    "colab_type": "text",
    "id": "vujZA4b6OCRC"
   },
   "source": [
    "- The `X` encoding channel sets a mark's horizontal position (x-coordinate)\n",
    "\n",
    "\n",
    "- Choices of axis and title are made automatically, depending on the data type \n",
    "\n",
    "\n",
    "- In the chart below, the choice of a quantitative data type results in a continuous linear axis scale:"
   ]
  },
  {
   "cell_type": "code",
   "execution_count": null,
   "metadata": {},
   "outputs": [],
   "source": []
  },
  {
   "cell_type": "code",
   "execution_count": 10,
   "metadata": {
    "colab": {
     "base_uri": "https://localhost:8080/",
     "height": 87
    },
    "colab_type": "code",
    "id": "nswya-ToLaRP",
    "outputId": "2a958755-7f70-4a86-ab6f-2cfb24ad7231",
    "tags": [
     "solution"
    ]
   },
   "outputs": [
    {
     "data": {
      "text/html": [
       "\n",
       "<div id=\"altair-viz-bf6faca5bee544abb044ddfe97145e61\"></div>\n",
       "<script type=\"text/javascript\">\n",
       "  (function(spec, embedOpt){\n",
       "    let outputDiv = document.currentScript.previousElementSibling;\n",
       "    if (outputDiv.id !== \"altair-viz-bf6faca5bee544abb044ddfe97145e61\") {\n",
       "      outputDiv = document.getElementById(\"altair-viz-bf6faca5bee544abb044ddfe97145e61\");\n",
       "    }\n",
       "    const paths = {\n",
       "      \"vega\": \"https://cdn.jsdelivr.net/npm//vega@5?noext\",\n",
       "      \"vega-lib\": \"https://cdn.jsdelivr.net/npm//vega-lib?noext\",\n",
       "      \"vega-lite\": \"https://cdn.jsdelivr.net/npm//vega-lite@4.8.1?noext\",\n",
       "      \"vega-embed\": \"https://cdn.jsdelivr.net/npm//vega-embed@6?noext\",\n",
       "    };\n",
       "\n",
       "    function loadScript(lib) {\n",
       "      return new Promise(function(resolve, reject) {\n",
       "        var s = document.createElement('script');\n",
       "        s.src = paths[lib];\n",
       "        s.async = true;\n",
       "        s.onload = () => resolve(paths[lib]);\n",
       "        s.onerror = () => reject(`Error loading script: ${paths[lib]}`);\n",
       "        document.getElementsByTagName(\"head\")[0].appendChild(s);\n",
       "      });\n",
       "    }\n",
       "\n",
       "    function showError(err) {\n",
       "      outputDiv.innerHTML = `<div class=\"error\" style=\"color:red;\">${err}</div>`;\n",
       "      throw err;\n",
       "    }\n",
       "\n",
       "    function displayChart(vegaEmbed) {\n",
       "      vegaEmbed(outputDiv, spec, embedOpt)\n",
       "        .catch(err => showError(`Javascript Error: ${err.message}<br>This usually means there's a typo in your chart specification. See the javascript console for the full traceback.`));\n",
       "    }\n",
       "\n",
       "    if(typeof define === \"function\" && define.amd) {\n",
       "      requirejs.config({paths});\n",
       "      require([\"vega-embed\"], displayChart, err => showError(`Error loading script: ${err.message}`));\n",
       "    } else if (typeof vegaEmbed === \"function\") {\n",
       "      displayChart(vegaEmbed);\n",
       "    } else {\n",
       "      loadScript(\"vega\")\n",
       "        .then(() => loadScript(\"vega-lite\"))\n",
       "        .then(() => loadScript(\"vega-embed\"))\n",
       "        .catch(showError)\n",
       "        .then(() => displayChart(vegaEmbed));\n",
       "    }\n",
       "  })({\"config\": {\"view\": {\"continuousWidth\": 400, \"continuousHeight\": 300}}, \"data\": {\"name\": \"data-40a6c7d464d1f0a318dab2ada85d74e7\"}, \"mark\": \"point\", \"encoding\": {\"x\": {\"type\": \"quantitative\", \"field\": \"fertility\"}}, \"$schema\": \"https://vega.github.io/schema/vega-lite/v4.8.1.json\", \"datasets\": {\"data-40a6c7d464d1f0a318dab2ada85d74e7\": [{\"year\": 2000, \"country\": \"Afghanistan\", \"cluster\": \"South Asia\", \"pop\": 23898198, \"life_expect\": 42.129, \"fertility\": 7.4792}, {\"year\": 2000, \"country\": \"Argentina\", \"cluster\": \"Americas\", \"pop\": 37497728, \"life_expect\": 74.34, \"fertility\": 2.35}, {\"year\": 2000, \"country\": \"Aruba\", \"cluster\": \"Americas\", \"pop\": 69539, \"life_expect\": 73.451, \"fertility\": 2.124}, {\"year\": 2000, \"country\": \"Australia\", \"cluster\": \"East Asia & Pacific\", \"pop\": 19164620, \"life_expect\": 80.37, \"fertility\": 1.756}, {\"year\": 2000, \"country\": \"Austria\", \"cluster\": \"Europe & Central Asia\", \"pop\": 8113413, \"life_expect\": 78.98, \"fertility\": 1.382}, {\"year\": 2000, \"country\": \"Bahamas\", \"cluster\": \"Americas\", \"pop\": 290075, \"life_expect\": 71.068, \"fertility\": 2.1111}, {\"year\": 2000, \"country\": \"Bangladesh\", \"cluster\": \"South Asia\", \"pop\": 130406594, \"life_expect\": 62.013, \"fertility\": 3.224}, {\"year\": 2000, \"country\": \"Barbados\", \"cluster\": \"Americas\", \"pop\": 273483, \"life_expect\": 75.97, \"fertility\": 1.5}, {\"year\": 2000, \"country\": \"Belgium\", \"cluster\": \"Europe & Central Asia\", \"pop\": 10263618, \"life_expect\": 78.32, \"fertility\": 1.638}, {\"year\": 2000, \"country\": \"Bolivia\", \"cluster\": \"Americas\", \"pop\": 8152620, \"life_expect\": 63.883, \"fertility\": 3.9585}, {\"year\": 2000, \"country\": \"Brazil\", \"cluster\": \"Americas\", \"pop\": 175552771, \"life_expect\": 71.006, \"fertility\": 2.345}, {\"year\": 2000, \"country\": \"Canada\", \"cluster\": \"Americas\", \"pop\": 31278097, \"life_expect\": 79.77, \"fertility\": 1.522}, {\"year\": 2000, \"country\": \"Chile\", \"cluster\": \"Americas\", \"pop\": 15153450, \"life_expect\": 77.86, \"fertility\": 2.0}, {\"year\": 2000, \"country\": \"China\", \"cluster\": \"East Asia & Pacific\", \"pop\": 1262645000, \"life_expect\": 72.028, \"fertility\": 1.7000000000000002}, {\"year\": 2000, \"country\": \"Colombia\", \"cluster\": \"Americas\", \"pop\": 39685655, \"life_expect\": 71.682, \"fertility\": 2.4705}, {\"year\": 2000, \"country\": \"Costa Rica\", \"cluster\": \"Americas\", \"pop\": 3710558, \"life_expect\": 78.123, \"fertility\": 2.2815}, {\"year\": 2000, \"country\": \"Croatia\", \"cluster\": \"Europe & Central Asia\", \"pop\": 4410830, \"life_expect\": 74.876, \"fertility\": 1.348}, {\"year\": 2000, \"country\": \"Cuba\", \"cluster\": \"Americas\", \"pop\": 11134273, \"life_expect\": 77.158, \"fertility\": 1.63}, {\"year\": 2000, \"country\": \"Dominican Republic\", \"cluster\": \"Americas\", \"pop\": 8385828, \"life_expect\": 70.847, \"fertility\": 2.95}, {\"year\": 2000, \"country\": \"Ecuador\", \"cluster\": \"Americas\", \"pop\": 12505204, \"life_expect\": 74.173, \"fertility\": 2.8175}, {\"year\": 2000, \"country\": \"Egypt\", \"cluster\": \"Middle East & North Africa\", \"pop\": 70492342, \"life_expect\": 69.806, \"fertility\": 3.174}, {\"year\": 2000, \"country\": \"El Salvador\", \"cluster\": \"Americas\", \"pop\": 6122515, \"life_expect\": 70.734, \"fertility\": 2.883}, {\"year\": 2000, \"country\": \"Finland\", \"cluster\": \"Europe & Central Asia\", \"pop\": 5168595, \"life_expect\": 78.37, \"fertility\": 1.754}, {\"year\": 2000, \"country\": \"France\", \"cluster\": \"Europe & Central Asia\", \"pop\": 59381628, \"life_expect\": 79.59, \"fertility\": 1.8833}, {\"year\": 2000, \"country\": \"Georgia\", \"cluster\": \"Europe & Central Asia\", \"pop\": 4777209, \"life_expect\": 70.476, \"fertility\": 1.478}, {\"year\": 2000, \"country\": \"Germany\", \"cluster\": \"Europe & Central Asia\", \"pop\": 82187909, \"life_expect\": 78.67, \"fertility\": 1.346}, {\"year\": 2000, \"country\": \"Greece\", \"cluster\": \"Europe & Central Asia\", \"pop\": 10559110, \"life_expect\": 78.256, \"fertility\": 1.277}, {\"year\": 2000, \"country\": \"Grenada\", \"cluster\": \"Americas\", \"pop\": 89312, \"life_expect\": 67.746, \"fertility\": 2.429}, {\"year\": 2000, \"country\": \"Haiti\", \"cluster\": \"Americas\", \"pop\": 7306302, \"life_expect\": 58.137, \"fertility\": 4.0}, {\"year\": 2000, \"country\": \"Hong Kong\", \"cluster\": \"East Asia & Pacific\", \"pop\": 6658720, \"life_expect\": 81.495, \"fertility\": 0.94}, {\"year\": 2000, \"country\": \"Iceland\", \"cluster\": \"Europe & Central Asia\", \"pop\": 281043, \"life_expect\": 80.5, \"fertility\": 1.993}, {\"year\": 2000, \"country\": \"India\", \"cluster\": \"South Asia\", \"pop\": 1007702000, \"life_expect\": 62.879, \"fertility\": 3.1132}, {\"year\": 2000, \"country\": \"Indonesia\", \"cluster\": \"East Asia & Pacific\", \"pop\": 206265000, \"life_expect\": 68.588, \"fertility\": 2.3761}, {\"year\": 2000, \"country\": \"Iran\", \"cluster\": \"Middle East & North Africa\", \"pop\": 65660289, \"life_expect\": 69.451, \"fertility\": 2.124}, {\"year\": 2000, \"country\": \"Iraq\", \"cluster\": \"Middle East & North Africa\", \"pop\": 22675617, \"life_expect\": 57.046, \"fertility\": 4.858}, {\"year\": 2000, \"country\": \"Ireland\", \"cluster\": \"Europe & Central Asia\", \"pop\": 3791690, \"life_expect\": 77.783, \"fertility\": 1.969}, {\"year\": 2000, \"country\": \"Israel\", \"cluster\": \"Middle East & North Africa\", \"pop\": 5842454, \"life_expect\": 79.696, \"fertility\": 2.906}, {\"year\": 2000, \"country\": \"Italy\", \"cluster\": \"Europe & Central Asia\", \"pop\": 57719337, \"life_expect\": 80.24, \"fertility\": 1.286}, {\"year\": 2000, \"country\": \"Jamaica\", \"cluster\": \"Americas\", \"pop\": 2615467, \"life_expect\": 72.047, \"fertility\": 2.628}, {\"year\": 2000, \"country\": \"Japan\", \"cluster\": \"East Asia & Pacific\", \"pop\": 126699784, \"life_expect\": 82.0, \"fertility\": 1.291}, {\"year\": 2000, \"country\": \"Kenya\", \"cluster\": \"Sub-Saharan Africa\", \"pop\": 29985839, \"life_expect\": 50.992, \"fertility\": 5.0}, {\"year\": 2000, \"country\": \"South Korea\", \"cluster\": \"East Asia & Pacific\", \"pop\": 21647682, \"life_expect\": 66.662, \"fertility\": 1.9173}, {\"year\": 2000, \"country\": \"North Korea\", \"cluster\": \"East Asia & Pacific\", \"pop\": 47351083, \"life_expect\": 77.045, \"fertility\": 1.242}, {\"year\": 2000, \"country\": \"Lebanon\", \"cluster\": \"Middle East & North Africa\", \"pop\": 3578036, \"life_expect\": 71.028, \"fertility\": 2.319}, {\"year\": 2000, \"country\": \"Mexico\", \"cluster\": \"Americas\", \"pop\": 99926620, \"life_expect\": 74.902, \"fertility\": 2.4005}, {\"year\": 2000, \"country\": \"Netherlands\", \"cluster\": \"Europe & Central Asia\", \"pop\": 15907853, \"life_expect\": 78.53, \"fertility\": 1.726}, {\"year\": 2000, \"country\": \"New Zealand\", \"cluster\": \"East Asia & Pacific\", \"pop\": 3819762, \"life_expect\": 79.11, \"fertility\": 1.964}, {\"year\": 2000, \"country\": \"Nigeria\", \"cluster\": \"Sub-Saharan Africa\", \"pop\": 114306700, \"life_expect\": 46.608, \"fertility\": 5.845}, {\"year\": 2000, \"country\": \"Norway\", \"cluster\": \"Europe & Central Asia\", \"pop\": 4492400, \"life_expect\": 79.05, \"fertility\": 1.8010000000000002}, {\"year\": 2000, \"country\": \"Pakistan\", \"cluster\": \"South Asia\", \"pop\": 146342958, \"life_expect\": 63.61, \"fertility\": 3.9936}, {\"year\": 2000, \"country\": \"Peru\", \"cluster\": \"Americas\", \"pop\": 25979722, \"life_expect\": 69.906, \"fertility\": 2.7005}, {\"year\": 2000, \"country\": \"Philippines\", \"cluster\": \"East Asia & Pacific\", \"pop\": 79739825, \"life_expect\": 70.303, \"fertility\": 3.5436}, {\"year\": 2000, \"country\": \"Poland\", \"cluster\": \"Europe & Central Asia\", \"pop\": 38654164, \"life_expect\": 74.67, \"fertility\": 1.251}, {\"year\": 2000, \"country\": \"Portugal\", \"cluster\": \"Europe & Central Asia\", \"pop\": 10335597, \"life_expect\": 77.29, \"fertility\": 1.454}, {\"year\": 2000, \"country\": \"Rwanda\", \"cluster\": \"Sub-Saharan Africa\", \"pop\": 7507056, \"life_expect\": 43.413, \"fertility\": 6.01}, {\"year\": 2000, \"country\": \"Saudi Arabia\", \"cluster\": \"Middle East & North Africa\", \"pop\": 23153090, \"life_expect\": 71.626, \"fertility\": 3.81}, {\"year\": 2000, \"country\": \"South Africa\", \"cluster\": \"Sub-Saharan Africa\", \"pop\": 44066197, \"life_expect\": 53.365, \"fertility\": 2.802}, {\"year\": 2000, \"country\": \"Spain\", \"cluster\": \"Europe & Central Asia\", \"pop\": 40016081, \"life_expect\": 79.78, \"fertility\": 1.287}, {\"year\": 2000, \"country\": \"Switzerland\", \"cluster\": \"Europe & Central Asia\", \"pop\": 7266920, \"life_expect\": 80.62, \"fertility\": 1.415}, {\"year\": 2000, \"country\": \"Turkey\", \"cluster\": \"Europe & Central Asia\", \"pop\": 65666677, \"life_expect\": 70.845, \"fertility\": 2.23}, {\"year\": 2000, \"country\": \"United Kingdom\", \"cluster\": \"Europe & Central Asia\", \"pop\": 59522468, \"life_expect\": 78.471, \"fertility\": 1.695}, {\"year\": 2000, \"country\": \"United States\", \"cluster\": \"Americas\", \"pop\": 282338631, \"life_expect\": 77.31, \"fertility\": 2.038}, {\"year\": 2000, \"country\": \"Venezuela\", \"cluster\": \"Americas\", \"pop\": 23542649, \"life_expect\": 72.766, \"fertility\": 2.723}]}}, {\"mode\": \"vega-lite\"});\n",
       "</script>"
      ],
      "text/plain": [
       "alt.Chart(...)"
      ]
     },
     "execution_count": 10,
     "metadata": {},
     "output_type": "execute_result"
    }
   ],
   "source": [
    "# Solution\n",
    "alt.Chart(df).mark_point().encode(\n",
    "    alt.X('fertility:Q')\n",
    ")"
   ]
  },
  {
   "cell_type": "markdown",
   "metadata": {
    "colab_type": "text",
    "id": "WwQuuyKUOElr"
   },
   "source": [
    "### Y\n",
    "\n",
    "- The `Y` encoding channel sets a mark's vertical position (y-coordinate)\n",
    "\n",
    "\n",
    "- If we add `cluster` on the y-axis as an ordinal (`O`) variable, the result is a horizontal band of points for each unique value:"
   ]
  },
  {
   "cell_type": "code",
   "execution_count": null,
   "metadata": {},
   "outputs": [],
   "source": []
  },
  {
   "cell_type": "code",
   "execution_count": 11,
   "metadata": {
    "colab": {
     "base_uri": "https://localhost:8080/",
     "height": 192
    },
    "colab_type": "code",
    "id": "eP38vNrdNrHF",
    "outputId": "9ff5b4a8-143c-4595-845f-026ed2e747a8",
    "tags": [
     "solution"
    ]
   },
   "outputs": [
    {
     "data": {
      "text/html": [
       "\n",
       "<div id=\"altair-viz-e24df11faa99481bb26303114ca5e250\"></div>\n",
       "<script type=\"text/javascript\">\n",
       "  (function(spec, embedOpt){\n",
       "    let outputDiv = document.currentScript.previousElementSibling;\n",
       "    if (outputDiv.id !== \"altair-viz-e24df11faa99481bb26303114ca5e250\") {\n",
       "      outputDiv = document.getElementById(\"altair-viz-e24df11faa99481bb26303114ca5e250\");\n",
       "    }\n",
       "    const paths = {\n",
       "      \"vega\": \"https://cdn.jsdelivr.net/npm//vega@5?noext\",\n",
       "      \"vega-lib\": \"https://cdn.jsdelivr.net/npm//vega-lib?noext\",\n",
       "      \"vega-lite\": \"https://cdn.jsdelivr.net/npm//vega-lite@4.8.1?noext\",\n",
       "      \"vega-embed\": \"https://cdn.jsdelivr.net/npm//vega-embed@6?noext\",\n",
       "    };\n",
       "\n",
       "    function loadScript(lib) {\n",
       "      return new Promise(function(resolve, reject) {\n",
       "        var s = document.createElement('script');\n",
       "        s.src = paths[lib];\n",
       "        s.async = true;\n",
       "        s.onload = () => resolve(paths[lib]);\n",
       "        s.onerror = () => reject(`Error loading script: ${paths[lib]}`);\n",
       "        document.getElementsByTagName(\"head\")[0].appendChild(s);\n",
       "      });\n",
       "    }\n",
       "\n",
       "    function showError(err) {\n",
       "      outputDiv.innerHTML = `<div class=\"error\" style=\"color:red;\">${err}</div>`;\n",
       "      throw err;\n",
       "    }\n",
       "\n",
       "    function displayChart(vegaEmbed) {\n",
       "      vegaEmbed(outputDiv, spec, embedOpt)\n",
       "        .catch(err => showError(`Javascript Error: ${err.message}<br>This usually means there's a typo in your chart specification. See the javascript console for the full traceback.`));\n",
       "    }\n",
       "\n",
       "    if(typeof define === \"function\" && define.amd) {\n",
       "      requirejs.config({paths});\n",
       "      require([\"vega-embed\"], displayChart, err => showError(`Error loading script: ${err.message}`));\n",
       "    } else if (typeof vegaEmbed === \"function\") {\n",
       "      displayChart(vegaEmbed);\n",
       "    } else {\n",
       "      loadScript(\"vega\")\n",
       "        .then(() => loadScript(\"vega-lite\"))\n",
       "        .then(() => loadScript(\"vega-embed\"))\n",
       "        .catch(showError)\n",
       "        .then(() => displayChart(vegaEmbed));\n",
       "    }\n",
       "  })({\"config\": {\"view\": {\"continuousWidth\": 400, \"continuousHeight\": 300}}, \"data\": {\"name\": \"data-40a6c7d464d1f0a318dab2ada85d74e7\"}, \"mark\": \"point\", \"encoding\": {\"x\": {\"type\": \"quantitative\", \"field\": \"fertility\"}, \"y\": {\"type\": \"ordinal\", \"field\": \"cluster\"}}, \"$schema\": \"https://vega.github.io/schema/vega-lite/v4.8.1.json\", \"datasets\": {\"data-40a6c7d464d1f0a318dab2ada85d74e7\": [{\"year\": 2000, \"country\": \"Afghanistan\", \"cluster\": \"South Asia\", \"pop\": 23898198, \"life_expect\": 42.129, \"fertility\": 7.4792}, {\"year\": 2000, \"country\": \"Argentina\", \"cluster\": \"Americas\", \"pop\": 37497728, \"life_expect\": 74.34, \"fertility\": 2.35}, {\"year\": 2000, \"country\": \"Aruba\", \"cluster\": \"Americas\", \"pop\": 69539, \"life_expect\": 73.451, \"fertility\": 2.124}, {\"year\": 2000, \"country\": \"Australia\", \"cluster\": \"East Asia & Pacific\", \"pop\": 19164620, \"life_expect\": 80.37, \"fertility\": 1.756}, {\"year\": 2000, \"country\": \"Austria\", \"cluster\": \"Europe & Central Asia\", \"pop\": 8113413, \"life_expect\": 78.98, \"fertility\": 1.382}, {\"year\": 2000, \"country\": \"Bahamas\", \"cluster\": \"Americas\", \"pop\": 290075, \"life_expect\": 71.068, \"fertility\": 2.1111}, {\"year\": 2000, \"country\": \"Bangladesh\", \"cluster\": \"South Asia\", \"pop\": 130406594, \"life_expect\": 62.013, \"fertility\": 3.224}, {\"year\": 2000, \"country\": \"Barbados\", \"cluster\": \"Americas\", \"pop\": 273483, \"life_expect\": 75.97, \"fertility\": 1.5}, {\"year\": 2000, \"country\": \"Belgium\", \"cluster\": \"Europe & Central Asia\", \"pop\": 10263618, \"life_expect\": 78.32, \"fertility\": 1.638}, {\"year\": 2000, \"country\": \"Bolivia\", \"cluster\": \"Americas\", \"pop\": 8152620, \"life_expect\": 63.883, \"fertility\": 3.9585}, {\"year\": 2000, \"country\": \"Brazil\", \"cluster\": \"Americas\", \"pop\": 175552771, \"life_expect\": 71.006, \"fertility\": 2.345}, {\"year\": 2000, \"country\": \"Canada\", \"cluster\": \"Americas\", \"pop\": 31278097, \"life_expect\": 79.77, \"fertility\": 1.522}, {\"year\": 2000, \"country\": \"Chile\", \"cluster\": \"Americas\", \"pop\": 15153450, \"life_expect\": 77.86, \"fertility\": 2.0}, {\"year\": 2000, \"country\": \"China\", \"cluster\": \"East Asia & Pacific\", \"pop\": 1262645000, \"life_expect\": 72.028, \"fertility\": 1.7000000000000002}, {\"year\": 2000, \"country\": \"Colombia\", \"cluster\": \"Americas\", \"pop\": 39685655, \"life_expect\": 71.682, \"fertility\": 2.4705}, {\"year\": 2000, \"country\": \"Costa Rica\", \"cluster\": \"Americas\", \"pop\": 3710558, \"life_expect\": 78.123, \"fertility\": 2.2815}, {\"year\": 2000, \"country\": \"Croatia\", \"cluster\": \"Europe & Central Asia\", \"pop\": 4410830, \"life_expect\": 74.876, \"fertility\": 1.348}, {\"year\": 2000, \"country\": \"Cuba\", \"cluster\": \"Americas\", \"pop\": 11134273, \"life_expect\": 77.158, \"fertility\": 1.63}, {\"year\": 2000, \"country\": \"Dominican Republic\", \"cluster\": \"Americas\", \"pop\": 8385828, \"life_expect\": 70.847, \"fertility\": 2.95}, {\"year\": 2000, \"country\": \"Ecuador\", \"cluster\": \"Americas\", \"pop\": 12505204, \"life_expect\": 74.173, \"fertility\": 2.8175}, {\"year\": 2000, \"country\": \"Egypt\", \"cluster\": \"Middle East & North Africa\", \"pop\": 70492342, \"life_expect\": 69.806, \"fertility\": 3.174}, {\"year\": 2000, \"country\": \"El Salvador\", \"cluster\": \"Americas\", \"pop\": 6122515, \"life_expect\": 70.734, \"fertility\": 2.883}, {\"year\": 2000, \"country\": \"Finland\", \"cluster\": \"Europe & Central Asia\", \"pop\": 5168595, \"life_expect\": 78.37, \"fertility\": 1.754}, {\"year\": 2000, \"country\": \"France\", \"cluster\": \"Europe & Central Asia\", \"pop\": 59381628, \"life_expect\": 79.59, \"fertility\": 1.8833}, {\"year\": 2000, \"country\": \"Georgia\", \"cluster\": \"Europe & Central Asia\", \"pop\": 4777209, \"life_expect\": 70.476, \"fertility\": 1.478}, {\"year\": 2000, \"country\": \"Germany\", \"cluster\": \"Europe & Central Asia\", \"pop\": 82187909, \"life_expect\": 78.67, \"fertility\": 1.346}, {\"year\": 2000, \"country\": \"Greece\", \"cluster\": \"Europe & Central Asia\", \"pop\": 10559110, \"life_expect\": 78.256, \"fertility\": 1.277}, {\"year\": 2000, \"country\": \"Grenada\", \"cluster\": \"Americas\", \"pop\": 89312, \"life_expect\": 67.746, \"fertility\": 2.429}, {\"year\": 2000, \"country\": \"Haiti\", \"cluster\": \"Americas\", \"pop\": 7306302, \"life_expect\": 58.137, \"fertility\": 4.0}, {\"year\": 2000, \"country\": \"Hong Kong\", \"cluster\": \"East Asia & Pacific\", \"pop\": 6658720, \"life_expect\": 81.495, \"fertility\": 0.94}, {\"year\": 2000, \"country\": \"Iceland\", \"cluster\": \"Europe & Central Asia\", \"pop\": 281043, \"life_expect\": 80.5, \"fertility\": 1.993}, {\"year\": 2000, \"country\": \"India\", \"cluster\": \"South Asia\", \"pop\": 1007702000, \"life_expect\": 62.879, \"fertility\": 3.1132}, {\"year\": 2000, \"country\": \"Indonesia\", \"cluster\": \"East Asia & Pacific\", \"pop\": 206265000, \"life_expect\": 68.588, \"fertility\": 2.3761}, {\"year\": 2000, \"country\": \"Iran\", \"cluster\": \"Middle East & North Africa\", \"pop\": 65660289, \"life_expect\": 69.451, \"fertility\": 2.124}, {\"year\": 2000, \"country\": \"Iraq\", \"cluster\": \"Middle East & North Africa\", \"pop\": 22675617, \"life_expect\": 57.046, \"fertility\": 4.858}, {\"year\": 2000, \"country\": \"Ireland\", \"cluster\": \"Europe & Central Asia\", \"pop\": 3791690, \"life_expect\": 77.783, \"fertility\": 1.969}, {\"year\": 2000, \"country\": \"Israel\", \"cluster\": \"Middle East & North Africa\", \"pop\": 5842454, \"life_expect\": 79.696, \"fertility\": 2.906}, {\"year\": 2000, \"country\": \"Italy\", \"cluster\": \"Europe & Central Asia\", \"pop\": 57719337, \"life_expect\": 80.24, \"fertility\": 1.286}, {\"year\": 2000, \"country\": \"Jamaica\", \"cluster\": \"Americas\", \"pop\": 2615467, \"life_expect\": 72.047, \"fertility\": 2.628}, {\"year\": 2000, \"country\": \"Japan\", \"cluster\": \"East Asia & Pacific\", \"pop\": 126699784, \"life_expect\": 82.0, \"fertility\": 1.291}, {\"year\": 2000, \"country\": \"Kenya\", \"cluster\": \"Sub-Saharan Africa\", \"pop\": 29985839, \"life_expect\": 50.992, \"fertility\": 5.0}, {\"year\": 2000, \"country\": \"South Korea\", \"cluster\": \"East Asia & Pacific\", \"pop\": 21647682, \"life_expect\": 66.662, \"fertility\": 1.9173}, {\"year\": 2000, \"country\": \"North Korea\", \"cluster\": \"East Asia & Pacific\", \"pop\": 47351083, \"life_expect\": 77.045, \"fertility\": 1.242}, {\"year\": 2000, \"country\": \"Lebanon\", \"cluster\": \"Middle East & North Africa\", \"pop\": 3578036, \"life_expect\": 71.028, \"fertility\": 2.319}, {\"year\": 2000, \"country\": \"Mexico\", \"cluster\": \"Americas\", \"pop\": 99926620, \"life_expect\": 74.902, \"fertility\": 2.4005}, {\"year\": 2000, \"country\": \"Netherlands\", \"cluster\": \"Europe & Central Asia\", \"pop\": 15907853, \"life_expect\": 78.53, \"fertility\": 1.726}, {\"year\": 2000, \"country\": \"New Zealand\", \"cluster\": \"East Asia & Pacific\", \"pop\": 3819762, \"life_expect\": 79.11, \"fertility\": 1.964}, {\"year\": 2000, \"country\": \"Nigeria\", \"cluster\": \"Sub-Saharan Africa\", \"pop\": 114306700, \"life_expect\": 46.608, \"fertility\": 5.845}, {\"year\": 2000, \"country\": \"Norway\", \"cluster\": \"Europe & Central Asia\", \"pop\": 4492400, \"life_expect\": 79.05, \"fertility\": 1.8010000000000002}, {\"year\": 2000, \"country\": \"Pakistan\", \"cluster\": \"South Asia\", \"pop\": 146342958, \"life_expect\": 63.61, \"fertility\": 3.9936}, {\"year\": 2000, \"country\": \"Peru\", \"cluster\": \"Americas\", \"pop\": 25979722, \"life_expect\": 69.906, \"fertility\": 2.7005}, {\"year\": 2000, \"country\": \"Philippines\", \"cluster\": \"East Asia & Pacific\", \"pop\": 79739825, \"life_expect\": 70.303, \"fertility\": 3.5436}, {\"year\": 2000, \"country\": \"Poland\", \"cluster\": \"Europe & Central Asia\", \"pop\": 38654164, \"life_expect\": 74.67, \"fertility\": 1.251}, {\"year\": 2000, \"country\": \"Portugal\", \"cluster\": \"Europe & Central Asia\", \"pop\": 10335597, \"life_expect\": 77.29, \"fertility\": 1.454}, {\"year\": 2000, \"country\": \"Rwanda\", \"cluster\": \"Sub-Saharan Africa\", \"pop\": 7507056, \"life_expect\": 43.413, \"fertility\": 6.01}, {\"year\": 2000, \"country\": \"Saudi Arabia\", \"cluster\": \"Middle East & North Africa\", \"pop\": 23153090, \"life_expect\": 71.626, \"fertility\": 3.81}, {\"year\": 2000, \"country\": \"South Africa\", \"cluster\": \"Sub-Saharan Africa\", \"pop\": 44066197, \"life_expect\": 53.365, \"fertility\": 2.802}, {\"year\": 2000, \"country\": \"Spain\", \"cluster\": \"Europe & Central Asia\", \"pop\": 40016081, \"life_expect\": 79.78, \"fertility\": 1.287}, {\"year\": 2000, \"country\": \"Switzerland\", \"cluster\": \"Europe & Central Asia\", \"pop\": 7266920, \"life_expect\": 80.62, \"fertility\": 1.415}, {\"year\": 2000, \"country\": \"Turkey\", \"cluster\": \"Europe & Central Asia\", \"pop\": 65666677, \"life_expect\": 70.845, \"fertility\": 2.23}, {\"year\": 2000, \"country\": \"United Kingdom\", \"cluster\": \"Europe & Central Asia\", \"pop\": 59522468, \"life_expect\": 78.471, \"fertility\": 1.695}, {\"year\": 2000, \"country\": \"United States\", \"cluster\": \"Americas\", \"pop\": 282338631, \"life_expect\": 77.31, \"fertility\": 2.038}, {\"year\": 2000, \"country\": \"Venezuela\", \"cluster\": \"Americas\", \"pop\": 23542649, \"life_expect\": 72.766, \"fertility\": 2.723}]}}, {\"mode\": \"vega-lite\"});\n",
       "</script>"
      ],
      "text/plain": [
       "alt.Chart(...)"
      ]
     },
     "execution_count": 11,
     "metadata": {},
     "output_type": "execute_result"
    }
   ],
   "source": [
    "# Solution\n",
    "alt.Chart(df).mark_point().encode(\n",
    "    alt.X('fertility:Q'),\n",
    "    alt.Y('cluster:O')\n",
    ")"
   ]
  },
  {
   "cell_type": "markdown",
   "metadata": {
    "colab_type": "text",
    "id": "2BQetZgvc0f_",
    "tags": []
   },
   "source": [
    "❓ **Exercise 3.**\n",
    "What happens to the chart above if you treat `fertility` as an ordinal (`O`) variable?"
   ]
  },
  {
   "cell_type": "markdown",
   "metadata": {},
   "source": [
    "*Write your answer here. Double-click to edit.*"
   ]
  },
  {
   "cell_type": "markdown",
   "metadata": {
    "tags": [
     "solution"
    ]
   },
   "source": [
    "*Solution.* If we perform this swap, `fertility` is treated as an ordinal variable, which results in a tick on the horizontal axis for every value of `fertility` in the data."
   ]
  },
  {
   "cell_type": "markdown",
   "metadata": {
    "colab_type": "text",
    "id": "2BQetZgvc0f_"
   },
   "source": [
    "- If we instead add `life_expect` on the y-axis as a quantitative (`Q`) variable, the result is a scatter plot with linear scales for both axes:"
   ]
  },
  {
   "cell_type": "code",
   "execution_count": null,
   "metadata": {},
   "outputs": [],
   "source": []
  },
  {
   "cell_type": "code",
   "execution_count": 12,
   "metadata": {
    "colab": {
     "base_uri": "https://localhost:8080/",
     "height": 372
    },
    "colab_type": "code",
    "id": "n8PJhH6jN68w",
    "outputId": "ac41eaeb-4872-48db-ddf1-ab6b5c84f387",
    "tags": [
     "solution"
    ]
   },
   "outputs": [
    {
     "data": {
      "text/html": [
       "\n",
       "<div id=\"altair-viz-9edb1cc91f9f4ac2867256ca45e88317\"></div>\n",
       "<script type=\"text/javascript\">\n",
       "  (function(spec, embedOpt){\n",
       "    let outputDiv = document.currentScript.previousElementSibling;\n",
       "    if (outputDiv.id !== \"altair-viz-9edb1cc91f9f4ac2867256ca45e88317\") {\n",
       "      outputDiv = document.getElementById(\"altair-viz-9edb1cc91f9f4ac2867256ca45e88317\");\n",
       "    }\n",
       "    const paths = {\n",
       "      \"vega\": \"https://cdn.jsdelivr.net/npm//vega@5?noext\",\n",
       "      \"vega-lib\": \"https://cdn.jsdelivr.net/npm//vega-lib?noext\",\n",
       "      \"vega-lite\": \"https://cdn.jsdelivr.net/npm//vega-lite@4.8.1?noext\",\n",
       "      \"vega-embed\": \"https://cdn.jsdelivr.net/npm//vega-embed@6?noext\",\n",
       "    };\n",
       "\n",
       "    function loadScript(lib) {\n",
       "      return new Promise(function(resolve, reject) {\n",
       "        var s = document.createElement('script');\n",
       "        s.src = paths[lib];\n",
       "        s.async = true;\n",
       "        s.onload = () => resolve(paths[lib]);\n",
       "        s.onerror = () => reject(`Error loading script: ${paths[lib]}`);\n",
       "        document.getElementsByTagName(\"head\")[0].appendChild(s);\n",
       "      });\n",
       "    }\n",
       "\n",
       "    function showError(err) {\n",
       "      outputDiv.innerHTML = `<div class=\"error\" style=\"color:red;\">${err}</div>`;\n",
       "      throw err;\n",
       "    }\n",
       "\n",
       "    function displayChart(vegaEmbed) {\n",
       "      vegaEmbed(outputDiv, spec, embedOpt)\n",
       "        .catch(err => showError(`Javascript Error: ${err.message}<br>This usually means there's a typo in your chart specification. See the javascript console for the full traceback.`));\n",
       "    }\n",
       "\n",
       "    if(typeof define === \"function\" && define.amd) {\n",
       "      requirejs.config({paths});\n",
       "      require([\"vega-embed\"], displayChart, err => showError(`Error loading script: ${err.message}`));\n",
       "    } else if (typeof vegaEmbed === \"function\") {\n",
       "      displayChart(vegaEmbed);\n",
       "    } else {\n",
       "      loadScript(\"vega\")\n",
       "        .then(() => loadScript(\"vega-lite\"))\n",
       "        .then(() => loadScript(\"vega-embed\"))\n",
       "        .catch(showError)\n",
       "        .then(() => displayChart(vegaEmbed));\n",
       "    }\n",
       "  })({\"config\": {\"view\": {\"continuousWidth\": 400, \"continuousHeight\": 300}}, \"data\": {\"name\": \"data-40a6c7d464d1f0a318dab2ada85d74e7\"}, \"mark\": \"point\", \"encoding\": {\"x\": {\"type\": \"quantitative\", \"field\": \"fertility\"}, \"y\": {\"type\": \"quantitative\", \"field\": \"life_expect\"}}, \"$schema\": \"https://vega.github.io/schema/vega-lite/v4.8.1.json\", \"datasets\": {\"data-40a6c7d464d1f0a318dab2ada85d74e7\": [{\"year\": 2000, \"country\": \"Afghanistan\", \"cluster\": \"South Asia\", \"pop\": 23898198, \"life_expect\": 42.129, \"fertility\": 7.4792}, {\"year\": 2000, \"country\": \"Argentina\", \"cluster\": \"Americas\", \"pop\": 37497728, \"life_expect\": 74.34, \"fertility\": 2.35}, {\"year\": 2000, \"country\": \"Aruba\", \"cluster\": \"Americas\", \"pop\": 69539, \"life_expect\": 73.451, \"fertility\": 2.124}, {\"year\": 2000, \"country\": \"Australia\", \"cluster\": \"East Asia & Pacific\", \"pop\": 19164620, \"life_expect\": 80.37, \"fertility\": 1.756}, {\"year\": 2000, \"country\": \"Austria\", \"cluster\": \"Europe & Central Asia\", \"pop\": 8113413, \"life_expect\": 78.98, \"fertility\": 1.382}, {\"year\": 2000, \"country\": \"Bahamas\", \"cluster\": \"Americas\", \"pop\": 290075, \"life_expect\": 71.068, \"fertility\": 2.1111}, {\"year\": 2000, \"country\": \"Bangladesh\", \"cluster\": \"South Asia\", \"pop\": 130406594, \"life_expect\": 62.013, \"fertility\": 3.224}, {\"year\": 2000, \"country\": \"Barbados\", \"cluster\": \"Americas\", \"pop\": 273483, \"life_expect\": 75.97, \"fertility\": 1.5}, {\"year\": 2000, \"country\": \"Belgium\", \"cluster\": \"Europe & Central Asia\", \"pop\": 10263618, \"life_expect\": 78.32, \"fertility\": 1.638}, {\"year\": 2000, \"country\": \"Bolivia\", \"cluster\": \"Americas\", \"pop\": 8152620, \"life_expect\": 63.883, \"fertility\": 3.9585}, {\"year\": 2000, \"country\": \"Brazil\", \"cluster\": \"Americas\", \"pop\": 175552771, \"life_expect\": 71.006, \"fertility\": 2.345}, {\"year\": 2000, \"country\": \"Canada\", \"cluster\": \"Americas\", \"pop\": 31278097, \"life_expect\": 79.77, \"fertility\": 1.522}, {\"year\": 2000, \"country\": \"Chile\", \"cluster\": \"Americas\", \"pop\": 15153450, \"life_expect\": 77.86, \"fertility\": 2.0}, {\"year\": 2000, \"country\": \"China\", \"cluster\": \"East Asia & Pacific\", \"pop\": 1262645000, \"life_expect\": 72.028, \"fertility\": 1.7000000000000002}, {\"year\": 2000, \"country\": \"Colombia\", \"cluster\": \"Americas\", \"pop\": 39685655, \"life_expect\": 71.682, \"fertility\": 2.4705}, {\"year\": 2000, \"country\": \"Costa Rica\", \"cluster\": \"Americas\", \"pop\": 3710558, \"life_expect\": 78.123, \"fertility\": 2.2815}, {\"year\": 2000, \"country\": \"Croatia\", \"cluster\": \"Europe & Central Asia\", \"pop\": 4410830, \"life_expect\": 74.876, \"fertility\": 1.348}, {\"year\": 2000, \"country\": \"Cuba\", \"cluster\": \"Americas\", \"pop\": 11134273, \"life_expect\": 77.158, \"fertility\": 1.63}, {\"year\": 2000, \"country\": \"Dominican Republic\", \"cluster\": \"Americas\", \"pop\": 8385828, \"life_expect\": 70.847, \"fertility\": 2.95}, {\"year\": 2000, \"country\": \"Ecuador\", \"cluster\": \"Americas\", \"pop\": 12505204, \"life_expect\": 74.173, \"fertility\": 2.8175}, {\"year\": 2000, \"country\": \"Egypt\", \"cluster\": \"Middle East & North Africa\", \"pop\": 70492342, \"life_expect\": 69.806, \"fertility\": 3.174}, {\"year\": 2000, \"country\": \"El Salvador\", \"cluster\": \"Americas\", \"pop\": 6122515, \"life_expect\": 70.734, \"fertility\": 2.883}, {\"year\": 2000, \"country\": \"Finland\", \"cluster\": \"Europe & Central Asia\", \"pop\": 5168595, \"life_expect\": 78.37, \"fertility\": 1.754}, {\"year\": 2000, \"country\": \"France\", \"cluster\": \"Europe & Central Asia\", \"pop\": 59381628, \"life_expect\": 79.59, \"fertility\": 1.8833}, {\"year\": 2000, \"country\": \"Georgia\", \"cluster\": \"Europe & Central Asia\", \"pop\": 4777209, \"life_expect\": 70.476, \"fertility\": 1.478}, {\"year\": 2000, \"country\": \"Germany\", \"cluster\": \"Europe & Central Asia\", \"pop\": 82187909, \"life_expect\": 78.67, \"fertility\": 1.346}, {\"year\": 2000, \"country\": \"Greece\", \"cluster\": \"Europe & Central Asia\", \"pop\": 10559110, \"life_expect\": 78.256, \"fertility\": 1.277}, {\"year\": 2000, \"country\": \"Grenada\", \"cluster\": \"Americas\", \"pop\": 89312, \"life_expect\": 67.746, \"fertility\": 2.429}, {\"year\": 2000, \"country\": \"Haiti\", \"cluster\": \"Americas\", \"pop\": 7306302, \"life_expect\": 58.137, \"fertility\": 4.0}, {\"year\": 2000, \"country\": \"Hong Kong\", \"cluster\": \"East Asia & Pacific\", \"pop\": 6658720, \"life_expect\": 81.495, \"fertility\": 0.94}, {\"year\": 2000, \"country\": \"Iceland\", \"cluster\": \"Europe & Central Asia\", \"pop\": 281043, \"life_expect\": 80.5, \"fertility\": 1.993}, {\"year\": 2000, \"country\": \"India\", \"cluster\": \"South Asia\", \"pop\": 1007702000, \"life_expect\": 62.879, \"fertility\": 3.1132}, {\"year\": 2000, \"country\": \"Indonesia\", \"cluster\": \"East Asia & Pacific\", \"pop\": 206265000, \"life_expect\": 68.588, \"fertility\": 2.3761}, {\"year\": 2000, \"country\": \"Iran\", \"cluster\": \"Middle East & North Africa\", \"pop\": 65660289, \"life_expect\": 69.451, \"fertility\": 2.124}, {\"year\": 2000, \"country\": \"Iraq\", \"cluster\": \"Middle East & North Africa\", \"pop\": 22675617, \"life_expect\": 57.046, \"fertility\": 4.858}, {\"year\": 2000, \"country\": \"Ireland\", \"cluster\": \"Europe & Central Asia\", \"pop\": 3791690, \"life_expect\": 77.783, \"fertility\": 1.969}, {\"year\": 2000, \"country\": \"Israel\", \"cluster\": \"Middle East & North Africa\", \"pop\": 5842454, \"life_expect\": 79.696, \"fertility\": 2.906}, {\"year\": 2000, \"country\": \"Italy\", \"cluster\": \"Europe & Central Asia\", \"pop\": 57719337, \"life_expect\": 80.24, \"fertility\": 1.286}, {\"year\": 2000, \"country\": \"Jamaica\", \"cluster\": \"Americas\", \"pop\": 2615467, \"life_expect\": 72.047, \"fertility\": 2.628}, {\"year\": 2000, \"country\": \"Japan\", \"cluster\": \"East Asia & Pacific\", \"pop\": 126699784, \"life_expect\": 82.0, \"fertility\": 1.291}, {\"year\": 2000, \"country\": \"Kenya\", \"cluster\": \"Sub-Saharan Africa\", \"pop\": 29985839, \"life_expect\": 50.992, \"fertility\": 5.0}, {\"year\": 2000, \"country\": \"South Korea\", \"cluster\": \"East Asia & Pacific\", \"pop\": 21647682, \"life_expect\": 66.662, \"fertility\": 1.9173}, {\"year\": 2000, \"country\": \"North Korea\", \"cluster\": \"East Asia & Pacific\", \"pop\": 47351083, \"life_expect\": 77.045, \"fertility\": 1.242}, {\"year\": 2000, \"country\": \"Lebanon\", \"cluster\": \"Middle East & North Africa\", \"pop\": 3578036, \"life_expect\": 71.028, \"fertility\": 2.319}, {\"year\": 2000, \"country\": \"Mexico\", \"cluster\": \"Americas\", \"pop\": 99926620, \"life_expect\": 74.902, \"fertility\": 2.4005}, {\"year\": 2000, \"country\": \"Netherlands\", \"cluster\": \"Europe & Central Asia\", \"pop\": 15907853, \"life_expect\": 78.53, \"fertility\": 1.726}, {\"year\": 2000, \"country\": \"New Zealand\", \"cluster\": \"East Asia & Pacific\", \"pop\": 3819762, \"life_expect\": 79.11, \"fertility\": 1.964}, {\"year\": 2000, \"country\": \"Nigeria\", \"cluster\": \"Sub-Saharan Africa\", \"pop\": 114306700, \"life_expect\": 46.608, \"fertility\": 5.845}, {\"year\": 2000, \"country\": \"Norway\", \"cluster\": \"Europe & Central Asia\", \"pop\": 4492400, \"life_expect\": 79.05, \"fertility\": 1.8010000000000002}, {\"year\": 2000, \"country\": \"Pakistan\", \"cluster\": \"South Asia\", \"pop\": 146342958, \"life_expect\": 63.61, \"fertility\": 3.9936}, {\"year\": 2000, \"country\": \"Peru\", \"cluster\": \"Americas\", \"pop\": 25979722, \"life_expect\": 69.906, \"fertility\": 2.7005}, {\"year\": 2000, \"country\": \"Philippines\", \"cluster\": \"East Asia & Pacific\", \"pop\": 79739825, \"life_expect\": 70.303, \"fertility\": 3.5436}, {\"year\": 2000, \"country\": \"Poland\", \"cluster\": \"Europe & Central Asia\", \"pop\": 38654164, \"life_expect\": 74.67, \"fertility\": 1.251}, {\"year\": 2000, \"country\": \"Portugal\", \"cluster\": \"Europe & Central Asia\", \"pop\": 10335597, \"life_expect\": 77.29, \"fertility\": 1.454}, {\"year\": 2000, \"country\": \"Rwanda\", \"cluster\": \"Sub-Saharan Africa\", \"pop\": 7507056, \"life_expect\": 43.413, \"fertility\": 6.01}, {\"year\": 2000, \"country\": \"Saudi Arabia\", \"cluster\": \"Middle East & North Africa\", \"pop\": 23153090, \"life_expect\": 71.626, \"fertility\": 3.81}, {\"year\": 2000, \"country\": \"South Africa\", \"cluster\": \"Sub-Saharan Africa\", \"pop\": 44066197, \"life_expect\": 53.365, \"fertility\": 2.802}, {\"year\": 2000, \"country\": \"Spain\", \"cluster\": \"Europe & Central Asia\", \"pop\": 40016081, \"life_expect\": 79.78, \"fertility\": 1.287}, {\"year\": 2000, \"country\": \"Switzerland\", \"cluster\": \"Europe & Central Asia\", \"pop\": 7266920, \"life_expect\": 80.62, \"fertility\": 1.415}, {\"year\": 2000, \"country\": \"Turkey\", \"cluster\": \"Europe & Central Asia\", \"pop\": 65666677, \"life_expect\": 70.845, \"fertility\": 2.23}, {\"year\": 2000, \"country\": \"United Kingdom\", \"cluster\": \"Europe & Central Asia\", \"pop\": 59522468, \"life_expect\": 78.471, \"fertility\": 1.695}, {\"year\": 2000, \"country\": \"United States\", \"cluster\": \"Americas\", \"pop\": 282338631, \"life_expect\": 77.31, \"fertility\": 2.038}, {\"year\": 2000, \"country\": \"Venezuela\", \"cluster\": \"Americas\", \"pop\": 23542649, \"life_expect\": 72.766, \"fertility\": 2.723}]}}, {\"mode\": \"vega-lite\"});\n",
       "</script>"
      ],
      "text/plain": [
       "alt.Chart(...)"
      ]
     },
     "execution_count": 12,
     "metadata": {},
     "output_type": "execute_result"
    }
   ],
   "source": [
    "# Solution\n",
    "alt.Chart(df).mark_point().encode(\n",
    "    alt.X('fertility:Q'),\n",
    "    alt.Y('life_expect:Q')\n",
    ")"
   ]
  },
  {
   "cell_type": "markdown",
   "metadata": {
    "colab_type": "text",
    "id": "hKCsQ0iIPMTV"
   },
   "source": [
    "### Size"
   ]
  },
  {
   "cell_type": "markdown",
   "metadata": {
    "colab_type": "text",
    "id": "G7YtT-HNdYT9"
   },
   "source": [
    "- The `Size` encoding channel sets a mark's size\n",
    "\n",
    "\n",
    "- The meaning of \"size\" can vary based on the mark type\n",
    "\n",
    "\n",
    "- For point marks, the `Size` channel roughly maps to the area of the point\n",
    "\n",
    "\n",
    "- Let's augment our scatter plot by encoding population (`pop`) on the `Size` channel:"
   ]
  },
  {
   "cell_type": "code",
   "execution_count": null,
   "metadata": {},
   "outputs": [],
   "source": []
  },
  {
   "cell_type": "code",
   "execution_count": 13,
   "metadata": {
    "colab": {
     "base_uri": "https://localhost:8080/",
     "height": 372
    },
    "colab_type": "code",
    "id": "sGENuXRfOIPz",
    "outputId": "4f76557c-4e35-41fc-9e06-513be34969ae",
    "tags": [
     "solution"
    ]
   },
   "outputs": [
    {
     "data": {
      "text/html": [
       "\n",
       "<div id=\"altair-viz-c9823db3b5e44a3a8fbb0fab2755d17a\"></div>\n",
       "<script type=\"text/javascript\">\n",
       "  (function(spec, embedOpt){\n",
       "    let outputDiv = document.currentScript.previousElementSibling;\n",
       "    if (outputDiv.id !== \"altair-viz-c9823db3b5e44a3a8fbb0fab2755d17a\") {\n",
       "      outputDiv = document.getElementById(\"altair-viz-c9823db3b5e44a3a8fbb0fab2755d17a\");\n",
       "    }\n",
       "    const paths = {\n",
       "      \"vega\": \"https://cdn.jsdelivr.net/npm//vega@5?noext\",\n",
       "      \"vega-lib\": \"https://cdn.jsdelivr.net/npm//vega-lib?noext\",\n",
       "      \"vega-lite\": \"https://cdn.jsdelivr.net/npm//vega-lite@4.8.1?noext\",\n",
       "      \"vega-embed\": \"https://cdn.jsdelivr.net/npm//vega-embed@6?noext\",\n",
       "    };\n",
       "\n",
       "    function loadScript(lib) {\n",
       "      return new Promise(function(resolve, reject) {\n",
       "        var s = document.createElement('script');\n",
       "        s.src = paths[lib];\n",
       "        s.async = true;\n",
       "        s.onload = () => resolve(paths[lib]);\n",
       "        s.onerror = () => reject(`Error loading script: ${paths[lib]}`);\n",
       "        document.getElementsByTagName(\"head\")[0].appendChild(s);\n",
       "      });\n",
       "    }\n",
       "\n",
       "    function showError(err) {\n",
       "      outputDiv.innerHTML = `<div class=\"error\" style=\"color:red;\">${err}</div>`;\n",
       "      throw err;\n",
       "    }\n",
       "\n",
       "    function displayChart(vegaEmbed) {\n",
       "      vegaEmbed(outputDiv, spec, embedOpt)\n",
       "        .catch(err => showError(`Javascript Error: ${err.message}<br>This usually means there's a typo in your chart specification. See the javascript console for the full traceback.`));\n",
       "    }\n",
       "\n",
       "    if(typeof define === \"function\" && define.amd) {\n",
       "      requirejs.config({paths});\n",
       "      require([\"vega-embed\"], displayChart, err => showError(`Error loading script: ${err.message}`));\n",
       "    } else if (typeof vegaEmbed === \"function\") {\n",
       "      displayChart(vegaEmbed);\n",
       "    } else {\n",
       "      loadScript(\"vega\")\n",
       "        .then(() => loadScript(\"vega-lite\"))\n",
       "        .then(() => loadScript(\"vega-embed\"))\n",
       "        .catch(showError)\n",
       "        .then(() => displayChart(vegaEmbed));\n",
       "    }\n",
       "  })({\"config\": {\"view\": {\"continuousWidth\": 400, \"continuousHeight\": 300}}, \"data\": {\"name\": \"data-40a6c7d464d1f0a318dab2ada85d74e7\"}, \"mark\": \"point\", \"encoding\": {\"size\": {\"type\": \"quantitative\", \"field\": \"pop\"}, \"x\": {\"type\": \"quantitative\", \"field\": \"fertility\"}, \"y\": {\"type\": \"quantitative\", \"field\": \"life_expect\"}}, \"$schema\": \"https://vega.github.io/schema/vega-lite/v4.8.1.json\", \"datasets\": {\"data-40a6c7d464d1f0a318dab2ada85d74e7\": [{\"year\": 2000, \"country\": \"Afghanistan\", \"cluster\": \"South Asia\", \"pop\": 23898198, \"life_expect\": 42.129, \"fertility\": 7.4792}, {\"year\": 2000, \"country\": \"Argentina\", \"cluster\": \"Americas\", \"pop\": 37497728, \"life_expect\": 74.34, \"fertility\": 2.35}, {\"year\": 2000, \"country\": \"Aruba\", \"cluster\": \"Americas\", \"pop\": 69539, \"life_expect\": 73.451, \"fertility\": 2.124}, {\"year\": 2000, \"country\": \"Australia\", \"cluster\": \"East Asia & Pacific\", \"pop\": 19164620, \"life_expect\": 80.37, \"fertility\": 1.756}, {\"year\": 2000, \"country\": \"Austria\", \"cluster\": \"Europe & Central Asia\", \"pop\": 8113413, \"life_expect\": 78.98, \"fertility\": 1.382}, {\"year\": 2000, \"country\": \"Bahamas\", \"cluster\": \"Americas\", \"pop\": 290075, \"life_expect\": 71.068, \"fertility\": 2.1111}, {\"year\": 2000, \"country\": \"Bangladesh\", \"cluster\": \"South Asia\", \"pop\": 130406594, \"life_expect\": 62.013, \"fertility\": 3.224}, {\"year\": 2000, \"country\": \"Barbados\", \"cluster\": \"Americas\", \"pop\": 273483, \"life_expect\": 75.97, \"fertility\": 1.5}, {\"year\": 2000, \"country\": \"Belgium\", \"cluster\": \"Europe & Central Asia\", \"pop\": 10263618, \"life_expect\": 78.32, \"fertility\": 1.638}, {\"year\": 2000, \"country\": \"Bolivia\", \"cluster\": \"Americas\", \"pop\": 8152620, \"life_expect\": 63.883, \"fertility\": 3.9585}, {\"year\": 2000, \"country\": \"Brazil\", \"cluster\": \"Americas\", \"pop\": 175552771, \"life_expect\": 71.006, \"fertility\": 2.345}, {\"year\": 2000, \"country\": \"Canada\", \"cluster\": \"Americas\", \"pop\": 31278097, \"life_expect\": 79.77, \"fertility\": 1.522}, {\"year\": 2000, \"country\": \"Chile\", \"cluster\": \"Americas\", \"pop\": 15153450, \"life_expect\": 77.86, \"fertility\": 2.0}, {\"year\": 2000, \"country\": \"China\", \"cluster\": \"East Asia & Pacific\", \"pop\": 1262645000, \"life_expect\": 72.028, \"fertility\": 1.7000000000000002}, {\"year\": 2000, \"country\": \"Colombia\", \"cluster\": \"Americas\", \"pop\": 39685655, \"life_expect\": 71.682, \"fertility\": 2.4705}, {\"year\": 2000, \"country\": \"Costa Rica\", \"cluster\": \"Americas\", \"pop\": 3710558, \"life_expect\": 78.123, \"fertility\": 2.2815}, {\"year\": 2000, \"country\": \"Croatia\", \"cluster\": \"Europe & Central Asia\", \"pop\": 4410830, \"life_expect\": 74.876, \"fertility\": 1.348}, {\"year\": 2000, \"country\": \"Cuba\", \"cluster\": \"Americas\", \"pop\": 11134273, \"life_expect\": 77.158, \"fertility\": 1.63}, {\"year\": 2000, \"country\": \"Dominican Republic\", \"cluster\": \"Americas\", \"pop\": 8385828, \"life_expect\": 70.847, \"fertility\": 2.95}, {\"year\": 2000, \"country\": \"Ecuador\", \"cluster\": \"Americas\", \"pop\": 12505204, \"life_expect\": 74.173, \"fertility\": 2.8175}, {\"year\": 2000, \"country\": \"Egypt\", \"cluster\": \"Middle East & North Africa\", \"pop\": 70492342, \"life_expect\": 69.806, \"fertility\": 3.174}, {\"year\": 2000, \"country\": \"El Salvador\", \"cluster\": \"Americas\", \"pop\": 6122515, \"life_expect\": 70.734, \"fertility\": 2.883}, {\"year\": 2000, \"country\": \"Finland\", \"cluster\": \"Europe & Central Asia\", \"pop\": 5168595, \"life_expect\": 78.37, \"fertility\": 1.754}, {\"year\": 2000, \"country\": \"France\", \"cluster\": \"Europe & Central Asia\", \"pop\": 59381628, \"life_expect\": 79.59, \"fertility\": 1.8833}, {\"year\": 2000, \"country\": \"Georgia\", \"cluster\": \"Europe & Central Asia\", \"pop\": 4777209, \"life_expect\": 70.476, \"fertility\": 1.478}, {\"year\": 2000, \"country\": \"Germany\", \"cluster\": \"Europe & Central Asia\", \"pop\": 82187909, \"life_expect\": 78.67, \"fertility\": 1.346}, {\"year\": 2000, \"country\": \"Greece\", \"cluster\": \"Europe & Central Asia\", \"pop\": 10559110, \"life_expect\": 78.256, \"fertility\": 1.277}, {\"year\": 2000, \"country\": \"Grenada\", \"cluster\": \"Americas\", \"pop\": 89312, \"life_expect\": 67.746, \"fertility\": 2.429}, {\"year\": 2000, \"country\": \"Haiti\", \"cluster\": \"Americas\", \"pop\": 7306302, \"life_expect\": 58.137, \"fertility\": 4.0}, {\"year\": 2000, \"country\": \"Hong Kong\", \"cluster\": \"East Asia & Pacific\", \"pop\": 6658720, \"life_expect\": 81.495, \"fertility\": 0.94}, {\"year\": 2000, \"country\": \"Iceland\", \"cluster\": \"Europe & Central Asia\", \"pop\": 281043, \"life_expect\": 80.5, \"fertility\": 1.993}, {\"year\": 2000, \"country\": \"India\", \"cluster\": \"South Asia\", \"pop\": 1007702000, \"life_expect\": 62.879, \"fertility\": 3.1132}, {\"year\": 2000, \"country\": \"Indonesia\", \"cluster\": \"East Asia & Pacific\", \"pop\": 206265000, \"life_expect\": 68.588, \"fertility\": 2.3761}, {\"year\": 2000, \"country\": \"Iran\", \"cluster\": \"Middle East & North Africa\", \"pop\": 65660289, \"life_expect\": 69.451, \"fertility\": 2.124}, {\"year\": 2000, \"country\": \"Iraq\", \"cluster\": \"Middle East & North Africa\", \"pop\": 22675617, \"life_expect\": 57.046, \"fertility\": 4.858}, {\"year\": 2000, \"country\": \"Ireland\", \"cluster\": \"Europe & Central Asia\", \"pop\": 3791690, \"life_expect\": 77.783, \"fertility\": 1.969}, {\"year\": 2000, \"country\": \"Israel\", \"cluster\": \"Middle East & North Africa\", \"pop\": 5842454, \"life_expect\": 79.696, \"fertility\": 2.906}, {\"year\": 2000, \"country\": \"Italy\", \"cluster\": \"Europe & Central Asia\", \"pop\": 57719337, \"life_expect\": 80.24, \"fertility\": 1.286}, {\"year\": 2000, \"country\": \"Jamaica\", \"cluster\": \"Americas\", \"pop\": 2615467, \"life_expect\": 72.047, \"fertility\": 2.628}, {\"year\": 2000, \"country\": \"Japan\", \"cluster\": \"East Asia & Pacific\", \"pop\": 126699784, \"life_expect\": 82.0, \"fertility\": 1.291}, {\"year\": 2000, \"country\": \"Kenya\", \"cluster\": \"Sub-Saharan Africa\", \"pop\": 29985839, \"life_expect\": 50.992, \"fertility\": 5.0}, {\"year\": 2000, \"country\": \"South Korea\", \"cluster\": \"East Asia & Pacific\", \"pop\": 21647682, \"life_expect\": 66.662, \"fertility\": 1.9173}, {\"year\": 2000, \"country\": \"North Korea\", \"cluster\": \"East Asia & Pacific\", \"pop\": 47351083, \"life_expect\": 77.045, \"fertility\": 1.242}, {\"year\": 2000, \"country\": \"Lebanon\", \"cluster\": \"Middle East & North Africa\", \"pop\": 3578036, \"life_expect\": 71.028, \"fertility\": 2.319}, {\"year\": 2000, \"country\": \"Mexico\", \"cluster\": \"Americas\", \"pop\": 99926620, \"life_expect\": 74.902, \"fertility\": 2.4005}, {\"year\": 2000, \"country\": \"Netherlands\", \"cluster\": \"Europe & Central Asia\", \"pop\": 15907853, \"life_expect\": 78.53, \"fertility\": 1.726}, {\"year\": 2000, \"country\": \"New Zealand\", \"cluster\": \"East Asia & Pacific\", \"pop\": 3819762, \"life_expect\": 79.11, \"fertility\": 1.964}, {\"year\": 2000, \"country\": \"Nigeria\", \"cluster\": \"Sub-Saharan Africa\", \"pop\": 114306700, \"life_expect\": 46.608, \"fertility\": 5.845}, {\"year\": 2000, \"country\": \"Norway\", \"cluster\": \"Europe & Central Asia\", \"pop\": 4492400, \"life_expect\": 79.05, \"fertility\": 1.8010000000000002}, {\"year\": 2000, \"country\": \"Pakistan\", \"cluster\": \"South Asia\", \"pop\": 146342958, \"life_expect\": 63.61, \"fertility\": 3.9936}, {\"year\": 2000, \"country\": \"Peru\", \"cluster\": \"Americas\", \"pop\": 25979722, \"life_expect\": 69.906, \"fertility\": 2.7005}, {\"year\": 2000, \"country\": \"Philippines\", \"cluster\": \"East Asia & Pacific\", \"pop\": 79739825, \"life_expect\": 70.303, \"fertility\": 3.5436}, {\"year\": 2000, \"country\": \"Poland\", \"cluster\": \"Europe & Central Asia\", \"pop\": 38654164, \"life_expect\": 74.67, \"fertility\": 1.251}, {\"year\": 2000, \"country\": \"Portugal\", \"cluster\": \"Europe & Central Asia\", \"pop\": 10335597, \"life_expect\": 77.29, \"fertility\": 1.454}, {\"year\": 2000, \"country\": \"Rwanda\", \"cluster\": \"Sub-Saharan Africa\", \"pop\": 7507056, \"life_expect\": 43.413, \"fertility\": 6.01}, {\"year\": 2000, \"country\": \"Saudi Arabia\", \"cluster\": \"Middle East & North Africa\", \"pop\": 23153090, \"life_expect\": 71.626, \"fertility\": 3.81}, {\"year\": 2000, \"country\": \"South Africa\", \"cluster\": \"Sub-Saharan Africa\", \"pop\": 44066197, \"life_expect\": 53.365, \"fertility\": 2.802}, {\"year\": 2000, \"country\": \"Spain\", \"cluster\": \"Europe & Central Asia\", \"pop\": 40016081, \"life_expect\": 79.78, \"fertility\": 1.287}, {\"year\": 2000, \"country\": \"Switzerland\", \"cluster\": \"Europe & Central Asia\", \"pop\": 7266920, \"life_expect\": 80.62, \"fertility\": 1.415}, {\"year\": 2000, \"country\": \"Turkey\", \"cluster\": \"Europe & Central Asia\", \"pop\": 65666677, \"life_expect\": 70.845, \"fertility\": 2.23}, {\"year\": 2000, \"country\": \"United Kingdom\", \"cluster\": \"Europe & Central Asia\", \"pop\": 59522468, \"life_expect\": 78.471, \"fertility\": 1.695}, {\"year\": 2000, \"country\": \"United States\", \"cluster\": \"Americas\", \"pop\": 282338631, \"life_expect\": 77.31, \"fertility\": 2.038}, {\"year\": 2000, \"country\": \"Venezuela\", \"cluster\": \"Americas\", \"pop\": 23542649, \"life_expect\": 72.766, \"fertility\": 2.723}]}}, {\"mode\": \"vega-lite\"});\n",
       "</script>"
      ],
      "text/plain": [
       "alt.Chart(...)"
      ]
     },
     "execution_count": 13,
     "metadata": {},
     "output_type": "execute_result"
    }
   ],
   "source": [
    "# Solution\n",
    "alt.Chart(df).mark_point().encode(\n",
    "    alt.X('fertility:Q'),\n",
    "    alt.Y('life_expect:Q'),\n",
    "    alt.Size('pop:Q')\n",
    ")"
   ]
  },
  {
   "cell_type": "markdown",
   "metadata": {},
   "source": [
    "- Note that using the `Size` channel results in a legend for interpreting the size values\n",
    "\n",
    "\n",
    "- Encodings can be customized through the use of keyword arguments\n",
    "\n",
    "\n",
    "- For example, we can adjust the size encoding so that the area of the points range between 0 pixels and 1000 pixels:"
   ]
  },
  {
   "cell_type": "code",
   "execution_count": 14,
   "metadata": {},
   "outputs": [
    {
     "data": {
      "text/html": [
       "\n",
       "<div id=\"altair-viz-7c309a5c656d47cf9391356ee3c76321\"></div>\n",
       "<script type=\"text/javascript\">\n",
       "  (function(spec, embedOpt){\n",
       "    let outputDiv = document.currentScript.previousElementSibling;\n",
       "    if (outputDiv.id !== \"altair-viz-7c309a5c656d47cf9391356ee3c76321\") {\n",
       "      outputDiv = document.getElementById(\"altair-viz-7c309a5c656d47cf9391356ee3c76321\");\n",
       "    }\n",
       "    const paths = {\n",
       "      \"vega\": \"https://cdn.jsdelivr.net/npm//vega@5?noext\",\n",
       "      \"vega-lib\": \"https://cdn.jsdelivr.net/npm//vega-lib?noext\",\n",
       "      \"vega-lite\": \"https://cdn.jsdelivr.net/npm//vega-lite@4.8.1?noext\",\n",
       "      \"vega-embed\": \"https://cdn.jsdelivr.net/npm//vega-embed@6?noext\",\n",
       "    };\n",
       "\n",
       "    function loadScript(lib) {\n",
       "      return new Promise(function(resolve, reject) {\n",
       "        var s = document.createElement('script');\n",
       "        s.src = paths[lib];\n",
       "        s.async = true;\n",
       "        s.onload = () => resolve(paths[lib]);\n",
       "        s.onerror = () => reject(`Error loading script: ${paths[lib]}`);\n",
       "        document.getElementsByTagName(\"head\")[0].appendChild(s);\n",
       "      });\n",
       "    }\n",
       "\n",
       "    function showError(err) {\n",
       "      outputDiv.innerHTML = `<div class=\"error\" style=\"color:red;\">${err}</div>`;\n",
       "      throw err;\n",
       "    }\n",
       "\n",
       "    function displayChart(vegaEmbed) {\n",
       "      vegaEmbed(outputDiv, spec, embedOpt)\n",
       "        .catch(err => showError(`Javascript Error: ${err.message}<br>This usually means there's a typo in your chart specification. See the javascript console for the full traceback.`));\n",
       "    }\n",
       "\n",
       "    if(typeof define === \"function\" && define.amd) {\n",
       "      requirejs.config({paths});\n",
       "      require([\"vega-embed\"], displayChart, err => showError(`Error loading script: ${err.message}`));\n",
       "    } else if (typeof vegaEmbed === \"function\") {\n",
       "      displayChart(vegaEmbed);\n",
       "    } else {\n",
       "      loadScript(\"vega\")\n",
       "        .then(() => loadScript(\"vega-lite\"))\n",
       "        .then(() => loadScript(\"vega-embed\"))\n",
       "        .catch(showError)\n",
       "        .then(() => displayChart(vegaEmbed));\n",
       "    }\n",
       "  })({\"config\": {\"view\": {\"continuousWidth\": 400, \"continuousHeight\": 300}}, \"data\": {\"name\": \"data-40a6c7d464d1f0a318dab2ada85d74e7\"}, \"mark\": \"point\", \"encoding\": {\"size\": {\"type\": \"quantitative\", \"field\": \"pop\", \"scale\": {\"range\": [0, 1000]}}, \"x\": {\"type\": \"quantitative\", \"field\": \"fertility\"}, \"y\": {\"type\": \"quantitative\", \"field\": \"life_expect\"}}, \"$schema\": \"https://vega.github.io/schema/vega-lite/v4.8.1.json\", \"datasets\": {\"data-40a6c7d464d1f0a318dab2ada85d74e7\": [{\"year\": 2000, \"country\": \"Afghanistan\", \"cluster\": \"South Asia\", \"pop\": 23898198, \"life_expect\": 42.129, \"fertility\": 7.4792}, {\"year\": 2000, \"country\": \"Argentina\", \"cluster\": \"Americas\", \"pop\": 37497728, \"life_expect\": 74.34, \"fertility\": 2.35}, {\"year\": 2000, \"country\": \"Aruba\", \"cluster\": \"Americas\", \"pop\": 69539, \"life_expect\": 73.451, \"fertility\": 2.124}, {\"year\": 2000, \"country\": \"Australia\", \"cluster\": \"East Asia & Pacific\", \"pop\": 19164620, \"life_expect\": 80.37, \"fertility\": 1.756}, {\"year\": 2000, \"country\": \"Austria\", \"cluster\": \"Europe & Central Asia\", \"pop\": 8113413, \"life_expect\": 78.98, \"fertility\": 1.382}, {\"year\": 2000, \"country\": \"Bahamas\", \"cluster\": \"Americas\", \"pop\": 290075, \"life_expect\": 71.068, \"fertility\": 2.1111}, {\"year\": 2000, \"country\": \"Bangladesh\", \"cluster\": \"South Asia\", \"pop\": 130406594, \"life_expect\": 62.013, \"fertility\": 3.224}, {\"year\": 2000, \"country\": \"Barbados\", \"cluster\": \"Americas\", \"pop\": 273483, \"life_expect\": 75.97, \"fertility\": 1.5}, {\"year\": 2000, \"country\": \"Belgium\", \"cluster\": \"Europe & Central Asia\", \"pop\": 10263618, \"life_expect\": 78.32, \"fertility\": 1.638}, {\"year\": 2000, \"country\": \"Bolivia\", \"cluster\": \"Americas\", \"pop\": 8152620, \"life_expect\": 63.883, \"fertility\": 3.9585}, {\"year\": 2000, \"country\": \"Brazil\", \"cluster\": \"Americas\", \"pop\": 175552771, \"life_expect\": 71.006, \"fertility\": 2.345}, {\"year\": 2000, \"country\": \"Canada\", \"cluster\": \"Americas\", \"pop\": 31278097, \"life_expect\": 79.77, \"fertility\": 1.522}, {\"year\": 2000, \"country\": \"Chile\", \"cluster\": \"Americas\", \"pop\": 15153450, \"life_expect\": 77.86, \"fertility\": 2.0}, {\"year\": 2000, \"country\": \"China\", \"cluster\": \"East Asia & Pacific\", \"pop\": 1262645000, \"life_expect\": 72.028, \"fertility\": 1.7000000000000002}, {\"year\": 2000, \"country\": \"Colombia\", \"cluster\": \"Americas\", \"pop\": 39685655, \"life_expect\": 71.682, \"fertility\": 2.4705}, {\"year\": 2000, \"country\": \"Costa Rica\", \"cluster\": \"Americas\", \"pop\": 3710558, \"life_expect\": 78.123, \"fertility\": 2.2815}, {\"year\": 2000, \"country\": \"Croatia\", \"cluster\": \"Europe & Central Asia\", \"pop\": 4410830, \"life_expect\": 74.876, \"fertility\": 1.348}, {\"year\": 2000, \"country\": \"Cuba\", \"cluster\": \"Americas\", \"pop\": 11134273, \"life_expect\": 77.158, \"fertility\": 1.63}, {\"year\": 2000, \"country\": \"Dominican Republic\", \"cluster\": \"Americas\", \"pop\": 8385828, \"life_expect\": 70.847, \"fertility\": 2.95}, {\"year\": 2000, \"country\": \"Ecuador\", \"cluster\": \"Americas\", \"pop\": 12505204, \"life_expect\": 74.173, \"fertility\": 2.8175}, {\"year\": 2000, \"country\": \"Egypt\", \"cluster\": \"Middle East & North Africa\", \"pop\": 70492342, \"life_expect\": 69.806, \"fertility\": 3.174}, {\"year\": 2000, \"country\": \"El Salvador\", \"cluster\": \"Americas\", \"pop\": 6122515, \"life_expect\": 70.734, \"fertility\": 2.883}, {\"year\": 2000, \"country\": \"Finland\", \"cluster\": \"Europe & Central Asia\", \"pop\": 5168595, \"life_expect\": 78.37, \"fertility\": 1.754}, {\"year\": 2000, \"country\": \"France\", \"cluster\": \"Europe & Central Asia\", \"pop\": 59381628, \"life_expect\": 79.59, \"fertility\": 1.8833}, {\"year\": 2000, \"country\": \"Georgia\", \"cluster\": \"Europe & Central Asia\", \"pop\": 4777209, \"life_expect\": 70.476, \"fertility\": 1.478}, {\"year\": 2000, \"country\": \"Germany\", \"cluster\": \"Europe & Central Asia\", \"pop\": 82187909, \"life_expect\": 78.67, \"fertility\": 1.346}, {\"year\": 2000, \"country\": \"Greece\", \"cluster\": \"Europe & Central Asia\", \"pop\": 10559110, \"life_expect\": 78.256, \"fertility\": 1.277}, {\"year\": 2000, \"country\": \"Grenada\", \"cluster\": \"Americas\", \"pop\": 89312, \"life_expect\": 67.746, \"fertility\": 2.429}, {\"year\": 2000, \"country\": \"Haiti\", \"cluster\": \"Americas\", \"pop\": 7306302, \"life_expect\": 58.137, \"fertility\": 4.0}, {\"year\": 2000, \"country\": \"Hong Kong\", \"cluster\": \"East Asia & Pacific\", \"pop\": 6658720, \"life_expect\": 81.495, \"fertility\": 0.94}, {\"year\": 2000, \"country\": \"Iceland\", \"cluster\": \"Europe & Central Asia\", \"pop\": 281043, \"life_expect\": 80.5, \"fertility\": 1.993}, {\"year\": 2000, \"country\": \"India\", \"cluster\": \"South Asia\", \"pop\": 1007702000, \"life_expect\": 62.879, \"fertility\": 3.1132}, {\"year\": 2000, \"country\": \"Indonesia\", \"cluster\": \"East Asia & Pacific\", \"pop\": 206265000, \"life_expect\": 68.588, \"fertility\": 2.3761}, {\"year\": 2000, \"country\": \"Iran\", \"cluster\": \"Middle East & North Africa\", \"pop\": 65660289, \"life_expect\": 69.451, \"fertility\": 2.124}, {\"year\": 2000, \"country\": \"Iraq\", \"cluster\": \"Middle East & North Africa\", \"pop\": 22675617, \"life_expect\": 57.046, \"fertility\": 4.858}, {\"year\": 2000, \"country\": \"Ireland\", \"cluster\": \"Europe & Central Asia\", \"pop\": 3791690, \"life_expect\": 77.783, \"fertility\": 1.969}, {\"year\": 2000, \"country\": \"Israel\", \"cluster\": \"Middle East & North Africa\", \"pop\": 5842454, \"life_expect\": 79.696, \"fertility\": 2.906}, {\"year\": 2000, \"country\": \"Italy\", \"cluster\": \"Europe & Central Asia\", \"pop\": 57719337, \"life_expect\": 80.24, \"fertility\": 1.286}, {\"year\": 2000, \"country\": \"Jamaica\", \"cluster\": \"Americas\", \"pop\": 2615467, \"life_expect\": 72.047, \"fertility\": 2.628}, {\"year\": 2000, \"country\": \"Japan\", \"cluster\": \"East Asia & Pacific\", \"pop\": 126699784, \"life_expect\": 82.0, \"fertility\": 1.291}, {\"year\": 2000, \"country\": \"Kenya\", \"cluster\": \"Sub-Saharan Africa\", \"pop\": 29985839, \"life_expect\": 50.992, \"fertility\": 5.0}, {\"year\": 2000, \"country\": \"South Korea\", \"cluster\": \"East Asia & Pacific\", \"pop\": 21647682, \"life_expect\": 66.662, \"fertility\": 1.9173}, {\"year\": 2000, \"country\": \"North Korea\", \"cluster\": \"East Asia & Pacific\", \"pop\": 47351083, \"life_expect\": 77.045, \"fertility\": 1.242}, {\"year\": 2000, \"country\": \"Lebanon\", \"cluster\": \"Middle East & North Africa\", \"pop\": 3578036, \"life_expect\": 71.028, \"fertility\": 2.319}, {\"year\": 2000, \"country\": \"Mexico\", \"cluster\": \"Americas\", \"pop\": 99926620, \"life_expect\": 74.902, \"fertility\": 2.4005}, {\"year\": 2000, \"country\": \"Netherlands\", \"cluster\": \"Europe & Central Asia\", \"pop\": 15907853, \"life_expect\": 78.53, \"fertility\": 1.726}, {\"year\": 2000, \"country\": \"New Zealand\", \"cluster\": \"East Asia & Pacific\", \"pop\": 3819762, \"life_expect\": 79.11, \"fertility\": 1.964}, {\"year\": 2000, \"country\": \"Nigeria\", \"cluster\": \"Sub-Saharan Africa\", \"pop\": 114306700, \"life_expect\": 46.608, \"fertility\": 5.845}, {\"year\": 2000, \"country\": \"Norway\", \"cluster\": \"Europe & Central Asia\", \"pop\": 4492400, \"life_expect\": 79.05, \"fertility\": 1.8010000000000002}, {\"year\": 2000, \"country\": \"Pakistan\", \"cluster\": \"South Asia\", \"pop\": 146342958, \"life_expect\": 63.61, \"fertility\": 3.9936}, {\"year\": 2000, \"country\": \"Peru\", \"cluster\": \"Americas\", \"pop\": 25979722, \"life_expect\": 69.906, \"fertility\": 2.7005}, {\"year\": 2000, \"country\": \"Philippines\", \"cluster\": \"East Asia & Pacific\", \"pop\": 79739825, \"life_expect\": 70.303, \"fertility\": 3.5436}, {\"year\": 2000, \"country\": \"Poland\", \"cluster\": \"Europe & Central Asia\", \"pop\": 38654164, \"life_expect\": 74.67, \"fertility\": 1.251}, {\"year\": 2000, \"country\": \"Portugal\", \"cluster\": \"Europe & Central Asia\", \"pop\": 10335597, \"life_expect\": 77.29, \"fertility\": 1.454}, {\"year\": 2000, \"country\": \"Rwanda\", \"cluster\": \"Sub-Saharan Africa\", \"pop\": 7507056, \"life_expect\": 43.413, \"fertility\": 6.01}, {\"year\": 2000, \"country\": \"Saudi Arabia\", \"cluster\": \"Middle East & North Africa\", \"pop\": 23153090, \"life_expect\": 71.626, \"fertility\": 3.81}, {\"year\": 2000, \"country\": \"South Africa\", \"cluster\": \"Sub-Saharan Africa\", \"pop\": 44066197, \"life_expect\": 53.365, \"fertility\": 2.802}, {\"year\": 2000, \"country\": \"Spain\", \"cluster\": \"Europe & Central Asia\", \"pop\": 40016081, \"life_expect\": 79.78, \"fertility\": 1.287}, {\"year\": 2000, \"country\": \"Switzerland\", \"cluster\": \"Europe & Central Asia\", \"pop\": 7266920, \"life_expect\": 80.62, \"fertility\": 1.415}, {\"year\": 2000, \"country\": \"Turkey\", \"cluster\": \"Europe & Central Asia\", \"pop\": 65666677, \"life_expect\": 70.845, \"fertility\": 2.23}, {\"year\": 2000, \"country\": \"United Kingdom\", \"cluster\": \"Europe & Central Asia\", \"pop\": 59522468, \"life_expect\": 78.471, \"fertility\": 1.695}, {\"year\": 2000, \"country\": \"United States\", \"cluster\": \"Americas\", \"pop\": 282338631, \"life_expect\": 77.31, \"fertility\": 2.038}, {\"year\": 2000, \"country\": \"Venezuela\", \"cluster\": \"Americas\", \"pop\": 23542649, \"life_expect\": 72.766, \"fertility\": 2.723}]}}, {\"mode\": \"vega-lite\"});\n",
       "</script>"
      ],
      "text/plain": [
       "alt.Chart(...)"
      ]
     },
     "execution_count": 14,
     "metadata": {},
     "output_type": "execute_result"
    }
   ],
   "source": [
    "alt.Chart(df).mark_point().encode(\n",
    "    alt.X('fertility:Q'),\n",
    "    alt.Y('life_expect:Q'),\n",
    "    alt.Size('pop:Q', scale=alt.Scale(range=[0, 1000]))\n",
    ")"
   ]
  },
  {
   "cell_type": "markdown",
   "metadata": {
    "colab_type": "text",
    "id": "yF__0zZ0PJyT"
   },
   "source": [
    "### Color"
   ]
  },
  {
   "cell_type": "markdown",
   "metadata": {
    "colab_type": "text",
    "id": "u5QXPLxJeohH"
   },
   "source": [
    "- The `Color` encoding channel sets a mark's color\n",
    "\n",
    "\n",
    "- The default style of color encoding depends on the data type: \n",
    "    - Nominal data will map to a multi-hued qualitative color scheme\n",
    "    - Ordinal and quantitative data will map to perceptually ordered color gradients\n",
    "\n",
    "\n",
    "- If we add `cluster` to our scatter plot as a nominal (`N`) data type by encoding it with the `Color` channel, we get a distinct hue for each cluster value:"
   ]
  },
  {
   "cell_type": "code",
   "execution_count": null,
   "metadata": {},
   "outputs": [],
   "source": []
  },
  {
   "cell_type": "code",
   "execution_count": 15,
   "metadata": {
    "colab": {
     "base_uri": "https://localhost:8080/",
     "height": 372
    },
    "colab_type": "code",
    "id": "bI73XTt5OTmA",
    "outputId": "f12aeb57-07c5-422e-8cb1-62253b545af8",
    "tags": [
     "solution"
    ]
   },
   "outputs": [
    {
     "data": {
      "text/html": [
       "\n",
       "<div id=\"altair-viz-689c5ee0b223466d80c1b6b3de918ade\"></div>\n",
       "<script type=\"text/javascript\">\n",
       "  (function(spec, embedOpt){\n",
       "    let outputDiv = document.currentScript.previousElementSibling;\n",
       "    if (outputDiv.id !== \"altair-viz-689c5ee0b223466d80c1b6b3de918ade\") {\n",
       "      outputDiv = document.getElementById(\"altair-viz-689c5ee0b223466d80c1b6b3de918ade\");\n",
       "    }\n",
       "    const paths = {\n",
       "      \"vega\": \"https://cdn.jsdelivr.net/npm//vega@5?noext\",\n",
       "      \"vega-lib\": \"https://cdn.jsdelivr.net/npm//vega-lib?noext\",\n",
       "      \"vega-lite\": \"https://cdn.jsdelivr.net/npm//vega-lite@4.8.1?noext\",\n",
       "      \"vega-embed\": \"https://cdn.jsdelivr.net/npm//vega-embed@6?noext\",\n",
       "    };\n",
       "\n",
       "    function loadScript(lib) {\n",
       "      return new Promise(function(resolve, reject) {\n",
       "        var s = document.createElement('script');\n",
       "        s.src = paths[lib];\n",
       "        s.async = true;\n",
       "        s.onload = () => resolve(paths[lib]);\n",
       "        s.onerror = () => reject(`Error loading script: ${paths[lib]}`);\n",
       "        document.getElementsByTagName(\"head\")[0].appendChild(s);\n",
       "      });\n",
       "    }\n",
       "\n",
       "    function showError(err) {\n",
       "      outputDiv.innerHTML = `<div class=\"error\" style=\"color:red;\">${err}</div>`;\n",
       "      throw err;\n",
       "    }\n",
       "\n",
       "    function displayChart(vegaEmbed) {\n",
       "      vegaEmbed(outputDiv, spec, embedOpt)\n",
       "        .catch(err => showError(`Javascript Error: ${err.message}<br>This usually means there's a typo in your chart specification. See the javascript console for the full traceback.`));\n",
       "    }\n",
       "\n",
       "    if(typeof define === \"function\" && define.amd) {\n",
       "      requirejs.config({paths});\n",
       "      require([\"vega-embed\"], displayChart, err => showError(`Error loading script: ${err.message}`));\n",
       "    } else if (typeof vegaEmbed === \"function\") {\n",
       "      displayChart(vegaEmbed);\n",
       "    } else {\n",
       "      loadScript(\"vega\")\n",
       "        .then(() => loadScript(\"vega-lite\"))\n",
       "        .then(() => loadScript(\"vega-embed\"))\n",
       "        .catch(showError)\n",
       "        .then(() => displayChart(vegaEmbed));\n",
       "    }\n",
       "  })({\"config\": {\"view\": {\"continuousWidth\": 400, \"continuousHeight\": 300}}, \"data\": {\"name\": \"data-40a6c7d464d1f0a318dab2ada85d74e7\"}, \"mark\": \"point\", \"encoding\": {\"color\": {\"type\": \"nominal\", \"field\": \"cluster\"}, \"size\": {\"type\": \"quantitative\", \"field\": \"pop\", \"scale\": {\"range\": [0, 1000]}}, \"x\": {\"type\": \"quantitative\", \"field\": \"fertility\"}, \"y\": {\"type\": \"quantitative\", \"field\": \"life_expect\"}}, \"$schema\": \"https://vega.github.io/schema/vega-lite/v4.8.1.json\", \"datasets\": {\"data-40a6c7d464d1f0a318dab2ada85d74e7\": [{\"year\": 2000, \"country\": \"Afghanistan\", \"cluster\": \"South Asia\", \"pop\": 23898198, \"life_expect\": 42.129, \"fertility\": 7.4792}, {\"year\": 2000, \"country\": \"Argentina\", \"cluster\": \"Americas\", \"pop\": 37497728, \"life_expect\": 74.34, \"fertility\": 2.35}, {\"year\": 2000, \"country\": \"Aruba\", \"cluster\": \"Americas\", \"pop\": 69539, \"life_expect\": 73.451, \"fertility\": 2.124}, {\"year\": 2000, \"country\": \"Australia\", \"cluster\": \"East Asia & Pacific\", \"pop\": 19164620, \"life_expect\": 80.37, \"fertility\": 1.756}, {\"year\": 2000, \"country\": \"Austria\", \"cluster\": \"Europe & Central Asia\", \"pop\": 8113413, \"life_expect\": 78.98, \"fertility\": 1.382}, {\"year\": 2000, \"country\": \"Bahamas\", \"cluster\": \"Americas\", \"pop\": 290075, \"life_expect\": 71.068, \"fertility\": 2.1111}, {\"year\": 2000, \"country\": \"Bangladesh\", \"cluster\": \"South Asia\", \"pop\": 130406594, \"life_expect\": 62.013, \"fertility\": 3.224}, {\"year\": 2000, \"country\": \"Barbados\", \"cluster\": \"Americas\", \"pop\": 273483, \"life_expect\": 75.97, \"fertility\": 1.5}, {\"year\": 2000, \"country\": \"Belgium\", \"cluster\": \"Europe & Central Asia\", \"pop\": 10263618, \"life_expect\": 78.32, \"fertility\": 1.638}, {\"year\": 2000, \"country\": \"Bolivia\", \"cluster\": \"Americas\", \"pop\": 8152620, \"life_expect\": 63.883, \"fertility\": 3.9585}, {\"year\": 2000, \"country\": \"Brazil\", \"cluster\": \"Americas\", \"pop\": 175552771, \"life_expect\": 71.006, \"fertility\": 2.345}, {\"year\": 2000, \"country\": \"Canada\", \"cluster\": \"Americas\", \"pop\": 31278097, \"life_expect\": 79.77, \"fertility\": 1.522}, {\"year\": 2000, \"country\": \"Chile\", \"cluster\": \"Americas\", \"pop\": 15153450, \"life_expect\": 77.86, \"fertility\": 2.0}, {\"year\": 2000, \"country\": \"China\", \"cluster\": \"East Asia & Pacific\", \"pop\": 1262645000, \"life_expect\": 72.028, \"fertility\": 1.7000000000000002}, {\"year\": 2000, \"country\": \"Colombia\", \"cluster\": \"Americas\", \"pop\": 39685655, \"life_expect\": 71.682, \"fertility\": 2.4705}, {\"year\": 2000, \"country\": \"Costa Rica\", \"cluster\": \"Americas\", \"pop\": 3710558, \"life_expect\": 78.123, \"fertility\": 2.2815}, {\"year\": 2000, \"country\": \"Croatia\", \"cluster\": \"Europe & Central Asia\", \"pop\": 4410830, \"life_expect\": 74.876, \"fertility\": 1.348}, {\"year\": 2000, \"country\": \"Cuba\", \"cluster\": \"Americas\", \"pop\": 11134273, \"life_expect\": 77.158, \"fertility\": 1.63}, {\"year\": 2000, \"country\": \"Dominican Republic\", \"cluster\": \"Americas\", \"pop\": 8385828, \"life_expect\": 70.847, \"fertility\": 2.95}, {\"year\": 2000, \"country\": \"Ecuador\", \"cluster\": \"Americas\", \"pop\": 12505204, \"life_expect\": 74.173, \"fertility\": 2.8175}, {\"year\": 2000, \"country\": \"Egypt\", \"cluster\": \"Middle East & North Africa\", \"pop\": 70492342, \"life_expect\": 69.806, \"fertility\": 3.174}, {\"year\": 2000, \"country\": \"El Salvador\", \"cluster\": \"Americas\", \"pop\": 6122515, \"life_expect\": 70.734, \"fertility\": 2.883}, {\"year\": 2000, \"country\": \"Finland\", \"cluster\": \"Europe & Central Asia\", \"pop\": 5168595, \"life_expect\": 78.37, \"fertility\": 1.754}, {\"year\": 2000, \"country\": \"France\", \"cluster\": \"Europe & Central Asia\", \"pop\": 59381628, \"life_expect\": 79.59, \"fertility\": 1.8833}, {\"year\": 2000, \"country\": \"Georgia\", \"cluster\": \"Europe & Central Asia\", \"pop\": 4777209, \"life_expect\": 70.476, \"fertility\": 1.478}, {\"year\": 2000, \"country\": \"Germany\", \"cluster\": \"Europe & Central Asia\", \"pop\": 82187909, \"life_expect\": 78.67, \"fertility\": 1.346}, {\"year\": 2000, \"country\": \"Greece\", \"cluster\": \"Europe & Central Asia\", \"pop\": 10559110, \"life_expect\": 78.256, \"fertility\": 1.277}, {\"year\": 2000, \"country\": \"Grenada\", \"cluster\": \"Americas\", \"pop\": 89312, \"life_expect\": 67.746, \"fertility\": 2.429}, {\"year\": 2000, \"country\": \"Haiti\", \"cluster\": \"Americas\", \"pop\": 7306302, \"life_expect\": 58.137, \"fertility\": 4.0}, {\"year\": 2000, \"country\": \"Hong Kong\", \"cluster\": \"East Asia & Pacific\", \"pop\": 6658720, \"life_expect\": 81.495, \"fertility\": 0.94}, {\"year\": 2000, \"country\": \"Iceland\", \"cluster\": \"Europe & Central Asia\", \"pop\": 281043, \"life_expect\": 80.5, \"fertility\": 1.993}, {\"year\": 2000, \"country\": \"India\", \"cluster\": \"South Asia\", \"pop\": 1007702000, \"life_expect\": 62.879, \"fertility\": 3.1132}, {\"year\": 2000, \"country\": \"Indonesia\", \"cluster\": \"East Asia & Pacific\", \"pop\": 206265000, \"life_expect\": 68.588, \"fertility\": 2.3761}, {\"year\": 2000, \"country\": \"Iran\", \"cluster\": \"Middle East & North Africa\", \"pop\": 65660289, \"life_expect\": 69.451, \"fertility\": 2.124}, {\"year\": 2000, \"country\": \"Iraq\", \"cluster\": \"Middle East & North Africa\", \"pop\": 22675617, \"life_expect\": 57.046, \"fertility\": 4.858}, {\"year\": 2000, \"country\": \"Ireland\", \"cluster\": \"Europe & Central Asia\", \"pop\": 3791690, \"life_expect\": 77.783, \"fertility\": 1.969}, {\"year\": 2000, \"country\": \"Israel\", \"cluster\": \"Middle East & North Africa\", \"pop\": 5842454, \"life_expect\": 79.696, \"fertility\": 2.906}, {\"year\": 2000, \"country\": \"Italy\", \"cluster\": \"Europe & Central Asia\", \"pop\": 57719337, \"life_expect\": 80.24, \"fertility\": 1.286}, {\"year\": 2000, \"country\": \"Jamaica\", \"cluster\": \"Americas\", \"pop\": 2615467, \"life_expect\": 72.047, \"fertility\": 2.628}, {\"year\": 2000, \"country\": \"Japan\", \"cluster\": \"East Asia & Pacific\", \"pop\": 126699784, \"life_expect\": 82.0, \"fertility\": 1.291}, {\"year\": 2000, \"country\": \"Kenya\", \"cluster\": \"Sub-Saharan Africa\", \"pop\": 29985839, \"life_expect\": 50.992, \"fertility\": 5.0}, {\"year\": 2000, \"country\": \"South Korea\", \"cluster\": \"East Asia & Pacific\", \"pop\": 21647682, \"life_expect\": 66.662, \"fertility\": 1.9173}, {\"year\": 2000, \"country\": \"North Korea\", \"cluster\": \"East Asia & Pacific\", \"pop\": 47351083, \"life_expect\": 77.045, \"fertility\": 1.242}, {\"year\": 2000, \"country\": \"Lebanon\", \"cluster\": \"Middle East & North Africa\", \"pop\": 3578036, \"life_expect\": 71.028, \"fertility\": 2.319}, {\"year\": 2000, \"country\": \"Mexico\", \"cluster\": \"Americas\", \"pop\": 99926620, \"life_expect\": 74.902, \"fertility\": 2.4005}, {\"year\": 2000, \"country\": \"Netherlands\", \"cluster\": \"Europe & Central Asia\", \"pop\": 15907853, \"life_expect\": 78.53, \"fertility\": 1.726}, {\"year\": 2000, \"country\": \"New Zealand\", \"cluster\": \"East Asia & Pacific\", \"pop\": 3819762, \"life_expect\": 79.11, \"fertility\": 1.964}, {\"year\": 2000, \"country\": \"Nigeria\", \"cluster\": \"Sub-Saharan Africa\", \"pop\": 114306700, \"life_expect\": 46.608, \"fertility\": 5.845}, {\"year\": 2000, \"country\": \"Norway\", \"cluster\": \"Europe & Central Asia\", \"pop\": 4492400, \"life_expect\": 79.05, \"fertility\": 1.8010000000000002}, {\"year\": 2000, \"country\": \"Pakistan\", \"cluster\": \"South Asia\", \"pop\": 146342958, \"life_expect\": 63.61, \"fertility\": 3.9936}, {\"year\": 2000, \"country\": \"Peru\", \"cluster\": \"Americas\", \"pop\": 25979722, \"life_expect\": 69.906, \"fertility\": 2.7005}, {\"year\": 2000, \"country\": \"Philippines\", \"cluster\": \"East Asia & Pacific\", \"pop\": 79739825, \"life_expect\": 70.303, \"fertility\": 3.5436}, {\"year\": 2000, \"country\": \"Poland\", \"cluster\": \"Europe & Central Asia\", \"pop\": 38654164, \"life_expect\": 74.67, \"fertility\": 1.251}, {\"year\": 2000, \"country\": \"Portugal\", \"cluster\": \"Europe & Central Asia\", \"pop\": 10335597, \"life_expect\": 77.29, \"fertility\": 1.454}, {\"year\": 2000, \"country\": \"Rwanda\", \"cluster\": \"Sub-Saharan Africa\", \"pop\": 7507056, \"life_expect\": 43.413, \"fertility\": 6.01}, {\"year\": 2000, \"country\": \"Saudi Arabia\", \"cluster\": \"Middle East & North Africa\", \"pop\": 23153090, \"life_expect\": 71.626, \"fertility\": 3.81}, {\"year\": 2000, \"country\": \"South Africa\", \"cluster\": \"Sub-Saharan Africa\", \"pop\": 44066197, \"life_expect\": 53.365, \"fertility\": 2.802}, {\"year\": 2000, \"country\": \"Spain\", \"cluster\": \"Europe & Central Asia\", \"pop\": 40016081, \"life_expect\": 79.78, \"fertility\": 1.287}, {\"year\": 2000, \"country\": \"Switzerland\", \"cluster\": \"Europe & Central Asia\", \"pop\": 7266920, \"life_expect\": 80.62, \"fertility\": 1.415}, {\"year\": 2000, \"country\": \"Turkey\", \"cluster\": \"Europe & Central Asia\", \"pop\": 65666677, \"life_expect\": 70.845, \"fertility\": 2.23}, {\"year\": 2000, \"country\": \"United Kingdom\", \"cluster\": \"Europe & Central Asia\", \"pop\": 59522468, \"life_expect\": 78.471, \"fertility\": 1.695}, {\"year\": 2000, \"country\": \"United States\", \"cluster\": \"Americas\", \"pop\": 282338631, \"life_expect\": 77.31, \"fertility\": 2.038}, {\"year\": 2000, \"country\": \"Venezuela\", \"cluster\": \"Americas\", \"pop\": 23542649, \"life_expect\": 72.766, \"fertility\": 2.723}]}}, {\"mode\": \"vega-lite\"});\n",
       "</script>"
      ],
      "text/plain": [
       "alt.Chart(...)"
      ]
     },
     "execution_count": 15,
     "metadata": {},
     "output_type": "execute_result"
    }
   ],
   "source": [
    "# Solution\n",
    "alt.Chart(df).mark_point().encode(\n",
    "    alt.X('fertility:Q'),\n",
    "    alt.Y('life_expect:Q'),\n",
    "    alt.Size('pop:Q', scale=alt.Scale(range=[0, 1000])),\n",
    "    alt.Color('cluster:N')\n",
    ")"
   ]
  },
  {
   "cell_type": "markdown",
   "metadata": {
    "colab_type": "text",
    "id": "dNOkUJfNfFac"
   },
   "source": [
    "- To get filled points, we can can pass the keyword argument `filled=True` to the `.mark_point()` method:"
   ]
  },
  {
   "cell_type": "code",
   "execution_count": null,
   "metadata": {},
   "outputs": [],
   "source": []
  },
  {
   "cell_type": "code",
   "execution_count": 16,
   "metadata": {
    "colab": {
     "base_uri": "https://localhost:8080/",
     "height": 372
    },
    "colab_type": "code",
    "id": "HH34VMCAQO6s",
    "outputId": "8aba4f13-bfe3-43b1-e3ea-554a8d20b7f5",
    "tags": [
     "solution"
    ]
   },
   "outputs": [
    {
     "data": {
      "text/html": [
       "\n",
       "<div id=\"altair-viz-62c53a552e8544af8d5705cf1529d734\"></div>\n",
       "<script type=\"text/javascript\">\n",
       "  (function(spec, embedOpt){\n",
       "    let outputDiv = document.currentScript.previousElementSibling;\n",
       "    if (outputDiv.id !== \"altair-viz-62c53a552e8544af8d5705cf1529d734\") {\n",
       "      outputDiv = document.getElementById(\"altair-viz-62c53a552e8544af8d5705cf1529d734\");\n",
       "    }\n",
       "    const paths = {\n",
       "      \"vega\": \"https://cdn.jsdelivr.net/npm//vega@5?noext\",\n",
       "      \"vega-lib\": \"https://cdn.jsdelivr.net/npm//vega-lib?noext\",\n",
       "      \"vega-lite\": \"https://cdn.jsdelivr.net/npm//vega-lite@4.8.1?noext\",\n",
       "      \"vega-embed\": \"https://cdn.jsdelivr.net/npm//vega-embed@6?noext\",\n",
       "    };\n",
       "\n",
       "    function loadScript(lib) {\n",
       "      return new Promise(function(resolve, reject) {\n",
       "        var s = document.createElement('script');\n",
       "        s.src = paths[lib];\n",
       "        s.async = true;\n",
       "        s.onload = () => resolve(paths[lib]);\n",
       "        s.onerror = () => reject(`Error loading script: ${paths[lib]}`);\n",
       "        document.getElementsByTagName(\"head\")[0].appendChild(s);\n",
       "      });\n",
       "    }\n",
       "\n",
       "    function showError(err) {\n",
       "      outputDiv.innerHTML = `<div class=\"error\" style=\"color:red;\">${err}</div>`;\n",
       "      throw err;\n",
       "    }\n",
       "\n",
       "    function displayChart(vegaEmbed) {\n",
       "      vegaEmbed(outputDiv, spec, embedOpt)\n",
       "        .catch(err => showError(`Javascript Error: ${err.message}<br>This usually means there's a typo in your chart specification. See the javascript console for the full traceback.`));\n",
       "    }\n",
       "\n",
       "    if(typeof define === \"function\" && define.amd) {\n",
       "      requirejs.config({paths});\n",
       "      require([\"vega-embed\"], displayChart, err => showError(`Error loading script: ${err.message}`));\n",
       "    } else if (typeof vegaEmbed === \"function\") {\n",
       "      displayChart(vegaEmbed);\n",
       "    } else {\n",
       "      loadScript(\"vega\")\n",
       "        .then(() => loadScript(\"vega-lite\"))\n",
       "        .then(() => loadScript(\"vega-embed\"))\n",
       "        .catch(showError)\n",
       "        .then(() => displayChart(vegaEmbed));\n",
       "    }\n",
       "  })({\"config\": {\"view\": {\"continuousWidth\": 400, \"continuousHeight\": 300}}, \"data\": {\"name\": \"data-40a6c7d464d1f0a318dab2ada85d74e7\"}, \"mark\": {\"type\": \"point\", \"filled\": true}, \"encoding\": {\"color\": {\"type\": \"nominal\", \"field\": \"cluster\"}, \"size\": {\"type\": \"quantitative\", \"field\": \"pop\", \"scale\": {\"range\": [0, 1000]}}, \"x\": {\"type\": \"quantitative\", \"field\": \"fertility\"}, \"y\": {\"type\": \"quantitative\", \"field\": \"life_expect\"}}, \"$schema\": \"https://vega.github.io/schema/vega-lite/v4.8.1.json\", \"datasets\": {\"data-40a6c7d464d1f0a318dab2ada85d74e7\": [{\"year\": 2000, \"country\": \"Afghanistan\", \"cluster\": \"South Asia\", \"pop\": 23898198, \"life_expect\": 42.129, \"fertility\": 7.4792}, {\"year\": 2000, \"country\": \"Argentina\", \"cluster\": \"Americas\", \"pop\": 37497728, \"life_expect\": 74.34, \"fertility\": 2.35}, {\"year\": 2000, \"country\": \"Aruba\", \"cluster\": \"Americas\", \"pop\": 69539, \"life_expect\": 73.451, \"fertility\": 2.124}, {\"year\": 2000, \"country\": \"Australia\", \"cluster\": \"East Asia & Pacific\", \"pop\": 19164620, \"life_expect\": 80.37, \"fertility\": 1.756}, {\"year\": 2000, \"country\": \"Austria\", \"cluster\": \"Europe & Central Asia\", \"pop\": 8113413, \"life_expect\": 78.98, \"fertility\": 1.382}, {\"year\": 2000, \"country\": \"Bahamas\", \"cluster\": \"Americas\", \"pop\": 290075, \"life_expect\": 71.068, \"fertility\": 2.1111}, {\"year\": 2000, \"country\": \"Bangladesh\", \"cluster\": \"South Asia\", \"pop\": 130406594, \"life_expect\": 62.013, \"fertility\": 3.224}, {\"year\": 2000, \"country\": \"Barbados\", \"cluster\": \"Americas\", \"pop\": 273483, \"life_expect\": 75.97, \"fertility\": 1.5}, {\"year\": 2000, \"country\": \"Belgium\", \"cluster\": \"Europe & Central Asia\", \"pop\": 10263618, \"life_expect\": 78.32, \"fertility\": 1.638}, {\"year\": 2000, \"country\": \"Bolivia\", \"cluster\": \"Americas\", \"pop\": 8152620, \"life_expect\": 63.883, \"fertility\": 3.9585}, {\"year\": 2000, \"country\": \"Brazil\", \"cluster\": \"Americas\", \"pop\": 175552771, \"life_expect\": 71.006, \"fertility\": 2.345}, {\"year\": 2000, \"country\": \"Canada\", \"cluster\": \"Americas\", \"pop\": 31278097, \"life_expect\": 79.77, \"fertility\": 1.522}, {\"year\": 2000, \"country\": \"Chile\", \"cluster\": \"Americas\", \"pop\": 15153450, \"life_expect\": 77.86, \"fertility\": 2.0}, {\"year\": 2000, \"country\": \"China\", \"cluster\": \"East Asia & Pacific\", \"pop\": 1262645000, \"life_expect\": 72.028, \"fertility\": 1.7000000000000002}, {\"year\": 2000, \"country\": \"Colombia\", \"cluster\": \"Americas\", \"pop\": 39685655, \"life_expect\": 71.682, \"fertility\": 2.4705}, {\"year\": 2000, \"country\": \"Costa Rica\", \"cluster\": \"Americas\", \"pop\": 3710558, \"life_expect\": 78.123, \"fertility\": 2.2815}, {\"year\": 2000, \"country\": \"Croatia\", \"cluster\": \"Europe & Central Asia\", \"pop\": 4410830, \"life_expect\": 74.876, \"fertility\": 1.348}, {\"year\": 2000, \"country\": \"Cuba\", \"cluster\": \"Americas\", \"pop\": 11134273, \"life_expect\": 77.158, \"fertility\": 1.63}, {\"year\": 2000, \"country\": \"Dominican Republic\", \"cluster\": \"Americas\", \"pop\": 8385828, \"life_expect\": 70.847, \"fertility\": 2.95}, {\"year\": 2000, \"country\": \"Ecuador\", \"cluster\": \"Americas\", \"pop\": 12505204, \"life_expect\": 74.173, \"fertility\": 2.8175}, {\"year\": 2000, \"country\": \"Egypt\", \"cluster\": \"Middle East & North Africa\", \"pop\": 70492342, \"life_expect\": 69.806, \"fertility\": 3.174}, {\"year\": 2000, \"country\": \"El Salvador\", \"cluster\": \"Americas\", \"pop\": 6122515, \"life_expect\": 70.734, \"fertility\": 2.883}, {\"year\": 2000, \"country\": \"Finland\", \"cluster\": \"Europe & Central Asia\", \"pop\": 5168595, \"life_expect\": 78.37, \"fertility\": 1.754}, {\"year\": 2000, \"country\": \"France\", \"cluster\": \"Europe & Central Asia\", \"pop\": 59381628, \"life_expect\": 79.59, \"fertility\": 1.8833}, {\"year\": 2000, \"country\": \"Georgia\", \"cluster\": \"Europe & Central Asia\", \"pop\": 4777209, \"life_expect\": 70.476, \"fertility\": 1.478}, {\"year\": 2000, \"country\": \"Germany\", \"cluster\": \"Europe & Central Asia\", \"pop\": 82187909, \"life_expect\": 78.67, \"fertility\": 1.346}, {\"year\": 2000, \"country\": \"Greece\", \"cluster\": \"Europe & Central Asia\", \"pop\": 10559110, \"life_expect\": 78.256, \"fertility\": 1.277}, {\"year\": 2000, \"country\": \"Grenada\", \"cluster\": \"Americas\", \"pop\": 89312, \"life_expect\": 67.746, \"fertility\": 2.429}, {\"year\": 2000, \"country\": \"Haiti\", \"cluster\": \"Americas\", \"pop\": 7306302, \"life_expect\": 58.137, \"fertility\": 4.0}, {\"year\": 2000, \"country\": \"Hong Kong\", \"cluster\": \"East Asia & Pacific\", \"pop\": 6658720, \"life_expect\": 81.495, \"fertility\": 0.94}, {\"year\": 2000, \"country\": \"Iceland\", \"cluster\": \"Europe & Central Asia\", \"pop\": 281043, \"life_expect\": 80.5, \"fertility\": 1.993}, {\"year\": 2000, \"country\": \"India\", \"cluster\": \"South Asia\", \"pop\": 1007702000, \"life_expect\": 62.879, \"fertility\": 3.1132}, {\"year\": 2000, \"country\": \"Indonesia\", \"cluster\": \"East Asia & Pacific\", \"pop\": 206265000, \"life_expect\": 68.588, \"fertility\": 2.3761}, {\"year\": 2000, \"country\": \"Iran\", \"cluster\": \"Middle East & North Africa\", \"pop\": 65660289, \"life_expect\": 69.451, \"fertility\": 2.124}, {\"year\": 2000, \"country\": \"Iraq\", \"cluster\": \"Middle East & North Africa\", \"pop\": 22675617, \"life_expect\": 57.046, \"fertility\": 4.858}, {\"year\": 2000, \"country\": \"Ireland\", \"cluster\": \"Europe & Central Asia\", \"pop\": 3791690, \"life_expect\": 77.783, \"fertility\": 1.969}, {\"year\": 2000, \"country\": \"Israel\", \"cluster\": \"Middle East & North Africa\", \"pop\": 5842454, \"life_expect\": 79.696, \"fertility\": 2.906}, {\"year\": 2000, \"country\": \"Italy\", \"cluster\": \"Europe & Central Asia\", \"pop\": 57719337, \"life_expect\": 80.24, \"fertility\": 1.286}, {\"year\": 2000, \"country\": \"Jamaica\", \"cluster\": \"Americas\", \"pop\": 2615467, \"life_expect\": 72.047, \"fertility\": 2.628}, {\"year\": 2000, \"country\": \"Japan\", \"cluster\": \"East Asia & Pacific\", \"pop\": 126699784, \"life_expect\": 82.0, \"fertility\": 1.291}, {\"year\": 2000, \"country\": \"Kenya\", \"cluster\": \"Sub-Saharan Africa\", \"pop\": 29985839, \"life_expect\": 50.992, \"fertility\": 5.0}, {\"year\": 2000, \"country\": \"South Korea\", \"cluster\": \"East Asia & Pacific\", \"pop\": 21647682, \"life_expect\": 66.662, \"fertility\": 1.9173}, {\"year\": 2000, \"country\": \"North Korea\", \"cluster\": \"East Asia & Pacific\", \"pop\": 47351083, \"life_expect\": 77.045, \"fertility\": 1.242}, {\"year\": 2000, \"country\": \"Lebanon\", \"cluster\": \"Middle East & North Africa\", \"pop\": 3578036, \"life_expect\": 71.028, \"fertility\": 2.319}, {\"year\": 2000, \"country\": \"Mexico\", \"cluster\": \"Americas\", \"pop\": 99926620, \"life_expect\": 74.902, \"fertility\": 2.4005}, {\"year\": 2000, \"country\": \"Netherlands\", \"cluster\": \"Europe & Central Asia\", \"pop\": 15907853, \"life_expect\": 78.53, \"fertility\": 1.726}, {\"year\": 2000, \"country\": \"New Zealand\", \"cluster\": \"East Asia & Pacific\", \"pop\": 3819762, \"life_expect\": 79.11, \"fertility\": 1.964}, {\"year\": 2000, \"country\": \"Nigeria\", \"cluster\": \"Sub-Saharan Africa\", \"pop\": 114306700, \"life_expect\": 46.608, \"fertility\": 5.845}, {\"year\": 2000, \"country\": \"Norway\", \"cluster\": \"Europe & Central Asia\", \"pop\": 4492400, \"life_expect\": 79.05, \"fertility\": 1.8010000000000002}, {\"year\": 2000, \"country\": \"Pakistan\", \"cluster\": \"South Asia\", \"pop\": 146342958, \"life_expect\": 63.61, \"fertility\": 3.9936}, {\"year\": 2000, \"country\": \"Peru\", \"cluster\": \"Americas\", \"pop\": 25979722, \"life_expect\": 69.906, \"fertility\": 2.7005}, {\"year\": 2000, \"country\": \"Philippines\", \"cluster\": \"East Asia & Pacific\", \"pop\": 79739825, \"life_expect\": 70.303, \"fertility\": 3.5436}, {\"year\": 2000, \"country\": \"Poland\", \"cluster\": \"Europe & Central Asia\", \"pop\": 38654164, \"life_expect\": 74.67, \"fertility\": 1.251}, {\"year\": 2000, \"country\": \"Portugal\", \"cluster\": \"Europe & Central Asia\", \"pop\": 10335597, \"life_expect\": 77.29, \"fertility\": 1.454}, {\"year\": 2000, \"country\": \"Rwanda\", \"cluster\": \"Sub-Saharan Africa\", \"pop\": 7507056, \"life_expect\": 43.413, \"fertility\": 6.01}, {\"year\": 2000, \"country\": \"Saudi Arabia\", \"cluster\": \"Middle East & North Africa\", \"pop\": 23153090, \"life_expect\": 71.626, \"fertility\": 3.81}, {\"year\": 2000, \"country\": \"South Africa\", \"cluster\": \"Sub-Saharan Africa\", \"pop\": 44066197, \"life_expect\": 53.365, \"fertility\": 2.802}, {\"year\": 2000, \"country\": \"Spain\", \"cluster\": \"Europe & Central Asia\", \"pop\": 40016081, \"life_expect\": 79.78, \"fertility\": 1.287}, {\"year\": 2000, \"country\": \"Switzerland\", \"cluster\": \"Europe & Central Asia\", \"pop\": 7266920, \"life_expect\": 80.62, \"fertility\": 1.415}, {\"year\": 2000, \"country\": \"Turkey\", \"cluster\": \"Europe & Central Asia\", \"pop\": 65666677, \"life_expect\": 70.845, \"fertility\": 2.23}, {\"year\": 2000, \"country\": \"United Kingdom\", \"cluster\": \"Europe & Central Asia\", \"pop\": 59522468, \"life_expect\": 78.471, \"fertility\": 1.695}, {\"year\": 2000, \"country\": \"United States\", \"cluster\": \"Americas\", \"pop\": 282338631, \"life_expect\": 77.31, \"fertility\": 2.038}, {\"year\": 2000, \"country\": \"Venezuela\", \"cluster\": \"Americas\", \"pop\": 23542649, \"life_expect\": 72.766, \"fertility\": 2.723}]}}, {\"mode\": \"vega-lite\"});\n",
       "</script>"
      ],
      "text/plain": [
       "alt.Chart(...)"
      ]
     },
     "execution_count": 16,
     "metadata": {},
     "output_type": "execute_result"
    }
   ],
   "source": [
    "# Solution\n",
    "alt.Chart(df).mark_point(filled=True).encode(\n",
    "    alt.X('fertility:Q'),\n",
    "    alt.Y('life_expect:Q'),\n",
    "    alt.Size('pop:Q', scale=alt.Scale(range=[0, 1000])),\n",
    "    alt.Color('cluster:N')\n",
    ")"
   ]
  },
  {
   "cell_type": "markdown",
   "metadata": {
    "colab_type": "text",
    "id": "zW2Siu5sPaiE"
   },
   "source": [
    "### Shape"
   ]
  },
  {
   "cell_type": "markdown",
   "metadata": {
    "colab_type": "text",
    "id": "MGM2hdOqf3Tu"
   },
   "source": [
    "- The `Shape` encoding channel sets the geometric shape used for point marks\n",
    "\n",
    "\n",
    "- Unlike the other channels we have seen so far, the `Shape` channel cannot be used by other mark types\n",
    "\n",
    "\n",
    "- Let's encode `cluster` using `Shape` as well as `Color`\n",
    "    - Using multiple channels for the same underlying data field is known as **redundant encoding**\n",
    "\n",
    "\n",
    "- The resulting chart combines both color and shape information into a single symbol legend:"
   ]
  },
  {
   "cell_type": "code",
   "execution_count": null,
   "metadata": {},
   "outputs": [],
   "source": []
  },
  {
   "cell_type": "code",
   "execution_count": 17,
   "metadata": {
    "colab": {
     "base_uri": "https://localhost:8080/",
     "height": 372
    },
    "colab_type": "code",
    "id": "czAIeWjSPS5x",
    "outputId": "e418f006-988c-42a9-9a81-664d1d52d93c",
    "tags": [
     "solution"
    ]
   },
   "outputs": [
    {
     "data": {
      "text/html": [
       "\n",
       "<div id=\"altair-viz-f740c462b4b94e1083f589cb9d732bc1\"></div>\n",
       "<script type=\"text/javascript\">\n",
       "  (function(spec, embedOpt){\n",
       "    let outputDiv = document.currentScript.previousElementSibling;\n",
       "    if (outputDiv.id !== \"altair-viz-f740c462b4b94e1083f589cb9d732bc1\") {\n",
       "      outputDiv = document.getElementById(\"altair-viz-f740c462b4b94e1083f589cb9d732bc1\");\n",
       "    }\n",
       "    const paths = {\n",
       "      \"vega\": \"https://cdn.jsdelivr.net/npm//vega@5?noext\",\n",
       "      \"vega-lib\": \"https://cdn.jsdelivr.net/npm//vega-lib?noext\",\n",
       "      \"vega-lite\": \"https://cdn.jsdelivr.net/npm//vega-lite@4.8.1?noext\",\n",
       "      \"vega-embed\": \"https://cdn.jsdelivr.net/npm//vega-embed@6?noext\",\n",
       "    };\n",
       "\n",
       "    function loadScript(lib) {\n",
       "      return new Promise(function(resolve, reject) {\n",
       "        var s = document.createElement('script');\n",
       "        s.src = paths[lib];\n",
       "        s.async = true;\n",
       "        s.onload = () => resolve(paths[lib]);\n",
       "        s.onerror = () => reject(`Error loading script: ${paths[lib]}`);\n",
       "        document.getElementsByTagName(\"head\")[0].appendChild(s);\n",
       "      });\n",
       "    }\n",
       "\n",
       "    function showError(err) {\n",
       "      outputDiv.innerHTML = `<div class=\"error\" style=\"color:red;\">${err}</div>`;\n",
       "      throw err;\n",
       "    }\n",
       "\n",
       "    function displayChart(vegaEmbed) {\n",
       "      vegaEmbed(outputDiv, spec, embedOpt)\n",
       "        .catch(err => showError(`Javascript Error: ${err.message}<br>This usually means there's a typo in your chart specification. See the javascript console for the full traceback.`));\n",
       "    }\n",
       "\n",
       "    if(typeof define === \"function\" && define.amd) {\n",
       "      requirejs.config({paths});\n",
       "      require([\"vega-embed\"], displayChart, err => showError(`Error loading script: ${err.message}`));\n",
       "    } else if (typeof vegaEmbed === \"function\") {\n",
       "      displayChart(vegaEmbed);\n",
       "    } else {\n",
       "      loadScript(\"vega\")\n",
       "        .then(() => loadScript(\"vega-lite\"))\n",
       "        .then(() => loadScript(\"vega-embed\"))\n",
       "        .catch(showError)\n",
       "        .then(() => displayChart(vegaEmbed));\n",
       "    }\n",
       "  })({\"config\": {\"view\": {\"continuousWidth\": 400, \"continuousHeight\": 300}}, \"data\": {\"name\": \"data-40a6c7d464d1f0a318dab2ada85d74e7\"}, \"mark\": {\"type\": \"point\", \"filled\": true}, \"encoding\": {\"color\": {\"type\": \"nominal\", \"field\": \"cluster\"}, \"shape\": {\"type\": \"nominal\", \"field\": \"cluster\"}, \"size\": {\"type\": \"quantitative\", \"field\": \"pop\", \"scale\": {\"range\": [0, 1000]}}, \"x\": {\"type\": \"quantitative\", \"field\": \"fertility\"}, \"y\": {\"type\": \"quantitative\", \"field\": \"life_expect\"}}, \"$schema\": \"https://vega.github.io/schema/vega-lite/v4.8.1.json\", \"datasets\": {\"data-40a6c7d464d1f0a318dab2ada85d74e7\": [{\"year\": 2000, \"country\": \"Afghanistan\", \"cluster\": \"South Asia\", \"pop\": 23898198, \"life_expect\": 42.129, \"fertility\": 7.4792}, {\"year\": 2000, \"country\": \"Argentina\", \"cluster\": \"Americas\", \"pop\": 37497728, \"life_expect\": 74.34, \"fertility\": 2.35}, {\"year\": 2000, \"country\": \"Aruba\", \"cluster\": \"Americas\", \"pop\": 69539, \"life_expect\": 73.451, \"fertility\": 2.124}, {\"year\": 2000, \"country\": \"Australia\", \"cluster\": \"East Asia & Pacific\", \"pop\": 19164620, \"life_expect\": 80.37, \"fertility\": 1.756}, {\"year\": 2000, \"country\": \"Austria\", \"cluster\": \"Europe & Central Asia\", \"pop\": 8113413, \"life_expect\": 78.98, \"fertility\": 1.382}, {\"year\": 2000, \"country\": \"Bahamas\", \"cluster\": \"Americas\", \"pop\": 290075, \"life_expect\": 71.068, \"fertility\": 2.1111}, {\"year\": 2000, \"country\": \"Bangladesh\", \"cluster\": \"South Asia\", \"pop\": 130406594, \"life_expect\": 62.013, \"fertility\": 3.224}, {\"year\": 2000, \"country\": \"Barbados\", \"cluster\": \"Americas\", \"pop\": 273483, \"life_expect\": 75.97, \"fertility\": 1.5}, {\"year\": 2000, \"country\": \"Belgium\", \"cluster\": \"Europe & Central Asia\", \"pop\": 10263618, \"life_expect\": 78.32, \"fertility\": 1.638}, {\"year\": 2000, \"country\": \"Bolivia\", \"cluster\": \"Americas\", \"pop\": 8152620, \"life_expect\": 63.883, \"fertility\": 3.9585}, {\"year\": 2000, \"country\": \"Brazil\", \"cluster\": \"Americas\", \"pop\": 175552771, \"life_expect\": 71.006, \"fertility\": 2.345}, {\"year\": 2000, \"country\": \"Canada\", \"cluster\": \"Americas\", \"pop\": 31278097, \"life_expect\": 79.77, \"fertility\": 1.522}, {\"year\": 2000, \"country\": \"Chile\", \"cluster\": \"Americas\", \"pop\": 15153450, \"life_expect\": 77.86, \"fertility\": 2.0}, {\"year\": 2000, \"country\": \"China\", \"cluster\": \"East Asia & Pacific\", \"pop\": 1262645000, \"life_expect\": 72.028, \"fertility\": 1.7000000000000002}, {\"year\": 2000, \"country\": \"Colombia\", \"cluster\": \"Americas\", \"pop\": 39685655, \"life_expect\": 71.682, \"fertility\": 2.4705}, {\"year\": 2000, \"country\": \"Costa Rica\", \"cluster\": \"Americas\", \"pop\": 3710558, \"life_expect\": 78.123, \"fertility\": 2.2815}, {\"year\": 2000, \"country\": \"Croatia\", \"cluster\": \"Europe & Central Asia\", \"pop\": 4410830, \"life_expect\": 74.876, \"fertility\": 1.348}, {\"year\": 2000, \"country\": \"Cuba\", \"cluster\": \"Americas\", \"pop\": 11134273, \"life_expect\": 77.158, \"fertility\": 1.63}, {\"year\": 2000, \"country\": \"Dominican Republic\", \"cluster\": \"Americas\", \"pop\": 8385828, \"life_expect\": 70.847, \"fertility\": 2.95}, {\"year\": 2000, \"country\": \"Ecuador\", \"cluster\": \"Americas\", \"pop\": 12505204, \"life_expect\": 74.173, \"fertility\": 2.8175}, {\"year\": 2000, \"country\": \"Egypt\", \"cluster\": \"Middle East & North Africa\", \"pop\": 70492342, \"life_expect\": 69.806, \"fertility\": 3.174}, {\"year\": 2000, \"country\": \"El Salvador\", \"cluster\": \"Americas\", \"pop\": 6122515, \"life_expect\": 70.734, \"fertility\": 2.883}, {\"year\": 2000, \"country\": \"Finland\", \"cluster\": \"Europe & Central Asia\", \"pop\": 5168595, \"life_expect\": 78.37, \"fertility\": 1.754}, {\"year\": 2000, \"country\": \"France\", \"cluster\": \"Europe & Central Asia\", \"pop\": 59381628, \"life_expect\": 79.59, \"fertility\": 1.8833}, {\"year\": 2000, \"country\": \"Georgia\", \"cluster\": \"Europe & Central Asia\", \"pop\": 4777209, \"life_expect\": 70.476, \"fertility\": 1.478}, {\"year\": 2000, \"country\": \"Germany\", \"cluster\": \"Europe & Central Asia\", \"pop\": 82187909, \"life_expect\": 78.67, \"fertility\": 1.346}, {\"year\": 2000, \"country\": \"Greece\", \"cluster\": \"Europe & Central Asia\", \"pop\": 10559110, \"life_expect\": 78.256, \"fertility\": 1.277}, {\"year\": 2000, \"country\": \"Grenada\", \"cluster\": \"Americas\", \"pop\": 89312, \"life_expect\": 67.746, \"fertility\": 2.429}, {\"year\": 2000, \"country\": \"Haiti\", \"cluster\": \"Americas\", \"pop\": 7306302, \"life_expect\": 58.137, \"fertility\": 4.0}, {\"year\": 2000, \"country\": \"Hong Kong\", \"cluster\": \"East Asia & Pacific\", \"pop\": 6658720, \"life_expect\": 81.495, \"fertility\": 0.94}, {\"year\": 2000, \"country\": \"Iceland\", \"cluster\": \"Europe & Central Asia\", \"pop\": 281043, \"life_expect\": 80.5, \"fertility\": 1.993}, {\"year\": 2000, \"country\": \"India\", \"cluster\": \"South Asia\", \"pop\": 1007702000, \"life_expect\": 62.879, \"fertility\": 3.1132}, {\"year\": 2000, \"country\": \"Indonesia\", \"cluster\": \"East Asia & Pacific\", \"pop\": 206265000, \"life_expect\": 68.588, \"fertility\": 2.3761}, {\"year\": 2000, \"country\": \"Iran\", \"cluster\": \"Middle East & North Africa\", \"pop\": 65660289, \"life_expect\": 69.451, \"fertility\": 2.124}, {\"year\": 2000, \"country\": \"Iraq\", \"cluster\": \"Middle East & North Africa\", \"pop\": 22675617, \"life_expect\": 57.046, \"fertility\": 4.858}, {\"year\": 2000, \"country\": \"Ireland\", \"cluster\": \"Europe & Central Asia\", \"pop\": 3791690, \"life_expect\": 77.783, \"fertility\": 1.969}, {\"year\": 2000, \"country\": \"Israel\", \"cluster\": \"Middle East & North Africa\", \"pop\": 5842454, \"life_expect\": 79.696, \"fertility\": 2.906}, {\"year\": 2000, \"country\": \"Italy\", \"cluster\": \"Europe & Central Asia\", \"pop\": 57719337, \"life_expect\": 80.24, \"fertility\": 1.286}, {\"year\": 2000, \"country\": \"Jamaica\", \"cluster\": \"Americas\", \"pop\": 2615467, \"life_expect\": 72.047, \"fertility\": 2.628}, {\"year\": 2000, \"country\": \"Japan\", \"cluster\": \"East Asia & Pacific\", \"pop\": 126699784, \"life_expect\": 82.0, \"fertility\": 1.291}, {\"year\": 2000, \"country\": \"Kenya\", \"cluster\": \"Sub-Saharan Africa\", \"pop\": 29985839, \"life_expect\": 50.992, \"fertility\": 5.0}, {\"year\": 2000, \"country\": \"South Korea\", \"cluster\": \"East Asia & Pacific\", \"pop\": 21647682, \"life_expect\": 66.662, \"fertility\": 1.9173}, {\"year\": 2000, \"country\": \"North Korea\", \"cluster\": \"East Asia & Pacific\", \"pop\": 47351083, \"life_expect\": 77.045, \"fertility\": 1.242}, {\"year\": 2000, \"country\": \"Lebanon\", \"cluster\": \"Middle East & North Africa\", \"pop\": 3578036, \"life_expect\": 71.028, \"fertility\": 2.319}, {\"year\": 2000, \"country\": \"Mexico\", \"cluster\": \"Americas\", \"pop\": 99926620, \"life_expect\": 74.902, \"fertility\": 2.4005}, {\"year\": 2000, \"country\": \"Netherlands\", \"cluster\": \"Europe & Central Asia\", \"pop\": 15907853, \"life_expect\": 78.53, \"fertility\": 1.726}, {\"year\": 2000, \"country\": \"New Zealand\", \"cluster\": \"East Asia & Pacific\", \"pop\": 3819762, \"life_expect\": 79.11, \"fertility\": 1.964}, {\"year\": 2000, \"country\": \"Nigeria\", \"cluster\": \"Sub-Saharan Africa\", \"pop\": 114306700, \"life_expect\": 46.608, \"fertility\": 5.845}, {\"year\": 2000, \"country\": \"Norway\", \"cluster\": \"Europe & Central Asia\", \"pop\": 4492400, \"life_expect\": 79.05, \"fertility\": 1.8010000000000002}, {\"year\": 2000, \"country\": \"Pakistan\", \"cluster\": \"South Asia\", \"pop\": 146342958, \"life_expect\": 63.61, \"fertility\": 3.9936}, {\"year\": 2000, \"country\": \"Peru\", \"cluster\": \"Americas\", \"pop\": 25979722, \"life_expect\": 69.906, \"fertility\": 2.7005}, {\"year\": 2000, \"country\": \"Philippines\", \"cluster\": \"East Asia & Pacific\", \"pop\": 79739825, \"life_expect\": 70.303, \"fertility\": 3.5436}, {\"year\": 2000, \"country\": \"Poland\", \"cluster\": \"Europe & Central Asia\", \"pop\": 38654164, \"life_expect\": 74.67, \"fertility\": 1.251}, {\"year\": 2000, \"country\": \"Portugal\", \"cluster\": \"Europe & Central Asia\", \"pop\": 10335597, \"life_expect\": 77.29, \"fertility\": 1.454}, {\"year\": 2000, \"country\": \"Rwanda\", \"cluster\": \"Sub-Saharan Africa\", \"pop\": 7507056, \"life_expect\": 43.413, \"fertility\": 6.01}, {\"year\": 2000, \"country\": \"Saudi Arabia\", \"cluster\": \"Middle East & North Africa\", \"pop\": 23153090, \"life_expect\": 71.626, \"fertility\": 3.81}, {\"year\": 2000, \"country\": \"South Africa\", \"cluster\": \"Sub-Saharan Africa\", \"pop\": 44066197, \"life_expect\": 53.365, \"fertility\": 2.802}, {\"year\": 2000, \"country\": \"Spain\", \"cluster\": \"Europe & Central Asia\", \"pop\": 40016081, \"life_expect\": 79.78, \"fertility\": 1.287}, {\"year\": 2000, \"country\": \"Switzerland\", \"cluster\": \"Europe & Central Asia\", \"pop\": 7266920, \"life_expect\": 80.62, \"fertility\": 1.415}, {\"year\": 2000, \"country\": \"Turkey\", \"cluster\": \"Europe & Central Asia\", \"pop\": 65666677, \"life_expect\": 70.845, \"fertility\": 2.23}, {\"year\": 2000, \"country\": \"United Kingdom\", \"cluster\": \"Europe & Central Asia\", \"pop\": 59522468, \"life_expect\": 78.471, \"fertility\": 1.695}, {\"year\": 2000, \"country\": \"United States\", \"cluster\": \"Americas\", \"pop\": 282338631, \"life_expect\": 77.31, \"fertility\": 2.038}, {\"year\": 2000, \"country\": \"Venezuela\", \"cluster\": \"Americas\", \"pop\": 23542649, \"life_expect\": 72.766, \"fertility\": 2.723}]}}, {\"mode\": \"vega-lite\"});\n",
       "</script>"
      ],
      "text/plain": [
       "alt.Chart(...)"
      ]
     },
     "execution_count": 17,
     "metadata": {},
     "output_type": "execute_result"
    }
   ],
   "source": [
    "# Solution\n",
    "alt.Chart(df).mark_point(filled=True).encode(\n",
    "    alt.X('fertility:Q'),\n",
    "    alt.Y('life_expect:Q'),\n",
    "    alt.Size('pop:Q', scale=alt.Scale(range=[0, 1000])),\n",
    "    alt.Color('cluster:N'),\n",
    "    alt.Shape('cluster:N')\n",
    ")"
   ]
  },
  {
   "cell_type": "markdown",
   "metadata": {},
   "source": [
    "<hr style=\"border-top: 2px solid gray; margin-top: 1px; margin-bottom: 1px\"></hr>"
   ]
  },
  {
   "cell_type": "markdown",
   "metadata": {
    "colab_type": "text",
    "id": "UPdDrmm9YK5E"
   },
   "source": [
    "## Graphical marks"
   ]
  },
  {
   "cell_type": "markdown",
   "metadata": {
    "colab_type": "text",
    "id": "UPdDrmm9YK5E"
   },
   "source": [
    "- So far, we've only used point marks to visualize data\n",
    "\n",
    "\n",
    "- Altair has many built-in mark types: [here's the documentation](https://altair-viz.github.io/user_guide/marks.html)\n",
    "\n",
    "\n",
    "- In this lesson, we'll learn about some of the more commonly used mark methods:\n",
    "    - __point__: scatter plot points with configurable shapes\n",
    "    - __bar__: rectangular bars\n",
    "    - __line__: connected line segments"
   ]
  },
  {
   "cell_type": "markdown",
   "metadata": {
    "colab_type": "text",
    "id": "jVp7cC-BbYF5"
   },
   "source": [
    "### Point marks"
   ]
  },
  {
   "cell_type": "markdown",
   "metadata": {
    "colab_type": "text",
    "id": "jVp7cC-BbYF5"
   },
   "source": [
    "- As we've seen above, the __point__ mark type conveys specific points, as in *scatter plots* and *dot plots*\n",
    "\n",
    "\n",
    "- We use the `.mark_point()` method to create a chart with point marks\n",
    "\n",
    "\n",
    "- In addition to `X` and `Y` encoding channels (to specify 2D point positions), point marks can use `Color`, `Size`, and `Shape` encodings to convey additional variables\n",
    "\n",
    "\n",
    "- Here is a dot plot of `fertility`, with `cluster` redundantly encoded using both the `Y` and `Shape` channels:"
   ]
  },
  {
   "cell_type": "code",
   "execution_count": null,
   "metadata": {},
   "outputs": [],
   "source": []
  },
  {
   "cell_type": "code",
   "execution_count": 18,
   "metadata": {
    "colab": {
     "base_uri": "https://localhost:8080/",
     "height": 192
    },
    "colab_type": "code",
    "id": "3jrFfaKCtbyL",
    "outputId": "6332a348-f8f0-4dd8-9c4a-63687e286d4a",
    "tags": [
     "solution"
    ]
   },
   "outputs": [
    {
     "data": {
      "text/html": [
       "\n",
       "<div id=\"altair-viz-4f5b8a3a84654ae194953e7f3ddce359\"></div>\n",
       "<script type=\"text/javascript\">\n",
       "  (function(spec, embedOpt){\n",
       "    let outputDiv = document.currentScript.previousElementSibling;\n",
       "    if (outputDiv.id !== \"altair-viz-4f5b8a3a84654ae194953e7f3ddce359\") {\n",
       "      outputDiv = document.getElementById(\"altair-viz-4f5b8a3a84654ae194953e7f3ddce359\");\n",
       "    }\n",
       "    const paths = {\n",
       "      \"vega\": \"https://cdn.jsdelivr.net/npm//vega@5?noext\",\n",
       "      \"vega-lib\": \"https://cdn.jsdelivr.net/npm//vega-lib?noext\",\n",
       "      \"vega-lite\": \"https://cdn.jsdelivr.net/npm//vega-lite@4.8.1?noext\",\n",
       "      \"vega-embed\": \"https://cdn.jsdelivr.net/npm//vega-embed@6?noext\",\n",
       "    };\n",
       "\n",
       "    function loadScript(lib) {\n",
       "      return new Promise(function(resolve, reject) {\n",
       "        var s = document.createElement('script');\n",
       "        s.src = paths[lib];\n",
       "        s.async = true;\n",
       "        s.onload = () => resolve(paths[lib]);\n",
       "        s.onerror = () => reject(`Error loading script: ${paths[lib]}`);\n",
       "        document.getElementsByTagName(\"head\")[0].appendChild(s);\n",
       "      });\n",
       "    }\n",
       "\n",
       "    function showError(err) {\n",
       "      outputDiv.innerHTML = `<div class=\"error\" style=\"color:red;\">${err}</div>`;\n",
       "      throw err;\n",
       "    }\n",
       "\n",
       "    function displayChart(vegaEmbed) {\n",
       "      vegaEmbed(outputDiv, spec, embedOpt)\n",
       "        .catch(err => showError(`Javascript Error: ${err.message}<br>This usually means there's a typo in your chart specification. See the javascript console for the full traceback.`));\n",
       "    }\n",
       "\n",
       "    if(typeof define === \"function\" && define.amd) {\n",
       "      requirejs.config({paths});\n",
       "      require([\"vega-embed\"], displayChart, err => showError(`Error loading script: ${err.message}`));\n",
       "    } else if (typeof vegaEmbed === \"function\") {\n",
       "      displayChart(vegaEmbed);\n",
       "    } else {\n",
       "      loadScript(\"vega\")\n",
       "        .then(() => loadScript(\"vega-lite\"))\n",
       "        .then(() => loadScript(\"vega-embed\"))\n",
       "        .catch(showError)\n",
       "        .then(() => displayChart(vegaEmbed));\n",
       "    }\n",
       "  })({\"config\": {\"view\": {\"continuousWidth\": 400, \"continuousHeight\": 300}}, \"data\": {\"name\": \"data-40a6c7d464d1f0a318dab2ada85d74e7\"}, \"mark\": \"point\", \"encoding\": {\"shape\": {\"type\": \"nominal\", \"field\": \"cluster\"}, \"x\": {\"type\": \"quantitative\", \"field\": \"fertility\"}, \"y\": {\"type\": \"nominal\", \"field\": \"cluster\"}}, \"$schema\": \"https://vega.github.io/schema/vega-lite/v4.8.1.json\", \"datasets\": {\"data-40a6c7d464d1f0a318dab2ada85d74e7\": [{\"year\": 2000, \"country\": \"Afghanistan\", \"cluster\": \"South Asia\", \"pop\": 23898198, \"life_expect\": 42.129, \"fertility\": 7.4792}, {\"year\": 2000, \"country\": \"Argentina\", \"cluster\": \"Americas\", \"pop\": 37497728, \"life_expect\": 74.34, \"fertility\": 2.35}, {\"year\": 2000, \"country\": \"Aruba\", \"cluster\": \"Americas\", \"pop\": 69539, \"life_expect\": 73.451, \"fertility\": 2.124}, {\"year\": 2000, \"country\": \"Australia\", \"cluster\": \"East Asia & Pacific\", \"pop\": 19164620, \"life_expect\": 80.37, \"fertility\": 1.756}, {\"year\": 2000, \"country\": \"Austria\", \"cluster\": \"Europe & Central Asia\", \"pop\": 8113413, \"life_expect\": 78.98, \"fertility\": 1.382}, {\"year\": 2000, \"country\": \"Bahamas\", \"cluster\": \"Americas\", \"pop\": 290075, \"life_expect\": 71.068, \"fertility\": 2.1111}, {\"year\": 2000, \"country\": \"Bangladesh\", \"cluster\": \"South Asia\", \"pop\": 130406594, \"life_expect\": 62.013, \"fertility\": 3.224}, {\"year\": 2000, \"country\": \"Barbados\", \"cluster\": \"Americas\", \"pop\": 273483, \"life_expect\": 75.97, \"fertility\": 1.5}, {\"year\": 2000, \"country\": \"Belgium\", \"cluster\": \"Europe & Central Asia\", \"pop\": 10263618, \"life_expect\": 78.32, \"fertility\": 1.638}, {\"year\": 2000, \"country\": \"Bolivia\", \"cluster\": \"Americas\", \"pop\": 8152620, \"life_expect\": 63.883, \"fertility\": 3.9585}, {\"year\": 2000, \"country\": \"Brazil\", \"cluster\": \"Americas\", \"pop\": 175552771, \"life_expect\": 71.006, \"fertility\": 2.345}, {\"year\": 2000, \"country\": \"Canada\", \"cluster\": \"Americas\", \"pop\": 31278097, \"life_expect\": 79.77, \"fertility\": 1.522}, {\"year\": 2000, \"country\": \"Chile\", \"cluster\": \"Americas\", \"pop\": 15153450, \"life_expect\": 77.86, \"fertility\": 2.0}, {\"year\": 2000, \"country\": \"China\", \"cluster\": \"East Asia & Pacific\", \"pop\": 1262645000, \"life_expect\": 72.028, \"fertility\": 1.7000000000000002}, {\"year\": 2000, \"country\": \"Colombia\", \"cluster\": \"Americas\", \"pop\": 39685655, \"life_expect\": 71.682, \"fertility\": 2.4705}, {\"year\": 2000, \"country\": \"Costa Rica\", \"cluster\": \"Americas\", \"pop\": 3710558, \"life_expect\": 78.123, \"fertility\": 2.2815}, {\"year\": 2000, \"country\": \"Croatia\", \"cluster\": \"Europe & Central Asia\", \"pop\": 4410830, \"life_expect\": 74.876, \"fertility\": 1.348}, {\"year\": 2000, \"country\": \"Cuba\", \"cluster\": \"Americas\", \"pop\": 11134273, \"life_expect\": 77.158, \"fertility\": 1.63}, {\"year\": 2000, \"country\": \"Dominican Republic\", \"cluster\": \"Americas\", \"pop\": 8385828, \"life_expect\": 70.847, \"fertility\": 2.95}, {\"year\": 2000, \"country\": \"Ecuador\", \"cluster\": \"Americas\", \"pop\": 12505204, \"life_expect\": 74.173, \"fertility\": 2.8175}, {\"year\": 2000, \"country\": \"Egypt\", \"cluster\": \"Middle East & North Africa\", \"pop\": 70492342, \"life_expect\": 69.806, \"fertility\": 3.174}, {\"year\": 2000, \"country\": \"El Salvador\", \"cluster\": \"Americas\", \"pop\": 6122515, \"life_expect\": 70.734, \"fertility\": 2.883}, {\"year\": 2000, \"country\": \"Finland\", \"cluster\": \"Europe & Central Asia\", \"pop\": 5168595, \"life_expect\": 78.37, \"fertility\": 1.754}, {\"year\": 2000, \"country\": \"France\", \"cluster\": \"Europe & Central Asia\", \"pop\": 59381628, \"life_expect\": 79.59, \"fertility\": 1.8833}, {\"year\": 2000, \"country\": \"Georgia\", \"cluster\": \"Europe & Central Asia\", \"pop\": 4777209, \"life_expect\": 70.476, \"fertility\": 1.478}, {\"year\": 2000, \"country\": \"Germany\", \"cluster\": \"Europe & Central Asia\", \"pop\": 82187909, \"life_expect\": 78.67, \"fertility\": 1.346}, {\"year\": 2000, \"country\": \"Greece\", \"cluster\": \"Europe & Central Asia\", \"pop\": 10559110, \"life_expect\": 78.256, \"fertility\": 1.277}, {\"year\": 2000, \"country\": \"Grenada\", \"cluster\": \"Americas\", \"pop\": 89312, \"life_expect\": 67.746, \"fertility\": 2.429}, {\"year\": 2000, \"country\": \"Haiti\", \"cluster\": \"Americas\", \"pop\": 7306302, \"life_expect\": 58.137, \"fertility\": 4.0}, {\"year\": 2000, \"country\": \"Hong Kong\", \"cluster\": \"East Asia & Pacific\", \"pop\": 6658720, \"life_expect\": 81.495, \"fertility\": 0.94}, {\"year\": 2000, \"country\": \"Iceland\", \"cluster\": \"Europe & Central Asia\", \"pop\": 281043, \"life_expect\": 80.5, \"fertility\": 1.993}, {\"year\": 2000, \"country\": \"India\", \"cluster\": \"South Asia\", \"pop\": 1007702000, \"life_expect\": 62.879, \"fertility\": 3.1132}, {\"year\": 2000, \"country\": \"Indonesia\", \"cluster\": \"East Asia & Pacific\", \"pop\": 206265000, \"life_expect\": 68.588, \"fertility\": 2.3761}, {\"year\": 2000, \"country\": \"Iran\", \"cluster\": \"Middle East & North Africa\", \"pop\": 65660289, \"life_expect\": 69.451, \"fertility\": 2.124}, {\"year\": 2000, \"country\": \"Iraq\", \"cluster\": \"Middle East & North Africa\", \"pop\": 22675617, \"life_expect\": 57.046, \"fertility\": 4.858}, {\"year\": 2000, \"country\": \"Ireland\", \"cluster\": \"Europe & Central Asia\", \"pop\": 3791690, \"life_expect\": 77.783, \"fertility\": 1.969}, {\"year\": 2000, \"country\": \"Israel\", \"cluster\": \"Middle East & North Africa\", \"pop\": 5842454, \"life_expect\": 79.696, \"fertility\": 2.906}, {\"year\": 2000, \"country\": \"Italy\", \"cluster\": \"Europe & Central Asia\", \"pop\": 57719337, \"life_expect\": 80.24, \"fertility\": 1.286}, {\"year\": 2000, \"country\": \"Jamaica\", \"cluster\": \"Americas\", \"pop\": 2615467, \"life_expect\": 72.047, \"fertility\": 2.628}, {\"year\": 2000, \"country\": \"Japan\", \"cluster\": \"East Asia & Pacific\", \"pop\": 126699784, \"life_expect\": 82.0, \"fertility\": 1.291}, {\"year\": 2000, \"country\": \"Kenya\", \"cluster\": \"Sub-Saharan Africa\", \"pop\": 29985839, \"life_expect\": 50.992, \"fertility\": 5.0}, {\"year\": 2000, \"country\": \"South Korea\", \"cluster\": \"East Asia & Pacific\", \"pop\": 21647682, \"life_expect\": 66.662, \"fertility\": 1.9173}, {\"year\": 2000, \"country\": \"North Korea\", \"cluster\": \"East Asia & Pacific\", \"pop\": 47351083, \"life_expect\": 77.045, \"fertility\": 1.242}, {\"year\": 2000, \"country\": \"Lebanon\", \"cluster\": \"Middle East & North Africa\", \"pop\": 3578036, \"life_expect\": 71.028, \"fertility\": 2.319}, {\"year\": 2000, \"country\": \"Mexico\", \"cluster\": \"Americas\", \"pop\": 99926620, \"life_expect\": 74.902, \"fertility\": 2.4005}, {\"year\": 2000, \"country\": \"Netherlands\", \"cluster\": \"Europe & Central Asia\", \"pop\": 15907853, \"life_expect\": 78.53, \"fertility\": 1.726}, {\"year\": 2000, \"country\": \"New Zealand\", \"cluster\": \"East Asia & Pacific\", \"pop\": 3819762, \"life_expect\": 79.11, \"fertility\": 1.964}, {\"year\": 2000, \"country\": \"Nigeria\", \"cluster\": \"Sub-Saharan Africa\", \"pop\": 114306700, \"life_expect\": 46.608, \"fertility\": 5.845}, {\"year\": 2000, \"country\": \"Norway\", \"cluster\": \"Europe & Central Asia\", \"pop\": 4492400, \"life_expect\": 79.05, \"fertility\": 1.8010000000000002}, {\"year\": 2000, \"country\": \"Pakistan\", \"cluster\": \"South Asia\", \"pop\": 146342958, \"life_expect\": 63.61, \"fertility\": 3.9936}, {\"year\": 2000, \"country\": \"Peru\", \"cluster\": \"Americas\", \"pop\": 25979722, \"life_expect\": 69.906, \"fertility\": 2.7005}, {\"year\": 2000, \"country\": \"Philippines\", \"cluster\": \"East Asia & Pacific\", \"pop\": 79739825, \"life_expect\": 70.303, \"fertility\": 3.5436}, {\"year\": 2000, \"country\": \"Poland\", \"cluster\": \"Europe & Central Asia\", \"pop\": 38654164, \"life_expect\": 74.67, \"fertility\": 1.251}, {\"year\": 2000, \"country\": \"Portugal\", \"cluster\": \"Europe & Central Asia\", \"pop\": 10335597, \"life_expect\": 77.29, \"fertility\": 1.454}, {\"year\": 2000, \"country\": \"Rwanda\", \"cluster\": \"Sub-Saharan Africa\", \"pop\": 7507056, \"life_expect\": 43.413, \"fertility\": 6.01}, {\"year\": 2000, \"country\": \"Saudi Arabia\", \"cluster\": \"Middle East & North Africa\", \"pop\": 23153090, \"life_expect\": 71.626, \"fertility\": 3.81}, {\"year\": 2000, \"country\": \"South Africa\", \"cluster\": \"Sub-Saharan Africa\", \"pop\": 44066197, \"life_expect\": 53.365, \"fertility\": 2.802}, {\"year\": 2000, \"country\": \"Spain\", \"cluster\": \"Europe & Central Asia\", \"pop\": 40016081, \"life_expect\": 79.78, \"fertility\": 1.287}, {\"year\": 2000, \"country\": \"Switzerland\", \"cluster\": \"Europe & Central Asia\", \"pop\": 7266920, \"life_expect\": 80.62, \"fertility\": 1.415}, {\"year\": 2000, \"country\": \"Turkey\", \"cluster\": \"Europe & Central Asia\", \"pop\": 65666677, \"life_expect\": 70.845, \"fertility\": 2.23}, {\"year\": 2000, \"country\": \"United Kingdom\", \"cluster\": \"Europe & Central Asia\", \"pop\": 59522468, \"life_expect\": 78.471, \"fertility\": 1.695}, {\"year\": 2000, \"country\": \"United States\", \"cluster\": \"Americas\", \"pop\": 282338631, \"life_expect\": 77.31, \"fertility\": 2.038}, {\"year\": 2000, \"country\": \"Venezuela\", \"cluster\": \"Americas\", \"pop\": 23542649, \"life_expect\": 72.766, \"fertility\": 2.723}]}}, {\"mode\": \"vega-lite\"});\n",
       "</script>"
      ],
      "text/plain": [
       "alt.Chart(...)"
      ]
     },
     "execution_count": 18,
     "metadata": {},
     "output_type": "execute_result"
    }
   ],
   "source": [
    "# Solution\n",
    "alt.Chart(df).mark_point().encode(\n",
    "    alt.X('fertility:Q'),\n",
    "    alt.Y('cluster:N'),\n",
    "    alt.Shape('cluster:N')\n",
    ")"
   ]
  },
  {
   "cell_type": "markdown",
   "metadata": {
    "tags": []
   },
   "source": [
    "❓ **Exercise 4.**\n",
    "Look at the Altair documentation on marks (see link above). What do the `.mark_circle()` and `.mark_square()` methods do? Try changing the plot above to use these different marks and see what happens. Do the results make sense? Why?"
   ]
  },
  {
   "cell_type": "markdown",
   "metadata": {},
   "source": [
    "*Write your answer here. Double-click to edit.*"
   ]
  },
  {
   "cell_type": "markdown",
   "metadata": {
    "tags": [
     "solution"
    ]
   },
   "source": [
    "*Solution.* `.mark_circle()` and `.mark_square()` are similar to `.mark_point()`, except that the points drawn by `.mark_circle()` are filled circles, and the points drawn by `.mark_square()` are filled squares."
   ]
  },
  {
   "cell_type": "markdown",
   "metadata": {
    "colab_type": "text",
    "id": "bONM4Ccrt4Sw"
   },
   "source": [
    "- Marks can be styled by passing parameters to the `.mark_...()` methods\n",
    "\n",
    "\n",
    "- For example, we can change the size of a default point and whether a point is filled like this:"
   ]
  },
  {
   "cell_type": "code",
   "execution_count": null,
   "metadata": {},
   "outputs": [],
   "source": []
  },
  {
   "cell_type": "code",
   "execution_count": 19,
   "metadata": {
    "colab": {
     "base_uri": "https://localhost:8080/",
     "height": 192
    },
    "colab_type": "code",
    "id": "3-HgJ1PjvKdH",
    "outputId": "dcf26fa9-281b-4297-da50-84c7f5ccd318",
    "tags": [
     "solution"
    ]
   },
   "outputs": [
    {
     "data": {
      "text/html": [
       "\n",
       "<div id=\"altair-viz-4d5fdbd870c945749a5bbcb16e304961\"></div>\n",
       "<script type=\"text/javascript\">\n",
       "  (function(spec, embedOpt){\n",
       "    let outputDiv = document.currentScript.previousElementSibling;\n",
       "    if (outputDiv.id !== \"altair-viz-4d5fdbd870c945749a5bbcb16e304961\") {\n",
       "      outputDiv = document.getElementById(\"altair-viz-4d5fdbd870c945749a5bbcb16e304961\");\n",
       "    }\n",
       "    const paths = {\n",
       "      \"vega\": \"https://cdn.jsdelivr.net/npm//vega@5?noext\",\n",
       "      \"vega-lib\": \"https://cdn.jsdelivr.net/npm//vega-lib?noext\",\n",
       "      \"vega-lite\": \"https://cdn.jsdelivr.net/npm//vega-lite@4.8.1?noext\",\n",
       "      \"vega-embed\": \"https://cdn.jsdelivr.net/npm//vega-embed@6?noext\",\n",
       "    };\n",
       "\n",
       "    function loadScript(lib) {\n",
       "      return new Promise(function(resolve, reject) {\n",
       "        var s = document.createElement('script');\n",
       "        s.src = paths[lib];\n",
       "        s.async = true;\n",
       "        s.onload = () => resolve(paths[lib]);\n",
       "        s.onerror = () => reject(`Error loading script: ${paths[lib]}`);\n",
       "        document.getElementsByTagName(\"head\")[0].appendChild(s);\n",
       "      });\n",
       "    }\n",
       "\n",
       "    function showError(err) {\n",
       "      outputDiv.innerHTML = `<div class=\"error\" style=\"color:red;\">${err}</div>`;\n",
       "      throw err;\n",
       "    }\n",
       "\n",
       "    function displayChart(vegaEmbed) {\n",
       "      vegaEmbed(outputDiv, spec, embedOpt)\n",
       "        .catch(err => showError(`Javascript Error: ${err.message}<br>This usually means there's a typo in your chart specification. See the javascript console for the full traceback.`));\n",
       "    }\n",
       "\n",
       "    if(typeof define === \"function\" && define.amd) {\n",
       "      requirejs.config({paths});\n",
       "      require([\"vega-embed\"], displayChart, err => showError(`Error loading script: ${err.message}`));\n",
       "    } else if (typeof vegaEmbed === \"function\") {\n",
       "      displayChart(vegaEmbed);\n",
       "    } else {\n",
       "      loadScript(\"vega\")\n",
       "        .then(() => loadScript(\"vega-lite\"))\n",
       "        .then(() => loadScript(\"vega-embed\"))\n",
       "        .catch(showError)\n",
       "        .then(() => displayChart(vegaEmbed));\n",
       "    }\n",
       "  })({\"config\": {\"view\": {\"continuousWidth\": 400, \"continuousHeight\": 300}}, \"data\": {\"name\": \"data-40a6c7d464d1f0a318dab2ada85d74e7\"}, \"mark\": {\"type\": \"point\", \"filled\": true, \"size\": 200}, \"encoding\": {\"shape\": {\"type\": \"nominal\", \"field\": \"cluster\"}, \"x\": {\"type\": \"quantitative\", \"field\": \"fertility\"}, \"y\": {\"type\": \"nominal\", \"field\": \"cluster\"}}, \"$schema\": \"https://vega.github.io/schema/vega-lite/v4.8.1.json\", \"datasets\": {\"data-40a6c7d464d1f0a318dab2ada85d74e7\": [{\"year\": 2000, \"country\": \"Afghanistan\", \"cluster\": \"South Asia\", \"pop\": 23898198, \"life_expect\": 42.129, \"fertility\": 7.4792}, {\"year\": 2000, \"country\": \"Argentina\", \"cluster\": \"Americas\", \"pop\": 37497728, \"life_expect\": 74.34, \"fertility\": 2.35}, {\"year\": 2000, \"country\": \"Aruba\", \"cluster\": \"Americas\", \"pop\": 69539, \"life_expect\": 73.451, \"fertility\": 2.124}, {\"year\": 2000, \"country\": \"Australia\", \"cluster\": \"East Asia & Pacific\", \"pop\": 19164620, \"life_expect\": 80.37, \"fertility\": 1.756}, {\"year\": 2000, \"country\": \"Austria\", \"cluster\": \"Europe & Central Asia\", \"pop\": 8113413, \"life_expect\": 78.98, \"fertility\": 1.382}, {\"year\": 2000, \"country\": \"Bahamas\", \"cluster\": \"Americas\", \"pop\": 290075, \"life_expect\": 71.068, \"fertility\": 2.1111}, {\"year\": 2000, \"country\": \"Bangladesh\", \"cluster\": \"South Asia\", \"pop\": 130406594, \"life_expect\": 62.013, \"fertility\": 3.224}, {\"year\": 2000, \"country\": \"Barbados\", \"cluster\": \"Americas\", \"pop\": 273483, \"life_expect\": 75.97, \"fertility\": 1.5}, {\"year\": 2000, \"country\": \"Belgium\", \"cluster\": \"Europe & Central Asia\", \"pop\": 10263618, \"life_expect\": 78.32, \"fertility\": 1.638}, {\"year\": 2000, \"country\": \"Bolivia\", \"cluster\": \"Americas\", \"pop\": 8152620, \"life_expect\": 63.883, \"fertility\": 3.9585}, {\"year\": 2000, \"country\": \"Brazil\", \"cluster\": \"Americas\", \"pop\": 175552771, \"life_expect\": 71.006, \"fertility\": 2.345}, {\"year\": 2000, \"country\": \"Canada\", \"cluster\": \"Americas\", \"pop\": 31278097, \"life_expect\": 79.77, \"fertility\": 1.522}, {\"year\": 2000, \"country\": \"Chile\", \"cluster\": \"Americas\", \"pop\": 15153450, \"life_expect\": 77.86, \"fertility\": 2.0}, {\"year\": 2000, \"country\": \"China\", \"cluster\": \"East Asia & Pacific\", \"pop\": 1262645000, \"life_expect\": 72.028, \"fertility\": 1.7000000000000002}, {\"year\": 2000, \"country\": \"Colombia\", \"cluster\": \"Americas\", \"pop\": 39685655, \"life_expect\": 71.682, \"fertility\": 2.4705}, {\"year\": 2000, \"country\": \"Costa Rica\", \"cluster\": \"Americas\", \"pop\": 3710558, \"life_expect\": 78.123, \"fertility\": 2.2815}, {\"year\": 2000, \"country\": \"Croatia\", \"cluster\": \"Europe & Central Asia\", \"pop\": 4410830, \"life_expect\": 74.876, \"fertility\": 1.348}, {\"year\": 2000, \"country\": \"Cuba\", \"cluster\": \"Americas\", \"pop\": 11134273, \"life_expect\": 77.158, \"fertility\": 1.63}, {\"year\": 2000, \"country\": \"Dominican Republic\", \"cluster\": \"Americas\", \"pop\": 8385828, \"life_expect\": 70.847, \"fertility\": 2.95}, {\"year\": 2000, \"country\": \"Ecuador\", \"cluster\": \"Americas\", \"pop\": 12505204, \"life_expect\": 74.173, \"fertility\": 2.8175}, {\"year\": 2000, \"country\": \"Egypt\", \"cluster\": \"Middle East & North Africa\", \"pop\": 70492342, \"life_expect\": 69.806, \"fertility\": 3.174}, {\"year\": 2000, \"country\": \"El Salvador\", \"cluster\": \"Americas\", \"pop\": 6122515, \"life_expect\": 70.734, \"fertility\": 2.883}, {\"year\": 2000, \"country\": \"Finland\", \"cluster\": \"Europe & Central Asia\", \"pop\": 5168595, \"life_expect\": 78.37, \"fertility\": 1.754}, {\"year\": 2000, \"country\": \"France\", \"cluster\": \"Europe & Central Asia\", \"pop\": 59381628, \"life_expect\": 79.59, \"fertility\": 1.8833}, {\"year\": 2000, \"country\": \"Georgia\", \"cluster\": \"Europe & Central Asia\", \"pop\": 4777209, \"life_expect\": 70.476, \"fertility\": 1.478}, {\"year\": 2000, \"country\": \"Germany\", \"cluster\": \"Europe & Central Asia\", \"pop\": 82187909, \"life_expect\": 78.67, \"fertility\": 1.346}, {\"year\": 2000, \"country\": \"Greece\", \"cluster\": \"Europe & Central Asia\", \"pop\": 10559110, \"life_expect\": 78.256, \"fertility\": 1.277}, {\"year\": 2000, \"country\": \"Grenada\", \"cluster\": \"Americas\", \"pop\": 89312, \"life_expect\": 67.746, \"fertility\": 2.429}, {\"year\": 2000, \"country\": \"Haiti\", \"cluster\": \"Americas\", \"pop\": 7306302, \"life_expect\": 58.137, \"fertility\": 4.0}, {\"year\": 2000, \"country\": \"Hong Kong\", \"cluster\": \"East Asia & Pacific\", \"pop\": 6658720, \"life_expect\": 81.495, \"fertility\": 0.94}, {\"year\": 2000, \"country\": \"Iceland\", \"cluster\": \"Europe & Central Asia\", \"pop\": 281043, \"life_expect\": 80.5, \"fertility\": 1.993}, {\"year\": 2000, \"country\": \"India\", \"cluster\": \"South Asia\", \"pop\": 1007702000, \"life_expect\": 62.879, \"fertility\": 3.1132}, {\"year\": 2000, \"country\": \"Indonesia\", \"cluster\": \"East Asia & Pacific\", \"pop\": 206265000, \"life_expect\": 68.588, \"fertility\": 2.3761}, {\"year\": 2000, \"country\": \"Iran\", \"cluster\": \"Middle East & North Africa\", \"pop\": 65660289, \"life_expect\": 69.451, \"fertility\": 2.124}, {\"year\": 2000, \"country\": \"Iraq\", \"cluster\": \"Middle East & North Africa\", \"pop\": 22675617, \"life_expect\": 57.046, \"fertility\": 4.858}, {\"year\": 2000, \"country\": \"Ireland\", \"cluster\": \"Europe & Central Asia\", \"pop\": 3791690, \"life_expect\": 77.783, \"fertility\": 1.969}, {\"year\": 2000, \"country\": \"Israel\", \"cluster\": \"Middle East & North Africa\", \"pop\": 5842454, \"life_expect\": 79.696, \"fertility\": 2.906}, {\"year\": 2000, \"country\": \"Italy\", \"cluster\": \"Europe & Central Asia\", \"pop\": 57719337, \"life_expect\": 80.24, \"fertility\": 1.286}, {\"year\": 2000, \"country\": \"Jamaica\", \"cluster\": \"Americas\", \"pop\": 2615467, \"life_expect\": 72.047, \"fertility\": 2.628}, {\"year\": 2000, \"country\": \"Japan\", \"cluster\": \"East Asia & Pacific\", \"pop\": 126699784, \"life_expect\": 82.0, \"fertility\": 1.291}, {\"year\": 2000, \"country\": \"Kenya\", \"cluster\": \"Sub-Saharan Africa\", \"pop\": 29985839, \"life_expect\": 50.992, \"fertility\": 5.0}, {\"year\": 2000, \"country\": \"South Korea\", \"cluster\": \"East Asia & Pacific\", \"pop\": 21647682, \"life_expect\": 66.662, \"fertility\": 1.9173}, {\"year\": 2000, \"country\": \"North Korea\", \"cluster\": \"East Asia & Pacific\", \"pop\": 47351083, \"life_expect\": 77.045, \"fertility\": 1.242}, {\"year\": 2000, \"country\": \"Lebanon\", \"cluster\": \"Middle East & North Africa\", \"pop\": 3578036, \"life_expect\": 71.028, \"fertility\": 2.319}, {\"year\": 2000, \"country\": \"Mexico\", \"cluster\": \"Americas\", \"pop\": 99926620, \"life_expect\": 74.902, \"fertility\": 2.4005}, {\"year\": 2000, \"country\": \"Netherlands\", \"cluster\": \"Europe & Central Asia\", \"pop\": 15907853, \"life_expect\": 78.53, \"fertility\": 1.726}, {\"year\": 2000, \"country\": \"New Zealand\", \"cluster\": \"East Asia & Pacific\", \"pop\": 3819762, \"life_expect\": 79.11, \"fertility\": 1.964}, {\"year\": 2000, \"country\": \"Nigeria\", \"cluster\": \"Sub-Saharan Africa\", \"pop\": 114306700, \"life_expect\": 46.608, \"fertility\": 5.845}, {\"year\": 2000, \"country\": \"Norway\", \"cluster\": \"Europe & Central Asia\", \"pop\": 4492400, \"life_expect\": 79.05, \"fertility\": 1.8010000000000002}, {\"year\": 2000, \"country\": \"Pakistan\", \"cluster\": \"South Asia\", \"pop\": 146342958, \"life_expect\": 63.61, \"fertility\": 3.9936}, {\"year\": 2000, \"country\": \"Peru\", \"cluster\": \"Americas\", \"pop\": 25979722, \"life_expect\": 69.906, \"fertility\": 2.7005}, {\"year\": 2000, \"country\": \"Philippines\", \"cluster\": \"East Asia & Pacific\", \"pop\": 79739825, \"life_expect\": 70.303, \"fertility\": 3.5436}, {\"year\": 2000, \"country\": \"Poland\", \"cluster\": \"Europe & Central Asia\", \"pop\": 38654164, \"life_expect\": 74.67, \"fertility\": 1.251}, {\"year\": 2000, \"country\": \"Portugal\", \"cluster\": \"Europe & Central Asia\", \"pop\": 10335597, \"life_expect\": 77.29, \"fertility\": 1.454}, {\"year\": 2000, \"country\": \"Rwanda\", \"cluster\": \"Sub-Saharan Africa\", \"pop\": 7507056, \"life_expect\": 43.413, \"fertility\": 6.01}, {\"year\": 2000, \"country\": \"Saudi Arabia\", \"cluster\": \"Middle East & North Africa\", \"pop\": 23153090, \"life_expect\": 71.626, \"fertility\": 3.81}, {\"year\": 2000, \"country\": \"South Africa\", \"cluster\": \"Sub-Saharan Africa\", \"pop\": 44066197, \"life_expect\": 53.365, \"fertility\": 2.802}, {\"year\": 2000, \"country\": \"Spain\", \"cluster\": \"Europe & Central Asia\", \"pop\": 40016081, \"life_expect\": 79.78, \"fertility\": 1.287}, {\"year\": 2000, \"country\": \"Switzerland\", \"cluster\": \"Europe & Central Asia\", \"pop\": 7266920, \"life_expect\": 80.62, \"fertility\": 1.415}, {\"year\": 2000, \"country\": \"Turkey\", \"cluster\": \"Europe & Central Asia\", \"pop\": 65666677, \"life_expect\": 70.845, \"fertility\": 2.23}, {\"year\": 2000, \"country\": \"United Kingdom\", \"cluster\": \"Europe & Central Asia\", \"pop\": 59522468, \"life_expect\": 78.471, \"fertility\": 1.695}, {\"year\": 2000, \"country\": \"United States\", \"cluster\": \"Americas\", \"pop\": 282338631, \"life_expect\": 77.31, \"fertility\": 2.038}, {\"year\": 2000, \"country\": \"Venezuela\", \"cluster\": \"Americas\", \"pop\": 23542649, \"life_expect\": 72.766, \"fertility\": 2.723}]}}, {\"mode\": \"vega-lite\"});\n",
       "</script>"
      ],
      "text/plain": [
       "alt.Chart(...)"
      ]
     },
     "execution_count": 19,
     "metadata": {},
     "output_type": "execute_result"
    }
   ],
   "source": [
    "# Solution\n",
    "alt.Chart(df).mark_point(size=200, filled=True).encode(\n",
    "    alt.X('fertility:Q'),\n",
    "    alt.Y('cluster:N'),\n",
    "    alt.Shape('cluster:N')\n",
    ")"
   ]
  },
  {
   "cell_type": "markdown",
   "metadata": {
    "colab_type": "text",
    "id": "x8j5XVZJcB7l"
   },
   "source": [
    "### Bar marks"
   ]
  },
  {
   "cell_type": "markdown",
   "metadata": {
    "colab_type": "text",
    "id": "x8j5XVZJcB7l"
   },
   "source": [
    "- The __bar__ mark type draws a rectangle with a position, width, and height\n",
    "\n",
    "\n",
    "- We use the `.mark_bar()` method to create a chart with bar marks\n",
    "\n",
    "\n",
    "- Here is a simple bar chart of the population (`pop`) of each country:"
   ]
  },
  {
   "cell_type": "code",
   "execution_count": null,
   "metadata": {},
   "outputs": [],
   "source": []
  },
  {
   "cell_type": "code",
   "execution_count": 20,
   "metadata": {
    "colab": {
     "base_uri": "https://localhost:8080/",
     "height": 445
    },
    "colab_type": "code",
    "id": "eFN9Kw85xFQK",
    "outputId": "8da431d3-9ba7-4ecf-de55-e478c4527a39",
    "tags": [
     "solution"
    ]
   },
   "outputs": [
    {
     "data": {
      "text/html": [
       "\n",
       "<div id=\"altair-viz-409f3914d44a4dc0a6a54873f60771b8\"></div>\n",
       "<script type=\"text/javascript\">\n",
       "  (function(spec, embedOpt){\n",
       "    let outputDiv = document.currentScript.previousElementSibling;\n",
       "    if (outputDiv.id !== \"altair-viz-409f3914d44a4dc0a6a54873f60771b8\") {\n",
       "      outputDiv = document.getElementById(\"altair-viz-409f3914d44a4dc0a6a54873f60771b8\");\n",
       "    }\n",
       "    const paths = {\n",
       "      \"vega\": \"https://cdn.jsdelivr.net/npm//vega@5?noext\",\n",
       "      \"vega-lib\": \"https://cdn.jsdelivr.net/npm//vega-lib?noext\",\n",
       "      \"vega-lite\": \"https://cdn.jsdelivr.net/npm//vega-lite@4.8.1?noext\",\n",
       "      \"vega-embed\": \"https://cdn.jsdelivr.net/npm//vega-embed@6?noext\",\n",
       "    };\n",
       "\n",
       "    function loadScript(lib) {\n",
       "      return new Promise(function(resolve, reject) {\n",
       "        var s = document.createElement('script');\n",
       "        s.src = paths[lib];\n",
       "        s.async = true;\n",
       "        s.onload = () => resolve(paths[lib]);\n",
       "        s.onerror = () => reject(`Error loading script: ${paths[lib]}`);\n",
       "        document.getElementsByTagName(\"head\")[0].appendChild(s);\n",
       "      });\n",
       "    }\n",
       "\n",
       "    function showError(err) {\n",
       "      outputDiv.innerHTML = `<div class=\"error\" style=\"color:red;\">${err}</div>`;\n",
       "      throw err;\n",
       "    }\n",
       "\n",
       "    function displayChart(vegaEmbed) {\n",
       "      vegaEmbed(outputDiv, spec, embedOpt)\n",
       "        .catch(err => showError(`Javascript Error: ${err.message}<br>This usually means there's a typo in your chart specification. See the javascript console for the full traceback.`));\n",
       "    }\n",
       "\n",
       "    if(typeof define === \"function\" && define.amd) {\n",
       "      requirejs.config({paths});\n",
       "      require([\"vega-embed\"], displayChart, err => showError(`Error loading script: ${err.message}`));\n",
       "    } else if (typeof vegaEmbed === \"function\") {\n",
       "      displayChart(vegaEmbed);\n",
       "    } else {\n",
       "      loadScript(\"vega\")\n",
       "        .then(() => loadScript(\"vega-lite\"))\n",
       "        .then(() => loadScript(\"vega-embed\"))\n",
       "        .catch(showError)\n",
       "        .then(() => displayChart(vegaEmbed));\n",
       "    }\n",
       "  })({\"config\": {\"view\": {\"continuousWidth\": 400, \"continuousHeight\": 300}}, \"data\": {\"name\": \"data-40a6c7d464d1f0a318dab2ada85d74e7\"}, \"mark\": \"bar\", \"encoding\": {\"x\": {\"type\": \"nominal\", \"field\": \"country\"}, \"y\": {\"type\": \"quantitative\", \"field\": \"pop\"}}, \"$schema\": \"https://vega.github.io/schema/vega-lite/v4.8.1.json\", \"datasets\": {\"data-40a6c7d464d1f0a318dab2ada85d74e7\": [{\"year\": 2000, \"country\": \"Afghanistan\", \"cluster\": \"South Asia\", \"pop\": 23898198, \"life_expect\": 42.129, \"fertility\": 7.4792}, {\"year\": 2000, \"country\": \"Argentina\", \"cluster\": \"Americas\", \"pop\": 37497728, \"life_expect\": 74.34, \"fertility\": 2.35}, {\"year\": 2000, \"country\": \"Aruba\", \"cluster\": \"Americas\", \"pop\": 69539, \"life_expect\": 73.451, \"fertility\": 2.124}, {\"year\": 2000, \"country\": \"Australia\", \"cluster\": \"East Asia & Pacific\", \"pop\": 19164620, \"life_expect\": 80.37, \"fertility\": 1.756}, {\"year\": 2000, \"country\": \"Austria\", \"cluster\": \"Europe & Central Asia\", \"pop\": 8113413, \"life_expect\": 78.98, \"fertility\": 1.382}, {\"year\": 2000, \"country\": \"Bahamas\", \"cluster\": \"Americas\", \"pop\": 290075, \"life_expect\": 71.068, \"fertility\": 2.1111}, {\"year\": 2000, \"country\": \"Bangladesh\", \"cluster\": \"South Asia\", \"pop\": 130406594, \"life_expect\": 62.013, \"fertility\": 3.224}, {\"year\": 2000, \"country\": \"Barbados\", \"cluster\": \"Americas\", \"pop\": 273483, \"life_expect\": 75.97, \"fertility\": 1.5}, {\"year\": 2000, \"country\": \"Belgium\", \"cluster\": \"Europe & Central Asia\", \"pop\": 10263618, \"life_expect\": 78.32, \"fertility\": 1.638}, {\"year\": 2000, \"country\": \"Bolivia\", \"cluster\": \"Americas\", \"pop\": 8152620, \"life_expect\": 63.883, \"fertility\": 3.9585}, {\"year\": 2000, \"country\": \"Brazil\", \"cluster\": \"Americas\", \"pop\": 175552771, \"life_expect\": 71.006, \"fertility\": 2.345}, {\"year\": 2000, \"country\": \"Canada\", \"cluster\": \"Americas\", \"pop\": 31278097, \"life_expect\": 79.77, \"fertility\": 1.522}, {\"year\": 2000, \"country\": \"Chile\", \"cluster\": \"Americas\", \"pop\": 15153450, \"life_expect\": 77.86, \"fertility\": 2.0}, {\"year\": 2000, \"country\": \"China\", \"cluster\": \"East Asia & Pacific\", \"pop\": 1262645000, \"life_expect\": 72.028, \"fertility\": 1.7000000000000002}, {\"year\": 2000, \"country\": \"Colombia\", \"cluster\": \"Americas\", \"pop\": 39685655, \"life_expect\": 71.682, \"fertility\": 2.4705}, {\"year\": 2000, \"country\": \"Costa Rica\", \"cluster\": \"Americas\", \"pop\": 3710558, \"life_expect\": 78.123, \"fertility\": 2.2815}, {\"year\": 2000, \"country\": \"Croatia\", \"cluster\": \"Europe & Central Asia\", \"pop\": 4410830, \"life_expect\": 74.876, \"fertility\": 1.348}, {\"year\": 2000, \"country\": \"Cuba\", \"cluster\": \"Americas\", \"pop\": 11134273, \"life_expect\": 77.158, \"fertility\": 1.63}, {\"year\": 2000, \"country\": \"Dominican Republic\", \"cluster\": \"Americas\", \"pop\": 8385828, \"life_expect\": 70.847, \"fertility\": 2.95}, {\"year\": 2000, \"country\": \"Ecuador\", \"cluster\": \"Americas\", \"pop\": 12505204, \"life_expect\": 74.173, \"fertility\": 2.8175}, {\"year\": 2000, \"country\": \"Egypt\", \"cluster\": \"Middle East & North Africa\", \"pop\": 70492342, \"life_expect\": 69.806, \"fertility\": 3.174}, {\"year\": 2000, \"country\": \"El Salvador\", \"cluster\": \"Americas\", \"pop\": 6122515, \"life_expect\": 70.734, \"fertility\": 2.883}, {\"year\": 2000, \"country\": \"Finland\", \"cluster\": \"Europe & Central Asia\", \"pop\": 5168595, \"life_expect\": 78.37, \"fertility\": 1.754}, {\"year\": 2000, \"country\": \"France\", \"cluster\": \"Europe & Central Asia\", \"pop\": 59381628, \"life_expect\": 79.59, \"fertility\": 1.8833}, {\"year\": 2000, \"country\": \"Georgia\", \"cluster\": \"Europe & Central Asia\", \"pop\": 4777209, \"life_expect\": 70.476, \"fertility\": 1.478}, {\"year\": 2000, \"country\": \"Germany\", \"cluster\": \"Europe & Central Asia\", \"pop\": 82187909, \"life_expect\": 78.67, \"fertility\": 1.346}, {\"year\": 2000, \"country\": \"Greece\", \"cluster\": \"Europe & Central Asia\", \"pop\": 10559110, \"life_expect\": 78.256, \"fertility\": 1.277}, {\"year\": 2000, \"country\": \"Grenada\", \"cluster\": \"Americas\", \"pop\": 89312, \"life_expect\": 67.746, \"fertility\": 2.429}, {\"year\": 2000, \"country\": \"Haiti\", \"cluster\": \"Americas\", \"pop\": 7306302, \"life_expect\": 58.137, \"fertility\": 4.0}, {\"year\": 2000, \"country\": \"Hong Kong\", \"cluster\": \"East Asia & Pacific\", \"pop\": 6658720, \"life_expect\": 81.495, \"fertility\": 0.94}, {\"year\": 2000, \"country\": \"Iceland\", \"cluster\": \"Europe & Central Asia\", \"pop\": 281043, \"life_expect\": 80.5, \"fertility\": 1.993}, {\"year\": 2000, \"country\": \"India\", \"cluster\": \"South Asia\", \"pop\": 1007702000, \"life_expect\": 62.879, \"fertility\": 3.1132}, {\"year\": 2000, \"country\": \"Indonesia\", \"cluster\": \"East Asia & Pacific\", \"pop\": 206265000, \"life_expect\": 68.588, \"fertility\": 2.3761}, {\"year\": 2000, \"country\": \"Iran\", \"cluster\": \"Middle East & North Africa\", \"pop\": 65660289, \"life_expect\": 69.451, \"fertility\": 2.124}, {\"year\": 2000, \"country\": \"Iraq\", \"cluster\": \"Middle East & North Africa\", \"pop\": 22675617, \"life_expect\": 57.046, \"fertility\": 4.858}, {\"year\": 2000, \"country\": \"Ireland\", \"cluster\": \"Europe & Central Asia\", \"pop\": 3791690, \"life_expect\": 77.783, \"fertility\": 1.969}, {\"year\": 2000, \"country\": \"Israel\", \"cluster\": \"Middle East & North Africa\", \"pop\": 5842454, \"life_expect\": 79.696, \"fertility\": 2.906}, {\"year\": 2000, \"country\": \"Italy\", \"cluster\": \"Europe & Central Asia\", \"pop\": 57719337, \"life_expect\": 80.24, \"fertility\": 1.286}, {\"year\": 2000, \"country\": \"Jamaica\", \"cluster\": \"Americas\", \"pop\": 2615467, \"life_expect\": 72.047, \"fertility\": 2.628}, {\"year\": 2000, \"country\": \"Japan\", \"cluster\": \"East Asia & Pacific\", \"pop\": 126699784, \"life_expect\": 82.0, \"fertility\": 1.291}, {\"year\": 2000, \"country\": \"Kenya\", \"cluster\": \"Sub-Saharan Africa\", \"pop\": 29985839, \"life_expect\": 50.992, \"fertility\": 5.0}, {\"year\": 2000, \"country\": \"South Korea\", \"cluster\": \"East Asia & Pacific\", \"pop\": 21647682, \"life_expect\": 66.662, \"fertility\": 1.9173}, {\"year\": 2000, \"country\": \"North Korea\", \"cluster\": \"East Asia & Pacific\", \"pop\": 47351083, \"life_expect\": 77.045, \"fertility\": 1.242}, {\"year\": 2000, \"country\": \"Lebanon\", \"cluster\": \"Middle East & North Africa\", \"pop\": 3578036, \"life_expect\": 71.028, \"fertility\": 2.319}, {\"year\": 2000, \"country\": \"Mexico\", \"cluster\": \"Americas\", \"pop\": 99926620, \"life_expect\": 74.902, \"fertility\": 2.4005}, {\"year\": 2000, \"country\": \"Netherlands\", \"cluster\": \"Europe & Central Asia\", \"pop\": 15907853, \"life_expect\": 78.53, \"fertility\": 1.726}, {\"year\": 2000, \"country\": \"New Zealand\", \"cluster\": \"East Asia & Pacific\", \"pop\": 3819762, \"life_expect\": 79.11, \"fertility\": 1.964}, {\"year\": 2000, \"country\": \"Nigeria\", \"cluster\": \"Sub-Saharan Africa\", \"pop\": 114306700, \"life_expect\": 46.608, \"fertility\": 5.845}, {\"year\": 2000, \"country\": \"Norway\", \"cluster\": \"Europe & Central Asia\", \"pop\": 4492400, \"life_expect\": 79.05, \"fertility\": 1.8010000000000002}, {\"year\": 2000, \"country\": \"Pakistan\", \"cluster\": \"South Asia\", \"pop\": 146342958, \"life_expect\": 63.61, \"fertility\": 3.9936}, {\"year\": 2000, \"country\": \"Peru\", \"cluster\": \"Americas\", \"pop\": 25979722, \"life_expect\": 69.906, \"fertility\": 2.7005}, {\"year\": 2000, \"country\": \"Philippines\", \"cluster\": \"East Asia & Pacific\", \"pop\": 79739825, \"life_expect\": 70.303, \"fertility\": 3.5436}, {\"year\": 2000, \"country\": \"Poland\", \"cluster\": \"Europe & Central Asia\", \"pop\": 38654164, \"life_expect\": 74.67, \"fertility\": 1.251}, {\"year\": 2000, \"country\": \"Portugal\", \"cluster\": \"Europe & Central Asia\", \"pop\": 10335597, \"life_expect\": 77.29, \"fertility\": 1.454}, {\"year\": 2000, \"country\": \"Rwanda\", \"cluster\": \"Sub-Saharan Africa\", \"pop\": 7507056, \"life_expect\": 43.413, \"fertility\": 6.01}, {\"year\": 2000, \"country\": \"Saudi Arabia\", \"cluster\": \"Middle East & North Africa\", \"pop\": 23153090, \"life_expect\": 71.626, \"fertility\": 3.81}, {\"year\": 2000, \"country\": \"South Africa\", \"cluster\": \"Sub-Saharan Africa\", \"pop\": 44066197, \"life_expect\": 53.365, \"fertility\": 2.802}, {\"year\": 2000, \"country\": \"Spain\", \"cluster\": \"Europe & Central Asia\", \"pop\": 40016081, \"life_expect\": 79.78, \"fertility\": 1.287}, {\"year\": 2000, \"country\": \"Switzerland\", \"cluster\": \"Europe & Central Asia\", \"pop\": 7266920, \"life_expect\": 80.62, \"fertility\": 1.415}, {\"year\": 2000, \"country\": \"Turkey\", \"cluster\": \"Europe & Central Asia\", \"pop\": 65666677, \"life_expect\": 70.845, \"fertility\": 2.23}, {\"year\": 2000, \"country\": \"United Kingdom\", \"cluster\": \"Europe & Central Asia\", \"pop\": 59522468, \"life_expect\": 78.471, \"fertility\": 1.695}, {\"year\": 2000, \"country\": \"United States\", \"cluster\": \"Americas\", \"pop\": 282338631, \"life_expect\": 77.31, \"fertility\": 2.038}, {\"year\": 2000, \"country\": \"Venezuela\", \"cluster\": \"Americas\", \"pop\": 23542649, \"life_expect\": 72.766, \"fertility\": 2.723}]}}, {\"mode\": \"vega-lite\"});\n",
       "</script>"
      ],
      "text/plain": [
       "alt.Chart(...)"
      ]
     },
     "execution_count": 20,
     "metadata": {},
     "output_type": "execute_result"
    }
   ],
   "source": [
    "# Solution\n",
    "alt.Chart(df).mark_bar().encode(\n",
    "    alt.X('country:N'),\n",
    "    alt.Y('pop:Q')\n",
    ")"
   ]
  },
  {
   "cell_type": "markdown",
   "metadata": {},
   "source": [
    "❓ **Exercise 5.**\n",
    "Create the same chart as above, except with horizontal bars and the countries listed from top to bottom."
   ]
  },
  {
   "cell_type": "code",
   "execution_count": null,
   "metadata": {},
   "outputs": [],
   "source": []
  },
  {
   "cell_type": "code",
   "execution_count": 21,
   "metadata": {
    "tags": [
     "solution"
    ]
   },
   "outputs": [
    {
     "data": {
      "text/html": [
       "\n",
       "<div id=\"altair-viz-1c752961e35a47338c1b60267d92fd28\"></div>\n",
       "<script type=\"text/javascript\">\n",
       "  (function(spec, embedOpt){\n",
       "    let outputDiv = document.currentScript.previousElementSibling;\n",
       "    if (outputDiv.id !== \"altair-viz-1c752961e35a47338c1b60267d92fd28\") {\n",
       "      outputDiv = document.getElementById(\"altair-viz-1c752961e35a47338c1b60267d92fd28\");\n",
       "    }\n",
       "    const paths = {\n",
       "      \"vega\": \"https://cdn.jsdelivr.net/npm//vega@5?noext\",\n",
       "      \"vega-lib\": \"https://cdn.jsdelivr.net/npm//vega-lib?noext\",\n",
       "      \"vega-lite\": \"https://cdn.jsdelivr.net/npm//vega-lite@4.8.1?noext\",\n",
       "      \"vega-embed\": \"https://cdn.jsdelivr.net/npm//vega-embed@6?noext\",\n",
       "    };\n",
       "\n",
       "    function loadScript(lib) {\n",
       "      return new Promise(function(resolve, reject) {\n",
       "        var s = document.createElement('script');\n",
       "        s.src = paths[lib];\n",
       "        s.async = true;\n",
       "        s.onload = () => resolve(paths[lib]);\n",
       "        s.onerror = () => reject(`Error loading script: ${paths[lib]}`);\n",
       "        document.getElementsByTagName(\"head\")[0].appendChild(s);\n",
       "      });\n",
       "    }\n",
       "\n",
       "    function showError(err) {\n",
       "      outputDiv.innerHTML = `<div class=\"error\" style=\"color:red;\">${err}</div>`;\n",
       "      throw err;\n",
       "    }\n",
       "\n",
       "    function displayChart(vegaEmbed) {\n",
       "      vegaEmbed(outputDiv, spec, embedOpt)\n",
       "        .catch(err => showError(`Javascript Error: ${err.message}<br>This usually means there's a typo in your chart specification. See the javascript console for the full traceback.`));\n",
       "    }\n",
       "\n",
       "    if(typeof define === \"function\" && define.amd) {\n",
       "      requirejs.config({paths});\n",
       "      require([\"vega-embed\"], displayChart, err => showError(`Error loading script: ${err.message}`));\n",
       "    } else if (typeof vegaEmbed === \"function\") {\n",
       "      displayChart(vegaEmbed);\n",
       "    } else {\n",
       "      loadScript(\"vega\")\n",
       "        .then(() => loadScript(\"vega-lite\"))\n",
       "        .then(() => loadScript(\"vega-embed\"))\n",
       "        .catch(showError)\n",
       "        .then(() => displayChart(vegaEmbed));\n",
       "    }\n",
       "  })({\"config\": {\"view\": {\"continuousWidth\": 400, \"continuousHeight\": 300}}, \"data\": {\"name\": \"data-40a6c7d464d1f0a318dab2ada85d74e7\"}, \"mark\": \"bar\", \"encoding\": {\"x\": {\"type\": \"quantitative\", \"field\": \"pop\"}, \"y\": {\"type\": \"nominal\", \"field\": \"country\"}}, \"$schema\": \"https://vega.github.io/schema/vega-lite/v4.8.1.json\", \"datasets\": {\"data-40a6c7d464d1f0a318dab2ada85d74e7\": [{\"year\": 2000, \"country\": \"Afghanistan\", \"cluster\": \"South Asia\", \"pop\": 23898198, \"life_expect\": 42.129, \"fertility\": 7.4792}, {\"year\": 2000, \"country\": \"Argentina\", \"cluster\": \"Americas\", \"pop\": 37497728, \"life_expect\": 74.34, \"fertility\": 2.35}, {\"year\": 2000, \"country\": \"Aruba\", \"cluster\": \"Americas\", \"pop\": 69539, \"life_expect\": 73.451, \"fertility\": 2.124}, {\"year\": 2000, \"country\": \"Australia\", \"cluster\": \"East Asia & Pacific\", \"pop\": 19164620, \"life_expect\": 80.37, \"fertility\": 1.756}, {\"year\": 2000, \"country\": \"Austria\", \"cluster\": \"Europe & Central Asia\", \"pop\": 8113413, \"life_expect\": 78.98, \"fertility\": 1.382}, {\"year\": 2000, \"country\": \"Bahamas\", \"cluster\": \"Americas\", \"pop\": 290075, \"life_expect\": 71.068, \"fertility\": 2.1111}, {\"year\": 2000, \"country\": \"Bangladesh\", \"cluster\": \"South Asia\", \"pop\": 130406594, \"life_expect\": 62.013, \"fertility\": 3.224}, {\"year\": 2000, \"country\": \"Barbados\", \"cluster\": \"Americas\", \"pop\": 273483, \"life_expect\": 75.97, \"fertility\": 1.5}, {\"year\": 2000, \"country\": \"Belgium\", \"cluster\": \"Europe & Central Asia\", \"pop\": 10263618, \"life_expect\": 78.32, \"fertility\": 1.638}, {\"year\": 2000, \"country\": \"Bolivia\", \"cluster\": \"Americas\", \"pop\": 8152620, \"life_expect\": 63.883, \"fertility\": 3.9585}, {\"year\": 2000, \"country\": \"Brazil\", \"cluster\": \"Americas\", \"pop\": 175552771, \"life_expect\": 71.006, \"fertility\": 2.345}, {\"year\": 2000, \"country\": \"Canada\", \"cluster\": \"Americas\", \"pop\": 31278097, \"life_expect\": 79.77, \"fertility\": 1.522}, {\"year\": 2000, \"country\": \"Chile\", \"cluster\": \"Americas\", \"pop\": 15153450, \"life_expect\": 77.86, \"fertility\": 2.0}, {\"year\": 2000, \"country\": \"China\", \"cluster\": \"East Asia & Pacific\", \"pop\": 1262645000, \"life_expect\": 72.028, \"fertility\": 1.7000000000000002}, {\"year\": 2000, \"country\": \"Colombia\", \"cluster\": \"Americas\", \"pop\": 39685655, \"life_expect\": 71.682, \"fertility\": 2.4705}, {\"year\": 2000, \"country\": \"Costa Rica\", \"cluster\": \"Americas\", \"pop\": 3710558, \"life_expect\": 78.123, \"fertility\": 2.2815}, {\"year\": 2000, \"country\": \"Croatia\", \"cluster\": \"Europe & Central Asia\", \"pop\": 4410830, \"life_expect\": 74.876, \"fertility\": 1.348}, {\"year\": 2000, \"country\": \"Cuba\", \"cluster\": \"Americas\", \"pop\": 11134273, \"life_expect\": 77.158, \"fertility\": 1.63}, {\"year\": 2000, \"country\": \"Dominican Republic\", \"cluster\": \"Americas\", \"pop\": 8385828, \"life_expect\": 70.847, \"fertility\": 2.95}, {\"year\": 2000, \"country\": \"Ecuador\", \"cluster\": \"Americas\", \"pop\": 12505204, \"life_expect\": 74.173, \"fertility\": 2.8175}, {\"year\": 2000, \"country\": \"Egypt\", \"cluster\": \"Middle East & North Africa\", \"pop\": 70492342, \"life_expect\": 69.806, \"fertility\": 3.174}, {\"year\": 2000, \"country\": \"El Salvador\", \"cluster\": \"Americas\", \"pop\": 6122515, \"life_expect\": 70.734, \"fertility\": 2.883}, {\"year\": 2000, \"country\": \"Finland\", \"cluster\": \"Europe & Central Asia\", \"pop\": 5168595, \"life_expect\": 78.37, \"fertility\": 1.754}, {\"year\": 2000, \"country\": \"France\", \"cluster\": \"Europe & Central Asia\", \"pop\": 59381628, \"life_expect\": 79.59, \"fertility\": 1.8833}, {\"year\": 2000, \"country\": \"Georgia\", \"cluster\": \"Europe & Central Asia\", \"pop\": 4777209, \"life_expect\": 70.476, \"fertility\": 1.478}, {\"year\": 2000, \"country\": \"Germany\", \"cluster\": \"Europe & Central Asia\", \"pop\": 82187909, \"life_expect\": 78.67, \"fertility\": 1.346}, {\"year\": 2000, \"country\": \"Greece\", \"cluster\": \"Europe & Central Asia\", \"pop\": 10559110, \"life_expect\": 78.256, \"fertility\": 1.277}, {\"year\": 2000, \"country\": \"Grenada\", \"cluster\": \"Americas\", \"pop\": 89312, \"life_expect\": 67.746, \"fertility\": 2.429}, {\"year\": 2000, \"country\": \"Haiti\", \"cluster\": \"Americas\", \"pop\": 7306302, \"life_expect\": 58.137, \"fertility\": 4.0}, {\"year\": 2000, \"country\": \"Hong Kong\", \"cluster\": \"East Asia & Pacific\", \"pop\": 6658720, \"life_expect\": 81.495, \"fertility\": 0.94}, {\"year\": 2000, \"country\": \"Iceland\", \"cluster\": \"Europe & Central Asia\", \"pop\": 281043, \"life_expect\": 80.5, \"fertility\": 1.993}, {\"year\": 2000, \"country\": \"India\", \"cluster\": \"South Asia\", \"pop\": 1007702000, \"life_expect\": 62.879, \"fertility\": 3.1132}, {\"year\": 2000, \"country\": \"Indonesia\", \"cluster\": \"East Asia & Pacific\", \"pop\": 206265000, \"life_expect\": 68.588, \"fertility\": 2.3761}, {\"year\": 2000, \"country\": \"Iran\", \"cluster\": \"Middle East & North Africa\", \"pop\": 65660289, \"life_expect\": 69.451, \"fertility\": 2.124}, {\"year\": 2000, \"country\": \"Iraq\", \"cluster\": \"Middle East & North Africa\", \"pop\": 22675617, \"life_expect\": 57.046, \"fertility\": 4.858}, {\"year\": 2000, \"country\": \"Ireland\", \"cluster\": \"Europe & Central Asia\", \"pop\": 3791690, \"life_expect\": 77.783, \"fertility\": 1.969}, {\"year\": 2000, \"country\": \"Israel\", \"cluster\": \"Middle East & North Africa\", \"pop\": 5842454, \"life_expect\": 79.696, \"fertility\": 2.906}, {\"year\": 2000, \"country\": \"Italy\", \"cluster\": \"Europe & Central Asia\", \"pop\": 57719337, \"life_expect\": 80.24, \"fertility\": 1.286}, {\"year\": 2000, \"country\": \"Jamaica\", \"cluster\": \"Americas\", \"pop\": 2615467, \"life_expect\": 72.047, \"fertility\": 2.628}, {\"year\": 2000, \"country\": \"Japan\", \"cluster\": \"East Asia & Pacific\", \"pop\": 126699784, \"life_expect\": 82.0, \"fertility\": 1.291}, {\"year\": 2000, \"country\": \"Kenya\", \"cluster\": \"Sub-Saharan Africa\", \"pop\": 29985839, \"life_expect\": 50.992, \"fertility\": 5.0}, {\"year\": 2000, \"country\": \"South Korea\", \"cluster\": \"East Asia & Pacific\", \"pop\": 21647682, \"life_expect\": 66.662, \"fertility\": 1.9173}, {\"year\": 2000, \"country\": \"North Korea\", \"cluster\": \"East Asia & Pacific\", \"pop\": 47351083, \"life_expect\": 77.045, \"fertility\": 1.242}, {\"year\": 2000, \"country\": \"Lebanon\", \"cluster\": \"Middle East & North Africa\", \"pop\": 3578036, \"life_expect\": 71.028, \"fertility\": 2.319}, {\"year\": 2000, \"country\": \"Mexico\", \"cluster\": \"Americas\", \"pop\": 99926620, \"life_expect\": 74.902, \"fertility\": 2.4005}, {\"year\": 2000, \"country\": \"Netherlands\", \"cluster\": \"Europe & Central Asia\", \"pop\": 15907853, \"life_expect\": 78.53, \"fertility\": 1.726}, {\"year\": 2000, \"country\": \"New Zealand\", \"cluster\": \"East Asia & Pacific\", \"pop\": 3819762, \"life_expect\": 79.11, \"fertility\": 1.964}, {\"year\": 2000, \"country\": \"Nigeria\", \"cluster\": \"Sub-Saharan Africa\", \"pop\": 114306700, \"life_expect\": 46.608, \"fertility\": 5.845}, {\"year\": 2000, \"country\": \"Norway\", \"cluster\": \"Europe & Central Asia\", \"pop\": 4492400, \"life_expect\": 79.05, \"fertility\": 1.8010000000000002}, {\"year\": 2000, \"country\": \"Pakistan\", \"cluster\": \"South Asia\", \"pop\": 146342958, \"life_expect\": 63.61, \"fertility\": 3.9936}, {\"year\": 2000, \"country\": \"Peru\", \"cluster\": \"Americas\", \"pop\": 25979722, \"life_expect\": 69.906, \"fertility\": 2.7005}, {\"year\": 2000, \"country\": \"Philippines\", \"cluster\": \"East Asia & Pacific\", \"pop\": 79739825, \"life_expect\": 70.303, \"fertility\": 3.5436}, {\"year\": 2000, \"country\": \"Poland\", \"cluster\": \"Europe & Central Asia\", \"pop\": 38654164, \"life_expect\": 74.67, \"fertility\": 1.251}, {\"year\": 2000, \"country\": \"Portugal\", \"cluster\": \"Europe & Central Asia\", \"pop\": 10335597, \"life_expect\": 77.29, \"fertility\": 1.454}, {\"year\": 2000, \"country\": \"Rwanda\", \"cluster\": \"Sub-Saharan Africa\", \"pop\": 7507056, \"life_expect\": 43.413, \"fertility\": 6.01}, {\"year\": 2000, \"country\": \"Saudi Arabia\", \"cluster\": \"Middle East & North Africa\", \"pop\": 23153090, \"life_expect\": 71.626, \"fertility\": 3.81}, {\"year\": 2000, \"country\": \"South Africa\", \"cluster\": \"Sub-Saharan Africa\", \"pop\": 44066197, \"life_expect\": 53.365, \"fertility\": 2.802}, {\"year\": 2000, \"country\": \"Spain\", \"cluster\": \"Europe & Central Asia\", \"pop\": 40016081, \"life_expect\": 79.78, \"fertility\": 1.287}, {\"year\": 2000, \"country\": \"Switzerland\", \"cluster\": \"Europe & Central Asia\", \"pop\": 7266920, \"life_expect\": 80.62, \"fertility\": 1.415}, {\"year\": 2000, \"country\": \"Turkey\", \"cluster\": \"Europe & Central Asia\", \"pop\": 65666677, \"life_expect\": 70.845, \"fertility\": 2.23}, {\"year\": 2000, \"country\": \"United Kingdom\", \"cluster\": \"Europe & Central Asia\", \"pop\": 59522468, \"life_expect\": 78.471, \"fertility\": 1.695}, {\"year\": 2000, \"country\": \"United States\", \"cluster\": \"Americas\", \"pop\": 282338631, \"life_expect\": 77.31, \"fertility\": 2.038}, {\"year\": 2000, \"country\": \"Venezuela\", \"cluster\": \"Americas\", \"pop\": 23542649, \"life_expect\": 72.766, \"fertility\": 2.723}]}}, {\"mode\": \"vega-lite\"});\n",
       "</script>"
      ],
      "text/plain": [
       "alt.Chart(...)"
      ]
     },
     "execution_count": 21,
     "metadata": {},
     "output_type": "execute_result"
    }
   ],
   "source": [
    "# Solution\n",
    "alt.Chart(df).mark_bar().encode(\n",
    "    alt.Y('country:N'),\n",
    "    alt.X('pop:Q')\n",
    ")"
   ]
  },
  {
   "cell_type": "markdown",
   "metadata": {
    "colab_type": "text",
    "id": "rHX8bKgbzW3I"
   },
   "source": [
    "- The bar width is set to a default size\n",
    "\n",
    "\n",
    "- Bars can also be stacked\n",
    "\n",
    "\n",
    "- Let's change the `X` encoding to use the `cluster` field, and encode `country` using the `Color` channel:"
   ]
  },
  {
   "cell_type": "code",
   "execution_count": 22,
   "metadata": {
    "colab": {
     "base_uri": "https://localhost:8080/",
     "height": 368
    },
    "colab_type": "code",
    "id": "x9maAWhOxsrq",
    "outputId": "7960be03-eefd-4c3f-a114-8405395c772c"
   },
   "outputs": [
    {
     "data": {
      "text/html": [
       "\n",
       "<div id=\"altair-viz-24cafbb24ff54d0aa4435166685b4a41\"></div>\n",
       "<script type=\"text/javascript\">\n",
       "  (function(spec, embedOpt){\n",
       "    let outputDiv = document.currentScript.previousElementSibling;\n",
       "    if (outputDiv.id !== \"altair-viz-24cafbb24ff54d0aa4435166685b4a41\") {\n",
       "      outputDiv = document.getElementById(\"altair-viz-24cafbb24ff54d0aa4435166685b4a41\");\n",
       "    }\n",
       "    const paths = {\n",
       "      \"vega\": \"https://cdn.jsdelivr.net/npm//vega@5?noext\",\n",
       "      \"vega-lib\": \"https://cdn.jsdelivr.net/npm//vega-lib?noext\",\n",
       "      \"vega-lite\": \"https://cdn.jsdelivr.net/npm//vega-lite@4.8.1?noext\",\n",
       "      \"vega-embed\": \"https://cdn.jsdelivr.net/npm//vega-embed@6?noext\",\n",
       "    };\n",
       "\n",
       "    function loadScript(lib) {\n",
       "      return new Promise(function(resolve, reject) {\n",
       "        var s = document.createElement('script');\n",
       "        s.src = paths[lib];\n",
       "        s.async = true;\n",
       "        s.onload = () => resolve(paths[lib]);\n",
       "        s.onerror = () => reject(`Error loading script: ${paths[lib]}`);\n",
       "        document.getElementsByTagName(\"head\")[0].appendChild(s);\n",
       "      });\n",
       "    }\n",
       "\n",
       "    function showError(err) {\n",
       "      outputDiv.innerHTML = `<div class=\"error\" style=\"color:red;\">${err}</div>`;\n",
       "      throw err;\n",
       "    }\n",
       "\n",
       "    function displayChart(vegaEmbed) {\n",
       "      vegaEmbed(outputDiv, spec, embedOpt)\n",
       "        .catch(err => showError(`Javascript Error: ${err.message}<br>This usually means there's a typo in your chart specification. See the javascript console for the full traceback.`));\n",
       "    }\n",
       "\n",
       "    if(typeof define === \"function\" && define.amd) {\n",
       "      requirejs.config({paths});\n",
       "      require([\"vega-embed\"], displayChart, err => showError(`Error loading script: ${err.message}`));\n",
       "    } else if (typeof vegaEmbed === \"function\") {\n",
       "      displayChart(vegaEmbed);\n",
       "    } else {\n",
       "      loadScript(\"vega\")\n",
       "        .then(() => loadScript(\"vega-lite\"))\n",
       "        .then(() => loadScript(\"vega-embed\"))\n",
       "        .catch(showError)\n",
       "        .then(() => displayChart(vegaEmbed));\n",
       "    }\n",
       "  })({\"config\": {\"view\": {\"continuousWidth\": 400, \"continuousHeight\": 300}}, \"data\": {\"name\": \"data-40a6c7d464d1f0a318dab2ada85d74e7\"}, \"mark\": \"bar\", \"encoding\": {\"color\": {\"type\": \"nominal\", \"field\": \"country\"}, \"x\": {\"type\": \"nominal\", \"field\": \"cluster\"}, \"y\": {\"type\": \"quantitative\", \"field\": \"pop\"}}, \"$schema\": \"https://vega.github.io/schema/vega-lite/v4.8.1.json\", \"datasets\": {\"data-40a6c7d464d1f0a318dab2ada85d74e7\": [{\"year\": 2000, \"country\": \"Afghanistan\", \"cluster\": \"South Asia\", \"pop\": 23898198, \"life_expect\": 42.129, \"fertility\": 7.4792}, {\"year\": 2000, \"country\": \"Argentina\", \"cluster\": \"Americas\", \"pop\": 37497728, \"life_expect\": 74.34, \"fertility\": 2.35}, {\"year\": 2000, \"country\": \"Aruba\", \"cluster\": \"Americas\", \"pop\": 69539, \"life_expect\": 73.451, \"fertility\": 2.124}, {\"year\": 2000, \"country\": \"Australia\", \"cluster\": \"East Asia & Pacific\", \"pop\": 19164620, \"life_expect\": 80.37, \"fertility\": 1.756}, {\"year\": 2000, \"country\": \"Austria\", \"cluster\": \"Europe & Central Asia\", \"pop\": 8113413, \"life_expect\": 78.98, \"fertility\": 1.382}, {\"year\": 2000, \"country\": \"Bahamas\", \"cluster\": \"Americas\", \"pop\": 290075, \"life_expect\": 71.068, \"fertility\": 2.1111}, {\"year\": 2000, \"country\": \"Bangladesh\", \"cluster\": \"South Asia\", \"pop\": 130406594, \"life_expect\": 62.013, \"fertility\": 3.224}, {\"year\": 2000, \"country\": \"Barbados\", \"cluster\": \"Americas\", \"pop\": 273483, \"life_expect\": 75.97, \"fertility\": 1.5}, {\"year\": 2000, \"country\": \"Belgium\", \"cluster\": \"Europe & Central Asia\", \"pop\": 10263618, \"life_expect\": 78.32, \"fertility\": 1.638}, {\"year\": 2000, \"country\": \"Bolivia\", \"cluster\": \"Americas\", \"pop\": 8152620, \"life_expect\": 63.883, \"fertility\": 3.9585}, {\"year\": 2000, \"country\": \"Brazil\", \"cluster\": \"Americas\", \"pop\": 175552771, \"life_expect\": 71.006, \"fertility\": 2.345}, {\"year\": 2000, \"country\": \"Canada\", \"cluster\": \"Americas\", \"pop\": 31278097, \"life_expect\": 79.77, \"fertility\": 1.522}, {\"year\": 2000, \"country\": \"Chile\", \"cluster\": \"Americas\", \"pop\": 15153450, \"life_expect\": 77.86, \"fertility\": 2.0}, {\"year\": 2000, \"country\": \"China\", \"cluster\": \"East Asia & Pacific\", \"pop\": 1262645000, \"life_expect\": 72.028, \"fertility\": 1.7000000000000002}, {\"year\": 2000, \"country\": \"Colombia\", \"cluster\": \"Americas\", \"pop\": 39685655, \"life_expect\": 71.682, \"fertility\": 2.4705}, {\"year\": 2000, \"country\": \"Costa Rica\", \"cluster\": \"Americas\", \"pop\": 3710558, \"life_expect\": 78.123, \"fertility\": 2.2815}, {\"year\": 2000, \"country\": \"Croatia\", \"cluster\": \"Europe & Central Asia\", \"pop\": 4410830, \"life_expect\": 74.876, \"fertility\": 1.348}, {\"year\": 2000, \"country\": \"Cuba\", \"cluster\": \"Americas\", \"pop\": 11134273, \"life_expect\": 77.158, \"fertility\": 1.63}, {\"year\": 2000, \"country\": \"Dominican Republic\", \"cluster\": \"Americas\", \"pop\": 8385828, \"life_expect\": 70.847, \"fertility\": 2.95}, {\"year\": 2000, \"country\": \"Ecuador\", \"cluster\": \"Americas\", \"pop\": 12505204, \"life_expect\": 74.173, \"fertility\": 2.8175}, {\"year\": 2000, \"country\": \"Egypt\", \"cluster\": \"Middle East & North Africa\", \"pop\": 70492342, \"life_expect\": 69.806, \"fertility\": 3.174}, {\"year\": 2000, \"country\": \"El Salvador\", \"cluster\": \"Americas\", \"pop\": 6122515, \"life_expect\": 70.734, \"fertility\": 2.883}, {\"year\": 2000, \"country\": \"Finland\", \"cluster\": \"Europe & Central Asia\", \"pop\": 5168595, \"life_expect\": 78.37, \"fertility\": 1.754}, {\"year\": 2000, \"country\": \"France\", \"cluster\": \"Europe & Central Asia\", \"pop\": 59381628, \"life_expect\": 79.59, \"fertility\": 1.8833}, {\"year\": 2000, \"country\": \"Georgia\", \"cluster\": \"Europe & Central Asia\", \"pop\": 4777209, \"life_expect\": 70.476, \"fertility\": 1.478}, {\"year\": 2000, \"country\": \"Germany\", \"cluster\": \"Europe & Central Asia\", \"pop\": 82187909, \"life_expect\": 78.67, \"fertility\": 1.346}, {\"year\": 2000, \"country\": \"Greece\", \"cluster\": \"Europe & Central Asia\", \"pop\": 10559110, \"life_expect\": 78.256, \"fertility\": 1.277}, {\"year\": 2000, \"country\": \"Grenada\", \"cluster\": \"Americas\", \"pop\": 89312, \"life_expect\": 67.746, \"fertility\": 2.429}, {\"year\": 2000, \"country\": \"Haiti\", \"cluster\": \"Americas\", \"pop\": 7306302, \"life_expect\": 58.137, \"fertility\": 4.0}, {\"year\": 2000, \"country\": \"Hong Kong\", \"cluster\": \"East Asia & Pacific\", \"pop\": 6658720, \"life_expect\": 81.495, \"fertility\": 0.94}, {\"year\": 2000, \"country\": \"Iceland\", \"cluster\": \"Europe & Central Asia\", \"pop\": 281043, \"life_expect\": 80.5, \"fertility\": 1.993}, {\"year\": 2000, \"country\": \"India\", \"cluster\": \"South Asia\", \"pop\": 1007702000, \"life_expect\": 62.879, \"fertility\": 3.1132}, {\"year\": 2000, \"country\": \"Indonesia\", \"cluster\": \"East Asia & Pacific\", \"pop\": 206265000, \"life_expect\": 68.588, \"fertility\": 2.3761}, {\"year\": 2000, \"country\": \"Iran\", \"cluster\": \"Middle East & North Africa\", \"pop\": 65660289, \"life_expect\": 69.451, \"fertility\": 2.124}, {\"year\": 2000, \"country\": \"Iraq\", \"cluster\": \"Middle East & North Africa\", \"pop\": 22675617, \"life_expect\": 57.046, \"fertility\": 4.858}, {\"year\": 2000, \"country\": \"Ireland\", \"cluster\": \"Europe & Central Asia\", \"pop\": 3791690, \"life_expect\": 77.783, \"fertility\": 1.969}, {\"year\": 2000, \"country\": \"Israel\", \"cluster\": \"Middle East & North Africa\", \"pop\": 5842454, \"life_expect\": 79.696, \"fertility\": 2.906}, {\"year\": 2000, \"country\": \"Italy\", \"cluster\": \"Europe & Central Asia\", \"pop\": 57719337, \"life_expect\": 80.24, \"fertility\": 1.286}, {\"year\": 2000, \"country\": \"Jamaica\", \"cluster\": \"Americas\", \"pop\": 2615467, \"life_expect\": 72.047, \"fertility\": 2.628}, {\"year\": 2000, \"country\": \"Japan\", \"cluster\": \"East Asia & Pacific\", \"pop\": 126699784, \"life_expect\": 82.0, \"fertility\": 1.291}, {\"year\": 2000, \"country\": \"Kenya\", \"cluster\": \"Sub-Saharan Africa\", \"pop\": 29985839, \"life_expect\": 50.992, \"fertility\": 5.0}, {\"year\": 2000, \"country\": \"South Korea\", \"cluster\": \"East Asia & Pacific\", \"pop\": 21647682, \"life_expect\": 66.662, \"fertility\": 1.9173}, {\"year\": 2000, \"country\": \"North Korea\", \"cluster\": \"East Asia & Pacific\", \"pop\": 47351083, \"life_expect\": 77.045, \"fertility\": 1.242}, {\"year\": 2000, \"country\": \"Lebanon\", \"cluster\": \"Middle East & North Africa\", \"pop\": 3578036, \"life_expect\": 71.028, \"fertility\": 2.319}, {\"year\": 2000, \"country\": \"Mexico\", \"cluster\": \"Americas\", \"pop\": 99926620, \"life_expect\": 74.902, \"fertility\": 2.4005}, {\"year\": 2000, \"country\": \"Netherlands\", \"cluster\": \"Europe & Central Asia\", \"pop\": 15907853, \"life_expect\": 78.53, \"fertility\": 1.726}, {\"year\": 2000, \"country\": \"New Zealand\", \"cluster\": \"East Asia & Pacific\", \"pop\": 3819762, \"life_expect\": 79.11, \"fertility\": 1.964}, {\"year\": 2000, \"country\": \"Nigeria\", \"cluster\": \"Sub-Saharan Africa\", \"pop\": 114306700, \"life_expect\": 46.608, \"fertility\": 5.845}, {\"year\": 2000, \"country\": \"Norway\", \"cluster\": \"Europe & Central Asia\", \"pop\": 4492400, \"life_expect\": 79.05, \"fertility\": 1.8010000000000002}, {\"year\": 2000, \"country\": \"Pakistan\", \"cluster\": \"South Asia\", \"pop\": 146342958, \"life_expect\": 63.61, \"fertility\": 3.9936}, {\"year\": 2000, \"country\": \"Peru\", \"cluster\": \"Americas\", \"pop\": 25979722, \"life_expect\": 69.906, \"fertility\": 2.7005}, {\"year\": 2000, \"country\": \"Philippines\", \"cluster\": \"East Asia & Pacific\", \"pop\": 79739825, \"life_expect\": 70.303, \"fertility\": 3.5436}, {\"year\": 2000, \"country\": \"Poland\", \"cluster\": \"Europe & Central Asia\", \"pop\": 38654164, \"life_expect\": 74.67, \"fertility\": 1.251}, {\"year\": 2000, \"country\": \"Portugal\", \"cluster\": \"Europe & Central Asia\", \"pop\": 10335597, \"life_expect\": 77.29, \"fertility\": 1.454}, {\"year\": 2000, \"country\": \"Rwanda\", \"cluster\": \"Sub-Saharan Africa\", \"pop\": 7507056, \"life_expect\": 43.413, \"fertility\": 6.01}, {\"year\": 2000, \"country\": \"Saudi Arabia\", \"cluster\": \"Middle East & North Africa\", \"pop\": 23153090, \"life_expect\": 71.626, \"fertility\": 3.81}, {\"year\": 2000, \"country\": \"South Africa\", \"cluster\": \"Sub-Saharan Africa\", \"pop\": 44066197, \"life_expect\": 53.365, \"fertility\": 2.802}, {\"year\": 2000, \"country\": \"Spain\", \"cluster\": \"Europe & Central Asia\", \"pop\": 40016081, \"life_expect\": 79.78, \"fertility\": 1.287}, {\"year\": 2000, \"country\": \"Switzerland\", \"cluster\": \"Europe & Central Asia\", \"pop\": 7266920, \"life_expect\": 80.62, \"fertility\": 1.415}, {\"year\": 2000, \"country\": \"Turkey\", \"cluster\": \"Europe & Central Asia\", \"pop\": 65666677, \"life_expect\": 70.845, \"fertility\": 2.23}, {\"year\": 2000, \"country\": \"United Kingdom\", \"cluster\": \"Europe & Central Asia\", \"pop\": 59522468, \"life_expect\": 78.471, \"fertility\": 1.695}, {\"year\": 2000, \"country\": \"United States\", \"cluster\": \"Americas\", \"pop\": 282338631, \"life_expect\": 77.31, \"fertility\": 2.038}, {\"year\": 2000, \"country\": \"Venezuela\", \"cluster\": \"Americas\", \"pop\": 23542649, \"life_expect\": 72.766, \"fertility\": 2.723}]}}, {\"mode\": \"vega-lite\"});\n",
       "</script>"
      ],
      "text/plain": [
       "alt.Chart(...)"
      ]
     },
     "execution_count": 22,
     "metadata": {},
     "output_type": "execute_result"
    }
   ],
   "source": [
    "alt.Chart(df).mark_bar().encode(\n",
    "    alt.X('cluster:N'),\n",
    "    alt.Y('pop:Q'),\n",
    "    alt.Color('country:N')\n",
    ")"
   ]
  },
  {
   "cell_type": "markdown",
   "metadata": {
    "colab_type": "text",
    "id": "de4181jhzgUx"
   },
   "source": [
    "- In the chart above, the use of the `Color` encoding channel causes Altair to automatically stack the bar marks\n",
    "\n",
    "\n",
    "- Otherwise, bars would be drawn on top of each other! \n",
    "\n",
    "\n",
    "- See what happens if we don't apply stacking: try adding the keyword argument `stack=None` to the `Y` encoding channel, like this:\n",
    "\n",
    "    ```python\n",
    "    alt.Y('pop:Q', stack=None)\n",
    "    ```\n",
    "\n",
    "\n",
    "- Note: we can disable the legend (which can't even fit all the countries by default!) by adding the keyword argument `legend=None` to the `Color` encoding. Try it out!"
   ]
  },
  {
   "cell_type": "markdown",
   "metadata": {
    "colab_type": "text",
    "id": "bTnEQk1NcD7y"
   },
   "source": [
    "### Line Marks"
   ]
  },
  {
   "cell_type": "markdown",
   "metadata": {
    "colab_type": "text",
    "id": "bTnEQk1NcD7y"
   },
   "source": [
    "- The __line__ mark type connects plotted points with line segments\n",
    "\n",
    "\n",
    "- We use the `.mark_line()` method to create a chart with line marks\n",
    "\n",
    "\n",
    "- This is helpful, for example, when you want to convey information about the rate of change\n",
    "\n",
    "\n",
    "- Let's plot a line chart of fertility per country over the years, using only data for the South Asia cluster:"
   ]
  },
  {
   "cell_type": "code",
   "execution_count": 23,
   "metadata": {},
   "outputs": [],
   "source": [
    "southasia_df = pd.read_csv('data/gapminder_southasia.csv')"
   ]
  },
  {
   "cell_type": "code",
   "execution_count": 24,
   "metadata": {
    "colab": {
     "base_uri": "https://localhost:8080/",
     "height": 385
    },
    "colab_type": "code",
    "id": "lTWmDwv1Jhzt",
    "outputId": "7bbd15a9-4b8f-4f66-fe7e-6a55f2c38449"
   },
   "outputs": [
    {
     "data": {
      "text/html": [
       "\n",
       "<div id=\"altair-viz-9d4e3f98f3ac4d4bad725109e0a3f660\"></div>\n",
       "<script type=\"text/javascript\">\n",
       "  (function(spec, embedOpt){\n",
       "    let outputDiv = document.currentScript.previousElementSibling;\n",
       "    if (outputDiv.id !== \"altair-viz-9d4e3f98f3ac4d4bad725109e0a3f660\") {\n",
       "      outputDiv = document.getElementById(\"altair-viz-9d4e3f98f3ac4d4bad725109e0a3f660\");\n",
       "    }\n",
       "    const paths = {\n",
       "      \"vega\": \"https://cdn.jsdelivr.net/npm//vega@5?noext\",\n",
       "      \"vega-lib\": \"https://cdn.jsdelivr.net/npm//vega-lib?noext\",\n",
       "      \"vega-lite\": \"https://cdn.jsdelivr.net/npm//vega-lite@4.8.1?noext\",\n",
       "      \"vega-embed\": \"https://cdn.jsdelivr.net/npm//vega-embed@6?noext\",\n",
       "    };\n",
       "\n",
       "    function loadScript(lib) {\n",
       "      return new Promise(function(resolve, reject) {\n",
       "        var s = document.createElement('script');\n",
       "        s.src = paths[lib];\n",
       "        s.async = true;\n",
       "        s.onload = () => resolve(paths[lib]);\n",
       "        s.onerror = () => reject(`Error loading script: ${paths[lib]}`);\n",
       "        document.getElementsByTagName(\"head\")[0].appendChild(s);\n",
       "      });\n",
       "    }\n",
       "\n",
       "    function showError(err) {\n",
       "      outputDiv.innerHTML = `<div class=\"error\" style=\"color:red;\">${err}</div>`;\n",
       "      throw err;\n",
       "    }\n",
       "\n",
       "    function displayChart(vegaEmbed) {\n",
       "      vegaEmbed(outputDiv, spec, embedOpt)\n",
       "        .catch(err => showError(`Javascript Error: ${err.message}<br>This usually means there's a typo in your chart specification. See the javascript console for the full traceback.`));\n",
       "    }\n",
       "\n",
       "    if(typeof define === \"function\" && define.amd) {\n",
       "      requirejs.config({paths});\n",
       "      require([\"vega-embed\"], displayChart, err => showError(`Error loading script: ${err.message}`));\n",
       "    } else if (typeof vegaEmbed === \"function\") {\n",
       "      displayChart(vegaEmbed);\n",
       "    } else {\n",
       "      loadScript(\"vega\")\n",
       "        .then(() => loadScript(\"vega-lite\"))\n",
       "        .then(() => loadScript(\"vega-embed\"))\n",
       "        .catch(showError)\n",
       "        .then(() => displayChart(vegaEmbed));\n",
       "    }\n",
       "  })({\"config\": {\"view\": {\"continuousWidth\": 400, \"continuousHeight\": 300}}, \"data\": {\"name\": \"data-3e2a87f795cd5aa72b6e6081ed44cb95\"}, \"mark\": \"line\", \"encoding\": {\"color\": {\"type\": \"nominal\", \"field\": \"country\"}, \"x\": {\"type\": \"ordinal\", \"field\": \"year\"}, \"y\": {\"type\": \"quantitative\", \"field\": \"fertility\"}}, \"width\": 400, \"$schema\": \"https://vega.github.io/schema/vega-lite/v4.8.1.json\", \"datasets\": {\"data-3e2a87f795cd5aa72b6e6081ed44cb95\": [{\"year\": 1955, \"country\": \"Afghanistan\", \"cluster\": \"South Asia\", \"pop\": 8891209, \"life_expect\": 30.332, \"fertility\": 7.7}, {\"year\": 1960, \"country\": \"Afghanistan\", \"cluster\": \"South Asia\", \"pop\": 9829450, \"life_expect\": 31.997, \"fertility\": 7.7}, {\"year\": 1965, \"country\": \"Afghanistan\", \"cluster\": \"South Asia\", \"pop\": 10997885, \"life_expect\": 34.02, \"fertility\": 7.7}, {\"year\": 1970, \"country\": \"Afghanistan\", \"cluster\": \"South Asia\", \"pop\": 12430623, \"life_expect\": 36.088, \"fertility\": 7.7}, {\"year\": 1975, \"country\": \"Afghanistan\", \"cluster\": \"South Asia\", \"pop\": 14132019, \"life_expect\": 38.438, \"fertility\": 7.7}, {\"year\": 1980, \"country\": \"Afghanistan\", \"cluster\": \"South Asia\", \"pop\": 15112149, \"life_expect\": 39.854, \"fertility\": 7.8}, {\"year\": 1985, \"country\": \"Afghanistan\", \"cluster\": \"South Asia\", \"pop\": 13796928, \"life_expect\": 40.822, \"fertility\": 7.9}, {\"year\": 1990, \"country\": \"Afghanistan\", \"cluster\": \"South Asia\", \"pop\": 14669339, \"life_expect\": 41.674, \"fertility\": 8.0}, {\"year\": 1995, \"country\": \"Afghanistan\", \"cluster\": \"South Asia\", \"pop\": 20881480, \"life_expect\": 41.763, \"fertility\": 8.0}, {\"year\": 2000, \"country\": \"Afghanistan\", \"cluster\": \"South Asia\", \"pop\": 23898198, \"life_expect\": 42.129, \"fertility\": 7.4792}, {\"year\": 2005, \"country\": \"Afghanistan\", \"cluster\": \"South Asia\", \"pop\": 29928987, \"life_expect\": 43.828, \"fertility\": 7.0685}, {\"year\": 1955, \"country\": \"Bangladesh\", \"cluster\": \"South Asia\", \"pop\": 49601520, \"life_expect\": 39.348, \"fertility\": 6.76}, {\"year\": 1960, \"country\": \"Bangladesh\", \"cluster\": \"South Asia\", \"pop\": 54621538, \"life_expect\": 41.216, \"fertility\": 6.85}, {\"year\": 1965, \"country\": \"Bangladesh\", \"cluster\": \"South Asia\", \"pop\": 60332117, \"life_expect\": 43.453, \"fertility\": 6.6}, {\"year\": 1970, \"country\": \"Bangladesh\", \"cluster\": \"South Asia\", \"pop\": 67402621, \"life_expect\": 45.252, \"fertility\": 6.15}, {\"year\": 1975, \"country\": \"Bangladesh\", \"cluster\": \"South Asia\", \"pop\": 76253310, \"life_expect\": 46.923, \"fertility\": 5.6}, {\"year\": 1980, \"country\": \"Bangladesh\", \"cluster\": \"South Asia\", \"pop\": 88076996, \"life_expect\": 50.009, \"fertility\": 5.25}, {\"year\": 1985, \"country\": \"Bangladesh\", \"cluster\": \"South Asia\", \"pop\": 99752733, \"life_expect\": 52.819, \"fertility\": 4.629}, {\"year\": 1990, \"country\": \"Bangladesh\", \"cluster\": \"South Asia\", \"pop\": 109896945, \"life_expect\": 56.018, \"fertility\": 4.117}, {\"year\": 1995, \"country\": \"Bangladesh\", \"cluster\": \"South Asia\", \"pop\": 119186448, \"life_expect\": 59.412, \"fertility\": 3.5043}, {\"year\": 2000, \"country\": \"Bangladesh\", \"cluster\": \"South Asia\", \"pop\": 130406594, \"life_expect\": 62.013, \"fertility\": 3.224}, {\"year\": 2005, \"country\": \"Bangladesh\", \"cluster\": \"South Asia\", \"pop\": 144319628, \"life_expect\": 64.062, \"fertility\": 2.826}, {\"year\": 1955, \"country\": \"India\", \"cluster\": \"South Asia\", \"pop\": 393000000, \"life_expect\": 40.249, \"fertility\": 5.8961}, {\"year\": 1960, \"country\": \"India\", \"cluster\": \"South Asia\", \"pop\": 434000000, \"life_expect\": 43.605, \"fertility\": 5.8216}, {\"year\": 1965, \"country\": \"India\", \"cluster\": \"South Asia\", \"pop\": 485000000, \"life_expect\": 47.193, \"fertility\": 5.6058}, {\"year\": 1970, \"country\": \"India\", \"cluster\": \"South Asia\", \"pop\": 541000000, \"life_expect\": 50.651, \"fertility\": 5.264}, {\"year\": 1975, \"country\": \"India\", \"cluster\": \"South Asia\", \"pop\": 607000000, \"life_expect\": 54.208, \"fertility\": 4.8888}, {\"year\": 1980, \"country\": \"India\", \"cluster\": \"South Asia\", \"pop\": 679000000, \"life_expect\": 56.596, \"fertility\": 4.4975}, {\"year\": 1985, \"country\": \"India\", \"cluster\": \"South Asia\", \"pop\": 755000000, \"life_expect\": 58.553, \"fertility\": 4.15}, {\"year\": 1990, \"country\": \"India\", \"cluster\": \"South Asia\", \"pop\": 839000000, \"life_expect\": 60.223, \"fertility\": 3.8648}, {\"year\": 1995, \"country\": \"India\", \"cluster\": \"South Asia\", \"pop\": 927000000, \"life_expect\": 61.765, \"fertility\": 3.4551}, {\"year\": 2000, \"country\": \"India\", \"cluster\": \"South Asia\", \"pop\": 1007702000, \"life_expect\": 62.879, \"fertility\": 3.1132}, {\"year\": 2005, \"country\": \"India\", \"cluster\": \"South Asia\", \"pop\": 1080264388, \"life_expect\": 64.698, \"fertility\": 2.8073}, {\"year\": 1955, \"country\": \"Pakistan\", \"cluster\": \"South Asia\", \"pop\": 44434445, \"life_expect\": 45.557, \"fertility\": 6.6}, {\"year\": 1960, \"country\": \"Pakistan\", \"cluster\": \"South Asia\", \"pop\": 50386898, \"life_expect\": 47.67, \"fertility\": 6.6}, {\"year\": 1965, \"country\": \"Pakistan\", \"cluster\": \"South Asia\", \"pop\": 57494940, \"life_expect\": 49.8, \"fertility\": 6.6}, {\"year\": 1970, \"country\": \"Pakistan\", \"cluster\": \"South Asia\", \"pop\": 65705964, \"life_expect\": 51.929, \"fertility\": 6.6}, {\"year\": 1975, \"country\": \"Pakistan\", \"cluster\": \"South Asia\", \"pop\": 74711541, \"life_expect\": 54.043, \"fertility\": 6.6}, {\"year\": 1980, \"country\": \"Pakistan\", \"cluster\": \"South Asia\", \"pop\": 85219117, \"life_expect\": 56.158, \"fertility\": 6.6}, {\"year\": 1985, \"country\": \"Pakistan\", \"cluster\": \"South Asia\", \"pop\": 99060352, \"life_expect\": 58.245, \"fertility\": 6.66}, {\"year\": 1990, \"country\": \"Pakistan\", \"cluster\": \"South Asia\", \"pop\": 114578478, \"life_expect\": 60.838, \"fertility\": 5.8}, {\"year\": 1995, \"country\": \"Pakistan\", \"cluster\": \"South Asia\", \"pop\": 128690285, \"life_expect\": 61.818, \"fertility\": 4.9596}, {\"year\": 2000, \"country\": \"Pakistan\", \"cluster\": \"South Asia\", \"pop\": 146342958, \"life_expect\": 63.61, \"fertility\": 3.9936}, {\"year\": 2005, \"country\": \"Pakistan\", \"cluster\": \"South Asia\", \"pop\": 162419946, \"life_expect\": 65.483, \"fertility\": 3.5211}]}}, {\"mode\": \"vega-lite\"});\n",
       "</script>"
      ],
      "text/plain": [
       "alt.Chart(...)"
      ]
     },
     "execution_count": 24,
     "metadata": {},
     "output_type": "execute_result"
    }
   ],
   "source": [
    "alt.Chart(southasia_df).mark_line().encode(\n",
    "    alt.X('year:O'),\n",
    "    alt.Y('fertility:Q'),\n",
    "    alt.Color('country:N')\n",
    ").properties(\n",
    "    width=400\n",
    ")"
   ]
  },
  {
   "cell_type": "markdown",
   "metadata": {
    "colab_type": "text",
    "id": "qmV54UhSMPxU"
   },
   "source": [
    "- Note that we set a custom width of 400 pixels. Try changing the width and see what happens!"
   ]
  },
  {
   "cell_type": "markdown",
   "metadata": {
    "colab_type": "text",
    "id": "qmV54UhSMPxU"
   },
   "source": [
    "❓ **Exercise 6.**\n",
    "Let's change some of the default mark parameters to customize the plot above. Pass the following keyword arguments to `.mark_line()`:\n",
    "\n",
    "- `strokeWidth=3` to change the thickness of the line to 3 pixels\n",
    "- `opacity=0.5` to add some transparency"
   ]
  },
  {
   "cell_type": "code",
   "execution_count": null,
   "metadata": {},
   "outputs": [],
   "source": []
  },
  {
   "cell_type": "code",
   "execution_count": 25,
   "metadata": {
    "colab": {
     "base_uri": "https://localhost:8080/",
     "height": 385
    },
    "colab_type": "code",
    "id": "PbdSZMs43rgW",
    "outputId": "07007338-a2c7-4dc2-9f36-bb344e4103ec",
    "tags": [
     "solution"
    ]
   },
   "outputs": [
    {
     "data": {
      "text/html": [
       "\n",
       "<div id=\"altair-viz-d028c3edd08349608b027fc499826f23\"></div>\n",
       "<script type=\"text/javascript\">\n",
       "  (function(spec, embedOpt){\n",
       "    let outputDiv = document.currentScript.previousElementSibling;\n",
       "    if (outputDiv.id !== \"altair-viz-d028c3edd08349608b027fc499826f23\") {\n",
       "      outputDiv = document.getElementById(\"altair-viz-d028c3edd08349608b027fc499826f23\");\n",
       "    }\n",
       "    const paths = {\n",
       "      \"vega\": \"https://cdn.jsdelivr.net/npm//vega@5?noext\",\n",
       "      \"vega-lib\": \"https://cdn.jsdelivr.net/npm//vega-lib?noext\",\n",
       "      \"vega-lite\": \"https://cdn.jsdelivr.net/npm//vega-lite@4.8.1?noext\",\n",
       "      \"vega-embed\": \"https://cdn.jsdelivr.net/npm//vega-embed@6?noext\",\n",
       "    };\n",
       "\n",
       "    function loadScript(lib) {\n",
       "      return new Promise(function(resolve, reject) {\n",
       "        var s = document.createElement('script');\n",
       "        s.src = paths[lib];\n",
       "        s.async = true;\n",
       "        s.onload = () => resolve(paths[lib]);\n",
       "        s.onerror = () => reject(`Error loading script: ${paths[lib]}`);\n",
       "        document.getElementsByTagName(\"head\")[0].appendChild(s);\n",
       "      });\n",
       "    }\n",
       "\n",
       "    function showError(err) {\n",
       "      outputDiv.innerHTML = `<div class=\"error\" style=\"color:red;\">${err}</div>`;\n",
       "      throw err;\n",
       "    }\n",
       "\n",
       "    function displayChart(vegaEmbed) {\n",
       "      vegaEmbed(outputDiv, spec, embedOpt)\n",
       "        .catch(err => showError(`Javascript Error: ${err.message}<br>This usually means there's a typo in your chart specification. See the javascript console for the full traceback.`));\n",
       "    }\n",
       "\n",
       "    if(typeof define === \"function\" && define.amd) {\n",
       "      requirejs.config({paths});\n",
       "      require([\"vega-embed\"], displayChart, err => showError(`Error loading script: ${err.message}`));\n",
       "    } else if (typeof vegaEmbed === \"function\") {\n",
       "      displayChart(vegaEmbed);\n",
       "    } else {\n",
       "      loadScript(\"vega\")\n",
       "        .then(() => loadScript(\"vega-lite\"))\n",
       "        .then(() => loadScript(\"vega-embed\"))\n",
       "        .catch(showError)\n",
       "        .then(() => displayChart(vegaEmbed));\n",
       "    }\n",
       "  })({\"config\": {\"view\": {\"continuousWidth\": 400, \"continuousHeight\": 300}}, \"data\": {\"name\": \"data-3e2a87f795cd5aa72b6e6081ed44cb95\"}, \"mark\": {\"type\": \"line\", \"opacity\": 0.5, \"strokeWidth\": 3}, \"encoding\": {\"color\": {\"type\": \"nominal\", \"field\": \"country\"}, \"x\": {\"type\": \"ordinal\", \"field\": \"year\"}, \"y\": {\"type\": \"quantitative\", \"field\": \"fertility\"}}, \"width\": 400, \"$schema\": \"https://vega.github.io/schema/vega-lite/v4.8.1.json\", \"datasets\": {\"data-3e2a87f795cd5aa72b6e6081ed44cb95\": [{\"year\": 1955, \"country\": \"Afghanistan\", \"cluster\": \"South Asia\", \"pop\": 8891209, \"life_expect\": 30.332, \"fertility\": 7.7}, {\"year\": 1960, \"country\": \"Afghanistan\", \"cluster\": \"South Asia\", \"pop\": 9829450, \"life_expect\": 31.997, \"fertility\": 7.7}, {\"year\": 1965, \"country\": \"Afghanistan\", \"cluster\": \"South Asia\", \"pop\": 10997885, \"life_expect\": 34.02, \"fertility\": 7.7}, {\"year\": 1970, \"country\": \"Afghanistan\", \"cluster\": \"South Asia\", \"pop\": 12430623, \"life_expect\": 36.088, \"fertility\": 7.7}, {\"year\": 1975, \"country\": \"Afghanistan\", \"cluster\": \"South Asia\", \"pop\": 14132019, \"life_expect\": 38.438, \"fertility\": 7.7}, {\"year\": 1980, \"country\": \"Afghanistan\", \"cluster\": \"South Asia\", \"pop\": 15112149, \"life_expect\": 39.854, \"fertility\": 7.8}, {\"year\": 1985, \"country\": \"Afghanistan\", \"cluster\": \"South Asia\", \"pop\": 13796928, \"life_expect\": 40.822, \"fertility\": 7.9}, {\"year\": 1990, \"country\": \"Afghanistan\", \"cluster\": \"South Asia\", \"pop\": 14669339, \"life_expect\": 41.674, \"fertility\": 8.0}, {\"year\": 1995, \"country\": \"Afghanistan\", \"cluster\": \"South Asia\", \"pop\": 20881480, \"life_expect\": 41.763, \"fertility\": 8.0}, {\"year\": 2000, \"country\": \"Afghanistan\", \"cluster\": \"South Asia\", \"pop\": 23898198, \"life_expect\": 42.129, \"fertility\": 7.4792}, {\"year\": 2005, \"country\": \"Afghanistan\", \"cluster\": \"South Asia\", \"pop\": 29928987, \"life_expect\": 43.828, \"fertility\": 7.0685}, {\"year\": 1955, \"country\": \"Bangladesh\", \"cluster\": \"South Asia\", \"pop\": 49601520, \"life_expect\": 39.348, \"fertility\": 6.76}, {\"year\": 1960, \"country\": \"Bangladesh\", \"cluster\": \"South Asia\", \"pop\": 54621538, \"life_expect\": 41.216, \"fertility\": 6.85}, {\"year\": 1965, \"country\": \"Bangladesh\", \"cluster\": \"South Asia\", \"pop\": 60332117, \"life_expect\": 43.453, \"fertility\": 6.6}, {\"year\": 1970, \"country\": \"Bangladesh\", \"cluster\": \"South Asia\", \"pop\": 67402621, \"life_expect\": 45.252, \"fertility\": 6.15}, {\"year\": 1975, \"country\": \"Bangladesh\", \"cluster\": \"South Asia\", \"pop\": 76253310, \"life_expect\": 46.923, \"fertility\": 5.6}, {\"year\": 1980, \"country\": \"Bangladesh\", \"cluster\": \"South Asia\", \"pop\": 88076996, \"life_expect\": 50.009, \"fertility\": 5.25}, {\"year\": 1985, \"country\": \"Bangladesh\", \"cluster\": \"South Asia\", \"pop\": 99752733, \"life_expect\": 52.819, \"fertility\": 4.629}, {\"year\": 1990, \"country\": \"Bangladesh\", \"cluster\": \"South Asia\", \"pop\": 109896945, \"life_expect\": 56.018, \"fertility\": 4.117}, {\"year\": 1995, \"country\": \"Bangladesh\", \"cluster\": \"South Asia\", \"pop\": 119186448, \"life_expect\": 59.412, \"fertility\": 3.5043}, {\"year\": 2000, \"country\": \"Bangladesh\", \"cluster\": \"South Asia\", \"pop\": 130406594, \"life_expect\": 62.013, \"fertility\": 3.224}, {\"year\": 2005, \"country\": \"Bangladesh\", \"cluster\": \"South Asia\", \"pop\": 144319628, \"life_expect\": 64.062, \"fertility\": 2.826}, {\"year\": 1955, \"country\": \"India\", \"cluster\": \"South Asia\", \"pop\": 393000000, \"life_expect\": 40.249, \"fertility\": 5.8961}, {\"year\": 1960, \"country\": \"India\", \"cluster\": \"South Asia\", \"pop\": 434000000, \"life_expect\": 43.605, \"fertility\": 5.8216}, {\"year\": 1965, \"country\": \"India\", \"cluster\": \"South Asia\", \"pop\": 485000000, \"life_expect\": 47.193, \"fertility\": 5.6058}, {\"year\": 1970, \"country\": \"India\", \"cluster\": \"South Asia\", \"pop\": 541000000, \"life_expect\": 50.651, \"fertility\": 5.264}, {\"year\": 1975, \"country\": \"India\", \"cluster\": \"South Asia\", \"pop\": 607000000, \"life_expect\": 54.208, \"fertility\": 4.8888}, {\"year\": 1980, \"country\": \"India\", \"cluster\": \"South Asia\", \"pop\": 679000000, \"life_expect\": 56.596, \"fertility\": 4.4975}, {\"year\": 1985, \"country\": \"India\", \"cluster\": \"South Asia\", \"pop\": 755000000, \"life_expect\": 58.553, \"fertility\": 4.15}, {\"year\": 1990, \"country\": \"India\", \"cluster\": \"South Asia\", \"pop\": 839000000, \"life_expect\": 60.223, \"fertility\": 3.8648}, {\"year\": 1995, \"country\": \"India\", \"cluster\": \"South Asia\", \"pop\": 927000000, \"life_expect\": 61.765, \"fertility\": 3.4551}, {\"year\": 2000, \"country\": \"India\", \"cluster\": \"South Asia\", \"pop\": 1007702000, \"life_expect\": 62.879, \"fertility\": 3.1132}, {\"year\": 2005, \"country\": \"India\", \"cluster\": \"South Asia\", \"pop\": 1080264388, \"life_expect\": 64.698, \"fertility\": 2.8073}, {\"year\": 1955, \"country\": \"Pakistan\", \"cluster\": \"South Asia\", \"pop\": 44434445, \"life_expect\": 45.557, \"fertility\": 6.6}, {\"year\": 1960, \"country\": \"Pakistan\", \"cluster\": \"South Asia\", \"pop\": 50386898, \"life_expect\": 47.67, \"fertility\": 6.6}, {\"year\": 1965, \"country\": \"Pakistan\", \"cluster\": \"South Asia\", \"pop\": 57494940, \"life_expect\": 49.8, \"fertility\": 6.6}, {\"year\": 1970, \"country\": \"Pakistan\", \"cluster\": \"South Asia\", \"pop\": 65705964, \"life_expect\": 51.929, \"fertility\": 6.6}, {\"year\": 1975, \"country\": \"Pakistan\", \"cluster\": \"South Asia\", \"pop\": 74711541, \"life_expect\": 54.043, \"fertility\": 6.6}, {\"year\": 1980, \"country\": \"Pakistan\", \"cluster\": \"South Asia\", \"pop\": 85219117, \"life_expect\": 56.158, \"fertility\": 6.6}, {\"year\": 1985, \"country\": \"Pakistan\", \"cluster\": \"South Asia\", \"pop\": 99060352, \"life_expect\": 58.245, \"fertility\": 6.66}, {\"year\": 1990, \"country\": \"Pakistan\", \"cluster\": \"South Asia\", \"pop\": 114578478, \"life_expect\": 60.838, \"fertility\": 5.8}, {\"year\": 1995, \"country\": \"Pakistan\", \"cluster\": \"South Asia\", \"pop\": 128690285, \"life_expect\": 61.818, \"fertility\": 4.9596}, {\"year\": 2000, \"country\": \"Pakistan\", \"cluster\": \"South Asia\", \"pop\": 146342958, \"life_expect\": 63.61, \"fertility\": 3.9936}, {\"year\": 2005, \"country\": \"Pakistan\", \"cluster\": \"South Asia\", \"pop\": 162419946, \"life_expect\": 65.483, \"fertility\": 3.5211}]}}, {\"mode\": \"vega-lite\"});\n",
       "</script>"
      ],
      "text/plain": [
       "alt.Chart(...)"
      ]
     },
     "execution_count": 25,
     "metadata": {},
     "output_type": "execute_result"
    }
   ],
   "source": [
    "# Solution\n",
    "alt.Chart(southasia_df).mark_line(\n",
    "    strokeWidth=3,\n",
    "    opacity=0.5\n",
    ").encode(\n",
    "    alt.X('year:O'),\n",
    "    alt.Y('fertility:Q'),\n",
    "    alt.Color('country:N'),\n",
    ").properties(\n",
    "    width=400\n",
    ")"
   ]
  },
  {
   "cell_type": "markdown",
   "metadata": {},
   "source": [
    "<hr style=\"border-top: 2px solid gray; margin-top: 1px; margin-bottom: 1px\"></hr>"
   ]
  },
  {
   "cell_type": "markdown",
   "metadata": {
    "colab_type": "text",
    "id": "OAmIxLRarios"
   },
   "source": [
    "## What's next?"
   ]
  },
  {
   "cell_type": "markdown",
   "metadata": {
    "colab_type": "text",
    "id": "OAmIxLRarios"
   },
   "source": [
    "- You now know the basics of creating data visualizations using Altair!\n",
    "\n",
    "\n",
    "- Over the next several lessons, we will gradually add more to your Altair toolbelt:\n",
    "    - Transforming the data to create visualizations that summarize data or visualize newly derived variables\n",
    "    - Configuring titles, axes, scales, colors\n",
    "    - Adding user interactivity to visualizations\n",
    "    - Visualizing cartographic data (i.e., geographic maps)"
   ]
  },
  {
   "cell_type": "markdown",
   "metadata": {},
   "source": [
    "<hr style=\"border-top: 2px solid gray; margin-top: 1px; margin-bottom: 1px\"></hr>"
   ]
  },
  {
   "cell_type": "markdown",
   "metadata": {},
   "source": [
    "## Problems"
   ]
  },
  {
   "cell_type": "markdown",
   "metadata": {},
   "source": [
    "### Problem 1"
   ]
  },
  {
   "cell_type": "markdown",
   "metadata": {},
   "source": [
    "The file `data/gapminder_2000.csv` contains the Gapminder data filtered for the year 2000 that we used above.\n",
    "\n",
    "Create a scatter plot of life expectancy vs. population. Use shape to differentiate points representing different clusters. Your chart should look like this:\n",
    "\n",
    "![](img/scatter.svg)\n",
    "\n",
    "Do you think this is an effective visualization? Why or why not?"
   ]
  },
  {
   "cell_type": "code",
   "execution_count": null,
   "metadata": {},
   "outputs": [],
   "source": []
  },
  {
   "cell_type": "code",
   "execution_count": 26,
   "metadata": {
    "tags": [
     "solution"
    ]
   },
   "outputs": [
    {
     "data": {
      "text/html": [
       "\n",
       "<div id=\"altair-viz-a808aea865034ba2a5d6c412d5c69b6d\"></div>\n",
       "<script type=\"text/javascript\">\n",
       "  (function(spec, embedOpt){\n",
       "    let outputDiv = document.currentScript.previousElementSibling;\n",
       "    if (outputDiv.id !== \"altair-viz-a808aea865034ba2a5d6c412d5c69b6d\") {\n",
       "      outputDiv = document.getElementById(\"altair-viz-a808aea865034ba2a5d6c412d5c69b6d\");\n",
       "    }\n",
       "    const paths = {\n",
       "      \"vega\": \"https://cdn.jsdelivr.net/npm//vega@5?noext\",\n",
       "      \"vega-lib\": \"https://cdn.jsdelivr.net/npm//vega-lib?noext\",\n",
       "      \"vega-lite\": \"https://cdn.jsdelivr.net/npm//vega-lite@4.8.1?noext\",\n",
       "      \"vega-embed\": \"https://cdn.jsdelivr.net/npm//vega-embed@6?noext\",\n",
       "    };\n",
       "\n",
       "    function loadScript(lib) {\n",
       "      return new Promise(function(resolve, reject) {\n",
       "        var s = document.createElement('script');\n",
       "        s.src = paths[lib];\n",
       "        s.async = true;\n",
       "        s.onload = () => resolve(paths[lib]);\n",
       "        s.onerror = () => reject(`Error loading script: ${paths[lib]}`);\n",
       "        document.getElementsByTagName(\"head\")[0].appendChild(s);\n",
       "      });\n",
       "    }\n",
       "\n",
       "    function showError(err) {\n",
       "      outputDiv.innerHTML = `<div class=\"error\" style=\"color:red;\">${err}</div>`;\n",
       "      throw err;\n",
       "    }\n",
       "\n",
       "    function displayChart(vegaEmbed) {\n",
       "      vegaEmbed(outputDiv, spec, embedOpt)\n",
       "        .catch(err => showError(`Javascript Error: ${err.message}<br>This usually means there's a typo in your chart specification. See the javascript console for the full traceback.`));\n",
       "    }\n",
       "\n",
       "    if(typeof define === \"function\" && define.amd) {\n",
       "      requirejs.config({paths});\n",
       "      require([\"vega-embed\"], displayChart, err => showError(`Error loading script: ${err.message}`));\n",
       "    } else if (typeof vegaEmbed === \"function\") {\n",
       "      displayChart(vegaEmbed);\n",
       "    } else {\n",
       "      loadScript(\"vega\")\n",
       "        .then(() => loadScript(\"vega-lite\"))\n",
       "        .then(() => loadScript(\"vega-embed\"))\n",
       "        .catch(showError)\n",
       "        .then(() => displayChart(vegaEmbed));\n",
       "    }\n",
       "  })({\"config\": {\"view\": {\"continuousWidth\": 400, \"continuousHeight\": 300}}, \"data\": {\"name\": \"data-40a6c7d464d1f0a318dab2ada85d74e7\"}, \"mark\": \"point\", \"encoding\": {\"shape\": {\"type\": \"nominal\", \"field\": \"cluster\"}, \"x\": {\"type\": \"quantitative\", \"field\": \"pop\"}, \"y\": {\"type\": \"quantitative\", \"field\": \"life_expect\"}}, \"$schema\": \"https://vega.github.io/schema/vega-lite/v4.8.1.json\", \"datasets\": {\"data-40a6c7d464d1f0a318dab2ada85d74e7\": [{\"year\": 2000, \"country\": \"Afghanistan\", \"cluster\": \"South Asia\", \"pop\": 23898198, \"life_expect\": 42.129, \"fertility\": 7.4792}, {\"year\": 2000, \"country\": \"Argentina\", \"cluster\": \"Americas\", \"pop\": 37497728, \"life_expect\": 74.34, \"fertility\": 2.35}, {\"year\": 2000, \"country\": \"Aruba\", \"cluster\": \"Americas\", \"pop\": 69539, \"life_expect\": 73.451, \"fertility\": 2.124}, {\"year\": 2000, \"country\": \"Australia\", \"cluster\": \"East Asia & Pacific\", \"pop\": 19164620, \"life_expect\": 80.37, \"fertility\": 1.756}, {\"year\": 2000, \"country\": \"Austria\", \"cluster\": \"Europe & Central Asia\", \"pop\": 8113413, \"life_expect\": 78.98, \"fertility\": 1.382}, {\"year\": 2000, \"country\": \"Bahamas\", \"cluster\": \"Americas\", \"pop\": 290075, \"life_expect\": 71.068, \"fertility\": 2.1111}, {\"year\": 2000, \"country\": \"Bangladesh\", \"cluster\": \"South Asia\", \"pop\": 130406594, \"life_expect\": 62.013, \"fertility\": 3.224}, {\"year\": 2000, \"country\": \"Barbados\", \"cluster\": \"Americas\", \"pop\": 273483, \"life_expect\": 75.97, \"fertility\": 1.5}, {\"year\": 2000, \"country\": \"Belgium\", \"cluster\": \"Europe & Central Asia\", \"pop\": 10263618, \"life_expect\": 78.32, \"fertility\": 1.638}, {\"year\": 2000, \"country\": \"Bolivia\", \"cluster\": \"Americas\", \"pop\": 8152620, \"life_expect\": 63.883, \"fertility\": 3.9585}, {\"year\": 2000, \"country\": \"Brazil\", \"cluster\": \"Americas\", \"pop\": 175552771, \"life_expect\": 71.006, \"fertility\": 2.345}, {\"year\": 2000, \"country\": \"Canada\", \"cluster\": \"Americas\", \"pop\": 31278097, \"life_expect\": 79.77, \"fertility\": 1.522}, {\"year\": 2000, \"country\": \"Chile\", \"cluster\": \"Americas\", \"pop\": 15153450, \"life_expect\": 77.86, \"fertility\": 2.0}, {\"year\": 2000, \"country\": \"China\", \"cluster\": \"East Asia & Pacific\", \"pop\": 1262645000, \"life_expect\": 72.028, \"fertility\": 1.7000000000000002}, {\"year\": 2000, \"country\": \"Colombia\", \"cluster\": \"Americas\", \"pop\": 39685655, \"life_expect\": 71.682, \"fertility\": 2.4705}, {\"year\": 2000, \"country\": \"Costa Rica\", \"cluster\": \"Americas\", \"pop\": 3710558, \"life_expect\": 78.123, \"fertility\": 2.2815}, {\"year\": 2000, \"country\": \"Croatia\", \"cluster\": \"Europe & Central Asia\", \"pop\": 4410830, \"life_expect\": 74.876, \"fertility\": 1.348}, {\"year\": 2000, \"country\": \"Cuba\", \"cluster\": \"Americas\", \"pop\": 11134273, \"life_expect\": 77.158, \"fertility\": 1.63}, {\"year\": 2000, \"country\": \"Dominican Republic\", \"cluster\": \"Americas\", \"pop\": 8385828, \"life_expect\": 70.847, \"fertility\": 2.95}, {\"year\": 2000, \"country\": \"Ecuador\", \"cluster\": \"Americas\", \"pop\": 12505204, \"life_expect\": 74.173, \"fertility\": 2.8175}, {\"year\": 2000, \"country\": \"Egypt\", \"cluster\": \"Middle East & North Africa\", \"pop\": 70492342, \"life_expect\": 69.806, \"fertility\": 3.174}, {\"year\": 2000, \"country\": \"El Salvador\", \"cluster\": \"Americas\", \"pop\": 6122515, \"life_expect\": 70.734, \"fertility\": 2.883}, {\"year\": 2000, \"country\": \"Finland\", \"cluster\": \"Europe & Central Asia\", \"pop\": 5168595, \"life_expect\": 78.37, \"fertility\": 1.754}, {\"year\": 2000, \"country\": \"France\", \"cluster\": \"Europe & Central Asia\", \"pop\": 59381628, \"life_expect\": 79.59, \"fertility\": 1.8833}, {\"year\": 2000, \"country\": \"Georgia\", \"cluster\": \"Europe & Central Asia\", \"pop\": 4777209, \"life_expect\": 70.476, \"fertility\": 1.478}, {\"year\": 2000, \"country\": \"Germany\", \"cluster\": \"Europe & Central Asia\", \"pop\": 82187909, \"life_expect\": 78.67, \"fertility\": 1.346}, {\"year\": 2000, \"country\": \"Greece\", \"cluster\": \"Europe & Central Asia\", \"pop\": 10559110, \"life_expect\": 78.256, \"fertility\": 1.277}, {\"year\": 2000, \"country\": \"Grenada\", \"cluster\": \"Americas\", \"pop\": 89312, \"life_expect\": 67.746, \"fertility\": 2.429}, {\"year\": 2000, \"country\": \"Haiti\", \"cluster\": \"Americas\", \"pop\": 7306302, \"life_expect\": 58.137, \"fertility\": 4.0}, {\"year\": 2000, \"country\": \"Hong Kong\", \"cluster\": \"East Asia & Pacific\", \"pop\": 6658720, \"life_expect\": 81.495, \"fertility\": 0.94}, {\"year\": 2000, \"country\": \"Iceland\", \"cluster\": \"Europe & Central Asia\", \"pop\": 281043, \"life_expect\": 80.5, \"fertility\": 1.993}, {\"year\": 2000, \"country\": \"India\", \"cluster\": \"South Asia\", \"pop\": 1007702000, \"life_expect\": 62.879, \"fertility\": 3.1132}, {\"year\": 2000, \"country\": \"Indonesia\", \"cluster\": \"East Asia & Pacific\", \"pop\": 206265000, \"life_expect\": 68.588, \"fertility\": 2.3761}, {\"year\": 2000, \"country\": \"Iran\", \"cluster\": \"Middle East & North Africa\", \"pop\": 65660289, \"life_expect\": 69.451, \"fertility\": 2.124}, {\"year\": 2000, \"country\": \"Iraq\", \"cluster\": \"Middle East & North Africa\", \"pop\": 22675617, \"life_expect\": 57.046, \"fertility\": 4.858}, {\"year\": 2000, \"country\": \"Ireland\", \"cluster\": \"Europe & Central Asia\", \"pop\": 3791690, \"life_expect\": 77.783, \"fertility\": 1.969}, {\"year\": 2000, \"country\": \"Israel\", \"cluster\": \"Middle East & North Africa\", \"pop\": 5842454, \"life_expect\": 79.696, \"fertility\": 2.906}, {\"year\": 2000, \"country\": \"Italy\", \"cluster\": \"Europe & Central Asia\", \"pop\": 57719337, \"life_expect\": 80.24, \"fertility\": 1.286}, {\"year\": 2000, \"country\": \"Jamaica\", \"cluster\": \"Americas\", \"pop\": 2615467, \"life_expect\": 72.047, \"fertility\": 2.628}, {\"year\": 2000, \"country\": \"Japan\", \"cluster\": \"East Asia & Pacific\", \"pop\": 126699784, \"life_expect\": 82.0, \"fertility\": 1.291}, {\"year\": 2000, \"country\": \"Kenya\", \"cluster\": \"Sub-Saharan Africa\", \"pop\": 29985839, \"life_expect\": 50.992, \"fertility\": 5.0}, {\"year\": 2000, \"country\": \"South Korea\", \"cluster\": \"East Asia & Pacific\", \"pop\": 21647682, \"life_expect\": 66.662, \"fertility\": 1.9173}, {\"year\": 2000, \"country\": \"North Korea\", \"cluster\": \"East Asia & Pacific\", \"pop\": 47351083, \"life_expect\": 77.045, \"fertility\": 1.242}, {\"year\": 2000, \"country\": \"Lebanon\", \"cluster\": \"Middle East & North Africa\", \"pop\": 3578036, \"life_expect\": 71.028, \"fertility\": 2.319}, {\"year\": 2000, \"country\": \"Mexico\", \"cluster\": \"Americas\", \"pop\": 99926620, \"life_expect\": 74.902, \"fertility\": 2.4005}, {\"year\": 2000, \"country\": \"Netherlands\", \"cluster\": \"Europe & Central Asia\", \"pop\": 15907853, \"life_expect\": 78.53, \"fertility\": 1.726}, {\"year\": 2000, \"country\": \"New Zealand\", \"cluster\": \"East Asia & Pacific\", \"pop\": 3819762, \"life_expect\": 79.11, \"fertility\": 1.964}, {\"year\": 2000, \"country\": \"Nigeria\", \"cluster\": \"Sub-Saharan Africa\", \"pop\": 114306700, \"life_expect\": 46.608, \"fertility\": 5.845}, {\"year\": 2000, \"country\": \"Norway\", \"cluster\": \"Europe & Central Asia\", \"pop\": 4492400, \"life_expect\": 79.05, \"fertility\": 1.8010000000000002}, {\"year\": 2000, \"country\": \"Pakistan\", \"cluster\": \"South Asia\", \"pop\": 146342958, \"life_expect\": 63.61, \"fertility\": 3.9936}, {\"year\": 2000, \"country\": \"Peru\", \"cluster\": \"Americas\", \"pop\": 25979722, \"life_expect\": 69.906, \"fertility\": 2.7005}, {\"year\": 2000, \"country\": \"Philippines\", \"cluster\": \"East Asia & Pacific\", \"pop\": 79739825, \"life_expect\": 70.303, \"fertility\": 3.5436}, {\"year\": 2000, \"country\": \"Poland\", \"cluster\": \"Europe & Central Asia\", \"pop\": 38654164, \"life_expect\": 74.67, \"fertility\": 1.251}, {\"year\": 2000, \"country\": \"Portugal\", \"cluster\": \"Europe & Central Asia\", \"pop\": 10335597, \"life_expect\": 77.29, \"fertility\": 1.454}, {\"year\": 2000, \"country\": \"Rwanda\", \"cluster\": \"Sub-Saharan Africa\", \"pop\": 7507056, \"life_expect\": 43.413, \"fertility\": 6.01}, {\"year\": 2000, \"country\": \"Saudi Arabia\", \"cluster\": \"Middle East & North Africa\", \"pop\": 23153090, \"life_expect\": 71.626, \"fertility\": 3.81}, {\"year\": 2000, \"country\": \"South Africa\", \"cluster\": \"Sub-Saharan Africa\", \"pop\": 44066197, \"life_expect\": 53.365, \"fertility\": 2.802}, {\"year\": 2000, \"country\": \"Spain\", \"cluster\": \"Europe & Central Asia\", \"pop\": 40016081, \"life_expect\": 79.78, \"fertility\": 1.287}, {\"year\": 2000, \"country\": \"Switzerland\", \"cluster\": \"Europe & Central Asia\", \"pop\": 7266920, \"life_expect\": 80.62, \"fertility\": 1.415}, {\"year\": 2000, \"country\": \"Turkey\", \"cluster\": \"Europe & Central Asia\", \"pop\": 65666677, \"life_expect\": 70.845, \"fertility\": 2.23}, {\"year\": 2000, \"country\": \"United Kingdom\", \"cluster\": \"Europe & Central Asia\", \"pop\": 59522468, \"life_expect\": 78.471, \"fertility\": 1.695}, {\"year\": 2000, \"country\": \"United States\", \"cluster\": \"Americas\", \"pop\": 282338631, \"life_expect\": 77.31, \"fertility\": 2.038}, {\"year\": 2000, \"country\": \"Venezuela\", \"cluster\": \"Americas\", \"pop\": 23542649, \"life_expect\": 72.766, \"fertility\": 2.723}]}}, {\"mode\": \"vega-lite\"});\n",
       "</script>"
      ],
      "text/plain": [
       "alt.Chart(...)"
      ]
     },
     "execution_count": 26,
     "metadata": {},
     "output_type": "execute_result"
    }
   ],
   "source": [
    "# Solution\n",
    "year2000_df = pd.read_csv('data/gapminder_2000.csv')\n",
    "\n",
    "alt.Chart(year2000_df).mark_point().encode(\n",
    "    alt.X('pop:Q'),\n",
    "    alt.Y('life_expect:Q'),\n",
    "    alt.Shape('cluster:N')\n",
    ")"
   ]
  },
  {
   "cell_type": "markdown",
   "metadata": {},
   "source": [
    "*Write your answer here. Double-click to edit.*"
   ]
  },
  {
   "cell_type": "markdown",
   "metadata": {
    "tags": [
     "solution"
    ]
   },
   "source": [
    "*Solution.* This is not an effective visualization, because it is difficult to see the relationship between the two variables for most of the data: the two outliers to the right force the chart to squeeze most of the points in a narrow space. Furthermore, since the points are densely positioned, it is difficult to make out the different shapes assigned to the different clusters."
   ]
  },
  {
   "cell_type": "markdown",
   "metadata": {},
   "source": [
    "### Problem 2"
   ]
  },
  {
   "cell_type": "markdown",
   "metadata": {},
   "source": [
    "The file `data/gapminder_americas_2000.csv` contains the Gapminder data filtered for countries in the Americas cluster and the year 2000.\n",
    "\n",
    "Create a bar chart comparing the fertility of each country. Each country should be represented by a bar of a different color. Do not include a legend for the colors. Your chart should look like this:\n",
    "\n",
    "![](img/bar.svg)"
   ]
  },
  {
   "cell_type": "code",
   "execution_count": null,
   "metadata": {},
   "outputs": [],
   "source": []
  },
  {
   "cell_type": "code",
   "execution_count": 27,
   "metadata": {
    "tags": [
     "solution"
    ]
   },
   "outputs": [
    {
     "data": {
      "text/html": [
       "\n",
       "<div id=\"altair-viz-9ba204f1b8e044bc9ce18ce019768302\"></div>\n",
       "<script type=\"text/javascript\">\n",
       "  (function(spec, embedOpt){\n",
       "    let outputDiv = document.currentScript.previousElementSibling;\n",
       "    if (outputDiv.id !== \"altair-viz-9ba204f1b8e044bc9ce18ce019768302\") {\n",
       "      outputDiv = document.getElementById(\"altair-viz-9ba204f1b8e044bc9ce18ce019768302\");\n",
       "    }\n",
       "    const paths = {\n",
       "      \"vega\": \"https://cdn.jsdelivr.net/npm//vega@5?noext\",\n",
       "      \"vega-lib\": \"https://cdn.jsdelivr.net/npm//vega-lib?noext\",\n",
       "      \"vega-lite\": \"https://cdn.jsdelivr.net/npm//vega-lite@4.8.1?noext\",\n",
       "      \"vega-embed\": \"https://cdn.jsdelivr.net/npm//vega-embed@6?noext\",\n",
       "    };\n",
       "\n",
       "    function loadScript(lib) {\n",
       "      return new Promise(function(resolve, reject) {\n",
       "        var s = document.createElement('script');\n",
       "        s.src = paths[lib];\n",
       "        s.async = true;\n",
       "        s.onload = () => resolve(paths[lib]);\n",
       "        s.onerror = () => reject(`Error loading script: ${paths[lib]}`);\n",
       "        document.getElementsByTagName(\"head\")[0].appendChild(s);\n",
       "      });\n",
       "    }\n",
       "\n",
       "    function showError(err) {\n",
       "      outputDiv.innerHTML = `<div class=\"error\" style=\"color:red;\">${err}</div>`;\n",
       "      throw err;\n",
       "    }\n",
       "\n",
       "    function displayChart(vegaEmbed) {\n",
       "      vegaEmbed(outputDiv, spec, embedOpt)\n",
       "        .catch(err => showError(`Javascript Error: ${err.message}<br>This usually means there's a typo in your chart specification. See the javascript console for the full traceback.`));\n",
       "    }\n",
       "\n",
       "    if(typeof define === \"function\" && define.amd) {\n",
       "      requirejs.config({paths});\n",
       "      require([\"vega-embed\"], displayChart, err => showError(`Error loading script: ${err.message}`));\n",
       "    } else if (typeof vegaEmbed === \"function\") {\n",
       "      displayChart(vegaEmbed);\n",
       "    } else {\n",
       "      loadScript(\"vega\")\n",
       "        .then(() => loadScript(\"vega-lite\"))\n",
       "        .then(() => loadScript(\"vega-embed\"))\n",
       "        .catch(showError)\n",
       "        .then(() => displayChart(vegaEmbed));\n",
       "    }\n",
       "  })({\"config\": {\"view\": {\"continuousWidth\": 400, \"continuousHeight\": 300}}, \"data\": {\"name\": \"data-cb2c917be54ede4a0daf47209591d029\"}, \"mark\": \"bar\", \"encoding\": {\"color\": {\"type\": \"nominal\", \"field\": \"country\", \"legend\": null}, \"x\": {\"type\": \"quantitative\", \"field\": \"fertility\"}, \"y\": {\"type\": \"nominal\", \"field\": \"country\"}}, \"$schema\": \"https://vega.github.io/schema/vega-lite/v4.8.1.json\", \"datasets\": {\"data-cb2c917be54ede4a0daf47209591d029\": [{\"year\": 2000, \"country\": \"Argentina\", \"cluster\": \"Americas\", \"pop\": 37497728, \"life_expect\": 74.34, \"fertility\": 2.35}, {\"year\": 2000, \"country\": \"Aruba\", \"cluster\": \"Americas\", \"pop\": 69539, \"life_expect\": 73.451, \"fertility\": 2.124}, {\"year\": 2000, \"country\": \"Bahamas\", \"cluster\": \"Americas\", \"pop\": 290075, \"life_expect\": 71.068, \"fertility\": 2.1111}, {\"year\": 2000, \"country\": \"Barbados\", \"cluster\": \"Americas\", \"pop\": 273483, \"life_expect\": 75.97, \"fertility\": 1.5}, {\"year\": 2000, \"country\": \"Bolivia\", \"cluster\": \"Americas\", \"pop\": 8152620, \"life_expect\": 63.883, \"fertility\": 3.9585}, {\"year\": 2000, \"country\": \"Brazil\", \"cluster\": \"Americas\", \"pop\": 175552771, \"life_expect\": 71.006, \"fertility\": 2.345}, {\"year\": 2000, \"country\": \"Canada\", \"cluster\": \"Americas\", \"pop\": 31278097, \"life_expect\": 79.77, \"fertility\": 1.522}, {\"year\": 2000, \"country\": \"Chile\", \"cluster\": \"Americas\", \"pop\": 15153450, \"life_expect\": 77.86, \"fertility\": 2.0}, {\"year\": 2000, \"country\": \"Colombia\", \"cluster\": \"Americas\", \"pop\": 39685655, \"life_expect\": 71.682, \"fertility\": 2.4705}, {\"year\": 2000, \"country\": \"Costa Rica\", \"cluster\": \"Americas\", \"pop\": 3710558, \"life_expect\": 78.123, \"fertility\": 2.2815}, {\"year\": 2000, \"country\": \"Cuba\", \"cluster\": \"Americas\", \"pop\": 11134273, \"life_expect\": 77.158, \"fertility\": 1.63}, {\"year\": 2000, \"country\": \"Dominican Republic\", \"cluster\": \"Americas\", \"pop\": 8385828, \"life_expect\": 70.847, \"fertility\": 2.95}, {\"year\": 2000, \"country\": \"Ecuador\", \"cluster\": \"Americas\", \"pop\": 12505204, \"life_expect\": 74.173, \"fertility\": 2.8175}, {\"year\": 2000, \"country\": \"El Salvador\", \"cluster\": \"Americas\", \"pop\": 6122515, \"life_expect\": 70.734, \"fertility\": 2.883}, {\"year\": 2000, \"country\": \"Grenada\", \"cluster\": \"Americas\", \"pop\": 89312, \"life_expect\": 67.746, \"fertility\": 2.429}, {\"year\": 2000, \"country\": \"Haiti\", \"cluster\": \"Americas\", \"pop\": 7306302, \"life_expect\": 58.137, \"fertility\": 4.0}, {\"year\": 2000, \"country\": \"Jamaica\", \"cluster\": \"Americas\", \"pop\": 2615467, \"life_expect\": 72.047, \"fertility\": 2.628}, {\"year\": 2000, \"country\": \"Mexico\", \"cluster\": \"Americas\", \"pop\": 99926620, \"life_expect\": 74.902, \"fertility\": 2.4005}, {\"year\": 2000, \"country\": \"Peru\", \"cluster\": \"Americas\", \"pop\": 25979722, \"life_expect\": 69.906, \"fertility\": 2.7005}, {\"year\": 2000, \"country\": \"United States\", \"cluster\": \"Americas\", \"pop\": 282338631, \"life_expect\": 77.31, \"fertility\": 2.038}, {\"year\": 2000, \"country\": \"Venezuela\", \"cluster\": \"Americas\", \"pop\": 23542649, \"life_expect\": 72.766, \"fertility\": 2.723}]}}, {\"mode\": \"vega-lite\"});\n",
       "</script>"
      ],
      "text/plain": [
       "alt.Chart(...)"
      ]
     },
     "execution_count": 27,
     "metadata": {},
     "output_type": "execute_result"
    }
   ],
   "source": [
    "# Solution\n",
    "americas_2000_df = pd.read_csv('data/gapminder_americas_2000.csv')\n",
    "\n",
    "alt.Chart(americas_2000_df).mark_bar().encode(\n",
    "    alt.Y('country:N'),\n",
    "    alt.X('fertility:Q'),\n",
    "    alt.Color('country:N', legend=None)\n",
    ")"
   ]
  },
  {
   "cell_type": "markdown",
   "metadata": {},
   "source": [
    "### Problem 3"
   ]
  },
  {
   "cell_type": "markdown",
   "metadata": {
    "colab_type": "text",
    "id": "_PZcXCF6OZm2"
   },
   "source": [
    "The line mark can be used to create *slope graphs*, charts that highlight the change in value between two comparison points using lines.\n",
    "\n",
    "The file `data/gapminder_eap_1955_2005.csv` contains the Gapminder data, filtered for countries in the East Asia & Pacific cluster and the years 1955 and 2005.\n",
    "\n",
    "Create a slope graph comparing the populations of each country in 1955 and 2005, like this:\n",
    "\n",
    "![](img/slope.svg)\n",
    "\n",
    "Set the opacity of the `line` mark to 0.5, and the width of the chart to 200."
   ]
  },
  {
   "cell_type": "code",
   "execution_count": null,
   "metadata": {},
   "outputs": [],
   "source": []
  },
  {
   "cell_type": "code",
   "execution_count": 28,
   "metadata": {
    "colab": {
     "base_uri": "https://localhost:8080/",
     "height": 385
    },
    "colab_type": "code",
    "id": "glipk3XoKUcc",
    "outputId": "edd1292a-97a7-44d1-b2ec-c5b8d755aa86",
    "tags": [
     "solution"
    ]
   },
   "outputs": [
    {
     "data": {
      "text/html": [
       "\n",
       "<div id=\"altair-viz-d54185b75b17402fb3229128bb7a5a60\"></div>\n",
       "<script type=\"text/javascript\">\n",
       "  (function(spec, embedOpt){\n",
       "    let outputDiv = document.currentScript.previousElementSibling;\n",
       "    if (outputDiv.id !== \"altair-viz-d54185b75b17402fb3229128bb7a5a60\") {\n",
       "      outputDiv = document.getElementById(\"altair-viz-d54185b75b17402fb3229128bb7a5a60\");\n",
       "    }\n",
       "    const paths = {\n",
       "      \"vega\": \"https://cdn.jsdelivr.net/npm//vega@5?noext\",\n",
       "      \"vega-lib\": \"https://cdn.jsdelivr.net/npm//vega-lib?noext\",\n",
       "      \"vega-lite\": \"https://cdn.jsdelivr.net/npm//vega-lite@4.8.1?noext\",\n",
       "      \"vega-embed\": \"https://cdn.jsdelivr.net/npm//vega-embed@6?noext\",\n",
       "    };\n",
       "\n",
       "    function loadScript(lib) {\n",
       "      return new Promise(function(resolve, reject) {\n",
       "        var s = document.createElement('script');\n",
       "        s.src = paths[lib];\n",
       "        s.async = true;\n",
       "        s.onload = () => resolve(paths[lib]);\n",
       "        s.onerror = () => reject(`Error loading script: ${paths[lib]}`);\n",
       "        document.getElementsByTagName(\"head\")[0].appendChild(s);\n",
       "      });\n",
       "    }\n",
       "\n",
       "    function showError(err) {\n",
       "      outputDiv.innerHTML = `<div class=\"error\" style=\"color:red;\">${err}</div>`;\n",
       "      throw err;\n",
       "    }\n",
       "\n",
       "    function displayChart(vegaEmbed) {\n",
       "      vegaEmbed(outputDiv, spec, embedOpt)\n",
       "        .catch(err => showError(`Javascript Error: ${err.message}<br>This usually means there's a typo in your chart specification. See the javascript console for the full traceback.`));\n",
       "    }\n",
       "\n",
       "    if(typeof define === \"function\" && define.amd) {\n",
       "      requirejs.config({paths});\n",
       "      require([\"vega-embed\"], displayChart, err => showError(`Error loading script: ${err.message}`));\n",
       "    } else if (typeof vegaEmbed === \"function\") {\n",
       "      displayChart(vegaEmbed);\n",
       "    } else {\n",
       "      loadScript(\"vega\")\n",
       "        .then(() => loadScript(\"vega-lite\"))\n",
       "        .then(() => loadScript(\"vega-embed\"))\n",
       "        .catch(showError)\n",
       "        .then(() => displayChart(vegaEmbed));\n",
       "    }\n",
       "  })({\"config\": {\"view\": {\"continuousWidth\": 400, \"continuousHeight\": 300}}, \"data\": {\"name\": \"data-2c9cd60ea214ce465d4dfc410fb7a4a6\"}, \"mark\": {\"type\": \"line\", \"opacity\": 0.5}, \"encoding\": {\"color\": {\"type\": \"nominal\", \"field\": \"country\"}, \"x\": {\"type\": \"ordinal\", \"field\": \"year\"}, \"y\": {\"type\": \"quantitative\", \"field\": \"pop\"}}, \"width\": 200, \"$schema\": \"https://vega.github.io/schema/vega-lite/v4.8.1.json\", \"datasets\": {\"data-2c9cd60ea214ce465d4dfc410fb7a4a6\": [{\"year\": 1955, \"country\": \"Australia\", \"cluster\": \"East Asia & Pacific\", \"pop\": 9277087, \"life_expect\": 70.33, \"fertility\": 3.406}, {\"year\": 2005, \"country\": \"Australia\", \"cluster\": \"East Asia & Pacific\", \"pop\": 20090437, \"life_expect\": 81.235, \"fertility\": 1.788}, {\"year\": 1955, \"country\": \"China\", \"cluster\": \"East Asia & Pacific\", \"pop\": 608655000, \"life_expect\": 50.54896, \"fertility\": 5.59}, {\"year\": 2005, \"country\": \"China\", \"cluster\": \"East Asia & Pacific\", \"pop\": 1303182268, \"life_expect\": 72.961, \"fertility\": 1.725}, {\"year\": 1955, \"country\": \"Hong Kong\", \"cluster\": \"East Asia & Pacific\", \"pop\": 2490400, \"life_expect\": 64.75, \"fertility\": 4.72}, {\"year\": 2005, \"country\": \"Hong Kong\", \"cluster\": \"East Asia & Pacific\", \"pop\": 6898686, \"life_expect\": 82.208, \"fertility\": 0.966}, {\"year\": 1955, \"country\": \"Indonesia\", \"cluster\": \"East Asia & Pacific\", \"pop\": 86807000, \"life_expect\": 39.918, \"fertility\": 5.672}, {\"year\": 2005, \"country\": \"Indonesia\", \"cluster\": \"East Asia & Pacific\", \"pop\": 218465000, \"life_expect\": 70.65, \"fertility\": 2.182}, {\"year\": 1955, \"country\": \"Japan\", \"cluster\": \"East Asia & Pacific\", \"pop\": 89815060, \"life_expect\": 65.5, \"fertility\": 2.08}, {\"year\": 2005, \"country\": \"Japan\", \"cluster\": \"East Asia & Pacific\", \"pop\": 127417244, \"life_expect\": 82.603, \"fertility\": 1.27}, {\"year\": 1955, \"country\": \"South Korea\", \"cluster\": \"East Asia & Pacific\", \"pop\": 8839427, \"life_expect\": 54.081, \"fertility\": 3.8}, {\"year\": 2005, \"country\": \"South Korea\", \"cluster\": \"East Asia & Pacific\", \"pop\": 22912177, \"life_expect\": 67.297, \"fertility\": 1.85}, {\"year\": 1955, \"country\": \"North Korea\", \"cluster\": \"East Asia & Pacific\", \"pop\": 21551834, \"life_expect\": 52.681, \"fertility\": 6.332}, {\"year\": 2005, \"country\": \"North Korea\", \"cluster\": \"East Asia & Pacific\", \"pop\": 48640671, \"life_expect\": 78.623, \"fertility\": 1.21}, {\"year\": 1955, \"country\": \"New Zealand\", \"cluster\": \"East Asia & Pacific\", \"pop\": 2136168, \"life_expect\": 70.26, \"fertility\": 4.07}, {\"year\": 2005, \"country\": \"New Zealand\", \"cluster\": \"East Asia & Pacific\", \"pop\": 4035461, \"life_expect\": 80.204, \"fertility\": 1.994}, {\"year\": 1955, \"country\": \"Philippines\", \"cluster\": \"East Asia & Pacific\", \"pop\": 24553055, \"life_expect\": 51.334, \"fertility\": 7.13}, {\"year\": 2005, \"country\": \"Philippines\", \"cluster\": \"East Asia & Pacific\", \"pop\": 87857473, \"life_expect\": 71.688, \"fertility\": 3.2327}]}}, {\"mode\": \"vega-lite\"});\n",
       "</script>"
      ],
      "text/plain": [
       "alt.Chart(...)"
      ]
     },
     "execution_count": 28,
     "metadata": {},
     "output_type": "execute_result"
    }
   ],
   "source": [
    "# Solution\n",
    "slope_df = pd.read_csv('data/gapminder_eap_1955_2005.csv')\n",
    "\n",
    "alt.Chart(slope_df).mark_line(opacity=0.5).encode(\n",
    "    alt.X('year:O'),\n",
    "    alt.Y('pop:Q'),\n",
    "    alt.Color('country:N')\n",
    ").properties(\n",
    "    width=200\n",
    ")"
   ]
  },
  {
   "cell_type": "markdown",
   "metadata": {},
   "source": [
    "### Problem 4"
   ]
  },
  {
   "cell_type": "markdown",
   "metadata": {},
   "source": [
    "The code cell below contains code for the line chart we created above, that plots the fertility of the countries in South Asia over time.\n",
    "\n",
    "Take a look at the [Altair documentation on encoding channels](https://altair-viz.github.io/user_guide/encoding.html#encoding-channels). What does the `StrokeDash` encoding channel do? Modify the chart below so that each country is represented with a line of a different color and dash style."
   ]
  },
  {
   "cell_type": "code",
   "execution_count": null,
   "metadata": {},
   "outputs": [],
   "source": [
    "southasia_df = pd.read_csv('data/gapminder_southasia.csv')\n",
    "\n",
    "alt.Chart(southasia_df).mark_line().encode(\n",
    "    alt.X('year:O'),\n",
    "    alt.Y('fertility:Q'),\n",
    "    alt.Color('country:N'),\n",
    ").properties(\n",
    "    width=400\n",
    ")"
   ]
  },
  {
   "cell_type": "code",
   "execution_count": 29,
   "metadata": {
    "tags": [
     "solution"
    ]
   },
   "outputs": [
    {
     "data": {
      "text/html": [
       "\n",
       "<div id=\"altair-viz-12c4dd9d5cb04008a55f517fa9b39d9c\"></div>\n",
       "<script type=\"text/javascript\">\n",
       "  (function(spec, embedOpt){\n",
       "    let outputDiv = document.currentScript.previousElementSibling;\n",
       "    if (outputDiv.id !== \"altair-viz-12c4dd9d5cb04008a55f517fa9b39d9c\") {\n",
       "      outputDiv = document.getElementById(\"altair-viz-12c4dd9d5cb04008a55f517fa9b39d9c\");\n",
       "    }\n",
       "    const paths = {\n",
       "      \"vega\": \"https://cdn.jsdelivr.net/npm//vega@5?noext\",\n",
       "      \"vega-lib\": \"https://cdn.jsdelivr.net/npm//vega-lib?noext\",\n",
       "      \"vega-lite\": \"https://cdn.jsdelivr.net/npm//vega-lite@4.8.1?noext\",\n",
       "      \"vega-embed\": \"https://cdn.jsdelivr.net/npm//vega-embed@6?noext\",\n",
       "    };\n",
       "\n",
       "    function loadScript(lib) {\n",
       "      return new Promise(function(resolve, reject) {\n",
       "        var s = document.createElement('script');\n",
       "        s.src = paths[lib];\n",
       "        s.async = true;\n",
       "        s.onload = () => resolve(paths[lib]);\n",
       "        s.onerror = () => reject(`Error loading script: ${paths[lib]}`);\n",
       "        document.getElementsByTagName(\"head\")[0].appendChild(s);\n",
       "      });\n",
       "    }\n",
       "\n",
       "    function showError(err) {\n",
       "      outputDiv.innerHTML = `<div class=\"error\" style=\"color:red;\">${err}</div>`;\n",
       "      throw err;\n",
       "    }\n",
       "\n",
       "    function displayChart(vegaEmbed) {\n",
       "      vegaEmbed(outputDiv, spec, embedOpt)\n",
       "        .catch(err => showError(`Javascript Error: ${err.message}<br>This usually means there's a typo in your chart specification. See the javascript console for the full traceback.`));\n",
       "    }\n",
       "\n",
       "    if(typeof define === \"function\" && define.amd) {\n",
       "      requirejs.config({paths});\n",
       "      require([\"vega-embed\"], displayChart, err => showError(`Error loading script: ${err.message}`));\n",
       "    } else if (typeof vegaEmbed === \"function\") {\n",
       "      displayChart(vegaEmbed);\n",
       "    } else {\n",
       "      loadScript(\"vega\")\n",
       "        .then(() => loadScript(\"vega-lite\"))\n",
       "        .then(() => loadScript(\"vega-embed\"))\n",
       "        .catch(showError)\n",
       "        .then(() => displayChart(vegaEmbed));\n",
       "    }\n",
       "  })({\"config\": {\"view\": {\"continuousWidth\": 400, \"continuousHeight\": 300}}, \"data\": {\"name\": \"data-3e2a87f795cd5aa72b6e6081ed44cb95\"}, \"mark\": \"line\", \"encoding\": {\"color\": {\"type\": \"nominal\", \"field\": \"country\"}, \"strokeDash\": {\"type\": \"nominal\", \"field\": \"country\"}, \"x\": {\"type\": \"ordinal\", \"field\": \"year\"}, \"y\": {\"type\": \"quantitative\", \"field\": \"fertility\"}}, \"width\": 400, \"$schema\": \"https://vega.github.io/schema/vega-lite/v4.8.1.json\", \"datasets\": {\"data-3e2a87f795cd5aa72b6e6081ed44cb95\": [{\"year\": 1955, \"country\": \"Afghanistan\", \"cluster\": \"South Asia\", \"pop\": 8891209, \"life_expect\": 30.332, \"fertility\": 7.7}, {\"year\": 1960, \"country\": \"Afghanistan\", \"cluster\": \"South Asia\", \"pop\": 9829450, \"life_expect\": 31.997, \"fertility\": 7.7}, {\"year\": 1965, \"country\": \"Afghanistan\", \"cluster\": \"South Asia\", \"pop\": 10997885, \"life_expect\": 34.02, \"fertility\": 7.7}, {\"year\": 1970, \"country\": \"Afghanistan\", \"cluster\": \"South Asia\", \"pop\": 12430623, \"life_expect\": 36.088, \"fertility\": 7.7}, {\"year\": 1975, \"country\": \"Afghanistan\", \"cluster\": \"South Asia\", \"pop\": 14132019, \"life_expect\": 38.438, \"fertility\": 7.7}, {\"year\": 1980, \"country\": \"Afghanistan\", \"cluster\": \"South Asia\", \"pop\": 15112149, \"life_expect\": 39.854, \"fertility\": 7.8}, {\"year\": 1985, \"country\": \"Afghanistan\", \"cluster\": \"South Asia\", \"pop\": 13796928, \"life_expect\": 40.822, \"fertility\": 7.9}, {\"year\": 1990, \"country\": \"Afghanistan\", \"cluster\": \"South Asia\", \"pop\": 14669339, \"life_expect\": 41.674, \"fertility\": 8.0}, {\"year\": 1995, \"country\": \"Afghanistan\", \"cluster\": \"South Asia\", \"pop\": 20881480, \"life_expect\": 41.763, \"fertility\": 8.0}, {\"year\": 2000, \"country\": \"Afghanistan\", \"cluster\": \"South Asia\", \"pop\": 23898198, \"life_expect\": 42.129, \"fertility\": 7.4792}, {\"year\": 2005, \"country\": \"Afghanistan\", \"cluster\": \"South Asia\", \"pop\": 29928987, \"life_expect\": 43.828, \"fertility\": 7.0685}, {\"year\": 1955, \"country\": \"Bangladesh\", \"cluster\": \"South Asia\", \"pop\": 49601520, \"life_expect\": 39.348, \"fertility\": 6.76}, {\"year\": 1960, \"country\": \"Bangladesh\", \"cluster\": \"South Asia\", \"pop\": 54621538, \"life_expect\": 41.216, \"fertility\": 6.85}, {\"year\": 1965, \"country\": \"Bangladesh\", \"cluster\": \"South Asia\", \"pop\": 60332117, \"life_expect\": 43.453, \"fertility\": 6.6}, {\"year\": 1970, \"country\": \"Bangladesh\", \"cluster\": \"South Asia\", \"pop\": 67402621, \"life_expect\": 45.252, \"fertility\": 6.15}, {\"year\": 1975, \"country\": \"Bangladesh\", \"cluster\": \"South Asia\", \"pop\": 76253310, \"life_expect\": 46.923, \"fertility\": 5.6}, {\"year\": 1980, \"country\": \"Bangladesh\", \"cluster\": \"South Asia\", \"pop\": 88076996, \"life_expect\": 50.009, \"fertility\": 5.25}, {\"year\": 1985, \"country\": \"Bangladesh\", \"cluster\": \"South Asia\", \"pop\": 99752733, \"life_expect\": 52.819, \"fertility\": 4.629}, {\"year\": 1990, \"country\": \"Bangladesh\", \"cluster\": \"South Asia\", \"pop\": 109896945, \"life_expect\": 56.018, \"fertility\": 4.117}, {\"year\": 1995, \"country\": \"Bangladesh\", \"cluster\": \"South Asia\", \"pop\": 119186448, \"life_expect\": 59.412, \"fertility\": 3.5043}, {\"year\": 2000, \"country\": \"Bangladesh\", \"cluster\": \"South Asia\", \"pop\": 130406594, \"life_expect\": 62.013, \"fertility\": 3.224}, {\"year\": 2005, \"country\": \"Bangladesh\", \"cluster\": \"South Asia\", \"pop\": 144319628, \"life_expect\": 64.062, \"fertility\": 2.826}, {\"year\": 1955, \"country\": \"India\", \"cluster\": \"South Asia\", \"pop\": 393000000, \"life_expect\": 40.249, \"fertility\": 5.8961}, {\"year\": 1960, \"country\": \"India\", \"cluster\": \"South Asia\", \"pop\": 434000000, \"life_expect\": 43.605, \"fertility\": 5.8216}, {\"year\": 1965, \"country\": \"India\", \"cluster\": \"South Asia\", \"pop\": 485000000, \"life_expect\": 47.193, \"fertility\": 5.6058}, {\"year\": 1970, \"country\": \"India\", \"cluster\": \"South Asia\", \"pop\": 541000000, \"life_expect\": 50.651, \"fertility\": 5.264}, {\"year\": 1975, \"country\": \"India\", \"cluster\": \"South Asia\", \"pop\": 607000000, \"life_expect\": 54.208, \"fertility\": 4.8888}, {\"year\": 1980, \"country\": \"India\", \"cluster\": \"South Asia\", \"pop\": 679000000, \"life_expect\": 56.596, \"fertility\": 4.4975}, {\"year\": 1985, \"country\": \"India\", \"cluster\": \"South Asia\", \"pop\": 755000000, \"life_expect\": 58.553, \"fertility\": 4.15}, {\"year\": 1990, \"country\": \"India\", \"cluster\": \"South Asia\", \"pop\": 839000000, \"life_expect\": 60.223, \"fertility\": 3.8648}, {\"year\": 1995, \"country\": \"India\", \"cluster\": \"South Asia\", \"pop\": 927000000, \"life_expect\": 61.765, \"fertility\": 3.4551}, {\"year\": 2000, \"country\": \"India\", \"cluster\": \"South Asia\", \"pop\": 1007702000, \"life_expect\": 62.879, \"fertility\": 3.1132}, {\"year\": 2005, \"country\": \"India\", \"cluster\": \"South Asia\", \"pop\": 1080264388, \"life_expect\": 64.698, \"fertility\": 2.8073}, {\"year\": 1955, \"country\": \"Pakistan\", \"cluster\": \"South Asia\", \"pop\": 44434445, \"life_expect\": 45.557, \"fertility\": 6.6}, {\"year\": 1960, \"country\": \"Pakistan\", \"cluster\": \"South Asia\", \"pop\": 50386898, \"life_expect\": 47.67, \"fertility\": 6.6}, {\"year\": 1965, \"country\": \"Pakistan\", \"cluster\": \"South Asia\", \"pop\": 57494940, \"life_expect\": 49.8, \"fertility\": 6.6}, {\"year\": 1970, \"country\": \"Pakistan\", \"cluster\": \"South Asia\", \"pop\": 65705964, \"life_expect\": 51.929, \"fertility\": 6.6}, {\"year\": 1975, \"country\": \"Pakistan\", \"cluster\": \"South Asia\", \"pop\": 74711541, \"life_expect\": 54.043, \"fertility\": 6.6}, {\"year\": 1980, \"country\": \"Pakistan\", \"cluster\": \"South Asia\", \"pop\": 85219117, \"life_expect\": 56.158, \"fertility\": 6.6}, {\"year\": 1985, \"country\": \"Pakistan\", \"cluster\": \"South Asia\", \"pop\": 99060352, \"life_expect\": 58.245, \"fertility\": 6.66}, {\"year\": 1990, \"country\": \"Pakistan\", \"cluster\": \"South Asia\", \"pop\": 114578478, \"life_expect\": 60.838, \"fertility\": 5.8}, {\"year\": 1995, \"country\": \"Pakistan\", \"cluster\": \"South Asia\", \"pop\": 128690285, \"life_expect\": 61.818, \"fertility\": 4.9596}, {\"year\": 2000, \"country\": \"Pakistan\", \"cluster\": \"South Asia\", \"pop\": 146342958, \"life_expect\": 63.61, \"fertility\": 3.9936}, {\"year\": 2005, \"country\": \"Pakistan\", \"cluster\": \"South Asia\", \"pop\": 162419946, \"life_expect\": 65.483, \"fertility\": 3.5211}]}}, {\"mode\": \"vega-lite\"});\n",
       "</script>"
      ],
      "text/plain": [
       "alt.Chart(...)"
      ]
     },
     "execution_count": 29,
     "metadata": {},
     "output_type": "execute_result"
    }
   ],
   "source": [
    "# Solutions\n",
    "southasia_df = pd.read_csv('data/gapminder_southasia.csv')\n",
    "\n",
    "alt.Chart(southasia_df).mark_line().encode(\n",
    "    alt.X('year:O'),\n",
    "    alt.Y('fertility:Q'),\n",
    "    alt.Color('country:N'),\n",
    "    alt.StrokeDash('country:N')\n",
    ").properties(\n",
    "    width=400\n",
    ")"
   ]
  },
  {
   "cell_type": "markdown",
   "metadata": {},
   "source": [
    "_Write your answer here. Double-click to edit._"
   ]
  },
  {
   "cell_type": "markdown",
   "metadata": {
    "tags": [
     "solution"
    ]
   },
   "source": [
    "_Solution._ The `StrokeDash` encoding channel changes the dash style used for lines."
   ]
  },
  {
   "cell_type": "markdown",
   "metadata": {},
   "source": [
    "### Problem 5"
   ]
  },
  {
   "cell_type": "markdown",
   "metadata": {},
   "source": [
    "Like Problem 4, the code cell below contains code for the line chart we created above, that plots the fertility of the countries in South Asia over time.\n",
    "\n",
    "Again, take a look at the [Altair documentation on encoding channels](https://altair-viz.github.io/user_guide/encoding.html#encoding-channels). What does the `StrokeOpacity` *encoding channel* do? Modify the chart below so that each country is represented with a line of a different color and opacity. How is this different from setting the stroke opacity in Exercise 6?"
   ]
  },
  {
   "cell_type": "code",
   "execution_count": null,
   "metadata": {},
   "outputs": [],
   "source": [
    "southasia_df = pd.read_csv('data/gapminder_southasia.csv')\n",
    "\n",
    "alt.Chart(southasia_df).mark_line().encode(\n",
    "    alt.X('year:O'),\n",
    "    alt.Y('fertility:Q'),\n",
    "    alt.Color('country:N'),\n",
    ").properties(\n",
    "    width=400\n",
    ")"
   ]
  },
  {
   "cell_type": "code",
   "execution_count": 30,
   "metadata": {
    "tags": [
     "solution"
    ]
   },
   "outputs": [
    {
     "data": {
      "text/html": [
       "\n",
       "<div id=\"altair-viz-346818aef9b14dc98a618de98f779bce\"></div>\n",
       "<script type=\"text/javascript\">\n",
       "  (function(spec, embedOpt){\n",
       "    let outputDiv = document.currentScript.previousElementSibling;\n",
       "    if (outputDiv.id !== \"altair-viz-346818aef9b14dc98a618de98f779bce\") {\n",
       "      outputDiv = document.getElementById(\"altair-viz-346818aef9b14dc98a618de98f779bce\");\n",
       "    }\n",
       "    const paths = {\n",
       "      \"vega\": \"https://cdn.jsdelivr.net/npm//vega@5?noext\",\n",
       "      \"vega-lib\": \"https://cdn.jsdelivr.net/npm//vega-lib?noext\",\n",
       "      \"vega-lite\": \"https://cdn.jsdelivr.net/npm//vega-lite@4.8.1?noext\",\n",
       "      \"vega-embed\": \"https://cdn.jsdelivr.net/npm//vega-embed@6?noext\",\n",
       "    };\n",
       "\n",
       "    function loadScript(lib) {\n",
       "      return new Promise(function(resolve, reject) {\n",
       "        var s = document.createElement('script');\n",
       "        s.src = paths[lib];\n",
       "        s.async = true;\n",
       "        s.onload = () => resolve(paths[lib]);\n",
       "        s.onerror = () => reject(`Error loading script: ${paths[lib]}`);\n",
       "        document.getElementsByTagName(\"head\")[0].appendChild(s);\n",
       "      });\n",
       "    }\n",
       "\n",
       "    function showError(err) {\n",
       "      outputDiv.innerHTML = `<div class=\"error\" style=\"color:red;\">${err}</div>`;\n",
       "      throw err;\n",
       "    }\n",
       "\n",
       "    function displayChart(vegaEmbed) {\n",
       "      vegaEmbed(outputDiv, spec, embedOpt)\n",
       "        .catch(err => showError(`Javascript Error: ${err.message}<br>This usually means there's a typo in your chart specification. See the javascript console for the full traceback.`));\n",
       "    }\n",
       "\n",
       "    if(typeof define === \"function\" && define.amd) {\n",
       "      requirejs.config({paths});\n",
       "      require([\"vega-embed\"], displayChart, err => showError(`Error loading script: ${err.message}`));\n",
       "    } else if (typeof vegaEmbed === \"function\") {\n",
       "      displayChart(vegaEmbed);\n",
       "    } else {\n",
       "      loadScript(\"vega\")\n",
       "        .then(() => loadScript(\"vega-lite\"))\n",
       "        .then(() => loadScript(\"vega-embed\"))\n",
       "        .catch(showError)\n",
       "        .then(() => displayChart(vegaEmbed));\n",
       "    }\n",
       "  })({\"config\": {\"view\": {\"continuousWidth\": 400, \"continuousHeight\": 300}}, \"data\": {\"name\": \"data-3e2a87f795cd5aa72b6e6081ed44cb95\"}, \"mark\": \"line\", \"encoding\": {\"color\": {\"type\": \"nominal\", \"field\": \"country\"}, \"strokeOpacity\": {\"type\": \"nominal\", \"field\": \"country\"}, \"x\": {\"type\": \"ordinal\", \"field\": \"year\"}, \"y\": {\"type\": \"quantitative\", \"field\": \"fertility\"}}, \"width\": 400, \"$schema\": \"https://vega.github.io/schema/vega-lite/v4.8.1.json\", \"datasets\": {\"data-3e2a87f795cd5aa72b6e6081ed44cb95\": [{\"year\": 1955, \"country\": \"Afghanistan\", \"cluster\": \"South Asia\", \"pop\": 8891209, \"life_expect\": 30.332, \"fertility\": 7.7}, {\"year\": 1960, \"country\": \"Afghanistan\", \"cluster\": \"South Asia\", \"pop\": 9829450, \"life_expect\": 31.997, \"fertility\": 7.7}, {\"year\": 1965, \"country\": \"Afghanistan\", \"cluster\": \"South Asia\", \"pop\": 10997885, \"life_expect\": 34.02, \"fertility\": 7.7}, {\"year\": 1970, \"country\": \"Afghanistan\", \"cluster\": \"South Asia\", \"pop\": 12430623, \"life_expect\": 36.088, \"fertility\": 7.7}, {\"year\": 1975, \"country\": \"Afghanistan\", \"cluster\": \"South Asia\", \"pop\": 14132019, \"life_expect\": 38.438, \"fertility\": 7.7}, {\"year\": 1980, \"country\": \"Afghanistan\", \"cluster\": \"South Asia\", \"pop\": 15112149, \"life_expect\": 39.854, \"fertility\": 7.8}, {\"year\": 1985, \"country\": \"Afghanistan\", \"cluster\": \"South Asia\", \"pop\": 13796928, \"life_expect\": 40.822, \"fertility\": 7.9}, {\"year\": 1990, \"country\": \"Afghanistan\", \"cluster\": \"South Asia\", \"pop\": 14669339, \"life_expect\": 41.674, \"fertility\": 8.0}, {\"year\": 1995, \"country\": \"Afghanistan\", \"cluster\": \"South Asia\", \"pop\": 20881480, \"life_expect\": 41.763, \"fertility\": 8.0}, {\"year\": 2000, \"country\": \"Afghanistan\", \"cluster\": \"South Asia\", \"pop\": 23898198, \"life_expect\": 42.129, \"fertility\": 7.4792}, {\"year\": 2005, \"country\": \"Afghanistan\", \"cluster\": \"South Asia\", \"pop\": 29928987, \"life_expect\": 43.828, \"fertility\": 7.0685}, {\"year\": 1955, \"country\": \"Bangladesh\", \"cluster\": \"South Asia\", \"pop\": 49601520, \"life_expect\": 39.348, \"fertility\": 6.76}, {\"year\": 1960, \"country\": \"Bangladesh\", \"cluster\": \"South Asia\", \"pop\": 54621538, \"life_expect\": 41.216, \"fertility\": 6.85}, {\"year\": 1965, \"country\": \"Bangladesh\", \"cluster\": \"South Asia\", \"pop\": 60332117, \"life_expect\": 43.453, \"fertility\": 6.6}, {\"year\": 1970, \"country\": \"Bangladesh\", \"cluster\": \"South Asia\", \"pop\": 67402621, \"life_expect\": 45.252, \"fertility\": 6.15}, {\"year\": 1975, \"country\": \"Bangladesh\", \"cluster\": \"South Asia\", \"pop\": 76253310, \"life_expect\": 46.923, \"fertility\": 5.6}, {\"year\": 1980, \"country\": \"Bangladesh\", \"cluster\": \"South Asia\", \"pop\": 88076996, \"life_expect\": 50.009, \"fertility\": 5.25}, {\"year\": 1985, \"country\": \"Bangladesh\", \"cluster\": \"South Asia\", \"pop\": 99752733, \"life_expect\": 52.819, \"fertility\": 4.629}, {\"year\": 1990, \"country\": \"Bangladesh\", \"cluster\": \"South Asia\", \"pop\": 109896945, \"life_expect\": 56.018, \"fertility\": 4.117}, {\"year\": 1995, \"country\": \"Bangladesh\", \"cluster\": \"South Asia\", \"pop\": 119186448, \"life_expect\": 59.412, \"fertility\": 3.5043}, {\"year\": 2000, \"country\": \"Bangladesh\", \"cluster\": \"South Asia\", \"pop\": 130406594, \"life_expect\": 62.013, \"fertility\": 3.224}, {\"year\": 2005, \"country\": \"Bangladesh\", \"cluster\": \"South Asia\", \"pop\": 144319628, \"life_expect\": 64.062, \"fertility\": 2.826}, {\"year\": 1955, \"country\": \"India\", \"cluster\": \"South Asia\", \"pop\": 393000000, \"life_expect\": 40.249, \"fertility\": 5.8961}, {\"year\": 1960, \"country\": \"India\", \"cluster\": \"South Asia\", \"pop\": 434000000, \"life_expect\": 43.605, \"fertility\": 5.8216}, {\"year\": 1965, \"country\": \"India\", \"cluster\": \"South Asia\", \"pop\": 485000000, \"life_expect\": 47.193, \"fertility\": 5.6058}, {\"year\": 1970, \"country\": \"India\", \"cluster\": \"South Asia\", \"pop\": 541000000, \"life_expect\": 50.651, \"fertility\": 5.264}, {\"year\": 1975, \"country\": \"India\", \"cluster\": \"South Asia\", \"pop\": 607000000, \"life_expect\": 54.208, \"fertility\": 4.8888}, {\"year\": 1980, \"country\": \"India\", \"cluster\": \"South Asia\", \"pop\": 679000000, \"life_expect\": 56.596, \"fertility\": 4.4975}, {\"year\": 1985, \"country\": \"India\", \"cluster\": \"South Asia\", \"pop\": 755000000, \"life_expect\": 58.553, \"fertility\": 4.15}, {\"year\": 1990, \"country\": \"India\", \"cluster\": \"South Asia\", \"pop\": 839000000, \"life_expect\": 60.223, \"fertility\": 3.8648}, {\"year\": 1995, \"country\": \"India\", \"cluster\": \"South Asia\", \"pop\": 927000000, \"life_expect\": 61.765, \"fertility\": 3.4551}, {\"year\": 2000, \"country\": \"India\", \"cluster\": \"South Asia\", \"pop\": 1007702000, \"life_expect\": 62.879, \"fertility\": 3.1132}, {\"year\": 2005, \"country\": \"India\", \"cluster\": \"South Asia\", \"pop\": 1080264388, \"life_expect\": 64.698, \"fertility\": 2.8073}, {\"year\": 1955, \"country\": \"Pakistan\", \"cluster\": \"South Asia\", \"pop\": 44434445, \"life_expect\": 45.557, \"fertility\": 6.6}, {\"year\": 1960, \"country\": \"Pakistan\", \"cluster\": \"South Asia\", \"pop\": 50386898, \"life_expect\": 47.67, \"fertility\": 6.6}, {\"year\": 1965, \"country\": \"Pakistan\", \"cluster\": \"South Asia\", \"pop\": 57494940, \"life_expect\": 49.8, \"fertility\": 6.6}, {\"year\": 1970, \"country\": \"Pakistan\", \"cluster\": \"South Asia\", \"pop\": 65705964, \"life_expect\": 51.929, \"fertility\": 6.6}, {\"year\": 1975, \"country\": \"Pakistan\", \"cluster\": \"South Asia\", \"pop\": 74711541, \"life_expect\": 54.043, \"fertility\": 6.6}, {\"year\": 1980, \"country\": \"Pakistan\", \"cluster\": \"South Asia\", \"pop\": 85219117, \"life_expect\": 56.158, \"fertility\": 6.6}, {\"year\": 1985, \"country\": \"Pakistan\", \"cluster\": \"South Asia\", \"pop\": 99060352, \"life_expect\": 58.245, \"fertility\": 6.66}, {\"year\": 1990, \"country\": \"Pakistan\", \"cluster\": \"South Asia\", \"pop\": 114578478, \"life_expect\": 60.838, \"fertility\": 5.8}, {\"year\": 1995, \"country\": \"Pakistan\", \"cluster\": \"South Asia\", \"pop\": 128690285, \"life_expect\": 61.818, \"fertility\": 4.9596}, {\"year\": 2000, \"country\": \"Pakistan\", \"cluster\": \"South Asia\", \"pop\": 146342958, \"life_expect\": 63.61, \"fertility\": 3.9936}, {\"year\": 2005, \"country\": \"Pakistan\", \"cluster\": \"South Asia\", \"pop\": 162419946, \"life_expect\": 65.483, \"fertility\": 3.5211}]}}, {\"mode\": \"vega-lite\"});\n",
       "</script>"
      ],
      "text/plain": [
       "alt.Chart(...)"
      ]
     },
     "execution_count": 30,
     "metadata": {},
     "output_type": "execute_result"
    }
   ],
   "source": [
    "# Solution\n",
    "southasia_df = pd.read_csv('data/gapminder_southasia.csv')\n",
    "\n",
    "alt.Chart(southasia_df).mark_line().encode(\n",
    "    alt.X('year:O'),\n",
    "    alt.Y('fertility:Q'),\n",
    "    alt.Color('country:N'),\n",
    "    alt.StrokeOpacity('country:N')\n",
    ").properties(\n",
    "    width=400\n",
    ")"
   ]
  },
  {
   "cell_type": "markdown",
   "metadata": {},
   "source": [
    "*Write your answer here. Double-click to edit.*"
   ]
  },
  {
   "cell_type": "markdown",
   "metadata": {
    "tags": [
     "solution"
    ]
   },
   "source": [
    "*Solution.* The `StrokeOpacity` encoding channel changes the opacity of lines. Mapping the stroke opacity to each country as in the solutions above is different from what we did in Exercise 6: the code above assigns a different opacity to each country, while setting the stroke opacity in `.mark_line()` in Exercise 6 sets a universal stroke opacity for all lines."
   ]
  },
  {
   "cell_type": "markdown",
   "metadata": {},
   "source": [
    "<hr style=\"border-top: 2px solid gray; margin-top: 1px; margin-bottom: 1px\"></hr>"
   ]
  },
  {
   "cell_type": "markdown",
   "metadata": {},
   "source": [
    "## Notes and sources"
   ]
  },
  {
   "cell_type": "markdown",
   "metadata": {},
   "source": [
    "- These lesson notes are based on the [Visualization Curriculum](https://uwdata.github.io/visualization-curriculum/) by the University of Washington\n",
    "\n",
    "\n",
    "- The systematic study of marks, visual encodings, and backing data types was initiated by [Jacques Bertin](https://en.wikipedia.org/wiki/Jacques_Bertin) in his pioneering 1967 work [_Sémiologie Graphique (The Semiology of Graphics)_](https://books.google.com/books/about/Semiology_of_Graphics.html?id=X5caQwAACAAJ)\n",
    "\n",
    "\n",
    "- The identification of nominal, ordinal, interval, and ratio types dates at least as far back as S. S. Steven's 1947 article [_On the theory of scales of measurement_](https://scholar.google.com/scholar?cluster=14356809180080326415)"
   ]
  }
 ],
 "metadata": {
  "kernelspec": {
   "display_name": "Python 3 (ipykernel)",
   "language": "python",
   "name": "python3"
  },
  "language_info": {
   "codemirror_mode": {
    "name": "ipython",
    "version": 3
   },
   "file_extension": ".py",
   "mimetype": "text/x-python",
   "name": "python",
   "nbconvert_exporter": "python",
   "pygments_lexer": "ipython3",
   "version": "3.11.3"
  },
  "toc-autonumbering": false,
  "toc-showcode": false,
  "toc-showmarkdowntxt": false,
  "toc-showtags": false
 },
 "nbformat": 4,
 "nbformat_minor": 4
}
